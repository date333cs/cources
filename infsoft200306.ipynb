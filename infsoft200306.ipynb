{
  "nbformat": 4,
  "nbformat_minor": 0,
  "metadata": {
    "colab": {
      "name": "infsoft200306.ipynb",
      "provenance": [],
      "include_colab_link": true
    },
    "kernelspec": {
      "name": "python3",
      "display_name": "Python 3"
    }
  },
  "cells": [
    {
      "cell_type": "markdown",
      "metadata": {
        "id": "view-in-github",
        "colab_type": "text"
      },
      "source": [
        "<a href=\"https://colab.research.google.com/github/date333cs/courses/blob/master/infsoft200306.ipynb\" target=\"_parent\"><img src=\"https://colab.research.google.com/assets/colab-badge.svg\" alt=\"Open In Colab\"/></a>"
      ]
    },
    {
      "cell_type": "markdown",
      "metadata": {
        "id": "0Fggs4agUTWa",
        "colab_type": "text"
      },
      "source": [
        "## **Unreasonable Effectiveness of Automatic Differentiation**"
      ]
    },
    {
      "cell_type": "markdown",
      "metadata": {
        "id": "Ef4a_sfYTl_y",
        "colab_type": "text"
      },
      "source": [
        "## First Example"
      ]
    },
    {
      "cell_type": "code",
      "metadata": {
        "colab_type": "code",
        "outputId": "18a352c5-3e00-4690-bf86-31b3514435b1",
        "id": "YUw0hS57Tu55",
        "colab": {
          "base_uri": "https://localhost:8080/",
          "height": 35
        }
      },
      "source": [
        "import numpy as np\n",
        "import torch\n",
        " \n",
        "x = torch.tensor(3.0, requires_grad=True)\n",
        "y = x ** 3\n",
        "y.backward()\n",
        "print(x.grad)"
      ],
      "execution_count": 0,
      "outputs": [
        {
          "output_type": "stream",
          "text": [
            "tensor(27.)\n"
          ],
          "name": "stdout"
        }
      ]
    },
    {
      "cell_type": "code",
      "metadata": {
        "id": "BpHAxCXFNyxj",
        "colab_type": "code",
        "colab": {}
      },
      "source": [
        "x = torch.tensor(3.0, requires_grad=True)"
      ],
      "execution_count": 0,
      "outputs": []
    },
    {
      "cell_type": "code",
      "metadata": {
        "id": "2t4ag-jdNsjX",
        "colab_type": "code",
        "colab": {}
      },
      "source": [
        ""
      ],
      "execution_count": 0,
      "outputs": []
    },
    {
      "cell_type": "markdown",
      "metadata": {
        "id": "5gLR2zkgTxxg",
        "colab_type": "text"
      },
      "source": [
        "## Second example"
      ]
    },
    {
      "cell_type": "code",
      "metadata": {
        "id": "dQFPvrfQRyxV",
        "colab_type": "code",
        "colab": {}
      },
      "source": [
        "import torch\n",
        "import numpy as np\n",
        "import matplotlib.pyplot as plt\n",
        "\n",
        "# A ramdom vector approaches to [1,2,3,4,5].\n",
        "x = torch.rand(5, requires_grad=True)\n",
        "target = torch.tensor([1.0,2.0,3.0,4.0,5.0], requires_grad=False)\n",
        "\n",
        "mu = 0.01 # the learning rate\n",
        "\n",
        "d = []\n",
        "for i in range(1000):\n",
        "  distance = torch.norm(x - target)*torch.norm(x - target)\n",
        "  d.append(distance.data)\n",
        "  distance.backward(retain_graph=True)\n",
        "  print(x.data)\n",
        "  x.data.sub_(mu * x.grad.data)\n",
        "  x.grad.data.zero_()\n",
        "\n",
        "\n",
        "\n",
        "fig, ax = plt.subplots()\n",
        "ax.plot(d)\n",
        "ax.set_xlabel(\"iteration\")\n",
        "ax.set_ylabel(\"distance\")\n",
        "plt.show()\n",
        "fig.savefig('ad001.pdf')"
      ],
      "execution_count": 0,
      "outputs": []
    },
    {
      "cell_type": "code",
      "metadata": {
        "id": "uCfMZ-HYOqx9",
        "colab_type": "code",
        "outputId": "3c217fcc-2f76-4570-963b-a11627699410",
        "colab": {
          "base_uri": "https://localhost:8080/",
          "height": 35
        }
      },
      "source": [
        "x = torch.rand(5, requires_grad=True)\n",
        "x"
      ],
      "execution_count": 0,
      "outputs": [
        {
          "output_type": "execute_result",
          "data": {
            "text/plain": [
              "tensor([0.5086, 0.2358, 0.6306, 0.1341, 0.0262], requires_grad=True)"
            ]
          },
          "metadata": {
            "tags": []
          },
          "execution_count": 9
        }
      ]
    },
    {
      "cell_type": "markdown",
      "metadata": {
        "id": "V-RyILl5dS3t",
        "colab_type": "text"
      },
      "source": [
        "## **System Identification**"
      ]
    },
    {
      "cell_type": "markdown",
      "metadata": {
        "id": "IShLeKzaJ0xe",
        "colab_type": "text"
      },
      "source": [
        "## Problem 1\n",
        "\n",
        "Consider this dynamical system:\n",
        "\n",
        "\n",
        "$$  \\left\\{ \\begin{array}{lll} \\dot{x} & = & ~~ x + y - x(x^2+y^2) & & x(0)=x_0= 1\\\\ \\dot{y} & = &  -x+y -y(x^2+y^2) & & y(0)=y_0=4 \\end{array} \\right. \n",
        "$$\n",
        "\n",
        "Assume\n",
        "* Equation are known.\n",
        "* Initial conditions $(x_0, y_0)$ are unknown.\n",
        "* Observe $(x(7), y(7))$\n",
        "\n",
        "Find $(x_0, y_0)$"
      ]
    },
    {
      "cell_type": "markdown",
      "metadata": {
        "id": "fJnX-1PjN57U",
        "colab_type": "text"
      },
      "source": [
        "Write \n",
        "$ \\tilde{x} (7)  = x(7; \\tilde{x}_0, \\tilde{y}_0 ), \\tilde{y} (7)  = y(7; \\tilde{x}_0, \\tilde{y}_0 ) $\n",
        "as functions of the initial conditions, and estimate\n",
        "$ (x_0, y_0)$  by\n",
        "$$ \\hat{x}_0, \\hat{y}_0 = {\\rm arg} \\min_{(\\tilde{x}_0, \\tilde{y}_0 )}   \\parallel  (x(7),y(7)) -   (\\tilde{x}(7),\\tilde{y}(7))   \\parallel^2 \n",
        "$$"
      ]
    },
    {
      "cell_type": "markdown",
      "metadata": {
        "id": "eOzo0y4AODCu",
        "colab_type": "text"
      },
      "source": [
        "How? \n",
        "Give autograd the code that evaluates $ L =  \\parallel  (x,y) -   (\\tilde{x},\\tilde{y})   \\parallel^2  $ for a given $(x, y)$, and get\n",
        "back the value of $L$ and its gradient.\n",
        "\n"
      ]
    },
    {
      "cell_type": "code",
      "metadata": {
        "id": "NBF_6bbgJsgx",
        "colab_type": "code",
        "outputId": "7ff5e9f9-cecd-4cb1-98f4-88b380f78c8b",
        "colab": {
          "base_uri": "https://localhost:8080/",
          "height": 795
        }
      },
      "source": [
        "# -*- coding: utf-8 -*-\n",
        "#\n",
        "#    ad203.py written by A. Date 2019.12.1\n",
        "#\n",
        "import numpy as np\n",
        "import torch\n",
        "import matplotlib.pyplot as plt\n",
        "\n",
        "T = 7 \n",
        "dt = 0.01\n",
        "N = int(T/dt)   # for deviding T, 0 =< t =< T into (N+1) descrete points\n",
        "epochs = 500\n",
        "\n",
        "# First of all, find the truth value of $ (x(7),y(7)) $\n",
        "X0 = torch.tensor( [1.0, 4.0], requires_grad=True) # initial state\n",
        "A = torch.tensor([[1.0, 1.0],[-1.0,1.0]])\n",
        "x_log = np.zeros((N+1,2), dtype=float)\n",
        "X = torch.clone(X0)\n",
        "for k in range(N+1):\n",
        "  x_log[k] = X.data\n",
        "  X = X + dt*( torch.matmul(A,X) - X.dot(X)*X )\n",
        "\n",
        "print(x_log[N])\n",
        "\n",
        "# Experiment 1: Estimate the initial state X0 from X7.\n",
        "# X0 = torch.rand(2, requires_grad=True)\n",
        "# X0 = torch.tensor( [0.5, 5.0],  requires_grad=True)\n",
        "# X0 = torch.tensor( [2, 3.0],  requires_grad=True) # intial value. try various values.\n",
        "X0 = torch.tensor( [-2.0, 0.0],  requires_grad=True) \n",
        "\n",
        "mu = 0.1\n",
        "d = []\n",
        "\n",
        "x0_log = np.zeros((epochs,2), dtype=float)\n",
        "\n",
        "for i in range(epochs):\n",
        "  X = torch.clone(X0)\n",
        "  if i % 20 == 0:\n",
        "    print(i,':',X)\n",
        "\n",
        "  for k in range(N+1):\n",
        "    X = X + dt*( torch.matmul(A,X) - X.dot(X)*X )\n",
        "\n",
        "# discrete: [0.8305881  0.56135917] . \n",
        "  target = torch.tensor( [0.8305881, 0.56135917],  requires_grad=False)\n",
        "  diff = torch.pow(X-target,2).sum()\n",
        "  d.append(diff.data)\n",
        "  diff.backward(retain_graph=True)\n",
        "\n",
        "  with torch.no_grad(): \n",
        "    x0_log[i] = X0.data\n",
        "#    X0.data.sub_(mu*X0.grad.data)\n",
        "    X0.data.sub_(mu*X0.grad)\n",
        "#    X0.grad.data.zero_()\n",
        "    X0.grad.zero_()\n",
        "# record estimaed trajectory\n",
        "x2_log = np.zeros((N+1,2), dtype=float)\n",
        "X = torch.clone(X0)\n",
        "for k in range(N+1):\n",
        "  x2_log[k] = X.data\n",
        "  X = X + dt*( torch.matmul(A,X) - X.dot(X)*X )\n",
        "\n",
        "print(d)\n",
        "\n",
        "fig = plt.figure()\n",
        "fig.suptitle('Visualization of true v.s. estimated trajectories, as well as training trajectories') \n",
        "ax = fig.add_subplot(1,1,1) # make Axes.\n",
        "ax.grid(True, color='gray', linestyle='dashed')\n",
        "ax.plot(x_log[:,0], x_log[:,1], linewidth=1.0, color=\"b\",linestyle=\"solid\",label=\"true\")\n",
        "ax.plot(x2_log[:,0], x2_log[:,1], linewidth=1.0, color=\"r\",linestyle=\"solid\",label=\"estimated\")\n",
        "ax.plot(x0_log[:,0], x0_log[:,1], linewidth=1.0, color=\"g\",linestyle=\"solid\",label=\"estimated $X_0$\")\n",
        "ax.set_aspect('equal','datalim')\n",
        "ax.set_xlabel(\"$x$\")\n",
        "ax.set_ylabel(\"$y$\")\n",
        "plt.legend()\n",
        "plt.show()\n",
        "fig.savefig('ad203.pdf') "
      ],
      "execution_count": 0,
      "outputs": [
        {
          "output_type": "stream",
          "text": [
            "[0.8305881  0.56135917]\n",
            "0 : tensor([-2.,  0.], grad_fn=<CloneBackward>)\n",
            "20 : tensor([-1.2530,  1.6377], grad_fn=<CloneBackward>)\n",
            "40 : tensor([-0.2609,  2.0720], grad_fn=<CloneBackward>)\n",
            "60 : tensor([0.2031, 2.0860], grad_fn=<CloneBackward>)\n",
            "80 : tensor([0.3862, 2.0623], grad_fn=<CloneBackward>)\n",
            "100 : tensor([0.4574, 2.0485], grad_fn=<CloneBackward>)\n",
            "120 : tensor([0.4853, 2.0424], grad_fn=<CloneBackward>)\n",
            "140 : tensor([0.4962, 2.0399], grad_fn=<CloneBackward>)\n",
            "160 : tensor([0.5005, 2.0389], grad_fn=<CloneBackward>)\n",
            "180 : tensor([0.5022, 2.0385], grad_fn=<CloneBackward>)\n",
            "200 : tensor([0.5029, 2.0384], grad_fn=<CloneBackward>)\n",
            "220 : tensor([0.5031, 2.0383], grad_fn=<CloneBackward>)\n",
            "240 : tensor([0.5032, 2.0383], grad_fn=<CloneBackward>)\n",
            "260 : tensor([0.5033, 2.0383], grad_fn=<CloneBackward>)\n",
            "280 : tensor([0.5033, 2.0383], grad_fn=<CloneBackward>)\n",
            "300 : tensor([0.5033, 2.0383], grad_fn=<CloneBackward>)\n",
            "320 : tensor([0.5033, 2.0383], grad_fn=<CloneBackward>)\n",
            "340 : tensor([0.5033, 2.0383], grad_fn=<CloneBackward>)\n",
            "360 : tensor([0.5033, 2.0383], grad_fn=<CloneBackward>)\n",
            "380 : tensor([0.5033, 2.0383], grad_fn=<CloneBackward>)\n",
            "400 : tensor([0.5033, 2.0383], grad_fn=<CloneBackward>)\n",
            "420 : tensor([0.5033, 2.0383], grad_fn=<CloneBackward>)\n",
            "440 : tensor([0.5033, 2.0383], grad_fn=<CloneBackward>)\n",
            "460 : tensor([0.5033, 2.0383], grad_fn=<CloneBackward>)\n",
            "480 : tensor([0.5033, 2.0383], grad_fn=<CloneBackward>)\n",
            "[tensor(2.4928), tensor(2.3972), tensor(2.2999), tensor(2.2015), tensor(2.1023), tensor(2.0029), tensor(1.9038), tensor(1.8054), tensor(1.7081), tensor(1.6126), tensor(1.5190), tensor(1.4279), tensor(1.3394), tensor(1.2540), tensor(1.1718), tensor(1.0930), tensor(1.0177), tensor(0.9461), tensor(0.8781), tensor(0.8139), tensor(0.7533), tensor(0.6963), tensor(0.6429), tensor(0.5929), tensor(0.5462), tensor(0.5027), tensor(0.4622), tensor(0.4247), tensor(0.3899), tensor(0.3577), tensor(0.3280), tensor(0.3005), tensor(0.2752), tensor(0.2519), tensor(0.2305), tensor(0.2108), tensor(0.1927), tensor(0.1761), tensor(0.1608), tensor(0.1469), tensor(0.1341), tensor(0.1224), tensor(0.1117), tensor(0.1020), tensor(0.0930), tensor(0.0848), tensor(0.0774), tensor(0.0706), tensor(0.0643), tensor(0.0586), tensor(0.0535), tensor(0.0487), tensor(0.0444), tensor(0.0405), tensor(0.0369), tensor(0.0336), tensor(0.0306), tensor(0.0279), tensor(0.0254), tensor(0.0232), tensor(0.0211), tensor(0.0192), tensor(0.0175), tensor(0.0160), tensor(0.0145), tensor(0.0132), tensor(0.0121), tensor(0.0110), tensor(0.0100), tensor(0.0091), tensor(0.0083), tensor(0.0076), tensor(0.0069), tensor(0.0063), tensor(0.0057), tensor(0.0052), tensor(0.0047), tensor(0.0043), tensor(0.0039), tensor(0.0036), tensor(0.0033), tensor(0.0030), tensor(0.0027), tensor(0.0025), tensor(0.0022), tensor(0.0020), tensor(0.0019), tensor(0.0017), tensor(0.0015), tensor(0.0014), tensor(0.0013), tensor(0.0012), tensor(0.0011), tensor(0.0010), tensor(0.0009), tensor(0.0008), tensor(0.0007), tensor(0.0007), tensor(0.0006), tensor(0.0006), tensor(0.0005), tensor(0.0005), tensor(0.0004), tensor(0.0004), tensor(0.0003), tensor(0.0003), tensor(0.0003), tensor(0.0003), tensor(0.0002), tensor(0.0002), tensor(0.0002), tensor(0.0002), tensor(0.0002), tensor(0.0001), tensor(0.0001), tensor(0.0001), tensor(0.0001), tensor(0.0001), tensor(9.3864e-05), tensor(8.5490e-05), tensor(7.7881e-05), tensor(7.0931e-05), tensor(6.4612e-05), tensor(5.8842e-05), tensor(5.3602e-05), tensor(4.8820e-05), tensor(4.4472e-05), tensor(4.0503e-05), tensor(3.6900e-05), tensor(3.3603e-05), tensor(3.0613e-05), tensor(2.7884e-05), tensor(2.5398e-05), tensor(2.3131e-05), tensor(2.1071e-05), tensor(1.9196e-05), tensor(1.7483e-05), tensor(1.5920e-05), tensor(1.4505e-05), tensor(1.3214e-05), tensor(1.2032e-05), tensor(1.0961e-05), tensor(9.9874e-06), tensor(9.0909e-06), tensor(8.2882e-06), tensor(7.5478e-06), tensor(6.8731e-06), tensor(6.2594e-06), tensor(5.7003e-06), tensor(5.1941e-06), tensor(4.7320e-06), tensor(4.3094e-06), tensor(3.9242e-06), tensor(3.5767e-06), tensor(3.2571e-06), tensor(2.9637e-06), tensor(2.7042e-06), tensor(2.4619e-06), tensor(2.2413e-06), tensor(2.0429e-06), tensor(1.8585e-06), tensor(1.6943e-06), tensor(1.5442e-06), tensor(1.4063e-06), tensor(1.2806e-06), tensor(1.1654e-06), tensor(1.0627e-06), tensor(9.6755e-07), tensor(8.8260e-07), tensor(8.0229e-07), tensor(7.3157e-07), tensor(6.6527e-07), tensor(6.0678e-07), tensor(5.5333e-07), tensor(5.0326e-07), tensor(4.5814e-07), tensor(4.1709e-07), tensor(3.8044e-07), tensor(3.4674e-07), tensor(3.1552e-07), tensor(2.8773e-07), tensor(2.6191e-07), tensor(2.3847e-07), tensor(2.1720e-07), tensor(1.9781e-07), tensor(1.8016e-07), tensor(1.6442e-07), tensor(1.4944e-07), tensor(1.3609e-07), tensor(1.2446e-07), tensor(1.1303e-07), tensor(1.0323e-07), tensor(9.3506e-08), tensor(8.5274e-08), tensor(7.7807e-08), tensor(7.0823e-08), tensor(6.4857e-08), tensor(5.8656e-08), tensor(5.3574e-08), tensor(4.9051e-08), tensor(4.4379e-08), tensor(4.0352e-08), tensor(3.6800e-08), tensor(3.3691e-08), tensor(3.0627e-08), tensor(2.7687e-08), tensor(2.5588e-08), tensor(2.3293e-08), tensor(2.0967e-08), tensor(1.9147e-08), tensor(1.7382e-08), tensor(1.5919e-08), tensor(1.4504e-08), tensor(1.3342e-08), tensor(1.2021e-08), tensor(1.0944e-08), tensor(9.9836e-09), tensor(9.0642e-09), tensor(8.3124e-09), tensor(7.5270e-09), tensor(6.8681e-09), tensor(6.3336e-09), tensor(5.6430e-09), tensor(5.2622e-09), tensor(4.7206e-09), tensor(4.3162e-09), tensor(3.9734e-09), tensor(3.6292e-09), tensor(3.2548e-09), tensor(2.9708e-09), tensor(2.6861e-09), tensor(2.4563e-09), tensor(2.2589e-09), tensor(2.0505e-09), tensor(1.8675e-09), tensor(1.6781e-09), tensor(1.5820e-09), tensor(1.3848e-09), tensor(1.2694e-09), tensor(1.1768e-09), tensor(1.0392e-09), tensor(9.9386e-10), tensor(9.0030e-10), tensor(7.9087e-10), tensor(7.1461e-10), tensor(6.3390e-10), tensor(5.9459e-10), tensor(5.5964e-10), tensor(5.3109e-10), tensor(5.0330e-10), tensor(4.3460e-10), tensor(3.7285e-10), tensor(3.2118e-10), tensor(2.9448e-10), tensor(2.8601e-10), tensor(2.6143e-10), tensor(2.4771e-10), tensor(2.1748e-10), tensor(1.9699e-10), tensor(1.8331e-10), tensor(1.8064e-10), tensor(1.3933e-10), tensor(1.3201e-10), tensor(1.2086e-10), tensor(1.0071e-10), tensor(9.3863e-11), tensor(8.3023e-11), tensor(8.0639e-11), tensor(7.5978e-11), tensor(7.3108e-11), tensor(6.8908e-11), tensor(6.7537e-11), tensor(6.3508e-11), tensor(5.8101e-11), tensor(5.4150e-11), tensor(4.2878e-11), tensor(3.2717e-11), tensor(3.2717e-11), tensor(2.9591e-11), tensor(2.2670e-11), tensor(2.0670e-11), tensor(1.9487e-11), tensor(1.9192e-11), tensor(1.7081e-11), tensor(1.7081e-11), tensor(1.7081e-11), tensor(1.7081e-11), tensor(1.7081e-11), tensor(1.5351e-11), tensor(1.4332e-11), tensor(1.2751e-11), tensor(1.0392e-11), tensor(7.3506e-12), tensor(6.9100e-12), tensor(6.9100e-12), tensor(4.7642e-12), tensor(2.7462e-12), tensor(2.7462e-12), tensor(2.5935e-12), tensor(2.5935e-12), tensor(2.5935e-12), tensor(2.5935e-12), tensor(2.5935e-12), tensor(2.5935e-12), tensor(2.5935e-12), tensor(2.3306e-12), tensor(1.6271e-12), tensor(1.6271e-12), tensor(6.5725e-13), tensor(6.5725e-13), tensor(6.5725e-13), tensor(6.5725e-13), tensor(6.5725e-13), tensor(6.5725e-13), tensor(6.5725e-13), tensor(6.5725e-13), tensor(6.5725e-13), tensor(4.1567e-13), tensor(4.1567e-13), tensor(4.1567e-13), tensor(4.1567e-13), tensor(4.1567e-13), tensor(4.1567e-13), tensor(4.1567e-13), tensor(4.1567e-13), tensor(4.1567e-13), tensor(4.1567e-13), tensor(2.3093e-13), tensor(2.3093e-13), tensor(2.3093e-13), tensor(2.3093e-13), tensor(2.3093e-13), tensor(2.3093e-13), tensor(2.3093e-13), tensor(2.3093e-13), tensor(2.3093e-13), tensor(2.3093e-13), tensor(2.3093e-13), tensor(2.3093e-13), tensor(2.3093e-13), tensor(2.3093e-13), tensor(2.3093e-13), tensor(2.3093e-13), tensor(2.3093e-13), tensor(2.3093e-13), tensor(1.8474e-13), tensor(1.8474e-13), tensor(1.8474e-13), tensor(1.8474e-13), tensor(1.8474e-13), tensor(1.8474e-13), tensor(1.8474e-13), tensor(1.8474e-13), tensor(1.2079e-13), tensor(1.2079e-13), tensor(1.2079e-13), tensor(1.2079e-13), tensor(7.1054e-15), tensor(7.1054e-15), tensor(7.1054e-15), tensor(7.1054e-15), tensor(7.1054e-15), tensor(7.1054e-15), tensor(7.1054e-15), tensor(7.1054e-15), tensor(7.1054e-15), tensor(7.1054e-15), tensor(7.1054e-15), tensor(7.1054e-15), tensor(7.1054e-15), tensor(7.1054e-15), tensor(7.1054e-15), tensor(7.1054e-15), tensor(7.1054e-15), tensor(7.1054e-15), tensor(7.1054e-15), tensor(7.1054e-15), tensor(7.1054e-15), tensor(7.1054e-15), tensor(7.1054e-15), tensor(7.1054e-15), tensor(7.1054e-15), tensor(7.1054e-15), tensor(7.1054e-15), tensor(7.1054e-15), tensor(7.1054e-15), tensor(7.1054e-15), tensor(7.1054e-15), tensor(7.1054e-15), tensor(7.1054e-15), tensor(7.1054e-15), tensor(7.1054e-15), tensor(7.1054e-15), tensor(7.1054e-15), tensor(7.1054e-15), tensor(7.1054e-15), tensor(7.1054e-15), tensor(7.1054e-15), tensor(7.1054e-15), tensor(7.1054e-15), tensor(7.1054e-15), tensor(7.1054e-15), tensor(7.1054e-15), tensor(7.1054e-15), tensor(7.1054e-15), tensor(7.1054e-15), tensor(7.1054e-15), tensor(7.1054e-15), tensor(7.1054e-15), tensor(7.1054e-15), tensor(7.1054e-15), tensor(7.1054e-15), tensor(7.1054e-15), tensor(7.1054e-15), tensor(7.1054e-15), tensor(7.1054e-15), tensor(7.1054e-15), tensor(7.1054e-15), tensor(7.1054e-15), tensor(7.1054e-15), tensor(7.1054e-15), tensor(7.1054e-15), tensor(7.1054e-15), tensor(7.1054e-15), tensor(7.1054e-15), tensor(7.1054e-15), tensor(7.1054e-15), tensor(7.1054e-15), tensor(7.1054e-15), tensor(7.1054e-15), tensor(7.1054e-15), tensor(7.1054e-15), tensor(7.1054e-15), tensor(7.1054e-15), tensor(7.1054e-15), tensor(7.1054e-15), tensor(7.1054e-15), tensor(7.1054e-15), tensor(7.1054e-15), tensor(7.1054e-15), tensor(7.1054e-15), tensor(7.1054e-15), tensor(7.1054e-15), tensor(7.1054e-15), tensor(7.1054e-15), tensor(7.1054e-15), tensor(7.1054e-15), tensor(7.1054e-15), tensor(7.1054e-15), tensor(7.1054e-15), tensor(7.1054e-15), tensor(7.1054e-15), tensor(7.1054e-15), tensor(7.1054e-15), tensor(7.1054e-15), tensor(7.1054e-15), tensor(7.1054e-15), tensor(7.1054e-15), tensor(7.1054e-15), tensor(7.1054e-15), tensor(7.1054e-15), tensor(7.1054e-15), tensor(7.1054e-15), tensor(7.1054e-15), tensor(7.1054e-15), tensor(7.1054e-15), tensor(7.1054e-15), tensor(7.1054e-15), tensor(7.1054e-15), tensor(7.1054e-15), tensor(7.1054e-15), tensor(7.1054e-15), tensor(7.1054e-15), tensor(7.1054e-15), tensor(7.1054e-15), tensor(7.1054e-15), tensor(7.1054e-15), tensor(7.1054e-15), tensor(7.1054e-15), tensor(7.1054e-15), tensor(7.1054e-15), tensor(7.1054e-15), tensor(7.1054e-15), tensor(7.1054e-15), tensor(7.1054e-15), tensor(7.1054e-15), tensor(7.1054e-15), tensor(7.1054e-15), tensor(7.1054e-15), tensor(7.1054e-15), tensor(7.1054e-15), tensor(7.1054e-15), tensor(7.1054e-15), tensor(7.1054e-15), tensor(7.1054e-15), tensor(7.1054e-15), tensor(7.1054e-15), tensor(7.1054e-15), tensor(7.1054e-15), tensor(7.1054e-15)]\n"
          ],
          "name": "stdout"
        },
        {
          "output_type": "display_data",
          "data": {
            "image/png": "[encoded data removed]",
            "text/plain": [
              "<Figure size 432x288 with 1 Axes>"
            ]
          },
          "metadata": {
            "tags": []
          }
        }
      ]
    },
    {
      "cell_type": "markdown",
      "metadata": {
        "id": "DhIxgO0xdsEe",
        "colab_type": "text"
      },
      "source": [
        "## Problem 2\n",
        "\n",
        "Consider this dynamical system:\n",
        "\n",
        "$$  \\left\\{ \\begin{array}{lll} \\dot{x} & = & ~~ ax + y - x(x^2+y^2) & & x(0)=x_0= 1\\\\ \\dot{y} & = &  -x+y -y(x^2+y^2) & & y(0)=y_0=4 \\end{array} \\right. \n",
        "$$\n",
        "\n",
        "Assume\n",
        "* Equations and initial conditions known.\n",
        "* $ a $  unknown .\n",
        "* Observe $(x(7), y(7))$\n",
        "\n",
        "Find $a$ (actural value is 1.0)\n"
      ]
    },
    {
      "cell_type": "code",
      "metadata": {
        "id": "amzoZE1vbtDM",
        "colab_type": "code",
        "outputId": "e8c8ac76-f291-4549-dcda-2e660ff9ba16",
        "colab": {
          "base_uri": "https://localhost:8080/",
          "height": 777
        }
      },
      "source": [
        "# -*- coding: utf-8 -*-\n",
        "#\n",
        "#    ad301.py written by A. Date 2019.12.1\n",
        "#\n",
        "import numpy as np\n",
        "import torch\n",
        "import matplotlib.pyplot as plt\n",
        "\n",
        "T = 7 \n",
        "dt = 0.01\n",
        "N = int(T/dt)   # (N+1)点に分割\n",
        "# epochs = 1100\n",
        "epochs = 500\n",
        "\n",
        "# Find the truth.\n",
        "\n",
        "X0 = torch.tensor( [1.0, 4.0], requires_grad=True) # initial state\n",
        "B = torch.tensor([[1.0, 1.0],[-1.0,1.0]])\n",
        "x_log = np.zeros((N+1,2), dtype=float)\n",
        "X = torch.clone(X0)\n",
        "for k in range(N+1):\n",
        "  x_log[k] = X.data\n",
        "  X = X + dt*( torch.matmul(B,X) - X.dot(X)*X )\n",
        "\n",
        "\n",
        "# Experiment 2: Estimate the parameter value of 'a' given X0, X7.\n",
        "# a = torch.tensor(0.5, requires_grad=True)  # works well\n",
        "a = torch.tensor(5.0, requires_grad=True) # doesn't work well\n",
        "# a = torch.rand(1, requires_grad=True)\n",
        "X0 = torch.tensor( [1.0, 4.0])\n",
        "A0 = torch.tensor([[0.0, 1.0],[-1.0,1.0]])\n",
        "\n",
        "mu = 0.1\n",
        "d = []\n",
        "\n",
        "a_log = np.zeros(epochs,dtype=float)\n",
        "\n",
        "for i in range(epochs):\n",
        "  X = torch.clone(X0)\n",
        "  A = torch.clone(A0)\n",
        "  A[0][0] = torch.clone(a)\n",
        "  \n",
        "  if i % 20 == 0:\n",
        "    print(i,':',a.data)\n",
        "\n",
        "  for k in range(N+1):\n",
        "    X = X + dt*( torch.matmul(A,X) - X.dot(X)*X )\n",
        "\n",
        "# discrete: [0.8305881  0.56135917] . \n",
        "  target = torch.tensor( [0.8306, 0.5614],  requires_grad=False)\n",
        "  diff = torch.pow(X-target,2).sum()\n",
        "  d.append(diff.data)\n",
        "  diff.backward(retain_graph=True)\n",
        "\n",
        "  with torch.no_grad(): \n",
        "    a_log[i] = a.data\n",
        "    a.data.sub_(mu*a.grad.data)\n",
        "    a.grad.data.zero_()\n",
        "\n",
        "# record estimaed trajectory\n",
        "x2_log = np.zeros((N+1,2), dtype=float)\n",
        "X = torch.clone(X0)\n",
        "for k in range(N+1):\n",
        "  x2_log[k] = X.data\n",
        "  X = X + dt*( torch.matmul(A,X) - X.dot(X)*X )\n",
        "\n",
        "print(d)\n",
        "\n",
        "fig = plt.figure()\n",
        "fig.suptitle('Visualization of true v.s. estimated trajectories, as well as training trajectories') \n",
        "ax = fig.add_subplot(1,1,1)\n",
        "ax.grid(True, color='gray', linestyle='dashed')\n",
        "ax.plot(x_log[:,0], x_log[:,1], linewidth=1.0, color=\"b\",linestyle=\"solid\",label=\"true\")\n",
        "ax.plot(x2_log[:,0], x2_log[:,1], linewidth=1.0, color=\"r\",linestyle=\"solid\",label=\"estimated\")\n",
        "ax.set_aspect('equal','datalim')\n",
        "ax.set_xlabel(\"$x$\")\n",
        "ax.set_ylabel(\"$y$\")\n",
        "plt.legend()\n",
        "plt.show()\n",
        "fig.savefig('ad301.pdf') "
      ],
      "execution_count": 0,
      "outputs": [
        {
          "output_type": "stream",
          "text": [
            "0 : tensor(5.)\n",
            "20 : tensor(4.0925)\n",
            "40 : tensor(3.5340)\n",
            "60 : tensor(3.3517)\n",
            "80 : tensor(3.3243)\n",
            "100 : tensor(3.3214)\n",
            "120 : tensor(3.3211)\n",
            "140 : tensor(3.3210)\n",
            "160 : tensor(3.3210)\n",
            "180 : tensor(3.3210)\n",
            "200 : tensor(3.3210)\n",
            "220 : tensor(3.3210)\n",
            "240 : tensor(3.3210)\n",
            "260 : tensor(3.3210)\n",
            "280 : tensor(3.3210)\n",
            "300 : tensor(3.3210)\n",
            "320 : tensor(3.3210)\n",
            "340 : tensor(3.3210)\n",
            "360 : tensor(3.3210)\n",
            "380 : tensor(3.3210)\n",
            "400 : tensor(3.3210)\n",
            "420 : tensor(3.3210)\n",
            "440 : tensor(3.3210)\n",
            "460 : tensor(3.3210)\n",
            "480 : tensor(3.3210)\n",
            "[tensor(2.8788), tensor(2.8524), tensor(2.8267), tensor(2.8015), tensor(2.7769), tensor(2.7529), tensor(2.7294), tensor(2.7066), tensor(2.6843), tensor(2.6627), tensor(2.6416), tensor(2.6213), tensor(2.6015), tensor(2.5824), tensor(2.5639), tensor(2.5461), tensor(2.5289), tensor(2.5124), tensor(2.4966), tensor(2.4814), tensor(2.4669), tensor(2.4531), tensor(2.4399), tensor(2.4274), tensor(2.4156), tensor(2.4044), tensor(2.3939), tensor(2.3840), tensor(2.3747), tensor(2.3661), tensor(2.3580), tensor(2.3506), tensor(2.3437), tensor(2.3374), tensor(2.3316), tensor(2.3263), tensor(2.3215), tensor(2.3171), tensor(2.3132), tensor(2.3097), tensor(2.3066), tensor(2.3039), tensor(2.3014), tensor(2.2993), tensor(2.2974), tensor(2.2958), tensor(2.2944), tensor(2.2932), tensor(2.2921), tensor(2.2912), tensor(2.2905), tensor(2.2899), tensor(2.2893), tensor(2.2889), tensor(2.2885), tensor(2.2882), tensor(2.2880), tensor(2.2878), tensor(2.2876), tensor(2.2874), tensor(2.2873), tensor(2.2872), tensor(2.2872), tensor(2.2871), tensor(2.2870), tensor(2.2870), tensor(2.2870), tensor(2.2869), tensor(2.2869), tensor(2.2869), tensor(2.2869), tensor(2.2869), tensor(2.2869), tensor(2.2869), tensor(2.2869), tensor(2.2869), tensor(2.2869), tensor(2.2868), tensor(2.2868), tensor(2.2868), tensor(2.2868), tensor(2.2868), tensor(2.2868), tensor(2.2868), tensor(2.2868), tensor(2.2868), tensor(2.2868), tensor(2.2868), tensor(2.2868), tensor(2.2868), tensor(2.2868), tensor(2.2868), tensor(2.2868), tensor(2.2868), tensor(2.2868), tensor(2.2868), tensor(2.2868), tensor(2.2868), tensor(2.2868), tensor(2.2868), tensor(2.2868), tensor(2.2868), tensor(2.2868), tensor(2.2868), tensor(2.2868), tensor(2.2868), tensor(2.2868), tensor(2.2868), tensor(2.2868), tensor(2.2868), tensor(2.2868), tensor(2.2868), tensor(2.2868), tensor(2.2868), tensor(2.2868), tensor(2.2868), tensor(2.2868), tensor(2.2868), tensor(2.2868), tensor(2.2868), tensor(2.2868), tensor(2.2868), tensor(2.2868), tensor(2.2868), tensor(2.2868), tensor(2.2868), tensor(2.2868), tensor(2.2868), tensor(2.2868), tensor(2.2868), tensor(2.2868), tensor(2.2868), tensor(2.2868), tensor(2.2868), tensor(2.2868), tensor(2.2868), tensor(2.2868), tensor(2.2868), tensor(2.2868), tensor(2.2868), tensor(2.2868), tensor(2.2868), tensor(2.2868), tensor(2.2868), tensor(2.2868), tensor(2.2868), tensor(2.2868), tensor(2.2868), tensor(2.2868), tensor(2.2868), tensor(2.2868), tensor(2.2868), tensor(2.2868), tensor(2.2868), tensor(2.2868), tensor(2.2868), tensor(2.2868), tensor(2.2868), tensor(2.2868), tensor(2.2868), tensor(2.2868), tensor(2.2868), tensor(2.2868), tensor(2.2868), tensor(2.2868), tensor(2.2868), tensor(2.2868), tensor(2.2868), tensor(2.2868), tensor(2.2868), tensor(2.2868), tensor(2.2868), tensor(2.2868), tensor(2.2868), tensor(2.2868), tensor(2.2868), tensor(2.2868), tensor(2.2868), tensor(2.2868), tensor(2.2868), tensor(2.2868), tensor(2.2868), tensor(2.2868), tensor(2.2868), tensor(2.2868), tensor(2.2868), tensor(2.2868), tensor(2.2868), tensor(2.2868), tensor(2.2868), tensor(2.2868), tensor(2.2868), tensor(2.2868), tensor(2.2868), tensor(2.2868), tensor(2.2868), tensor(2.2868), tensor(2.2868), tensor(2.2868), tensor(2.2868), tensor(2.2868), tensor(2.2868), tensor(2.2868), tensor(2.2868), tensor(2.2868), tensor(2.2868), tensor(2.2868), tensor(2.2868), tensor(2.2868), tensor(2.2868), tensor(2.2868), tensor(2.2868), tensor(2.2868), tensor(2.2868), tensor(2.2868), tensor(2.2868), tensor(2.2868), tensor(2.2868), tensor(2.2868), tensor(2.2868), tensor(2.2868), tensor(2.2868), tensor(2.2868), tensor(2.2868), tensor(2.2868), tensor(2.2868), tensor(2.2868), tensor(2.2868), tensor(2.2868), tensor(2.2868), tensor(2.2868), tensor(2.2868), tensor(2.2868), tensor(2.2868), tensor(2.2868), tensor(2.2868), tensor(2.2868), tensor(2.2868), tensor(2.2868), tensor(2.2868), tensor(2.2868), tensor(2.2868), tensor(2.2868), tensor(2.2868), tensor(2.2868), tensor(2.2868), tensor(2.2868), tensor(2.2868), tensor(2.2868), tensor(2.2868), tensor(2.2868), tensor(2.2868), tensor(2.2868), tensor(2.2868), tensor(2.2868), tensor(2.2868), tensor(2.2868), tensor(2.2868), tensor(2.2868), tensor(2.2868), tensor(2.2868), tensor(2.2868), tensor(2.2868), tensor(2.2868), tensor(2.2868), tensor(2.2868), tensor(2.2868), tensor(2.2868), tensor(2.2868), tensor(2.2868), tensor(2.2868), tensor(2.2868), tensor(2.2868), tensor(2.2868), tensor(2.2868), tensor(2.2868), tensor(2.2868), tensor(2.2868), tensor(2.2868), tensor(2.2868), tensor(2.2868), tensor(2.2868), tensor(2.2868), tensor(2.2868), tensor(2.2868), tensor(2.2868), tensor(2.2868), tensor(2.2868), tensor(2.2868), tensor(2.2868), tensor(2.2868), tensor(2.2868), tensor(2.2868), tensor(2.2868), tensor(2.2868), tensor(2.2868), tensor(2.2868), tensor(2.2868), tensor(2.2868), tensor(2.2868), tensor(2.2868), tensor(2.2868), tensor(2.2868), tensor(2.2868), tensor(2.2868), tensor(2.2868), tensor(2.2868), tensor(2.2868), tensor(2.2868), tensor(2.2868), tensor(2.2868), tensor(2.2868), tensor(2.2868), tensor(2.2868), tensor(2.2868), tensor(2.2868), tensor(2.2868), tensor(2.2868), tensor(2.2868), tensor(2.2868), tensor(2.2868), tensor(2.2868), tensor(2.2868), tensor(2.2868), tensor(2.2868), tensor(2.2868), tensor(2.2868), tensor(2.2868), tensor(2.2868), tensor(2.2868), tensor(2.2868), tensor(2.2868), tensor(2.2868), tensor(2.2868), tensor(2.2868), tensor(2.2868), tensor(2.2868), tensor(2.2868), tensor(2.2868), tensor(2.2868), tensor(2.2868), tensor(2.2868), tensor(2.2868), tensor(2.2868), tensor(2.2868), tensor(2.2868), tensor(2.2868), tensor(2.2868), tensor(2.2868), tensor(2.2868), tensor(2.2868), tensor(2.2868), tensor(2.2868), tensor(2.2868), tensor(2.2868), tensor(2.2868), tensor(2.2868), tensor(2.2868), tensor(2.2868), tensor(2.2868), tensor(2.2868), tensor(2.2868), tensor(2.2868), tensor(2.2868), tensor(2.2868), tensor(2.2868), tensor(2.2868), tensor(2.2868), tensor(2.2868), tensor(2.2868), tensor(2.2868), tensor(2.2868), tensor(2.2868), tensor(2.2868), tensor(2.2868), tensor(2.2868), tensor(2.2868), tensor(2.2868), tensor(2.2868), tensor(2.2868), tensor(2.2868), tensor(2.2868), tensor(2.2868), tensor(2.2868), tensor(2.2868), tensor(2.2868), tensor(2.2868), tensor(2.2868), tensor(2.2868), tensor(2.2868), tensor(2.2868), tensor(2.2868), tensor(2.2868), tensor(2.2868), tensor(2.2868), tensor(2.2868), tensor(2.2868), tensor(2.2868), tensor(2.2868), tensor(2.2868), tensor(2.2868), tensor(2.2868), tensor(2.2868), tensor(2.2868), tensor(2.2868), tensor(2.2868), tensor(2.2868), tensor(2.2868), tensor(2.2868), tensor(2.2868), tensor(2.2868), tensor(2.2868), tensor(2.2868), tensor(2.2868), tensor(2.2868), tensor(2.2868), tensor(2.2868), tensor(2.2868), tensor(2.2868), tensor(2.2868), tensor(2.2868), tensor(2.2868), tensor(2.2868), tensor(2.2868), tensor(2.2868), tensor(2.2868), tensor(2.2868), tensor(2.2868), tensor(2.2868), tensor(2.2868), tensor(2.2868), tensor(2.2868), tensor(2.2868), tensor(2.2868), tensor(2.2868), tensor(2.2868), tensor(2.2868), tensor(2.2868), tensor(2.2868), tensor(2.2868), tensor(2.2868), tensor(2.2868), tensor(2.2868), tensor(2.2868), tensor(2.2868), tensor(2.2868), tensor(2.2868), tensor(2.2868), tensor(2.2868), tensor(2.2868), tensor(2.2868), tensor(2.2868), tensor(2.2868), tensor(2.2868), tensor(2.2868), tensor(2.2868), tensor(2.2868), tensor(2.2868), tensor(2.2868), tensor(2.2868), tensor(2.2868), tensor(2.2868), tensor(2.2868), tensor(2.2868), tensor(2.2868), tensor(2.2868), tensor(2.2868), tensor(2.2868), tensor(2.2868), tensor(2.2868), tensor(2.2868), tensor(2.2868), tensor(2.2868), tensor(2.2868), tensor(2.2868), tensor(2.2868), tensor(2.2868), tensor(2.2868), tensor(2.2868), tensor(2.2868), tensor(2.2868), tensor(2.2868), tensor(2.2868), tensor(2.2868), tensor(2.2868), tensor(2.2868), tensor(2.2868), tensor(2.2868), tensor(2.2868), tensor(2.2868), tensor(2.2868), tensor(2.2868), tensor(2.2868), tensor(2.2868), tensor(2.2868), tensor(2.2868), tensor(2.2868), tensor(2.2868), tensor(2.2868), tensor(2.2868)]\n"
          ],
          "name": "stdout"
        },
        {
          "output_type": "display_data",
          "data": {
            "image/png": "[encoded data removed]",
            "text/plain": [
              "<Figure size 432x288 with 1 Axes>"
            ]
          },
          "metadata": {
            "tags": []
          }
        }
      ]
    },
    {
      "cell_type": "code",
      "metadata": {
        "id": "Lk4eELNPcFiS",
        "colab_type": "code",
        "outputId": "8963403f-0d1c-4d1c-925e-59954fae444f",
        "colab": {
          "base_uri": "https://localhost:8080/",
          "height": 52
        }
      },
      "source": [
        "a_log"
      ],
      "execution_count": 0,
      "outputs": [
        {
          "output_type": "execute_result",
          "data": {
            "text/plain": [
              "array([1.5       , 1.48452079, 1.47198999, ..., 0.97658604, 0.97658604,\n",
              "       0.97658604])"
            ]
          },
          "metadata": {
            "tags": []
          },
          "execution_count": 11
        }
      ]
    },
    {
      "cell_type": "markdown",
      "metadata": {
        "id": "PKGtcPhesq4j",
        "colab_type": "text"
      },
      "source": [
        "## Problem 3\n",
        "\n",
        "Consider this dynamical system:\n",
        "\n",
        "$$  \\left\\{ \\begin{array}{lll} \\dot{x} & = & ~ ax + by - x(x^2+y^2) & & x(0)=x_0= 1\\\\ \\dot{y} & = &  -x ~~ +y -y(x^2+y^2) & & y(0)=y_0=4 \\end{array} \\right. \n",
        "$$\n",
        "\n",
        "Assume\n",
        "* Equations and initial conditions known\n",
        "* $ a, b $ unknown.\n",
        "* Observe $ ( x(7), y(7) )$ and $ ( x(10), y(10) )$\n",
        "\n",
        "Find $a, b$\n"
      ]
    },
    {
      "cell_type": "code",
      "metadata": {
        "id": "ZPkYH2lsx6gW",
        "colab_type": "code",
        "outputId": "053e4a46-0138-4942-8806-3df759f20215",
        "colab": {
          "base_uri": "https://localhost:8080/",
          "height": 1000
        }
      },
      "source": [
        "# -*- coding: utf-8 -*-\n",
        "#\n",
        "#    ad303.py written by A. Date 2020.3.5 \n",
        "#    (It seems that this code still have bugs.)\n",
        "#\n",
        "import numpy as np\n",
        "import torch\n",
        "import matplotlib.pyplot as plt\n",
        "\n",
        "T = 10 \n",
        "dt = 0.01\n",
        "N = int(T/dt)   # (N+1)点に分割\n",
        "epochs = 500\n",
        "# epochs = 2000\n",
        "\n",
        "# Find the truth.\n",
        "\n",
        "X0 = torch.tensor( [1.0, 4.0], requires_grad=False) # initial state\n",
        "B = torch.tensor([[1.0, 1.0],[-1.0,1.0]])\n",
        "x_log = np.zeros((N+1,2), dtype=float)\n",
        "X = torch.clone(X0)\n",
        "for k in range(N+1):\n",
        "  x_log[k] = X.data\n",
        "  X = X + dt*( torch.matmul(B,X) - X.dot(X)*X )\n",
        "\n",
        "for i in range(N+1):\n",
        "  if i % 100 == 0: \n",
        "    print(i, x_log[i])\n",
        "\n",
        "# Experiment 3: Estimate the parameter value of 'a, b' given X0, X7, and X10.\n",
        "a = torch.tensor(0.98, requires_grad=True) \n",
        "b = torch.tensor(0.98, requires_grad=True) \n",
        "X0 = torch.tensor( [1.0, 4.0])\n",
        "A0 = torch.tensor([[0.0, 1.0],[-1.0,1.0]])\n",
        "\n",
        "mu = 0.1\n",
        "d = []\n",
        "\n",
        "a_log = np.zeros(epochs,dtype=float)\n",
        "b_log = np.zeros(epochs,dtype=float)\n",
        "\n",
        "for i in range(epochs):\n",
        "  X = torch.clone(X0)\n",
        "  A = torch.clone(A0)\n",
        "  A[0][0] = torch.clone(a)\n",
        "  A[0][1] = torch.clone(b)\n",
        "\n",
        "  if i % 10 == 0:\n",
        "    print(i,':',a.data, b.data)\n",
        "\n",
        "  target1 = torch.tensor( [0.8305881, 0.56135917],  requires_grad=False)\n",
        "  target2 = torch.tensor( [-0.74309045 -0.67291659],  requires_grad=False)\n",
        "\n",
        "  for k in range(N+1):\n",
        "    X = X + dt*( torch.matmul(A,X) - X.dot(X)*X )\n",
        "    if k == 700:\n",
        "      diff = torch.pow(X-target1,2).sum()\n",
        "\n",
        "  diff = diff + torch.pow(X-target2,2).sum()\n",
        "  d.append(diff.data)\n",
        "  diff.backward(retain_graph=True)\n",
        "\n",
        "  with torch.no_grad(): \n",
        "    a_log[i] = a.data\n",
        "    a.data.sub_(mu*a.grad.data)\n",
        "    a.grad.data.zero_()\n",
        "    b_log[i] = b.data\n",
        "    b.data.sub_(mu*b.grad.data)\n",
        "    b.grad.data.zero_()\n",
        "\n",
        "# record estimaed trajectory\n",
        "x2_log = np.zeros((N+1,2), dtype=float)\n",
        "X = torch.clone(X0)\n",
        "for k in range(N+1):\n",
        "  x2_log[k] = X.data\n",
        "  X = X + dt*( torch.matmul(A,X) - X.dot(X)*X )\n",
        "\n",
        "print(d)\n",
        "\n",
        "fig = plt.figure()\n",
        "fig.suptitle('Visualization of true v.s. estimated trajectories, as well as training trajectories') \n",
        "ax = fig.add_subplot(1,2,1)\n",
        "ax.grid(True, color='gray', linestyle='dashed')\n",
        "ax.plot(a_log, linewidth=1.0, color=\"b\",linestyle=\"solid\",label=\"a\")\n",
        "ax.plot(b_log, linewidth=1.0, color=\"r\",linestyle=\"solid\",label=\"b\")\n",
        "ax.set_xlabel(\"$t$\")\n",
        "\n",
        "ax = fig.add_subplot(1,2,2)\n",
        "ax.grid(True, color='gray', linestyle='dashed')\n",
        "ax.plot(x_log[:,0], x_log[:,1], linewidth=1.0, color=\"b\",linestyle=\"solid\",label=\"true\")\n",
        "ax.plot(x2_log[:,0], x2_log[:,1], linewidth=1.0, color=\"r\",linestyle=\"solid\",label=\"estimated\")\n",
        "ax.set_aspect('equal','datalim')\n",
        "ax.set_xlabel(\"$x$\")\n",
        "ax.set_ylabel(\"$y$\")\n",
        "plt.legend()\n",
        "plt.show()\n",
        "fig.savefig('ad303.pdf') "
      ],
      "execution_count": 0,
      "outputs": [
        {
          "output_type": "stream",
          "text": [
            "0 [1. 4.]\n",
            "100 [1.0160923  0.32759303]\n",
            "200 [ 0.78007811 -0.64210409]\n",
            "300 [-0.11811391 -0.99654263]\n",
            "400 [-0.90159261 -0.43863365]\n",
            "500 [-0.85612136  0.52162397]\n",
            "600 [-0.02361561  1.00222099]\n",
            "700 [0.8305881  0.56135917]\n",
            "800 [ 0.92112929 -0.39562747]\n",
            "900 [ 0.16476275 -0.98886478]\n",
            "1000 [-0.74309045 -0.67291659]\n",
            "0 : tensor(0.9800) tensor(0.9800)\n",
            "10 : tensor(0.8798) tensor(2.2374)\n",
            "20 : tensor(0.3726) tensor(2.9549)\n",
            "30 : tensor(0.1973) tensor(3.0382)\n",
            "40 : tensor(0.1096) tensor(3.0854)\n",
            "50 : tensor(0.0665) tensor(3.1100)\n",
            "60 : tensor(0.0455) tensor(3.1223)\n",
            "70 : tensor(0.0353) tensor(3.1284)\n",
            "80 : tensor(0.0303) tensor(3.1313)\n",
            "90 : tensor(0.0279) tensor(3.1328)\n",
            "100 : tensor(0.0268) tensor(3.1335)\n",
            "110 : tensor(0.0262) tensor(3.1338)\n",
            "120 : tensor(0.0259) tensor(3.1340)\n",
            "130 : tensor(0.0258) tensor(3.1341)\n",
            "140 : tensor(0.0257) tensor(3.1341)\n",
            "150 : tensor(0.0257) tensor(3.1341)\n",
            "160 : tensor(0.0257) tensor(3.1341)\n",
            "170 : tensor(0.0257) tensor(3.1341)\n",
            "180 : tensor(0.0257) tensor(3.1341)\n",
            "190 : tensor(0.0257) tensor(3.1341)\n",
            "200 : tensor(0.0257) tensor(3.1341)\n",
            "210 : tensor(0.0257) tensor(3.1341)\n",
            "220 : tensor(0.0257) tensor(3.1341)\n",
            "230 : tensor(0.0257) tensor(3.1341)\n",
            "240 : tensor(0.0257) tensor(3.1341)\n",
            "250 : tensor(0.0257) tensor(3.1341)\n",
            "260 : tensor(0.0257) tensor(3.1341)\n",
            "270 : tensor(0.0257) tensor(3.1341)\n",
            "280 : tensor(0.0257) tensor(3.1341)\n",
            "290 : tensor(0.0257) tensor(3.1341)\n",
            "300 : tensor(0.0257) tensor(3.1341)\n",
            "310 : tensor(0.0257) tensor(3.1341)\n",
            "320 : tensor(0.0257) tensor(3.1341)\n",
            "330 : tensor(0.0257) tensor(3.1341)\n",
            "340 : tensor(0.0257) tensor(3.1341)\n",
            "350 : tensor(0.0257) tensor(3.1341)\n",
            "360 : tensor(0.0257) tensor(3.1341)\n",
            "370 : tensor(0.0257) tensor(3.1341)\n",
            "380 : tensor(0.0257) tensor(3.1341)\n",
            "390 : tensor(0.0257) tensor(3.1341)\n",
            "400 : tensor(0.0257) tensor(3.1341)\n",
            "410 : tensor(0.0257) tensor(3.1341)\n",
            "420 : tensor(0.0257) tensor(3.1341)\n",
            "430 : tensor(0.0257) tensor(3.1341)\n",
            "440 : tensor(0.0257) tensor(3.1341)\n",
            "450 : tensor(0.0257) tensor(3.1341)\n",
            "460 : tensor(0.0257) tensor(3.1341)\n",
            "470 : tensor(0.0257) tensor(3.1341)\n",
            "480 : tensor(0.0257) tensor(3.1341)\n",
            "490 : tensor(0.0257) tensor(3.1341)\n",
            "[tensor(1.0189), tensor(2.3009), tensor(9.2744), tensor(9.2382), tensor(9.1904), tensor(9.1131), tensor(8.8618), tensor(11.4271), tensor(4.8658), tensor(10.3242), tensor(9.0088), tensor(9.3722), tensor(3.5238), tensor(3.5056), tensor(3.4910), tensor(3.4781), tensor(3.4666), tensor(3.4564), tensor(3.4473), tensor(3.4393), tensor(3.4321), tensor(3.4258), tensor(3.4203), tensor(3.4154), tensor(3.4111), tensor(3.4073), tensor(3.4040), tensor(3.4011), tensor(3.3986), tensor(3.3963), tensor(3.3944), tensor(3.3927), tensor(3.3912), tensor(3.3899), tensor(3.3887), tensor(3.3877), tensor(3.3869), tensor(3.3861), tensor(3.3855), tensor(3.3849), tensor(3.3844), tensor(3.3840), tensor(3.3836), tensor(3.3833), tensor(3.3830), tensor(3.3828), tensor(3.3825), tensor(3.3824), tensor(3.3822), tensor(3.3821), tensor(3.3819), tensor(3.3818), tensor(3.3817), tensor(3.3817), tensor(3.3816), tensor(3.3815), tensor(3.3815), tensor(3.3814), tensor(3.3814), tensor(3.3814), tensor(3.3813), tensor(3.3813), tensor(3.3813), tensor(3.3813), tensor(3.3813), tensor(3.3812), tensor(3.3812), tensor(3.3812), tensor(3.3812), tensor(3.3812), tensor(3.3812), tensor(3.3812), tensor(3.3812), tensor(3.3812), tensor(3.3812), tensor(3.3812), tensor(3.3812), tensor(3.3812), tensor(3.3812), tensor(3.3812), tensor(3.3812), tensor(3.3812), tensor(3.3812), tensor(3.3812), tensor(3.3812), tensor(3.3812), tensor(3.3812), tensor(3.3812), tensor(3.3812), tensor(3.3812), tensor(3.3812), tensor(3.3812), tensor(3.3811), tensor(3.3812), tensor(3.3811), tensor(3.3811), tensor(3.3811), tensor(3.3811), tensor(3.3811), tensor(3.3811), tensor(3.3811), tensor(3.3811), tensor(3.3811), tensor(3.3811), tensor(3.3811), tensor(3.3811), tensor(3.3811), tensor(3.3811), tensor(3.3811), tensor(3.3811), tensor(3.3811), tensor(3.3811), tensor(3.3811), tensor(3.3811), tensor(3.3811), tensor(3.3811), tensor(3.3811), tensor(3.3811), tensor(3.3811), tensor(3.3811), tensor(3.3811), tensor(3.3811), tensor(3.3811), tensor(3.3811), tensor(3.3811), tensor(3.3811), tensor(3.3811), tensor(3.3811), tensor(3.3811), tensor(3.3811), tensor(3.3811), tensor(3.3811), tensor(3.3811), tensor(3.3811), tensor(3.3811), tensor(3.3811), tensor(3.3811), tensor(3.3811), tensor(3.3811), tensor(3.3811), tensor(3.3811), tensor(3.3811), tensor(3.3811), tensor(3.3811), tensor(3.3811), tensor(3.3811), tensor(3.3811), tensor(3.3811), tensor(3.3811), tensor(3.3811), tensor(3.3811), tensor(3.3811), tensor(3.3811), tensor(3.3811), tensor(3.3811), tensor(3.3811), tensor(3.3811), tensor(3.3811), tensor(3.3811), tensor(3.3811), tensor(3.3811), tensor(3.3811), tensor(3.3811), tensor(3.3811), tensor(3.3811), tensor(3.3811), tensor(3.3811), tensor(3.3811), tensor(3.3811), tensor(3.3811), tensor(3.3811), tensor(3.3811), tensor(3.3811), tensor(3.3811), tensor(3.3811), tensor(3.3811), tensor(3.3811), tensor(3.3811), tensor(3.3811), tensor(3.3811), tensor(3.3811), tensor(3.3811), tensor(3.3811), tensor(3.3811), tensor(3.3811), tensor(3.3811), tensor(3.3811), tensor(3.3811), tensor(3.3811), tensor(3.3811), tensor(3.3811), tensor(3.3811), tensor(3.3811), tensor(3.3811), tensor(3.3811), tensor(3.3811), tensor(3.3811), tensor(3.3811), tensor(3.3811), tensor(3.3811), tensor(3.3811), tensor(3.3811), tensor(3.3811), tensor(3.3811), tensor(3.3811), tensor(3.3811), tensor(3.3811), tensor(3.3811), tensor(3.3811), tensor(3.3811), tensor(3.3811), tensor(3.3811), tensor(3.3811), tensor(3.3811), tensor(3.3811), tensor(3.3811), tensor(3.3811), tensor(3.3811), tensor(3.3811), tensor(3.3811), tensor(3.3811), tensor(3.3811), tensor(3.3811), tensor(3.3811), tensor(3.3811), tensor(3.3811), tensor(3.3811), tensor(3.3811), tensor(3.3811), tensor(3.3811), tensor(3.3811), tensor(3.3811), tensor(3.3811), tensor(3.3811), tensor(3.3811), tensor(3.3811), tensor(3.3811), tensor(3.3811), tensor(3.3811), tensor(3.3811), tensor(3.3811), tensor(3.3811), tensor(3.3811), tensor(3.3811), tensor(3.3811), tensor(3.3811), tensor(3.3811), tensor(3.3811), tensor(3.3811), tensor(3.3811), tensor(3.3811), tensor(3.3811), tensor(3.3811), tensor(3.3811), tensor(3.3811), tensor(3.3811), tensor(3.3811), tensor(3.3811), tensor(3.3811), tensor(3.3811), tensor(3.3811), tensor(3.3811), tensor(3.3811), tensor(3.3811), tensor(3.3811), tensor(3.3811), tensor(3.3811), tensor(3.3811), tensor(3.3811), tensor(3.3811), tensor(3.3811), tensor(3.3811), tensor(3.3811), tensor(3.3811), tensor(3.3811), tensor(3.3811), tensor(3.3811), tensor(3.3811), tensor(3.3811), tensor(3.3811), tensor(3.3811), tensor(3.3811), tensor(3.3811), tensor(3.3811), tensor(3.3811), tensor(3.3811), tensor(3.3811), tensor(3.3811), tensor(3.3811), tensor(3.3811), tensor(3.3811), tensor(3.3811), tensor(3.3811), tensor(3.3811), tensor(3.3811), tensor(3.3811), tensor(3.3811), tensor(3.3811), tensor(3.3811), tensor(3.3811), tensor(3.3811), tensor(3.3811), tensor(3.3811), tensor(3.3811), tensor(3.3811), tensor(3.3811), tensor(3.3811), tensor(3.3811), tensor(3.3811), tensor(3.3811), tensor(3.3811), tensor(3.3811), tensor(3.3811), tensor(3.3811), tensor(3.3811), tensor(3.3811), tensor(3.3811), tensor(3.3811), tensor(3.3811), tensor(3.3811), tensor(3.3811), tensor(3.3811), tensor(3.3811), tensor(3.3811), tensor(3.3811), tensor(3.3811), tensor(3.3811), tensor(3.3811), tensor(3.3811), tensor(3.3811), tensor(3.3811), tensor(3.3811), tensor(3.3811), tensor(3.3811), tensor(3.3811), tensor(3.3811), tensor(3.3811), tensor(3.3811), tensor(3.3811), tensor(3.3811), tensor(3.3811), tensor(3.3811), tensor(3.3811), tensor(3.3811), tensor(3.3811), tensor(3.3811), tensor(3.3811), tensor(3.3811), tensor(3.3811), tensor(3.3811), tensor(3.3811), tensor(3.3811), tensor(3.3811), tensor(3.3811), tensor(3.3811), tensor(3.3811), tensor(3.3811), tensor(3.3811), tensor(3.3811), tensor(3.3811), tensor(3.3811), tensor(3.3811), tensor(3.3811), tensor(3.3811), tensor(3.3811), tensor(3.3811), tensor(3.3811), tensor(3.3811), tensor(3.3811), tensor(3.3811), tensor(3.3811), tensor(3.3811), tensor(3.3811), tensor(3.3811), tensor(3.3811), tensor(3.3811), tensor(3.3811), tensor(3.3811), tensor(3.3811), tensor(3.3811), tensor(3.3811), tensor(3.3811), tensor(3.3811), tensor(3.3811), tensor(3.3811), tensor(3.3811), tensor(3.3811), tensor(3.3811), tensor(3.3811), tensor(3.3811), tensor(3.3811), tensor(3.3811), tensor(3.3811), tensor(3.3811), tensor(3.3811), tensor(3.3811), tensor(3.3811), tensor(3.3811), tensor(3.3811), tensor(3.3811), tensor(3.3811), tensor(3.3811), tensor(3.3811), tensor(3.3811), tensor(3.3811), tensor(3.3811), tensor(3.3811), tensor(3.3811), tensor(3.3811), tensor(3.3811), tensor(3.3811), tensor(3.3811), tensor(3.3811), tensor(3.3811), tensor(3.3811), tensor(3.3811), tensor(3.3811), tensor(3.3811), tensor(3.3811), tensor(3.3811), tensor(3.3811), tensor(3.3811), tensor(3.3811), tensor(3.3811), tensor(3.3811), tensor(3.3811), tensor(3.3811), tensor(3.3811), tensor(3.3811), tensor(3.3811), tensor(3.3811), tensor(3.3811), tensor(3.3811), tensor(3.3811), tensor(3.3811), tensor(3.3811), tensor(3.3811), tensor(3.3811), tensor(3.3811), tensor(3.3811), tensor(3.3811), tensor(3.3811), tensor(3.3811), tensor(3.3811), tensor(3.3811), tensor(3.3811), tensor(3.3811), tensor(3.3811), tensor(3.3811), tensor(3.3811), tensor(3.3811), tensor(3.3811), tensor(3.3811), tensor(3.3811), tensor(3.3811), tensor(3.3811), tensor(3.3811), tensor(3.3811), tensor(3.3811), tensor(3.3811), tensor(3.3811), tensor(3.3811), tensor(3.3811), tensor(3.3811), tensor(3.3811), tensor(3.3811), tensor(3.3811), tensor(3.3811), tensor(3.3811), tensor(3.3811), tensor(3.3811), tensor(3.3811), tensor(3.3811), tensor(3.3811), tensor(3.3811), tensor(3.3811), tensor(3.3811), tensor(3.3811), tensor(3.3811), tensor(3.3811), tensor(3.3811), tensor(3.3811), tensor(3.3811), tensor(3.3811), tensor(3.3811), tensor(3.3811), tensor(3.3811), tensor(3.3811), tensor(3.3811), tensor(3.3811), tensor(3.3811), tensor(3.3811), tensor(3.3811), tensor(3.3811), tensor(3.3811), tensor(3.3811), tensor(3.3811), tensor(3.3811), tensor(3.3811), tensor(3.3811)]\n"
          ],
          "name": "stdout"
        },
        {
          "output_type": "display_data",
          "data": {
            "image/png": "[encoded data removed]",
            "text/plain": [
              "<Figure size 432x288 with 2 Axes>"
            ]
          },
          "metadata": {
            "tags": []
          }
        }
      ]
    }
  ]
}