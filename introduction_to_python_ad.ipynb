{
  "nbformat": 4,
  "nbformat_minor": 0,
  "metadata": {
    "colab": {
      "name": "introduction_to_python_ad.ipynb",
      "provenance": [],
      "collapsed_sections": [
        "Ni5tc0nPrqDM",
        "EIVG39dTvmHS",
        "qBFuJgF3xw_d",
        "YYzr17dCrdGn",
        "CUU2l4blsmGd",
        "pLiaqzA6tTDr",
        "CayK5y3Xtgii",
        "V67Tfma3gRvB",
        "MALnRpE1vOsC",
        "0qilrBYPwDDw",
        "t6k0KX_Iz6Vl",
        "3eDDanQH43uJ"
      ]
    },
    "kernelspec": {
      "name": "python3",
      "display_name": "Python 3"
    }
  },
  "cells": [
    {
      "cell_type": "markdown",
      "metadata": {
        "id": "VMCFapnzmJ_9"
      },
      "source": [
        "# Python の使い方\n",
        "*introduction_to_python_ad.ipynb*\n",
        "\n",
        "A. Date \n",
        "updated 2021.5.26\n",
        "\n",
        "ここでは，Python の使い方を『例』を使って紹介します．\n",
        "まったくの初心者向けではありません．\n",
        "C言語など，ほかの言語で小さいプログラムを書いたことがある人向けです．\n",
        "私が担当する講義に関係する内容が，いろいろ混ざっています．\n",
        "\n",
        "わからないことがあれば Google 検索すると，説明されているページにたどり着けます．\n",
        "とは言っても，分かりやすいページに辿り着けない場合が多いです．\n",
        "もっとも正確に説明しているのは『公式ドキュメント』です．\n",
        "**ぜひ公式ドキュメントを読んでください**\n",
        "\n",
        "python 公式：（if 文， for 文， 関数）\n",
        "https://docs.python.org/ja/3/tutorial/controlflow.html\n",
        "<br>\n",
        "numpy 公式：\n",
        "https://numpy.org/doc/stable/reference/generated/numpy.arange.html\n",
        "<br>\n",
        "matplotlib 公式：\n",
        "https://matplotlib.org/contents.html"
      ]
    },
    {
      "cell_type": "markdown",
      "metadata": {
        "id": "Jzd3iMu6mTH_"
      },
      "source": [
        "**Pythonの起動**\n",
        "\n",
        "Linux の場合はコマンドラインから 'python' と打ち込めば，Python が起動します． この ノートブック上でその必要はありません．<br>\n",
        "まずは Python を電卓のように使ってみましょう．\n",
        "\n",
        "すぐ下の左端にある再生ボタンを押すか．shiftキーを押しながらenterキーを押すと内容が実行されます．\n"
      ]
    },
    {
      "cell_type": "code",
      "metadata": {
        "id": "TtbJYMFmnSGg",
        "colab": {
          "base_uri": "https://localhost:8080/"
        },
        "outputId": "1ec1700c-2547-4d80-970e-a096cec9d347"
      },
      "source": [
        "(1+2)*(3-4)*5^2"
      ],
      "execution_count": 8,
      "outputs": [
        {
          "output_type": "execute_result",
          "data": {
            "text/plain": [
              "-13"
            ]
          },
          "metadata": {
            "tags": []
          },
          "execution_count": 8
        }
      ]
    },
    {
      "cell_type": "markdown",
      "metadata": {
        "id": "WTwU2-runlF5"
      },
      "source": [
        "あれ？  3 ✕ (-1) ✕ 25 で， -75 になるはずだったんだが...  5^2 で 5の2乗は計算できていない模様．"
      ]
    },
    {
      "cell_type": "code",
      "metadata": {
        "id": "Ey2PSTNrntPE",
        "colab": {
          "base_uri": "https://localhost:8080/"
        },
        "outputId": "70f12970-333b-4be5-b423-cfe0dd7b0f7c"
      },
      "source": [
        "5^2"
      ],
      "execution_count": 9,
      "outputs": [
        {
          "output_type": "execute_result",
          "data": {
            "text/plain": [
              "7"
            ]
          },
          "metadata": {
            "tags": []
          },
          "execution_count": 9
        }
      ]
    },
    {
      "cell_type": "code",
      "metadata": {
        "id": "6NPwkCNIn5U8",
        "colab": {
          "base_uri": "https://localhost:8080/"
        },
        "outputId": "96a64bbe-615d-43d4-9f63-f91e80ef4b38"
      },
      "source": [
        "5**3"
      ],
      "execution_count": 10,
      "outputs": [
        {
          "output_type": "execute_result",
          "data": {
            "text/plain": [
              "125"
            ]
          },
          "metadata": {
            "tags": []
          },
          "execution_count": 10
        }
      ]
    },
    {
      "cell_type": "code",
      "metadata": {
        "id": "fecEz228n7AL",
        "colab": {
          "base_uri": "https://localhost:8080/"
        },
        "outputId": "29dee44a-6957-4093-cb77-7cb070c42225"
      },
      "source": [
        "(1+2)*(3-4)*5**2"
      ],
      "execution_count": 11,
      "outputs": [
        {
          "output_type": "execute_result",
          "data": {
            "text/plain": [
              "-75"
            ]
          },
          "metadata": {
            "tags": []
          },
          "execution_count": 11
        }
      ]
    },
    {
      "cell_type": "code",
      "metadata": {
        "id": "mO_cs10Sn-My",
        "colab": {
          "base_uri": "https://localhost:8080/",
          "height": 166
        },
        "outputId": "3d14cfe2-41e6-40c3-e4a4-1cf0f2473c1b"
      },
      "source": [
        "exp(10)*log(5)*sin(0.5*pi)"
      ],
      "execution_count": 12,
      "outputs": [
        {
          "output_type": "error",
          "ename": "NameError",
          "evalue": "ignored",
          "traceback": [
            "\u001b[0;31m---------------------------------------------------------------------------\u001b[0m",
            "\u001b[0;31mNameError\u001b[0m                                 Traceback (most recent call last)",
            "\u001b[0;32m<ipython-input-12-1cf72cd30d81>\u001b[0m in \u001b[0;36m<module>\u001b[0;34m()\u001b[0m\n\u001b[0;32m----> 1\u001b[0;31m \u001b[0mexp\u001b[0m\u001b[0;34m(\u001b[0m\u001b[0;36m10\u001b[0m\u001b[0;34m)\u001b[0m\u001b[0;34m*\u001b[0m\u001b[0mlog\u001b[0m\u001b[0;34m(\u001b[0m\u001b[0;36m5\u001b[0m\u001b[0;34m)\u001b[0m\u001b[0;34m*\u001b[0m\u001b[0msin\u001b[0m\u001b[0;34m(\u001b[0m\u001b[0;36m0.5\u001b[0m\u001b[0;34m*\u001b[0m\u001b[0mpi\u001b[0m\u001b[0;34m)\u001b[0m\u001b[0;34m\u001b[0m\u001b[0;34m\u001b[0m\u001b[0m\n\u001b[0m",
            "\u001b[0;31mNameError\u001b[0m: name 'exp' is not defined"
          ]
        }
      ]
    },
    {
      "cell_type": "markdown",
      "metadata": {
        "id": "hvKsyZWnitzg"
      },
      "source": [
        "↑ わざとエラーを出しました．"
      ]
    },
    {
      "cell_type": "code",
      "metadata": {
        "id": "ootzWOFqoIQL"
      },
      "source": [
        "import math"
      ],
      "execution_count": 13,
      "outputs": []
    },
    {
      "cell_type": "code",
      "metadata": {
        "id": "JgZ8R5HWoUb2",
        "colab": {
          "base_uri": "https://localhost:8080/"
        },
        "outputId": "3a611e6c-adbc-4db2-df36-39a1a341f1b3"
      },
      "source": [
        "math.exp(10)*math.log(5)*math.sin(0.5*math.pi)"
      ],
      "execution_count": 14,
      "outputs": [
        {
          "output_type": "execute_result",
          "data": {
            "text/plain": [
              "35450.22912709484"
            ]
          },
          "metadata": {
            "tags": []
          },
          "execution_count": 14
        }
      ]
    },
    {
      "cell_type": "markdown",
      "metadata": {
        "id": "uH3iFlQQoB87"
      },
      "source": [
        "今後 math モジュールは使わない．numpy モジュールを使う！！！  （なにそれ，という人は，先に進む）"
      ]
    },
    {
      "cell_type": "code",
      "metadata": {
        "id": "XyilcR6BoWCX"
      },
      "source": [
        "import numpy as np"
      ],
      "execution_count": 15,
      "outputs": []
    },
    {
      "cell_type": "markdown",
      "metadata": {
        "id": "JTz3fg3OrYA5"
      },
      "source": [
        "これで  numpy を np で使えるようになる． numpy を使おう．"
      ]
    },
    {
      "cell_type": "code",
      "metadata": {
        "id": "PKTi5uuCpWls",
        "colab": {
          "base_uri": "https://localhost:8080/"
        },
        "outputId": "9ca0c359-a10e-4805-9376-5ff4fa3c828d"
      },
      "source": [
        "np.exp(10)*np.log(5)*np.sin(0.5*np.pi)"
      ],
      "execution_count": 16,
      "outputs": [
        {
          "output_type": "execute_result",
          "data": {
            "text/plain": [
              "35450.22912709484"
            ]
          },
          "metadata": {
            "tags": []
          },
          "execution_count": 16
        }
      ]
    },
    {
      "cell_type": "markdown",
      "metadata": {
        "id": "Ni5tc0nPrqDM"
      },
      "source": [
        "## **速習 Python： $ f(t) = 2\\sin t$ のグラフを描く** \n",
        "\n",
        "これが Python で数学の関数を扱う際の基本です． ここは理解して進んでください． \n",
        "<br>\n",
        "まずは，動かしてみる． 各行において， # より後ろはコメント．"
      ]
    },
    {
      "cell_type": "code",
      "metadata": {
        "id": "g_C8DHGtrNkw",
        "colab": {
          "base_uri": "https://localhost:8080/",
          "height": 265
        },
        "outputId": "6585becf-e991-43a2-f856-720afa9e500f"
      },
      "source": [
        "# -*- coding: utf-8 -*-\n",
        "import numpy as np\n",
        "import matplotlib.pyplot as plt\n",
        "\n",
        "def f(t):\n",
        "  return 2.0*np.sin(t)\n",
        "\n",
        "dt = 0.01\n",
        "start = -2.0*np.pi\n",
        "end = 2.0*np.pi\n",
        "\n",
        "# 横軸 t の作成．-6.28 から 6.28 を 0.01 おきに． t と s はベクトル（配列）．\n",
        "t = np.arange(start, end, dt)\n",
        "s = f(t)\n",
        "\n",
        "# 以下の2行でデータを表示．\n",
        "#for i in range(t.size): \n",
        "#  print(f'{t[i]:.5f}'+'\\t'+f'{s[i]:.5f}')\n",
        "\n",
        "fig=plt.figure(0)\n",
        "plt.plot (t, s, linewidth=1.0, color=\"r\",linestyle=\"solid\",label=\"$ 2\\sin t $\")\n",
        "plt.grid()\n",
        "plt.legend()\n",
        "plt.show()\n",
        "fig.savefig('fig321.pdf') "
      ],
      "execution_count": 17,
      "outputs": [
        {
          "output_type": "display_data",
          "data": {
            "image/png": "[encoded data removed]",
            "text/plain": [
              "<Figure size 432x288 with 1 Axes>"
            ]
          },
          "metadata": {
            "tags": [],
            "needs_background": "light"
          }
        }
      ]
    },
    {
      "cell_type": "markdown",
      "metadata": {
        "id": "aIzdf8iDsN0M"
      },
      "source": [
        "ここでは，上のコードを理解するため，次の6つについて説明．\n",
        "\n",
        "1. np.arange\n",
        "2. for 文\n",
        "3. range\n",
        "4. .size\n",
        "5. 関数 def\n",
        "6. グラフの描画\n",
        "\n",
        "最初の3行は，最初は，おまじないと思って前へ進むのがよい．\n",
        "\n",
        "    # -*- coding: utf-8 -*-\n",
        "    import numpy as np\n",
        "    import matplotlib.pyplot as plt"
      ]
    },
    {
      "cell_type": "markdown",
      "metadata": {
        "id": "_6AWX9Evs2Bz"
      },
      "source": [
        "np.arange は，これからも，よく使う.\n",
        "『例』をみれば使い方がわかる．"
      ]
    },
    {
      "cell_type": "code",
      "metadata": {
        "id": "chK3U4Z1syaq",
        "colab": {
          "base_uri": "https://localhost:8080/"
        },
        "outputId": "a82bb4d8-43ef-46c2-cf1f-4af69b184ce3"
      },
      "source": [
        "np.arange(10)"
      ],
      "execution_count": 18,
      "outputs": [
        {
          "output_type": "execute_result",
          "data": {
            "text/plain": [
              "array([0, 1, 2, 3, 4, 5, 6, 7, 8, 9])"
            ]
          },
          "metadata": {
            "tags": []
          },
          "execution_count": 18
        }
      ]
    },
    {
      "cell_type": "code",
      "metadata": {
        "id": "BYVNjyQRtB9E",
        "colab": {
          "base_uri": "https://localhost:8080/"
        },
        "outputId": "342b0e31-743b-40b4-b70c-51a253d4735d"
      },
      "source": [
        "np.arange(10,20)"
      ],
      "execution_count": 19,
      "outputs": [
        {
          "output_type": "execute_result",
          "data": {
            "text/plain": [
              "array([10, 11, 12, 13, 14, 15, 16, 17, 18, 19])"
            ]
          },
          "metadata": {
            "tags": []
          },
          "execution_count": 19
        }
      ]
    },
    {
      "cell_type": "code",
      "metadata": {
        "id": "7Mbv3IgdtKc8",
        "colab": {
          "base_uri": "https://localhost:8080/"
        },
        "outputId": "660891c7-a585-4a16-d043-e3db0026e183"
      },
      "source": [
        "np.arange(0.0,1.0, 0.1)"
      ],
      "execution_count": 20,
      "outputs": [
        {
          "output_type": "execute_result",
          "data": {
            "text/plain": [
              "array([0. , 0.1, 0.2, 0.3, 0.4, 0.5, 0.6, 0.7, 0.8, 0.9])"
            ]
          },
          "metadata": {
            "tags": []
          },
          "execution_count": 20
        }
      ]
    },
    {
      "cell_type": "markdown",
      "metadata": {
        "id": "zDCx7dIVPyDq"
      },
      "source": [
        "0.0 (start) から 1.0 (end) まで 0.1 おきに作成．  end が含まれないことに注意．"
      ]
    },
    {
      "cell_type": "code",
      "metadata": {
        "id": "FruFBlOTtRcK",
        "colab": {
          "base_uri": "https://localhost:8080/"
        },
        "outputId": "e397731d-d925-45c1-8b5f-3264f69c34dc"
      },
      "source": [
        "a = np.arange(0.0,1.0, 0.1)\n",
        "print( type(a) )"
      ],
      "execution_count": 21,
      "outputs": [
        {
          "output_type": "stream",
          "text": [
            "<class 'numpy.ndarray'>\n"
          ],
          "name": "stdout"
        }
      ]
    },
    {
      "cell_type": "markdown",
      "metadata": {
        "id": "-cUxRMs_QM1p"
      },
      "source": [
        "生成したもの（この場合は a）の型を知りたい場合． type(a) とすれば分かる．"
      ]
    },
    {
      "cell_type": "markdown",
      "metadata": {
        "id": "9gevQjZIy1Rf"
      },
      "source": [
        "各要素が等差数列にしたがうベクトルが生成される．\n",
        "これは，**グラフを描くときなどに軸を離散化する必要があるのでよく使う．**\n",
        "10から30（未満）までを5おきにであれば"
      ]
    },
    {
      "cell_type": "code",
      "metadata": {
        "id": "cTTAKVauzDXP",
        "colab": {
          "base_uri": "https://localhost:8080/"
        },
        "outputId": "caba16c6-5933-4b4d-b609-e613f81e52ac"
      },
      "source": [
        "np.arange(10,30,5) "
      ],
      "execution_count": 22,
      "outputs": [
        {
          "output_type": "execute_result",
          "data": {
            "text/plain": [
              "array([10, 15, 20, 25])"
            ]
          },
          "metadata": {
            "tags": []
          },
          "execution_count": 22
        }
      ]
    },
    {
      "cell_type": "markdown",
      "metadata": {
        "id": "H4iZorkLzJ2X"
      },
      "source": [
        "3番目の引数を省略すれば，公差は1になる．"
      ]
    },
    {
      "cell_type": "code",
      "metadata": {
        "id": "tKycx9kUzNmN",
        "colab": {
          "base_uri": "https://localhost:8080/"
        },
        "outputId": "bfa6eeab-6799-49b6-ebb4-67825e9d4a24"
      },
      "source": [
        "np.arange(10,30)"
      ],
      "execution_count": 23,
      "outputs": [
        {
          "output_type": "execute_result",
          "data": {
            "text/plain": [
              "array([10, 11, 12, 13, 14, 15, 16, 17, 18, 19, 20, 21, 22, 23, 24, 25, 26,\n",
              "       27, 28, 29])"
            ]
          },
          "metadata": {
            "tags": []
          },
          "execution_count": 23
        }
      ]
    },
    {
      "cell_type": "markdown",
      "metadata": {
        "id": "ES4RR3b6zTki"
      },
      "source": [
        "arrage とは別に linspace も使える．"
      ]
    },
    {
      "cell_type": "code",
      "metadata": {
        "id": "UEa_FzjozV6p",
        "colab": {
          "base_uri": "https://localhost:8080/"
        },
        "outputId": "fa52eb98-ce33-47a7-d410-148e17a77030"
      },
      "source": [
        "np.linspace(10,30,20) "
      ],
      "execution_count": 24,
      "outputs": [
        {
          "output_type": "execute_result",
          "data": {
            "text/plain": [
              "array([10.        , 11.05263158, 12.10526316, 13.15789474, 14.21052632,\n",
              "       15.26315789, 16.31578947, 17.36842105, 18.42105263, 19.47368421,\n",
              "       20.52631579, 21.57894737, 22.63157895, 23.68421053, 24.73684211,\n",
              "       25.78947368, 26.84210526, 27.89473684, 28.94736842, 30.        ])"
            ]
          },
          "metadata": {
            "tags": []
          },
          "execution_count": 24
        }
      ]
    },
    {
      "cell_type": "markdown",
      "metadata": {
        "id": "jUcBRrJDzbwC"
      },
      "source": [
        "これは 等間隔で20個（3番目の引数）を返してくる． こんどは最後の30が含まれている．"
      ]
    },
    {
      "cell_type": "markdown",
      "metadata": {
        "id": "MqiFl0X9Rr8K"
      },
      "source": [
        "ここで，スライシングとよばれるものを簡単に紹介しておこう．"
      ]
    },
    {
      "cell_type": "code",
      "metadata": {
        "colab": {
          "base_uri": "https://localhost:8080/"
        },
        "id": "jdfdzb2VRpuJ",
        "outputId": "f773565f-fb9a-47e7-d630-fe4a978e9854"
      },
      "source": [
        "a = np.arange(10)   # array([0, 1, 2, 3, 4, 5, 6, 7, 8, 9])\n",
        "b = a[3:6]  # 3 (start) から 6 (end) まで． end は含まれない．\n",
        "print(b)\n",
        "\n",
        "c = a[2:7:2]  # 2 から 7 まで 2 おきに取り出す．\n",
        "print(c)"
      ],
      "execution_count": 25,
      "outputs": [
        {
          "output_type": "stream",
          "text": [
            "[3 4 5]\n",
            "[2 4 6]\n"
          ],
          "name": "stdout"
        }
      ]
    },
    {
      "cell_type": "markdown",
      "metadata": {
        "id": "b8P324Thtz_E"
      },
      "source": [
        "上の例で，使い方は，だいたい理解できたはず．\n",
        "\n",
        "正確なことを知りたい場合は，『公式マニュアル』を見ればよい<br>\n",
        "numpy 公式マニュアル<br>\n",
        "https://numpy.org/doc/stable/reference/generated/numpy.arange.html"
      ]
    },
    {
      "cell_type": "markdown",
      "metadata": {
        "id": "F4WFpILkvlDT"
      },
      "source": [
        "# **size** について"
      ]
    },
    {
      "cell_type": "code",
      "metadata": {
        "colab": {
          "base_uri": "https://localhost:8080/"
        },
        "id": "LSUiB7TTvqT-",
        "outputId": "0c586d53-485d-4196-c370-f0b33c127d75"
      },
      "source": [
        "a = np.arange(0.0,1.0, 0.1)\n",
        "print(a)\n",
        "print(a.size)\n",
        "print( len(a) )"
      ],
      "execution_count": 26,
      "outputs": [
        {
          "output_type": "stream",
          "text": [
            "[0.  0.1 0.2 0.3 0.4 0.5 0.6 0.7 0.8 0.9]\n",
            "10\n",
            "10\n"
          ],
          "name": "stdout"
        }
      ]
    },
    {
      "cell_type": "markdown",
      "metadata": {
        "id": "zgGl6jwXv042"
      },
      "source": [
        "というわけで，（変数）.size は，要素数を返してくれる．\n",
        "さき走って説明すると， shape というのもある．"
      ]
    },
    {
      "cell_type": "code",
      "metadata": {
        "colab": {
          "base_uri": "https://localhost:8080/"
        },
        "id": "w_Lh6QdTv9_m",
        "outputId": "8736183c-a273-472d-f177-74273d59dcea"
      },
      "source": [
        "a.shape"
      ],
      "execution_count": 27,
      "outputs": [
        {
          "output_type": "execute_result",
          "data": {
            "text/plain": [
              "(10,)"
            ]
          },
          "metadata": {
            "tags": []
          },
          "execution_count": 27
        }
      ]
    },
    {
      "cell_type": "code",
      "metadata": {
        "colab": {
          "base_uri": "https://localhost:8080/"
        },
        "id": "nSUhtrKewIds",
        "outputId": "209d058a-b41a-4002-9507-ce2c12a0f89e"
      },
      "source": [
        "A = np.array([[1, 2], [3,4]])\n",
        "print( A.shape )\n",
        "print (A.size )"
      ],
      "execution_count": 28,
      "outputs": [
        {
          "output_type": "stream",
          "text": [
            "(2, 2)\n",
            "4\n"
          ],
          "name": "stdout"
        }
      ]
    },
    {
      "cell_type": "markdown",
      "metadata": {
        "id": "LDFmPkPnvHfY"
      },
      "source": [
        "## **for 文と range， print 文**\n",
        "\n",
        "for 文は，次のような形で，よく使われる．"
      ]
    },
    {
      "cell_type": "code",
      "metadata": {
        "colab": {
          "base_uri": "https://localhost:8080/"
        },
        "id": "DmMbZ3MTvUId",
        "outputId": "6dbac148-fd93-49e4-cea6-c72fafd68c0d"
      },
      "source": [
        "for i in range(5): \n",
        "  print(i)"
      ],
      "execution_count": 29,
      "outputs": [
        {
          "output_type": "stream",
          "text": [
            "0\n",
            "1\n",
            "2\n",
            "3\n",
            "4\n"
          ],
          "name": "stdout"
        }
      ]
    },
    {
      "cell_type": "markdown",
      "metadata": {
        "id": "JgJX2ZU_w59l"
      },
      "source": [
        "python 公式ドキュメント：（if 文， for 文， 関数） <br>\n",
        "https://docs.python.org/ja/3/tutorial/controlflow.html\n"
      ]
    },
    {
      "cell_type": "markdown",
      "metadata": {
        "id": "QfRJmxxpyNS_"
      },
      "source": [
        "## 関数の定義 def hoge:"
      ]
    },
    {
      "cell_type": "code",
      "metadata": {
        "colab": {
          "base_uri": "https://localhost:8080/"
        },
        "id": "3F-UAVR0t-3P",
        "outputId": "b7f87eef-8579-4983-d764-39605c1a6033"
      },
      "source": [
        "def hoge(u):\n",
        "  return u*u\n",
        "\n",
        "a=3\n",
        "print (hoge(a))"
      ],
      "execution_count": 30,
      "outputs": [
        {
          "output_type": "stream",
          "text": [
            "9\n"
          ],
          "name": "stdout"
        }
      ]
    },
    {
      "cell_type": "markdown",
      "metadata": {
        "id": "SamS4-cw5_9b"
      },
      "source": [
        "u は，関数の引数．"
      ]
    },
    {
      "cell_type": "markdown",
      "metadata": {
        "id": "ozCatNEP2O_X"
      },
      "source": [
        "## **print 文**"
      ]
    },
    {
      "cell_type": "code",
      "metadata": {
        "colab": {
          "base_uri": "https://localhost:8080/"
        },
        "id": "gMB0Y0J02Fxs",
        "outputId": "3723f379-411b-4f7c-b400-2563a5eff1a8"
      },
      "source": [
        "a = np.arange(0.0,1.0, 0.1)\n",
        "print(a)\n",
        "print(f'{a[3]:.5f}') # float 型 小数点以下5桁を表示"
      ],
      "execution_count": 31,
      "outputs": [
        {
          "output_type": "stream",
          "text": [
            "[0.  0.1 0.2 0.3 0.4 0.5 0.6 0.7 0.8 0.9]\n",
            "0.30000\n"
          ],
          "name": "stdout"
        }
      ]
    },
    {
      "cell_type": "code",
      "metadata": {
        "colab": {
          "base_uri": "https://localhost:8080/"
        },
        "id": "u4Rh_WHG2xQ_",
        "outputId": "bddc63ef-158a-471e-804b-9b8314e7236a"
      },
      "source": [
        "a = np.random.rand(5) # 0〜1 の一様乱数を 5 つ生成\n",
        "print(a)\n",
        "for i in range(a.size):\n",
        "  print(f'{i}'+'\\t'+f'{a[i]:.20f}')   # \\t は tab， f'{} は format （C言語の printf の f）"
      ],
      "execution_count": 32,
      "outputs": [
        {
          "output_type": "stream",
          "text": [
            "[0.12629329 0.40870594 0.29412209 0.27685884 0.30621552]\n",
            "0\t0.12629329123738419760\n",
            "1\t0.40870594388859082802\n",
            "2\t0.29412208542860429628\n",
            "3\t0.27685883754607032436\n",
            "4\t0.30621552053758926970\n"
          ],
          "name": "stdout"
        }
      ]
    },
    {
      "cell_type": "markdown",
      "metadata": {
        "id": "4IlB4_bi4exM"
      },
      "source": [
        "グラフの描画について\n",
        "\n",
        "    fig=plt.figure(0)\n",
        "    plt.plot (t, s, linewidth=1.0, color=\"r\",linestyle=\"solid\",label=\"$ 2\\sin t $\")\n",
        "    plt.grid()\n",
        "    plt.legend()\n",
        "    plt.show()\n",
        "    fig.savefig('fig321.pdf') \n",
        "\n",
        "matplotlib というのを使って描画している． 使い方は，コードを見ればだいたいはわかると思います． 説明は少し面倒なのでここでは省略．\n",
        "\n",
        "\n",
        "公式ドキュメント：\n",
        "https://matplotlib.org/contents.html"
      ]
    },
    {
      "cell_type": "markdown",
      "metadata": {
        "id": "_IlAg1zz5ixk"
      },
      "source": [
        "**そのほか，$\\pi$ などの定数が使える．**"
      ]
    },
    {
      "cell_type": "code",
      "metadata": {
        "colab": {
          "base_uri": "https://localhost:8080/"
        },
        "id": "SSCFdWw05laY",
        "outputId": "471e514f-d385-4864-d565-f1d21987121f"
      },
      "source": [
        "print( np.pi )\n",
        "print( np.e )"
      ],
      "execution_count": 33,
      "outputs": [
        {
          "output_type": "stream",
          "text": [
            "3.141592653589793\n",
            "2.718281828459045\n"
          ],
          "name": "stdout"
        }
      ]
    },
    {
      "cell_type": "markdown",
      "metadata": {
        "id": "VUFjjJWJ6Kxb"
      },
      "source": [
        "## **そのそも C言語にある int とか double とか変数の型宣言は必要ないのか？**\n",
        "\n",
        "自動で判別してくれる．"
      ]
    },
    {
      "cell_type": "code",
      "metadata": {
        "id": "eXtwRij76dp0"
      },
      "source": [
        "a =3\n",
        "b = 2.1\n",
        "c = a*b\n",
        "d = np.array(34, np.float32) # もちろん型を指定することもできる．"
      ],
      "execution_count": 34,
      "outputs": []
    },
    {
      "cell_type": "code",
      "metadata": {
        "colab": {
          "base_uri": "https://localhost:8080/"
        },
        "id": "PPKjbWTT6kD6",
        "outputId": "a1ea5862-6241-478f-c84c-f5cd8f6e28ad"
      },
      "source": [
        "print(a)\n",
        "print(b)\n",
        "print(c)\n",
        "print(d)"
      ],
      "execution_count": 35,
      "outputs": [
        {
          "output_type": "stream",
          "text": [
            "3\n",
            "2.1\n",
            "6.300000000000001\n",
            "34.0\n"
          ],
          "name": "stdout"
        }
      ]
    },
    {
      "cell_type": "code",
      "metadata": {
        "colab": {
          "base_uri": "https://localhost:8080/"
        },
        "id": "W0NTvDXu65ff",
        "outputId": "f0787c3d-4c58-4e1b-c0d4-176d26051471"
      },
      "source": [
        "print( type(a) )\n",
        "print( type(b) )\n",
        "print( type(c) )\n",
        "print( type(d) )"
      ],
      "execution_count": 36,
      "outputs": [
        {
          "output_type": "stream",
          "text": [
            "<class 'int'>\n",
            "<class 'float'>\n",
            "<class 'float'>\n",
            "<class 'numpy.ndarray'>\n"
          ],
          "name": "stdout"
        }
      ]
    },
    {
      "cell_type": "code",
      "metadata": {
        "colab": {
          "base_uri": "https://localhost:8080/"
        },
        "id": "tWvyeKjL8c43",
        "outputId": "808142eb-60d2-46f8-c28c-81fdf17b6013"
      },
      "source": [
        "print( np.iinfo(np.int64) )\n",
        "print( np.finfo(np.float32) )\n",
        "print( np.finfo(np.float64) )"
      ],
      "execution_count": 37,
      "outputs": [
        {
          "output_type": "stream",
          "text": [
            "Machine parameters for int64\n",
            "---------------------------------------------------------------\n",
            "min = -9223372036854775808\n",
            "max = 9223372036854775807\n",
            "---------------------------------------------------------------\n",
            "\n",
            "Machine parameters for float32\n",
            "---------------------------------------------------------------\n",
            "precision =   6   resolution = 1.0000000e-06\n",
            "machep =    -23   eps =        1.1920929e-07\n",
            "negep =     -24   epsneg =     5.9604645e-08\n",
            "minexp =   -126   tiny =       1.1754944e-38\n",
            "maxexp =    128   max =        3.4028235e+38\n",
            "nexp =        8   min =        -max\n",
            "---------------------------------------------------------------\n",
            "\n",
            "Machine parameters for float64\n",
            "---------------------------------------------------------------\n",
            "precision =  15   resolution = 1.0000000000000001e-15\n",
            "machep =    -52   eps =        2.2204460492503131e-16\n",
            "negep =     -53   epsneg =     1.1102230246251565e-16\n",
            "minexp =  -1022   tiny =       2.2250738585072014e-308\n",
            "maxexp =   1024   max =        1.7976931348623157e+308\n",
            "nexp =       11   min =        -max\n",
            "---------------------------------------------------------------\n",
            "\n"
          ],
          "name": "stdout"
        }
      ]
    },
    {
      "cell_type": "markdown",
      "metadata": {
        "id": "PSueEW7hptUv"
      },
      "source": [
        "## **速習** Python： 微分方程式の例\n",
        "\n",
        "$$ \\frac{dx}{dt} = \\exp (-3t)， x(0)=１ $$ \n",
        "\n",
        "まずは，動かしてみる． 各行 # より後ろはコメント．"
      ]
    },
    {
      "cell_type": "code",
      "metadata": {
        "colab": {
          "base_uri": "https://localhost:8080/",
          "height": 285
        },
        "id": "eutw2GSCoQNJ",
        "outputId": "56ea4e9f-6707-451a-b4a2-d83fbd48339b"
      },
      "source": [
        "import numpy as np\n",
        "import matplotlib.pyplot as plt\n",
        "from scipy.integrate import odeint\n",
        "\n",
        "def f(x, t):\n",
        "  return [ -3.0*x[0] ]\n",
        "\n",
        "x0 = [1.0] # 1.0 は初期値 x(0)\n",
        "t = np.arange(0, 10, 0.1) # 横軸 t の作成．0 から 10 を 0.1 おきに．t はベクトル．\n",
        "x = odeint(f, x0, t)  #  x にはベクトルが返ってくる．\n",
        "\n",
        "fig=plt.figure(0) # 以下は結果の表示\n",
        "plt.plot(t, x, linewidth=2, color=\"red\", linestyle=\"solid\",label=\"$x’=-3x$\")\n",
        "plt.xlabel('time($t$)', fontsize=14, color='black')\n",
        "plt.ylabel('$x$', fontsize=14)\n",
        "# plt.xlim(-1, 5) # 表示範囲を指定したい場合\n",
        "# plt.ylim(-0.5, 1.2)\n",
        "plt.grid()\n",
        "plt.legend()\n",
        "plt.show()\n",
        "fig.savefig('fig_ode101.pdf') # 図の pdf ファイルを作成"
      ],
      "execution_count": 38,
      "outputs": [
        {
          "output_type": "display_data",
          "data": {
            "image/png": "[encoded data removed]",
            "text/plain": [
              "<Figure size 432x288 with 1 Axes>"
            ]
          },
          "metadata": {
            "tags": [],
            "needs_background": "light"
          }
        }
      ]
    },
    {
      "cell_type": "markdown",
      "metadata": {
        "id": "6Shx853U87vb"
      },
      "source": [
        "# **odeint とは**\n",
        "\n",
        "ode (ordinary differential equations，常微分方程式) <br>\n",
        "公式ドキュメント:\n",
        "<br>\n",
        "https://docs.scipy.org/doc/scipy/reference/generated/scipy.integrate.odeint.html"
      ]
    },
    {
      "cell_type": "markdown",
      "metadata": {
        "id": "zHIiU_0phPuV"
      },
      "source": [
        "### **ベクトルの演算，ブロードキャスト**"
      ]
    },
    {
      "cell_type": "code",
      "metadata": {
        "colab": {
          "base_uri": "https://localhost:8080/"
        },
        "id": "gqbC6x_uhVUc",
        "outputId": "806381ec-73f7-433b-a9ef-5f23d3296129"
      },
      "source": [
        "a = np.ones(5)\n",
        "print(a)"
      ],
      "execution_count": 39,
      "outputs": [
        {
          "output_type": "stream",
          "text": [
            "[1. 1. 1. 1. 1.]\n"
          ],
          "name": "stdout"
        }
      ]
    },
    {
      "cell_type": "code",
      "metadata": {
        "colab": {
          "base_uri": "https://localhost:8080/"
        },
        "id": "wtwdA9_ahkcS",
        "outputId": "a218c71c-05a7-4d34-e460-58c3ea2ef181"
      },
      "source": [
        "b = 0.5*a\n",
        "print(b)"
      ],
      "execution_count": 40,
      "outputs": [
        {
          "output_type": "stream",
          "text": [
            "[0.5 0.5 0.5 0.5 0.5]\n"
          ],
          "name": "stdout"
        }
      ]
    },
    {
      "cell_type": "code",
      "metadata": {
        "colab": {
          "base_uri": "https://localhost:8080/"
        },
        "id": "AgNtbCqxhqjv",
        "outputId": "feeeb190-3f40-49b8-9738-1bcb397e242c"
      },
      "source": [
        "np.arange(1,1.5,0.1)"
      ],
      "execution_count": 41,
      "outputs": [
        {
          "output_type": "execute_result",
          "data": {
            "text/plain": [
              "array([1. , 1.1, 1.2, 1.3, 1.4])"
            ]
          },
          "metadata": {
            "tags": []
          },
          "execution_count": 41
        }
      ]
    },
    {
      "cell_type": "code",
      "metadata": {
        "colab": {
          "base_uri": "https://localhost:8080/"
        },
        "id": "WqdEJfWkiFaU",
        "outputId": "7c839674-9944-45ef-f572-6821831956a2"
      },
      "source": [
        "0*np.arange(1,1.5,0.1)"
      ],
      "execution_count": 42,
      "outputs": [
        {
          "output_type": "execute_result",
          "data": {
            "text/plain": [
              "array([0., 0., 0., 0., 0.])"
            ]
          },
          "metadata": {
            "tags": []
          },
          "execution_count": 42
        }
      ]
    },
    {
      "cell_type": "code",
      "metadata": {
        "colab": {
          "base_uri": "https://localhost:8080/"
        },
        "id": "Ugfgk71ziJeK",
        "outputId": "07d1a34a-6e00-4e20-df0c-a8933b26dbdb"
      },
      "source": [
        "0*np.arange(1,1.5,0.1) + 0.5"
      ],
      "execution_count": 43,
      "outputs": [
        {
          "output_type": "execute_result",
          "data": {
            "text/plain": [
              "array([0.5, 0.5, 0.5, 0.5, 0.5])"
            ]
          },
          "metadata": {
            "tags": []
          },
          "execution_count": 43
        }
      ]
    },
    {
      "cell_type": "markdown",
      "metadata": {
        "id": "d1z90IwAU9dY"
      },
      "source": [
        "ベクトルに +0.5 とすることで， ５次元ベクトルの要素すべてに 0.5 が足されます．"
      ]
    },
    {
      "cell_type": "code",
      "metadata": {
        "colab": {
          "base_uri": "https://localhost:8080/"
        },
        "id": "VQ491xrYiULb",
        "outputId": "cb59a664-26b7-45ef-f22c-ebf65c5d22a7"
      },
      "source": [
        "a = np.arange(1,1.5,0.1) # array([1. , 1.1, 1.2, 1.3, 1.4])\n",
        "np.ones(a.size)"
      ],
      "execution_count": 44,
      "outputs": [
        {
          "output_type": "execute_result",
          "data": {
            "text/plain": [
              "array([1., 1., 1., 1., 1.])"
            ]
          },
          "metadata": {
            "tags": []
          },
          "execution_count": 44
        }
      ]
    },
    {
      "cell_type": "code",
      "metadata": {
        "colab": {
          "base_uri": "https://localhost:8080/"
        },
        "id": "zTjliRJaiZN2",
        "outputId": "250e9386-341c-41ab-aac1-670799ab2862"
      },
      "source": [
        "0.5*np.ones(a.size)"
      ],
      "execution_count": 45,
      "outputs": [
        {
          "output_type": "execute_result",
          "data": {
            "text/plain": [
              "array([0.5, 0.5, 0.5, 0.5, 0.5])"
            ]
          },
          "metadata": {
            "tags": []
          },
          "execution_count": 45
        }
      ]
    },
    {
      "cell_type": "markdown",
      "metadata": {
        "id": "rP7W9DBDko5p"
      },
      "source": [
        "$ f(x) = x^2, g(x)=x^2+1 $ のグラフを描く"
      ]
    },
    {
      "cell_type": "code",
      "metadata": {
        "colab": {
          "base_uri": "https://localhost:8080/",
          "height": 282
        },
        "id": "TI1Cp5jfk7R2",
        "outputId": "32b02551-7cf3-409b-c4a2-0236e6aef110"
      },
      "source": [
        "x = np.arange(-2, 2, 0.1) # 横軸 x の作成\n",
        "f = x*x\n",
        "g = x*x + 1\n",
        "# print(x)\n",
        "\n",
        "fig=plt.figure(0) # 以下は結果の表示\n",
        "plt.grid()\n",
        "plt.plot(x, f, linewidth=2, color=\"red\", linestyle=\"solid\")\n",
        "plt.plot(x, g, linewidth=2, color=\"blue\", linestyle=\"solid\")"
      ],
      "execution_count": 46,
      "outputs": [
        {
          "output_type": "execute_result",
          "data": {
            "text/plain": [
              "[<matplotlib.lines.Line2D at 0x7f6c14828610>]"
            ]
          },
          "metadata": {
            "tags": []
          },
          "execution_count": 46
        },
        {
          "output_type": "display_data",
          "data": {
            "image/png": "[encoded data removed]",
            "text/plain": [
              "<Figure size 432x288 with 1 Axes>"
            ]
          },
          "metadata": {
            "tags": [],
            "needs_background": "light"
          }
        }
      ]
    },
    {
      "cell_type": "markdown",
      "metadata": {
        "id": "nHSvwd1XmLg9"
      },
      "source": [
        "数学的には，おかしい （5次元ベクトルにスカラーは足せないので）．\n",
        "ベクトルの要素，それぞれに 1 を足している． \n",
        "これをブロードキャスト，と言う，"
      ]
    },
    {
      "cell_type": "code",
      "metadata": {
        "colab": {
          "base_uri": "https://localhost:8080/"
        },
        "id": "WDSRDDgfl23q",
        "outputId": "726f66b5-6440-4a23-eb6e-6c9792509025"
      },
      "source": [
        "a = np.arange(1,5,1)\n",
        "print(a)"
      ],
      "execution_count": 47,
      "outputs": [
        {
          "output_type": "stream",
          "text": [
            "[1 2 3 4]\n"
          ],
          "name": "stdout"
        }
      ]
    },
    {
      "cell_type": "code",
      "metadata": {
        "colab": {
          "base_uri": "https://localhost:8080/"
        },
        "id": "cs-CNuMBmFJP",
        "outputId": "62cee71d-2446-48fd-d316-e33343febc8c"
      },
      "source": [
        "b = a + 1\n",
        "print(b)"
      ],
      "execution_count": 48,
      "outputs": [
        {
          "output_type": "stream",
          "text": [
            "[2 3 4 5]\n"
          ],
          "name": "stdout"
        }
      ]
    },
    {
      "cell_type": "markdown",
      "metadata": {
        "id": "jllDMZyrisEu"
      },
      "source": [
        "## **２つのベクトルの距離の計算**"
      ]
    },
    {
      "cell_type": "code",
      "metadata": {
        "colab": {
          "base_uri": "https://localhost:8080/"
        },
        "id": "1fCzH3QPirAK",
        "outputId": "b7d44f72-a076-4f94-bee4-f74af1be253f"
      },
      "source": [
        "s = np.random.randint(1,7,10) # 1 から 6 までの整数値一様乱数（サイコロを振ったときの値）を 10個生成\n",
        "t = np.random.randint(1,7,10)\n",
        "print(s)\n",
        "print(t)\n",
        "print( np.linalg.norm(s-t, ord=1) )\n",
        "print( np.linalg.norm(s-t, ord=2) )\n",
        "\n",
        "sum1 = 0\n",
        "sum2 = 0\n",
        "for i in range( len(s) ):\n",
        "  sum1  += np.abs(s[i]-t[i])\n",
        "  sum2  += (s[i]-t[i])*(s[i]-t[i])\n",
        "\n",
        "print( sum1 )\n",
        "print( np.sqrt(sum2) )"
      ],
      "execution_count": 49,
      "outputs": [
        {
          "output_type": "stream",
          "text": [
            "[5 5 1 6 4 4 2 2 1 4]\n",
            "[1 4 4 2 3 4 2 1 2 4]\n",
            "15.0\n",
            "6.708203932499369\n",
            "15\n",
            "6.708203932499369\n"
          ],
          "name": "stdout"
        }
      ]
    },
    {
      "cell_type": "markdown",
      "metadata": {
        "id": "pYvToIwMYqOe"
      },
      "source": [
        " 乱数の使い方の公式マニュアル<br>\n",
        "https://numpy.org/doc/stable/reference/random/index.html"
      ]
    },
    {
      "cell_type": "markdown",
      "metadata": {
        "id": "Ga_-8Hg0o23h"
      },
      "source": [
        "# **ベクトル，行列の演算**"
      ]
    },
    {
      "cell_type": "markdown",
      "metadata": {
        "id": "v05Sbfm9p53-"
      },
      "source": [
        "Python では，octave と同じように，\n",
        "  ベクトルや行列を\n",
        "  直接扱うことができる．\n",
        "  線形代数を知っている人は，ちょっと戸惑う使い方を\n",
        "  する場面があるが，\n",
        "  「こういうふうに計算できるのか」と思って\n",
        "  進むのがよい．\n",
        "  まず，以下では\n",
        "$$ A =\n",
        "\\begin{pmatrix}\n",
        "1 & 2 \\\\\n",
        "3 & 4\n",
        "\\end{pmatrix}\n",
        ",~\n",
        "x =\n",
        "\\begin{pmatrix}\n",
        "5 \\\\\n",
        "6\n",
        "\\end{pmatrix}\n",
        "$$\n",
        "として\n",
        "$$ Ax =\n",
        "\\begin{pmatrix}\n",
        "1 & 2 \\\\\n",
        "3 & 4\n",
        "\\end{pmatrix}\n",
        "\\begin{pmatrix}\n",
        "5 \\\\\n",
        "6\n",
        "\\end{pmatrix}\n",
        "=\n",
        "\\begin{pmatrix}\n",
        "5+12 \\\\\n",
        "15+24 \n",
        "\\end{pmatrix}\n",
        "=\n",
        "\\begin{pmatrix}\n",
        "17 \\\\\n",
        "39 \n",
        "\\end{pmatrix}$$\n",
        "を計算する例を示す．\n"
      ]
    },
    {
      "cell_type": "code",
      "metadata": {
        "id": "o4_m4bgio5kI"
      },
      "source": [
        "A = np.array([[1, 2], [3,4]])"
      ],
      "execution_count": 50,
      "outputs": []
    },
    {
      "cell_type": "code",
      "metadata": {
        "id": "HNqctdDErySb",
        "colab": {
          "base_uri": "https://localhost:8080/"
        },
        "outputId": "9a840d44-ebda-4d46-b87c-35081d28db72"
      },
      "source": [
        "A"
      ],
      "execution_count": 51,
      "outputs": [
        {
          "output_type": "execute_result",
          "data": {
            "text/plain": [
              "array([[1, 2],\n",
              "       [3, 4]])"
            ]
          },
          "metadata": {
            "tags": []
          },
          "execution_count": 51
        }
      ]
    },
    {
      "cell_type": "code",
      "metadata": {
        "id": "uj-W_5cvrzY4"
      },
      "source": [
        "b = np.array([5, 6])"
      ],
      "execution_count": 52,
      "outputs": []
    },
    {
      "cell_type": "code",
      "metadata": {
        "id": "icGu6WnLr1yq",
        "colab": {
          "base_uri": "https://localhost:8080/"
        },
        "outputId": "5808c14e-1321-4eb7-b8e1-44e2132c67a3"
      },
      "source": [
        "b"
      ],
      "execution_count": 53,
      "outputs": [
        {
          "output_type": "execute_result",
          "data": {
            "text/plain": [
              "array([5, 6])"
            ]
          },
          "metadata": {
            "tags": []
          },
          "execution_count": 53
        }
      ]
    },
    {
      "cell_type": "markdown",
      "metadata": {
        "id": "9piqn42DsH9N"
      },
      "source": [
        "ちなみに，型は"
      ]
    },
    {
      "cell_type": "code",
      "metadata": {
        "id": "K6CL6TQssNsT",
        "colab": {
          "base_uri": "https://localhost:8080/"
        },
        "outputId": "fb3d76cb-3076-4bf7-ef6f-d94ba5c91354"
      },
      "source": [
        "type(A)"
      ],
      "execution_count": 54,
      "outputs": [
        {
          "output_type": "execute_result",
          "data": {
            "text/plain": [
              "numpy.ndarray"
            ]
          },
          "metadata": {
            "tags": []
          },
          "execution_count": 54
        }
      ]
    },
    {
      "cell_type": "code",
      "metadata": {
        "id": "BCQ25TgVsSyn",
        "colab": {
          "base_uri": "https://localhost:8080/"
        },
        "outputId": "1224ba1d-56fb-44e7-ab35-909909cb9ff8"
      },
      "source": [
        "A.shape"
      ],
      "execution_count": 55,
      "outputs": [
        {
          "output_type": "execute_result",
          "data": {
            "text/plain": [
              "(2, 2)"
            ]
          },
          "metadata": {
            "tags": []
          },
          "execution_count": 55
        }
      ]
    },
    {
      "cell_type": "code",
      "metadata": {
        "id": "5RfNo8FCsVp8",
        "colab": {
          "base_uri": "https://localhost:8080/"
        },
        "outputId": "05719487-1588-4f7d-b29e-dce20f9af1e9"
      },
      "source": [
        "b.shape"
      ],
      "execution_count": 56,
      "outputs": [
        {
          "output_type": "execute_result",
          "data": {
            "text/plain": [
              "(2,)"
            ]
          },
          "metadata": {
            "tags": []
          },
          "execution_count": 56
        }
      ]
    },
    {
      "cell_type": "markdown",
      "metadata": {
        "id": "k9i3R1k0r-eS"
      },
      "source": [
        "とすれば，知ることができる．\n",
        "ndarray の nd って何，とか，\n",
        "(2, ~) のうしろのカンマは何，とか，\n",
        "疑問はあるが，前に進もう．"
      ]
    },
    {
      "cell_type": "code",
      "metadata": {
        "id": "geWCxOd2sRLU",
        "colab": {
          "base_uri": "https://localhost:8080/"
        },
        "outputId": "60b0fc89-285d-4f10-a574-ce9207cc797b"
      },
      "source": [
        "A.dot(b)"
      ],
      "execution_count": 57,
      "outputs": [
        {
          "output_type": "execute_result",
          "data": {
            "text/plain": [
              "array([17, 39])"
            ]
          },
          "metadata": {
            "tags": []
          },
          "execution_count": 57
        }
      ]
    },
    {
      "cell_type": "markdown",
      "metadata": {
        "id": "JIx54Ccpsk9u"
      },
      "source": [
        "この例でわかるように， 驚くべきことに， ベクトルに 縦ベクトルと，横ベクトルの区別が ない． 本来は，"
      ]
    },
    {
      "cell_type": "code",
      "metadata": {
        "id": "MEiNLoNIsxvV",
        "colab": {
          "base_uri": "https://localhost:8080/"
        },
        "outputId": "01d8bdb8-afd2-4fe6-b1e9-803a35844514"
      },
      "source": [
        "b = np.array([[5], [6]])\n",
        "print(b)\n",
        "print(b.shape)"
      ],
      "execution_count": 58,
      "outputs": [
        {
          "output_type": "stream",
          "text": [
            "[[5]\n",
            " [6]]\n",
            "(2, 1)\n"
          ],
          "name": "stdout"
        }
      ]
    },
    {
      "cell_type": "markdown",
      "metadata": {
        "id": "PpgmAsRms9JP"
      },
      "source": [
        "とすべきだと思うが，\n",
        "そういう使い方をしているコードは，見かけない．"
      ]
    },
    {
      "cell_type": "markdown",
      "metadata": {
        "id": "kVl6mw67tCFh"
      },
      "source": [
        "$$  x^{\\top}A =\n",
        "\\begin{pmatrix}\n",
        "5 & 6\n",
        "\\end{pmatrix}\n",
        "\\begin{pmatrix}\n",
        "1 & 2 \\\\\n",
        "3 & 4\n",
        "\\end{pmatrix}\n",
        "=\n",
        "\\begin{pmatrix}\n",
        "5+18 & 10+24 \n",
        "\\end{pmatrix}\n",
        "=\n",
        "\\begin{pmatrix}\n",
        "23 & 34 \n",
        "\\end{pmatrix}\n",
        "$$"
      ]
    },
    {
      "cell_type": "code",
      "metadata": {
        "id": "iG39kfOtubbe"
      },
      "source": [
        "b = np.array([5, 6])"
      ],
      "execution_count": 59,
      "outputs": []
    },
    {
      "cell_type": "code",
      "metadata": {
        "id": "9Kq4bOQDtf01",
        "colab": {
          "base_uri": "https://localhost:8080/"
        },
        "outputId": "e5ad70c6-7a78-4535-955a-90d98d8ba741"
      },
      "source": [
        "b.dot(A)"
      ],
      "execution_count": 60,
      "outputs": [
        {
          "output_type": "execute_result",
          "data": {
            "text/plain": [
              "array([23, 34])"
            ]
          },
          "metadata": {
            "tags": []
          },
          "execution_count": 60
        }
      ]
    },
    {
      "cell_type": "markdown",
      "metadata": {
        "id": "8uarrdefujNQ"
      },
      "source": [
        "行列 $A$ の転置 $ A^{\\top}$ は"
      ]
    },
    {
      "cell_type": "code",
      "metadata": {
        "id": "KcWmyp07uqzF",
        "colab": {
          "base_uri": "https://localhost:8080/"
        },
        "outputId": "9de4dcdb-fcf0-4138-957e-fba1d0847653"
      },
      "source": [
        "print(A)\n",
        "print(A.T)"
      ],
      "execution_count": 61,
      "outputs": [
        {
          "output_type": "stream",
          "text": [
            "[[1 2]\n",
            " [3 4]]\n",
            "[[1 3]\n",
            " [2 4]]\n"
          ],
          "name": "stdout"
        }
      ]
    },
    {
      "cell_type": "markdown",
      "metadata": {
        "id": "_jnuyPT9uwt8"
      },
      "source": [
        "として求まる．\n",
        "行列$A$の要素は"
      ]
    },
    {
      "cell_type": "code",
      "metadata": {
        "id": "3x8USEcQutT3",
        "colab": {
          "base_uri": "https://localhost:8080/"
        },
        "outputId": "14f90913-8cba-4234-88ab-2af2d50e6815"
      },
      "source": [
        "A[0,0]"
      ],
      "execution_count": 62,
      "outputs": [
        {
          "output_type": "execute_result",
          "data": {
            "text/plain": [
              "1"
            ]
          },
          "metadata": {
            "tags": []
          },
          "execution_count": 62
        }
      ]
    },
    {
      "cell_type": "code",
      "metadata": {
        "id": "8dvGHk8Gu0MP",
        "colab": {
          "base_uri": "https://localhost:8080/"
        },
        "outputId": "ac05b370-0a95-4c8f-df6c-7724ad2c85ee"
      },
      "source": [
        "A[1,0]"
      ],
      "execution_count": 63,
      "outputs": [
        {
          "output_type": "execute_result",
          "data": {
            "text/plain": [
              "3"
            ]
          },
          "metadata": {
            "tags": []
          },
          "execution_count": 63
        }
      ]
    },
    {
      "cell_type": "markdown",
      "metadata": {
        "id": "012G6byTu8w8"
      },
      "source": [
        "などとして求まる．\n",
        "ここで添字が $0$ はじまりであることに注意．\n",
        "線形代数の教科書では\n",
        "  $ \n",
        "A =\n",
        "\\begin{pmatrix}\n",
        "a_{11} & a_{12} \\\\\n",
        "a_{21} & a_{22}\n",
        "\\end{pmatrix}\n",
        "$\n",
        "としていると思うが，\n",
        "ここでは\n",
        "  $ \n",
        "A =\n",
        "\\begin{pmatrix}\n",
        "a_{00} & a_{01} \\\\\n",
        "a_{10} & a_{11}\n",
        "\\end{pmatrix}\n",
        "$\n",
        "である．\n",
        "もちろん"
      ]
    },
    {
      "cell_type": "code",
      "metadata": {
        "id": "CXouyWcZu1mM"
      },
      "source": [
        "A[1,1]=7"
      ],
      "execution_count": 64,
      "outputs": []
    },
    {
      "cell_type": "code",
      "metadata": {
        "id": "0nP3L8hJvDxJ",
        "colab": {
          "base_uri": "https://localhost:8080/"
        },
        "outputId": "5d32abba-e6b4-45e6-85d3-954f2715a24c"
      },
      "source": [
        "A"
      ],
      "execution_count": 65,
      "outputs": [
        {
          "output_type": "execute_result",
          "data": {
            "text/plain": [
              "array([[1, 2],\n",
              "       [3, 7]])"
            ]
          },
          "metadata": {
            "tags": []
          },
          "execution_count": 65
        }
      ]
    },
    {
      "cell_type": "markdown",
      "metadata": {
        "id": "WFknTnmxvHXQ"
      },
      "source": [
        "このように直接要素に値を代入できる．"
      ]
    },
    {
      "cell_type": "markdown",
      "metadata": {
        "id": "EIVG39dTvmHS"
      },
      "source": [
        "行列については，次のような使い方をよくするので慣れておこう．\n",
        "### **キーワードは，スライシングとブロードキャスト．**"
      ]
    },
    {
      "cell_type": "code",
      "metadata": {
        "id": "hnj2B0bJvE82",
        "colab": {
          "base_uri": "https://localhost:8080/"
        },
        "outputId": "d68cb266-15c6-40f7-c198-ac4bfff3197b"
      },
      "source": [
        "A = np.array([[1, 2], [3,4]])\n",
        "A[:,1]"
      ],
      "execution_count": 66,
      "outputs": [
        {
          "output_type": "execute_result",
          "data": {
            "text/plain": [
              "array([2, 4])"
            ]
          },
          "metadata": {
            "tags": []
          },
          "execution_count": 66
        }
      ]
    },
    {
      "cell_type": "markdown",
      "metadata": {
        "id": "eQLScsalv64H"
      },
      "source": [
        "`A[:,1]` は，Aの行（row）すべて，行は1行目のみ，という意味．\n",
        "そもそも，行列は「たて」×「よこ」（row x column）の順に書く． (x,y) 系とは逆．"
      ]
    },
    {
      "cell_type": "code",
      "metadata": {
        "id": "h7sdZ-KWvKaG",
        "colab": {
          "base_uri": "https://localhost:8080/"
        },
        "outputId": "e2ae9345-0f5a-49d1-d018-e510ec522219"
      },
      "source": [
        "A[0,:]"
      ],
      "execution_count": 67,
      "outputs": [
        {
          "output_type": "execute_result",
          "data": {
            "text/plain": [
              "array([1, 2])"
            ]
          },
          "metadata": {
            "tags": []
          },
          "execution_count": 67
        }
      ]
    },
    {
      "cell_type": "markdown",
      "metadata": {
        "id": "ayGAzRL7wjpy"
      },
      "source": [
        "もうすこし，大きい行列でみてみる．"
      ]
    },
    {
      "cell_type": "code",
      "metadata": {
        "id": "-DRhWK0Wwntp",
        "colab": {
          "base_uri": "https://localhost:8080/"
        },
        "outputId": "37489fac-e401-4480-ab80-03d420c6ee43"
      },
      "source": [
        "D = np.random.rand(4,3)  # 4x3 の行列．養素は乱数．\n",
        "print(D)"
      ],
      "execution_count": 68,
      "outputs": [
        {
          "output_type": "stream",
          "text": [
            "[[0.70207164 0.8647038  0.22355127]\n",
            " [0.91887363 0.25595658 0.62578248]\n",
            " [0.03703918 0.57514672 0.51291689]\n",
            " [0.18356185 0.17155687 0.7058781 ]]\n"
          ],
          "name": "stdout"
        }
      ]
    },
    {
      "cell_type": "markdown",
      "metadata": {
        "id": "-2NWHxWaxTcu"
      },
      "source": [
        "次の例． D[1:3,2]  とすると， 行列 D のうち，どこが取れるか，確認しよう．"
      ]
    },
    {
      "cell_type": "code",
      "metadata": {
        "id": "dD7twBCxw5a3",
        "colab": {
          "base_uri": "https://localhost:8080/"
        },
        "outputId": "cadd9326-f51d-4d8f-daa0-98b08a309de4"
      },
      "source": [
        "print( D[1:3,2] )"
      ],
      "execution_count": 69,
      "outputs": [
        {
          "output_type": "stream",
          "text": [
            "[0.62578248 0.51291689]\n"
          ],
          "name": "stdout"
        }
      ]
    },
    {
      "cell_type": "markdown",
      "metadata": {
        "id": "gSG7czdSXRBt"
      },
      "source": [
        " D[1:3,2] とすると， たて（r, row）が 1から3まで（0はじまり． 3は含まれない），よこ（c, column）が 2 の部分行列をとってくることになる． これはややこしい？"
      ]
    },
    {
      "cell_type": "code",
      "metadata": {
        "id": "GizzYnkpxLWh",
        "colab": {
          "base_uri": "https://localhost:8080/"
        },
        "outputId": "a237b3fa-5f55-4c6d-a0a0-2c21c9a5e72f"
      },
      "source": [
        "A = np.array([[1, 2], [3,4]])\n",
        "print(A[:,1])\n",
        "print(A[0:2,1])    # 先の例は，これを指定したのと同じ"
      ],
      "execution_count": 70,
      "outputs": [
        {
          "output_type": "stream",
          "text": [
            "[2 4]\n",
            "[2 4]\n"
          ],
          "name": "stdout"
        }
      ]
    },
    {
      "cell_type": "markdown",
      "metadata": {
        "id": "a_L-A9doYE3Y"
      },
      "source": [
        "次は掛け算についてのコメント．"
      ]
    },
    {
      "cell_type": "code",
      "metadata": {
        "id": "MlGdjdKlvTt7",
        "colab": {
          "base_uri": "https://localhost:8080/"
        },
        "outputId": "33302acc-61c3-4a0a-8fab-e6695416caff"
      },
      "source": [
        "B = np.array([[1.0, 1.0/2.0], [1.0/3.0,1.0/4.0]])\n",
        "print(A)\n",
        "print(B)"
      ],
      "execution_count": 71,
      "outputs": [
        {
          "output_type": "stream",
          "text": [
            "[[1 2]\n",
            " [3 4]]\n",
            "[[1.         0.5       ]\n",
            " [0.33333333 0.25      ]]\n"
          ],
          "name": "stdout"
        }
      ]
    },
    {
      "cell_type": "markdown",
      "metadata": {
        "id": "iSWUM_lbvylG"
      },
      "source": [
        "のとき"
      ]
    },
    {
      "cell_type": "code",
      "metadata": {
        "id": "OUQkrfDfvW3F",
        "colab": {
          "base_uri": "https://localhost:8080/"
        },
        "outputId": "f2d3c6a7-b4f4-4720-c2a2-fb7484939e6b"
      },
      "source": [
        "print( A*B )\n",
        "print( A.dot(B) )"
      ],
      "execution_count": 72,
      "outputs": [
        {
          "output_type": "stream",
          "text": [
            "[[1. 1.]\n",
            " [1. 1.]]\n",
            "[[1.66666667 1.        ]\n",
            " [4.33333333 2.5       ]]\n"
          ],
          "name": "stdout"
        }
      ]
    },
    {
      "cell_type": "markdown",
      "metadata": {
        "id": "4W5f5wJgxWAq"
      },
      "source": [
        "となる． * を使うと，要素ごとの掛け算が求まる．"
      ]
    },
    {
      "cell_type": "code",
      "metadata": {
        "id": "IsKAMZ8O5dnF",
        "colab": {
          "base_uri": "https://localhost:8080/"
        },
        "outputId": "306f8a09-3838-4d84-ef95-ad1f406b030c"
      },
      "source": [
        "A = np.array([[1, 2], [3,4]])\n",
        "b = np.array([1, 0])\n",
        "print(A)\n",
        "print(2*A)\n",
        "print( b*A )\n",
        "print( A*b )"
      ],
      "execution_count": 73,
      "outputs": [
        {
          "output_type": "stream",
          "text": [
            "[[1 2]\n",
            " [3 4]]\n",
            "[[2 4]\n",
            " [6 8]]\n",
            "[[1 0]\n",
            " [3 0]]\n",
            "[[1 0]\n",
            " [3 0]]\n"
          ],
          "name": "stdout"
        }
      ]
    },
    {
      "cell_type": "code",
      "metadata": {
        "id": "-SVzgV4k6OQa",
        "colab": {
          "base_uri": "https://localhost:8080/"
        },
        "outputId": "733b1504-04fc-4802-bf32-6cad215ea2dc"
      },
      "source": [
        "A = np.array([[1, 2], [3,4], [5,6]] ) \n",
        "b = np.array([1, 2])\n",
        "c = np.array([1, 2, 3])\n",
        "c = c.reshape(-1, 1)\n",
        "\n",
        "print(c)\n",
        "print(A)\n",
        "print(A*c)\n",
        "print(A*b)"
      ],
      "execution_count": 74,
      "outputs": [
        {
          "output_type": "stream",
          "text": [
            "[[1]\n",
            " [2]\n",
            " [3]]\n",
            "[[1 2]\n",
            " [3 4]\n",
            " [5 6]]\n",
            "[[ 1  2]\n",
            " [ 6  8]\n",
            " [15 18]]\n",
            "[[ 1  4]\n",
            " [ 3  8]\n",
            " [ 5 12]]\n"
          ],
          "name": "stdout"
        }
      ]
    },
    {
      "cell_type": "markdown",
      "metadata": {
        "id": "qBFuJgF3xw_d"
      },
      "source": [
        "# **数値演算関数**"
      ]
    },
    {
      "cell_type": "markdown",
      "metadata": {
        "id": "qHplvRBQx2uE"
      },
      "source": [
        "Python には数値演算のための関数が多く組み込まれている．\n",
        " 例えば"
      ]
    },
    {
      "cell_type": "code",
      "metadata": {
        "id": "ydVmZqqgxqK-",
        "colab": {
          "base_uri": "https://localhost:8080/"
        },
        "outputId": "6589b45d-889c-436f-bd10-20ea8c5de54b"
      },
      "source": [
        "np.cos(1/3.0*np.pi)"
      ],
      "execution_count": 75,
      "outputs": [
        {
          "output_type": "execute_result",
          "data": {
            "text/plain": [
              "0.5000000000000001"
            ]
          },
          "metadata": {
            "tags": []
          },
          "execution_count": 75
        }
      ]
    },
    {
      "cell_type": "markdown",
      "metadata": {
        "id": "E__o5EpZyBIo"
      },
      "source": [
        "$ \\cos \\left ( \\dfrac{2}{3} \\pi \\right )  = \\dfrac{1}{2}$なので，\n",
        "ちょっと不安になるが，まあよい．\n",
        "引数がベクトルや行列であれば，\n",
        "要素すべての値を計算してくれる．"
      ]
    },
    {
      "cell_type": "code",
      "metadata": {
        "id": "BxO_TM7Cx7JL",
        "colab": {
          "base_uri": "https://localhost:8080/"
        },
        "outputId": "9e8adc1d-8982-4294-add2-e126e9842bea"
      },
      "source": [
        "np.sin([1,2,3,4])"
      ],
      "execution_count": 76,
      "outputs": [
        {
          "output_type": "execute_result",
          "data": {
            "text/plain": [
              "array([ 0.84147098,  0.90929743,  0.14112001, -0.7568025 ])"
            ]
          },
          "metadata": {
            "tags": []
          },
          "execution_count": 76
        }
      ]
    },
    {
      "cell_type": "code",
      "metadata": {
        "id": "ipQprthwyDhC",
        "colab": {
          "base_uri": "https://localhost:8080/"
        },
        "outputId": "58723487-2c19-4c1c-e3f8-471c0fc71a34"
      },
      "source": [
        "np.sin(b)"
      ],
      "execution_count": 77,
      "outputs": [
        {
          "output_type": "execute_result",
          "data": {
            "text/plain": [
              "array([0.84147098, 0.90929743])"
            ]
          },
          "metadata": {
            "tags": []
          },
          "execution_count": 77
        }
      ]
    },
    {
      "cell_type": "markdown",
      "metadata": {
        "id": "bWXSBQ0MyINv"
      },
      "source": [
        "$\\sin, \\cos$ のほかにも，"
      ]
    },
    {
      "cell_type": "code",
      "metadata": {
        "id": "oOFdMSTZyFQY",
        "colab": {
          "base_uri": "https://localhost:8080/"
        },
        "outputId": "102dcf3a-1d7e-4bda-a018-ddcdd5858002"
      },
      "source": [
        "np.exp(1)"
      ],
      "execution_count": 78,
      "outputs": [
        {
          "output_type": "execute_result",
          "data": {
            "text/plain": [
              "2.718281828459045"
            ]
          },
          "metadata": {
            "tags": []
          },
          "execution_count": 78
        }
      ]
    },
    {
      "cell_type": "code",
      "metadata": {
        "id": "pZYaCC_EyKvb",
        "colab": {
          "base_uri": "https://localhost:8080/"
        },
        "outputId": "a5b743d2-5a64-4ea0-edf3-4a5b60b75cea"
      },
      "source": [
        "np.log(10)"
      ],
      "execution_count": 79,
      "outputs": [
        {
          "output_type": "execute_result",
          "data": {
            "text/plain": [
              "2.302585092994046"
            ]
          },
          "metadata": {
            "tags": []
          },
          "execution_count": 79
        }
      ]
    },
    {
      "cell_type": "code",
      "metadata": {
        "id": "s9o4M698yMf1",
        "colab": {
          "base_uri": "https://localhost:8080/"
        },
        "outputId": "d14af7f4-c429-45f3-b6fb-1c0daee1ffef"
      },
      "source": [
        "np.e"
      ],
      "execution_count": 80,
      "outputs": [
        {
          "output_type": "execute_result",
          "data": {
            "text/plain": [
              "2.718281828459045"
            ]
          },
          "metadata": {
            "tags": []
          },
          "execution_count": 80
        }
      ]
    },
    {
      "cell_type": "code",
      "metadata": {
        "id": "CcuO5LHHyOc5",
        "colab": {
          "base_uri": "https://localhost:8080/"
        },
        "outputId": "69d2e336-9b82-4da3-acfc-5c659acc68e8"
      },
      "source": [
        "np.sqrt(3)"
      ],
      "execution_count": 81,
      "outputs": [
        {
          "output_type": "execute_result",
          "data": {
            "text/plain": [
              "1.7320508075688772"
            ]
          },
          "metadata": {
            "tags": []
          },
          "execution_count": 81
        }
      ]
    },
    {
      "cell_type": "markdown",
      "metadata": {
        "id": "AkramUcdyVcn"
      },
      "source": [
        "など，だいたいのものはある．\n",
        "各関数の説明は help(np.sqrt) "
      ]
    },
    {
      "cell_type": "code",
      "metadata": {
        "id": "oMeGPEf6z0Lw"
      },
      "source": [
        "help(np.sqrt)"
      ],
      "execution_count": null,
      "outputs": []
    },
    {
      "cell_type": "markdown",
      "metadata": {
        "id": "aY8Scu_6ydxe"
      },
      "source": [
        "などとして参照できる．\n",
        "ベクトル要素の最大値，最小値，和，積は"
      ]
    },
    {
      "cell_type": "code",
      "metadata": {
        "id": "TesoXrvzyX2N",
        "colab": {
          "base_uri": "https://localhost:8080/"
        },
        "outputId": "1308fefb-2ed8-4283-bcda-22f13d198b27"
      },
      "source": [
        "x = np.array([1, 3, 5, 2, 3])\n",
        "print(x)"
      ],
      "execution_count": 82,
      "outputs": [
        {
          "output_type": "stream",
          "text": [
            "[1 3 5 2 3]\n"
          ],
          "name": "stdout"
        }
      ]
    },
    {
      "cell_type": "code",
      "metadata": {
        "id": "8XV47g9UyigK",
        "colab": {
          "base_uri": "https://localhost:8080/"
        },
        "outputId": "d3af225b-ea42-4aed-a0f6-e49aa59321a9"
      },
      "source": [
        "x.max()"
      ],
      "execution_count": 83,
      "outputs": [
        {
          "output_type": "execute_result",
          "data": {
            "text/plain": [
              "5"
            ]
          },
          "metadata": {
            "tags": []
          },
          "execution_count": 83
        }
      ]
    },
    {
      "cell_type": "markdown",
      "metadata": {
        "id": "0z2QQiNuccNY"
      },
      "source": [
        "一番大きい要素がどの場所（インデックス）にあるか知りたければ"
      ]
    },
    {
      "cell_type": "code",
      "metadata": {
        "colab": {
          "base_uri": "https://localhost:8080/"
        },
        "id": "VDeZPIbMcNdz",
        "outputId": "9a121dd3-f2ce-40b0-dcd4-ee5a67b2beff"
      },
      "source": [
        "np.argsort(x)[::-1]"
      ],
      "execution_count": 84,
      "outputs": [
        {
          "output_type": "execute_result",
          "data": {
            "text/plain": [
              "array([2, 4, 1, 3, 0])"
            ]
          },
          "metadata": {
            "tags": []
          },
          "execution_count": 84
        }
      ]
    },
    {
      "cell_type": "code",
      "metadata": {
        "colab": {
          "base_uri": "https://localhost:8080/"
        },
        "id": "gMuakwwZcj6_",
        "outputId": "fe00bf7e-e873-4ff4-8148-345e98aa7415"
      },
      "source": [
        "index = np.argsort(x)[::-1]\n",
        "print( index[0])"
      ],
      "execution_count": 85,
      "outputs": [
        {
          "output_type": "stream",
          "text": [
            "2\n"
          ],
          "name": "stdout"
        }
      ]
    },
    {
      "cell_type": "code",
      "metadata": {
        "id": "KbJOIyTpdQGm"
      },
      "source": [
        "help(np.argsort)"
      ],
      "execution_count": null,
      "outputs": []
    },
    {
      "cell_type": "code",
      "metadata": {
        "id": "de1z9Tb_yk-D",
        "colab": {
          "base_uri": "https://localhost:8080/"
        },
        "outputId": "9569fc1d-4631-4449-c1f5-66bb55107f37"
      },
      "source": [
        "x.min()"
      ],
      "execution_count": 87,
      "outputs": [
        {
          "output_type": "execute_result",
          "data": {
            "text/plain": [
              "1"
            ]
          },
          "metadata": {
            "tags": []
          },
          "execution_count": 87
        }
      ]
    },
    {
      "cell_type": "code",
      "metadata": {
        "id": "FJbS3E_8ym4v",
        "colab": {
          "base_uri": "https://localhost:8080/"
        },
        "outputId": "981c9db1-65e8-4d42-c3a7-fed84cfaadc7"
      },
      "source": [
        "x.sum()"
      ],
      "execution_count": 88,
      "outputs": [
        {
          "output_type": "execute_result",
          "data": {
            "text/plain": [
              "14"
            ]
          },
          "metadata": {
            "tags": []
          },
          "execution_count": 88
        }
      ]
    },
    {
      "cell_type": "code",
      "metadata": {
        "id": "G7OS6BZEyok6",
        "colab": {
          "base_uri": "https://localhost:8080/"
        },
        "outputId": "21053619-c915-4adc-c0b4-2765d8b55c7a"
      },
      "source": [
        "x.prod()   # すべての養素の掛け算"
      ],
      "execution_count": 89,
      "outputs": [
        {
          "output_type": "execute_result",
          "data": {
            "text/plain": [
              "90"
            ]
          },
          "metadata": {
            "tags": []
          },
          "execution_count": 89
        }
      ]
    },
    {
      "cell_type": "markdown",
      "metadata": {
        "id": "SbbRw6Nqyssb"
      },
      "source": [
        "として取得できる．\n",
        "ほかにも"
      ]
    },
    {
      "cell_type": "code",
      "metadata": {
        "id": "cFlirD8TyqfH",
        "colab": {
          "base_uri": "https://localhost:8080/"
        },
        "outputId": "7227842d-aeaa-43fd-f6e3-300a8b3377d7"
      },
      "source": [
        "np.amax(x)"
      ],
      "execution_count": 90,
      "outputs": [
        {
          "output_type": "execute_result",
          "data": {
            "text/plain": [
              "5"
            ]
          },
          "metadata": {
            "tags": []
          },
          "execution_count": 90
        }
      ]
    },
    {
      "cell_type": "markdown",
      "metadata": {
        "id": "sOnxavvay1Vo"
      },
      "source": [
        "というのがある．\n",
        "要素の中にひとつでもNaNが含まれている場合，\n",
        "NaNが最大値として返される．\n",
        "返して欲しくない場合には、nanmaxを使う．\n"
      ]
    },
    {
      "cell_type": "code",
      "metadata": {
        "colab": {
          "base_uri": "https://localhost:8080/"
        },
        "id": "dq_kDTv00fQl",
        "outputId": "7b19408a-bd02-41ae-957c-edc940222177"
      },
      "source": [
        "A = np.array([[1, 2, 3, 4], [5,6,7,8]])\n",
        "print (A)"
      ],
      "execution_count": 91,
      "outputs": [
        {
          "output_type": "stream",
          "text": [
            "[[1 2 3 4]\n",
            " [5 6 7 8]]\n"
          ],
          "name": "stdout"
        }
      ]
    },
    {
      "cell_type": "code",
      "metadata": {
        "colab": {
          "base_uri": "https://localhost:8080/"
        },
        "id": "QFMGgQ5K02Hm",
        "outputId": "bc70247d-c272-43c0-d306-2fd9142e4d67"
      },
      "source": [
        "np.sum(A)"
      ],
      "execution_count": 92,
      "outputs": [
        {
          "output_type": "execute_result",
          "data": {
            "text/plain": [
              "36"
            ]
          },
          "metadata": {
            "tags": []
          },
          "execution_count": 92
        }
      ]
    },
    {
      "cell_type": "code",
      "metadata": {
        "colab": {
          "base_uri": "https://localhost:8080/"
        },
        "id": "RR3hblnQ0pKQ",
        "outputId": "41960bd6-4b26-4ea6-9d2b-2104fa7e107e"
      },
      "source": [
        "np.mean(A)    # 36/8 = 4.5"
      ],
      "execution_count": 93,
      "outputs": [
        {
          "output_type": "execute_result",
          "data": {
            "text/plain": [
              "4.5"
            ]
          },
          "metadata": {
            "tags": []
          },
          "execution_count": 93
        }
      ]
    },
    {
      "cell_type": "code",
      "metadata": {
        "colab": {
          "base_uri": "https://localhost:8080/"
        },
        "id": "aTpGIdkF07p-",
        "outputId": "52d234f9-41b1-4160-af23-04668c1d5721"
      },
      "source": [
        "np.sum(A,axis=0) #  axis=0 は，たて方向に足す，という意味"
      ],
      "execution_count": 94,
      "outputs": [
        {
          "output_type": "execute_result",
          "data": {
            "text/plain": [
              "array([ 6,  8, 10, 12])"
            ]
          },
          "metadata": {
            "tags": []
          },
          "execution_count": 94
        }
      ]
    },
    {
      "cell_type": "code",
      "metadata": {
        "colab": {
          "base_uri": "https://localhost:8080/"
        },
        "id": "UgnnQ7OI1UEh",
        "outputId": "83599bf2-4eb6-41d5-e031-f6aa461a26c3"
      },
      "source": [
        "np.mean(A,axis=0)"
      ],
      "execution_count": 95,
      "outputs": [
        {
          "output_type": "execute_result",
          "data": {
            "text/plain": [
              "array([3., 4., 5., 6.])"
            ]
          },
          "metadata": {
            "tags": []
          },
          "execution_count": 95
        }
      ]
    },
    {
      "cell_type": "code",
      "metadata": {
        "colab": {
          "base_uri": "https://localhost:8080/"
        },
        "id": "-MkmOFgf1Zt8",
        "outputId": "b7145c26-a3da-473d-e7fd-84b5480e20a9"
      },
      "source": [
        "np.mean(A,axis=1) # axis=1 は，よこ方向に平均をとる，という意味"
      ],
      "execution_count": 96,
      "outputs": [
        {
          "output_type": "execute_result",
          "data": {
            "text/plain": [
              "array([2.5, 6.5])"
            ]
          },
          "metadata": {
            "tags": []
          },
          "execution_count": 96
        }
      ]
    },
    {
      "cell_type": "code",
      "metadata": {
        "colab": {
          "base_uri": "https://localhost:8080/"
        },
        "id": "SOYqy6K81Al_",
        "outputId": "0622c1ba-1b4a-4432-a7eb-3b1dde808fe0"
      },
      "source": [
        "np.sum(A,axis=1)"
      ],
      "execution_count": 97,
      "outputs": [
        {
          "output_type": "execute_result",
          "data": {
            "text/plain": [
              "array([10, 26])"
            ]
          },
          "metadata": {
            "tags": []
          },
          "execution_count": 97
        }
      ]
    },
    {
      "cell_type": "code",
      "metadata": {
        "id": "YFwQBs5z2EYe"
      },
      "source": [
        "help(np.sum)"
      ],
      "execution_count": null,
      "outputs": []
    },
    {
      "cell_type": "code",
      "metadata": {
        "colab": {
          "base_uri": "https://localhost:8080/"
        },
        "id": "Non55pwF2y2z",
        "outputId": "05d5129a-d0aa-404c-b3aa-e074c7c34c5e"
      },
      "source": [
        "a = np.array([1, 2, 3, 4, 5, 6])\n",
        "print( np.mean(a) )\n",
        "print( np.std(a) )\n",
        "print( np.var(a) )\n",
        "np.sqrt( np.var(a) )"
      ],
      "execution_count": 99,
      "outputs": [
        {
          "output_type": "stream",
          "text": [
            "3.5\n",
            "1.707825127659933\n",
            "2.9166666666666665\n"
          ],
          "name": "stdout"
        },
        {
          "output_type": "execute_result",
          "data": {
            "text/plain": [
              "1.707825127659933"
            ]
          },
          "metadata": {
            "tags": []
          },
          "execution_count": 99
        }
      ]
    },
    {
      "cell_type": "code",
      "metadata": {
        "colab": {
          "base_uri": "https://localhost:8080/"
        },
        "id": "O86_tPQy1x7q",
        "outputId": "9366b9c3-ddb9-435f-eeba-7d3cfae6f947"
      },
      "source": [
        "np.std(A) # A の要素の標準偏差"
      ],
      "execution_count": 100,
      "outputs": [
        {
          "output_type": "execute_result",
          "data": {
            "text/plain": [
              "2.29128784747792"
            ]
          },
          "metadata": {
            "tags": []
          },
          "execution_count": 100
        }
      ]
    },
    {
      "cell_type": "markdown",
      "metadata": {
        "id": "YYzr17dCrdGn"
      },
      "source": [
        "# 行列式，逆行列"
      ]
    },
    {
      "cell_type": "code",
      "metadata": {
        "id": "pQEHVjDasVh_"
      },
      "source": [
        "A = np.array([[1, 2], [3,4]])"
      ],
      "execution_count": 101,
      "outputs": []
    },
    {
      "cell_type": "code",
      "metadata": {
        "id": "vSw39zNJrfiw",
        "colab": {
          "base_uri": "https://localhost:8080/"
        },
        "outputId": "bd9e6f67-56a1-4bd4-bc3b-b7c88f0785cf"
      },
      "source": [
        "A"
      ],
      "execution_count": 102,
      "outputs": [
        {
          "output_type": "execute_result",
          "data": {
            "text/plain": [
              "array([[1, 2],\n",
              "       [3, 4]])"
            ]
          },
          "metadata": {
            "tags": []
          },
          "execution_count": 102
        }
      ]
    },
    {
      "cell_type": "code",
      "metadata": {
        "id": "qaniMiwlrjkd",
        "colab": {
          "base_uri": "https://localhost:8080/"
        },
        "outputId": "663c878a-3890-47b6-832d-0e00312941cb"
      },
      "source": [
        "np.linalg.det(A)  # 行列式"
      ],
      "execution_count": 103,
      "outputs": [
        {
          "output_type": "execute_result",
          "data": {
            "text/plain": [
              "-2.0000000000000004"
            ]
          },
          "metadata": {
            "tags": []
          },
          "execution_count": 103
        }
      ]
    },
    {
      "cell_type": "code",
      "metadata": {
        "id": "MeSzeQcyrl9w",
        "colab": {
          "base_uri": "https://localhost:8080/"
        },
        "outputId": "e7b84e13-ce4f-463a-d07a-5c905a7f55cb"
      },
      "source": [
        "B=np.linalg.inv(A) # 逆行列\n",
        "print( B )"
      ],
      "execution_count": 104,
      "outputs": [
        {
          "output_type": "stream",
          "text": [
            "[[-2.   1. ]\n",
            " [ 1.5 -0.5]]\n"
          ],
          "name": "stdout"
        }
      ]
    },
    {
      "cell_type": "code",
      "metadata": {
        "id": "zACNFbFLrpaS",
        "colab": {
          "base_uri": "https://localhost:8080/"
        },
        "outputId": "ccb9fd9b-78b1-49c9-fe53-466b88c4100b"
      },
      "source": [
        "A.dot(B)  # 行列どうしの掛け算"
      ],
      "execution_count": 105,
      "outputs": [
        {
          "output_type": "execute_result",
          "data": {
            "text/plain": [
              "array([[1.0000000e+00, 0.0000000e+00],\n",
              "       [8.8817842e-16, 1.0000000e+00]])"
            ]
          },
          "metadata": {
            "tags": []
          },
          "execution_count": 105
        }
      ]
    },
    {
      "cell_type": "code",
      "metadata": {
        "id": "OnVhKnLarrXL",
        "colab": {
          "base_uri": "https://localhost:8080/"
        },
        "outputId": "cd5cecff-5268-4f37-e1ad-f9caf972e8fe"
      },
      "source": [
        "B.dot(A)"
      ],
      "execution_count": 106,
      "outputs": [
        {
          "output_type": "execute_result",
          "data": {
            "text/plain": [
              "array([[1.00000000e+00, 0.00000000e+00],\n",
              "       [1.11022302e-16, 1.00000000e+00]])"
            ]
          },
          "metadata": {
            "tags": []
          },
          "execution_count": 106
        }
      ]
    },
    {
      "cell_type": "markdown",
      "metadata": {
        "id": "KeZdA1FbrvwQ"
      },
      "source": [
        "なんとも簡単に求めることができる．\n",
        "次に，\n",
        "行列$A$の固有値，\n",
        "固有ベクトルを求めてみよう．"
      ]
    },
    {
      "cell_type": "code",
      "metadata": {
        "id": "VqtoF6lprtSK",
        "colab": {
          "base_uri": "https://localhost:8080/"
        },
        "outputId": "80340634-6f91-453d-c3b3-c86f3ea67b87"
      },
      "source": [
        "np.linalg.eig(A)"
      ],
      "execution_count": 107,
      "outputs": [
        {
          "output_type": "execute_result",
          "data": {
            "text/plain": [
              "(array([-0.37228132,  5.37228132]), array([[-0.82456484, -0.41597356],\n",
              "        [ 0.56576746, -0.90937671]]))"
            ]
          },
          "metadata": {
            "tags": []
          },
          "execution_count": 107
        }
      ]
    },
    {
      "cell_type": "markdown",
      "metadata": {
        "id": "RSw6gQxrr15N"
      },
      "source": [
        "固有値が，[-0.37228132,  5.37228132] の2つで，\n",
        "それぞれの固有値に対応する固有ベクトルが，\n",
        "[-0.82456484, -0.41597356],\n",
        "[ 0.56576746, -0.90937671]\n",
        "ということである．\n",
        "固有ベクトルは，手計算だと要素が整数値でいちばん簡単なものを求めるが，ここでは長さ1に正規化されている．\n",
        "ベクトル要素の平均，\n",
        "標準偏差，分散は\n"
      ]
    },
    {
      "cell_type": "code",
      "metadata": {
        "id": "Yf4_hedYrzUL",
        "colab": {
          "base_uri": "https://localhost:8080/"
        },
        "outputId": "dc540002-90c6-48a0-8ee5-fe9626e4efde"
      },
      "source": [
        "x"
      ],
      "execution_count": 108,
      "outputs": [
        {
          "output_type": "execute_result",
          "data": {
            "text/plain": [
              "array([1, 3, 5, 2, 3])"
            ]
          },
          "metadata": {
            "tags": []
          },
          "execution_count": 108
        }
      ]
    },
    {
      "cell_type": "code",
      "metadata": {
        "id": "liNvnrDHr6Xy",
        "colab": {
          "base_uri": "https://localhost:8080/"
        },
        "outputId": "0504eed2-d92b-41d3-e6c9-5444dbc2b908"
      },
      "source": [
        "np.sum(x)/5.0"
      ],
      "execution_count": 109,
      "outputs": [
        {
          "output_type": "execute_result",
          "data": {
            "text/plain": [
              "2.8"
            ]
          },
          "metadata": {
            "tags": []
          },
          "execution_count": 109
        }
      ]
    },
    {
      "cell_type": "code",
      "metadata": {
        "id": "a5lDltmZr8sz",
        "colab": {
          "base_uri": "https://localhost:8080/"
        },
        "outputId": "35b076e2-a147-46de-9b9f-9f8894b60825"
      },
      "source": [
        "np.mean(x)"
      ],
      "execution_count": 110,
      "outputs": [
        {
          "output_type": "execute_result",
          "data": {
            "text/plain": [
              "2.8"
            ]
          },
          "metadata": {
            "tags": []
          },
          "execution_count": 110
        }
      ]
    },
    {
      "cell_type": "code",
      "metadata": {
        "id": "aWRnNpnUsD2Z",
        "colab": {
          "base_uri": "https://localhost:8080/"
        },
        "outputId": "bc89d754-b3f8-4f5d-cd28-79183337b844"
      },
      "source": [
        "np.std(x)"
      ],
      "execution_count": 111,
      "outputs": [
        {
          "output_type": "execute_result",
          "data": {
            "text/plain": [
              "1.32664991614216"
            ]
          },
          "metadata": {
            "tags": []
          },
          "execution_count": 111
        }
      ]
    },
    {
      "cell_type": "code",
      "metadata": {
        "id": "ELQESUa0sGX9",
        "colab": {
          "base_uri": "https://localhost:8080/"
        },
        "outputId": "5a246bca-ced3-4917-aa9f-6a0ff29e0fca"
      },
      "source": [
        "np.var(x)"
      ],
      "execution_count": 112,
      "outputs": [
        {
          "output_type": "execute_result",
          "data": {
            "text/plain": [
              "1.7600000000000005"
            ]
          },
          "metadata": {
            "tags": []
          },
          "execution_count": 112
        }
      ]
    },
    {
      "cell_type": "markdown",
      "metadata": {
        "id": "wEN7vd60sLOq"
      },
      "source": [
        "で得られる．"
      ]
    },
    {
      "cell_type": "code",
      "metadata": {
        "colab": {
          "base_uri": "https://localhost:8080/"
        },
        "id": "FXKmMzXnZ6s5",
        "outputId": "50278219-298e-4b8a-8f7c-de74f98d0674"
      },
      "source": [
        "np.sqrt( np.var(x))"
      ],
      "execution_count": 113,
      "outputs": [
        {
          "output_type": "execute_result",
          "data": {
            "text/plain": [
              "1.32664991614216"
            ]
          },
          "metadata": {
            "tags": []
          },
          "execution_count": 113
        }
      ]
    },
    {
      "cell_type": "markdown",
      "metadata": {
        "id": "mDjFdDWIZ6bu"
      },
      "source": [
        "たしかに標準偏差と分散の関係は成り立っている．"
      ]
    },
    {
      "cell_type": "markdown",
      "metadata": {
        "id": "CUU2l4blsmGd"
      },
      "source": [
        "# 乱数の生成"
      ]
    },
    {
      "cell_type": "markdown",
      "metadata": {
        "id": "QXh9uPhpsqCg"
      },
      "source": [
        "まずは，\n",
        "（0から1までの間の）一様乱数．"
      ]
    },
    {
      "cell_type": "code",
      "metadata": {
        "id": "wBFRulqtsu1B"
      },
      "source": [
        "x = np.random.rand()"
      ],
      "execution_count": 114,
      "outputs": []
    },
    {
      "cell_type": "code",
      "metadata": {
        "id": "SOVjnyB2sxdM",
        "colab": {
          "base_uri": "https://localhost:8080/"
        },
        "outputId": "8693f7cc-9fe6-4659-d76b-620098f09d31"
      },
      "source": [
        "x"
      ],
      "execution_count": 115,
      "outputs": [
        {
          "output_type": "execute_result",
          "data": {
            "text/plain": [
              "0.09695103572230102"
            ]
          },
          "metadata": {
            "tags": []
          },
          "execution_count": 115
        }
      ]
    },
    {
      "cell_type": "code",
      "metadata": {
        "id": "9eu8qUc6s1BT"
      },
      "source": [
        "x = np.random.rand(10)"
      ],
      "execution_count": 116,
      "outputs": []
    },
    {
      "cell_type": "code",
      "metadata": {
        "id": "wPfU7FoGsIUs",
        "colab": {
          "base_uri": "https://localhost:8080/"
        },
        "outputId": "587a145b-1360-4620-c6ec-8a0a96ea680c"
      },
      "source": [
        "x"
      ],
      "execution_count": 117,
      "outputs": [
        {
          "output_type": "execute_result",
          "data": {
            "text/plain": [
              "array([0.1570578 , 0.7203045 , 0.97234655, 0.46950307, 0.68913042,\n",
              "       0.31232962, 0.99618524, 0.28512072, 0.71091298, 0.35016841])"
            ]
          },
          "metadata": {
            "tags": []
          },
          "execution_count": 117
        }
      ]
    },
    {
      "cell_type": "code",
      "metadata": {
        "id": "kvaJGXNYs4TS"
      },
      "source": [
        "x = np.random.rand(2,2)"
      ],
      "execution_count": 118,
      "outputs": []
    },
    {
      "cell_type": "code",
      "metadata": {
        "id": "yttVCd-ls7AK",
        "colab": {
          "base_uri": "https://localhost:8080/"
        },
        "outputId": "8b5e5899-692d-442f-e194-2e5547a611d0"
      },
      "source": [
        "x"
      ],
      "execution_count": 119,
      "outputs": [
        {
          "output_type": "execute_result",
          "data": {
            "text/plain": [
              "array([[0.86645211, 0.91005077],\n",
              "       [0.50614649, 0.83401694]])"
            ]
          },
          "metadata": {
            "tags": []
          },
          "execution_count": 119
        }
      ]
    },
    {
      "cell_type": "markdown",
      "metadata": {
        "id": "srXxqwZLs9hz"
      },
      "source": [
        "平均0，分散1の標準正規分布にしたがう乱数は， randn という関数を使えばよい．"
      ]
    },
    {
      "cell_type": "code",
      "metadata": {
        "id": "Bp2HN35Ys74g"
      },
      "source": [
        "x = np.random.randn()"
      ],
      "execution_count": 120,
      "outputs": []
    },
    {
      "cell_type": "code",
      "metadata": {
        "id": "RcmyKc_4tCCT",
        "colab": {
          "base_uri": "https://localhost:8080/"
        },
        "outputId": "328058f6-454a-4413-ff9b-da02a0066e6b"
      },
      "source": [
        "x"
      ],
      "execution_count": 121,
      "outputs": [
        {
          "output_type": "execute_result",
          "data": {
            "text/plain": [
              "-0.10055491847403182"
            ]
          },
          "metadata": {
            "tags": []
          },
          "execution_count": 121
        }
      ]
    },
    {
      "cell_type": "code",
      "metadata": {
        "id": "-0HQrUx5tC3o"
      },
      "source": [
        "x = np.random.randn(10)"
      ],
      "execution_count": 122,
      "outputs": []
    },
    {
      "cell_type": "code",
      "metadata": {
        "id": "z9AfeOC3tFli",
        "colab": {
          "base_uri": "https://localhost:8080/"
        },
        "outputId": "895febd5-ef1a-4c83-b24c-4e6f5bcb3f07"
      },
      "source": [
        "x"
      ],
      "execution_count": 123,
      "outputs": [
        {
          "output_type": "execute_result",
          "data": {
            "text/plain": [
              "array([ 0.5058132 ,  0.9539231 , -1.06258171,  0.6943952 , -0.85586638,\n",
              "        0.14229468,  0.18827408,  0.71595026,  0.27479419,  0.89595848])"
            ]
          },
          "metadata": {
            "tags": []
          },
          "execution_count": 123
        }
      ]
    },
    {
      "cell_type": "markdown",
      "metadata": {
        "id": "cl1z7Z2ytMeG"
      },
      "source": [
        "として生成できる．\n",
        "乱数の種（seed）は"
      ]
    },
    {
      "cell_type": "code",
      "metadata": {
        "id": "MJyBGIhttGXx"
      },
      "source": [
        "np.random.seed(20180822)"
      ],
      "execution_count": 124,
      "outputs": []
    },
    {
      "cell_type": "code",
      "metadata": {
        "colab": {
          "base_uri": "https://localhost:8080/",
          "height": 315
        },
        "id": "axJVmYePbVzq",
        "outputId": "ed122a67-7f19-4bc1-dee7-f523d45875b7"
      },
      "source": [
        "import numpy as np\n",
        "import matplotlib.pyplot as plt\n",
        " \n",
        "x = np.random.randn(10000)\n",
        "print ('サンプル（標本）の平均 mean =', np.mean(x))\n",
        "print ('サンプルの標準偏差 s.d. =', np.std(x))\n",
        "print ('サンプルの分散 variance =', np.var(x))\n",
        " \n",
        "plt.figure()\n",
        "plt.hist(x, bins=50, alpha=0.3, histtype='stepfilled', color='r')\n",
        "# plt.hist(x+2, bins=100, alpha=0.3, histtype='stepfilled', color='b')\n",
        "plt.show()\n",
        "# plt.savefig(\"hist101.pdf\")"
      ],
      "execution_count": 125,
      "outputs": [
        {
          "output_type": "stream",
          "text": [
            "サンプル（標本）の平均 mean = -0.0018938615851860248\n",
            "サンプルの標準偏差 s.d. = 0.9920614983970748\n",
            "サンプルの分散 variance = 0.9841860166018492\n"
          ],
          "name": "stdout"
        },
        {
          "output_type": "display_data",
          "data": {
            "image/png": "[encoded data removed]",
            "text/plain": [
              "<Figure size 432x288 with 1 Axes>"
            ]
          },
          "metadata": {
            "tags": [],
            "needs_background": "light"
          }
        }
      ]
    },
    {
      "cell_type": "markdown",
      "metadata": {
        "id": "Pf3vJWYSfW2M"
      },
      "source": [
        "±1σ，±３σの意味"
      ]
    },
    {
      "cell_type": "code",
      "metadata": {
        "colab": {
          "base_uri": "https://localhost:8080/",
          "height": 315
        },
        "id": "X0DMsfQ_d4JS",
        "outputId": "e8ed179a-8df6-44c3-d648-98daa3803856"
      },
      "source": [
        "import numpy\n",
        "import matplotlib.pyplot as plt\n",
        "\n",
        "T = 10000\n",
        "mu = 0.0\n",
        "sigma = 1.0\n",
        "\n",
        "y = []\n",
        "n1=0; n2=0; n3=0\n",
        "for i in range(T):\n",
        "    r = np.random.randn(1)\n",
        "    y.append(r)\n",
        "    if r > mu - sigma and r < mu + sigma:\n",
        "        n1 +=1\n",
        "    if r > mu - 2.0*sigma and r < mu + 2.0*sigma:\n",
        "        n2 +=1\n",
        "    if r > mu - 3.0*sigma and r < mu + 3.0*sigma:\n",
        "        n3 +=1\n",
        "\n",
        "y = numpy.array(y)\n",
        "\n",
        "fig = plt.figure()\n",
        "ax = fig.add_subplot(111)\n",
        "ax.hist(y, bins=101, range=(-5, 5), density=False, facecolor='g')\n",
        "ax.set_xlim(-5, 5)\n",
        "ax.grid(True)\n",
        "\n",
        "print (float(n1)/float(T))\n",
        "print (float(n2)/float(T))\n",
        "print (float(n3)/float(T))\n",
        "\n",
        "# plt.savefig(ss108.jpg)   # 図のファイルを作りたいとき\n",
        "plt.show()"
      ],
      "execution_count": 126,
      "outputs": [
        {
          "output_type": "stream",
          "text": [
            "0.6839\n",
            "0.9557\n",
            "0.997\n"
          ],
          "name": "stdout"
        },
        {
          "output_type": "display_data",
          "data": {
            "image/png": "[encoded data removed]",
            "text/plain": [
              "<Figure size 432x288 with 1 Axes>"
            ]
          },
          "metadata": {
            "tags": [],
            "needs_background": "light"
          }
        }
      ]
    },
    {
      "cell_type": "markdown",
      "metadata": {
        "id": "lUDrxFTCcJj9"
      },
      "source": [
        "数学の試験の得点のシミュレーション（平均71.5点，標準偏差9.0点，100人）"
      ]
    },
    {
      "cell_type": "code",
      "metadata": {
        "colab": {
          "base_uri": "https://localhost:8080/",
          "height": 315
        },
        "id": "I97MqFGcckLM",
        "outputId": "8e3f5bbc-6cf0-430b-ffc8-f2a675c52ffe"
      },
      "source": [
        "import numpy as np\n",
        "import matplotlib.pyplot as plt\n",
        "\n",
        "mu = 71.5\n",
        "sigma = 9.0 \n",
        "\n",
        "x = np.random.randn(100)\n",
        "x = sigma*x + mu\n",
        "\n",
        "print ('サンプル（標本）の平均 mean =', np.mean(x))\n",
        "print ('サンプルの標準偏差 s.d. =', np.std(x))\n",
        "print ('サンプルの分散 variance =', np.var(x))\n",
        " \n",
        "plt.figure()\n",
        "plt.hist(x, bins=15, alpha=0.3, histtype='stepfilled', color='g')\n",
        "plt.show()"
      ],
      "execution_count": 127,
      "outputs": [
        {
          "output_type": "stream",
          "text": [
            "サンプル（標本）の平均 mean = 71.55046064431946\n",
            "サンプルの標準偏差 s.d. = 8.607990079623312\n",
            "サンプルの分散 variance = 74.09749321089335\n"
          ],
          "name": "stdout"
        },
        {
          "output_type": "display_data",
          "data": {
            "image/png": "[encoded data removed]",
            "text/plain": [
              "<Figure size 432x288 with 1 Axes>"
            ]
          },
          "metadata": {
            "tags": [],
            "needs_background": "light"
          }
        }
      ]
    },
    {
      "cell_type": "markdown",
      "metadata": {
        "id": "pLiaqzA6tTDr"
      },
      "source": [
        "# 数の並べかえ"
      ]
    },
    {
      "cell_type": "code",
      "metadata": {
        "id": "_H3vPsMntP2f",
        "colab": {
          "base_uri": "https://localhost:8080/"
        },
        "outputId": "c3c9df1c-f201-4211-e572-1edd155099ff"
      },
      "source": [
        "x = np.random.randn(10)\n",
        "print(x)"
      ],
      "execution_count": 128,
      "outputs": [
        {
          "output_type": "stream",
          "text": [
            "[-0.43161951 -0.16503146 -2.16210328 -0.48501018 -0.33860401  0.29853869\n",
            " -0.16922876  2.23054145 -0.43644241 -1.49995701]\n"
          ],
          "name": "stdout"
        }
      ]
    },
    {
      "cell_type": "code",
      "metadata": {
        "id": "PrJ2dfJatY2c",
        "colab": {
          "base_uri": "https://localhost:8080/"
        },
        "outputId": "91b44562-124e-4bbf-becd-e62f096a2c12"
      },
      "source": [
        "np.sort(x)"
      ],
      "execution_count": 129,
      "outputs": [
        {
          "output_type": "execute_result",
          "data": {
            "text/plain": [
              "array([-2.16210328, -1.49995701, -0.48501018, -0.43644241, -0.43161951,\n",
              "       -0.33860401, -0.16922876, -0.16503146,  0.29853869,  2.23054145])"
            ]
          },
          "metadata": {
            "tags": []
          },
          "execution_count": 129
        }
      ]
    },
    {
      "cell_type": "code",
      "metadata": {
        "id": "-Yw2DVU-tayD",
        "colab": {
          "base_uri": "https://localhost:8080/"
        },
        "outputId": "a1062700-794e-4145-976f-3d45af6ec20b"
      },
      "source": [
        "np.argsort(x)"
      ],
      "execution_count": 130,
      "outputs": [
        {
          "output_type": "execute_result",
          "data": {
            "text/plain": [
              "array([2, 9, 3, 8, 0, 4, 6, 1, 5, 7])"
            ]
          },
          "metadata": {
            "tags": []
          },
          "execution_count": 130
        }
      ]
    },
    {
      "cell_type": "markdown",
      "metadata": {
        "id": "CayK5y3Xtgii"
      },
      "source": [
        "# グラフ描画関数"
      ]
    },
    {
      "cell_type": "markdown",
      "metadata": {
        "id": "A95zcPuvtkUu"
      },
      "source": [
        "Python の matplotlib には，\n",
        " グラフ作成のための関数が多数準備されている．\n",
        "まず，matplotlib.pyplot を plt で呼び出せるようにしておく．"
      ]
    },
    {
      "cell_type": "code",
      "metadata": {
        "id": "3oz7gsV9tcpA"
      },
      "source": [
        "import matplotlib.pyplot as plt"
      ],
      "execution_count": 131,
      "outputs": []
    },
    {
      "cell_type": "markdown",
      "metadata": {
        "id": "QoAFNe22ttwN"
      },
      "source": [
        "まずは，\n",
        "$ y = \\sin x $ のグラフから．"
      ]
    },
    {
      "cell_type": "code",
      "metadata": {
        "id": "vEwUJep7tm3D"
      },
      "source": [
        "x = np.arange(-2, 2, 0.1)"
      ],
      "execution_count": 132,
      "outputs": []
    },
    {
      "cell_type": "code",
      "metadata": {
        "id": "gmpcmTu-uEd0"
      },
      "source": [
        "y=np.sin(x)"
      ],
      "execution_count": 133,
      "outputs": []
    },
    {
      "cell_type": "code",
      "metadata": {
        "id": "KDpi5ib5uGsF",
        "colab": {
          "base_uri": "https://localhost:8080/",
          "height": 282
        },
        "outputId": "1e942803-79e2-4f21-ccb6-8adb04a8db3f"
      },
      "source": [
        "plt.plot(x, y)"
      ],
      "execution_count": 134,
      "outputs": [
        {
          "output_type": "execute_result",
          "data": {
            "text/plain": [
              "[<matplotlib.lines.Line2D at 0x7f6c22f8aad0>]"
            ]
          },
          "metadata": {
            "tags": []
          },
          "execution_count": 134
        },
        {
          "output_type": "display_data",
          "data": {
            "image/png": "[encoded data removed]",
            "text/plain": [
              "<Figure size 432x288 with 1 Axes>"
            ]
          },
          "metadata": {
            "tags": [],
            "needs_background": "light"
          }
        }
      ]
    },
    {
      "cell_type": "markdown",
      "metadata": {
        "id": "srkTIsDKuNwE"
      },
      "source": [
        "本来は plt.show() を入力しなければ，グラフは描かれない"
      ]
    },
    {
      "cell_type": "markdown",
      "metadata": {
        "id": "bxyxfTXvuWqb"
      },
      "source": [
        "ヒストグラムは"
      ]
    },
    {
      "cell_type": "code",
      "metadata": {
        "id": "1GIfFOoUuIeh"
      },
      "source": [
        "x = np.random.randn(1000)  # 標準正規分布にしたがう乱数を1000個生成"
      ],
      "execution_count": 135,
      "outputs": []
    },
    {
      "cell_type": "code",
      "metadata": {
        "id": "9ksqYMmduY_u",
        "colab": {
          "base_uri": "https://localhost:8080/",
          "height": 399
        },
        "outputId": "5cf1ff35-0193-4b69-a32e-9a7e768db7f5"
      },
      "source": [
        "plt.hist(x, bins=20)  #棒の数が20本のヒストグラムを作成"
      ],
      "execution_count": 136,
      "outputs": [
        {
          "output_type": "execute_result",
          "data": {
            "text/plain": [
              "(array([  4.,   4.,   8.,  30.,  36.,  66.,  80., 100., 133.,  96., 118.,\n",
              "        114.,  79.,  52.,  39.,  23.,  10.,   6.,   1.,   1.]),\n",
              " array([-2.94566214, -2.63222969, -2.31879723, -2.00536478, -1.69193232,\n",
              "        -1.37849986, -1.06506741, -0.75163495, -0.43820249, -0.12477004,\n",
              "         0.18866242,  0.50209488,  0.81552733,  1.12895979,  1.44239225,\n",
              "         1.7558247 ,  2.06925716,  2.38268962,  2.69612207,  3.00955453,\n",
              "         3.32298699]),\n",
              " <a list of 20 Patch objects>)"
            ]
          },
          "metadata": {
            "tags": []
          },
          "execution_count": 136
        },
        {
          "output_type": "display_data",
          "data": {
            "image/png": "[encoded data removed]",
            "text/plain": [
              "<Figure size 432x288 with 1 Axes>"
            ]
          },
          "metadata": {
            "tags": [],
            "needs_background": "light"
          }
        }
      ]
    },
    {
      "cell_type": "markdown",
      "metadata": {
        "id": "OUhYGRB0uqx2"
      },
      "source": [
        "で描ける．\n",
        "\n",
        "3次元的なグラフ．"
      ]
    },
    {
      "cell_type": "markdown",
      "metadata": {
        "id": "l1nlLJs-vk8D"
      },
      "source": [
        "### **「指数関数」の感覚**"
      ]
    },
    {
      "cell_type": "markdown",
      "metadata": {
        "id": "-Owcfzhyzen3"
      },
      "source": [
        "手でグラフを描いてきたときの感覚と違う"
      ]
    },
    {
      "cell_type": "code",
      "metadata": {
        "colab": {
          "base_uri": "https://localhost:8080/",
          "height": 282
        },
        "id": "r6xB6nN1yVA_",
        "outputId": "82940174-14f5-4178-f289-f1ef1639eb17"
      },
      "source": [
        "import numpy as np\n",
        "import matplotlib.pyplot as plt\n",
        "\n",
        "x = np.arange(0.01,2,0.01)\n",
        "y = np.exp(x)\n",
        "\n",
        "plt.grid()\n",
        "# plt.gca().set_aspect(\"equal\")\n",
        "plt.plot(x, y)\n",
        "plt.plot(x, x*x)\n",
        "plt.plot(x, x)\n",
        "plt.plot(x, np.log(x))"
      ],
      "execution_count": 137,
      "outputs": [
        {
          "output_type": "execute_result",
          "data": {
            "text/plain": [
              "[<matplotlib.lines.Line2D at 0x7f6c0c5b15d0>]"
            ]
          },
          "metadata": {
            "tags": []
          },
          "execution_count": 137
        },
        {
          "output_type": "display_data",
          "data": {
            "image/png": "[encoded data removed]",
            "text/plain": [
              "<Figure size 432x288 with 1 Axes>"
            ]
          },
          "metadata": {
            "tags": [],
            "needs_background": "light"
          }
        }
      ]
    },
    {
      "cell_type": "code",
      "metadata": {
        "colab": {
          "base_uri": "https://localhost:8080/",
          "height": 282
        },
        "id": "qBjleQN_v20V",
        "outputId": "f88e7c64-8da3-4943-8b0b-e763cfd98948"
      },
      "source": [
        "import numpy as np\n",
        "import matplotlib.pyplot as plt\n",
        "\n",
        "x = np.arange(-5,5,0.01)\n",
        "y = np.exp(x)\n",
        "\n",
        "plt.grid()\n",
        "plt.plot(x, y)\n",
        "plt.plot(x, x*x)\n",
        "# plt.plot(x, np.log(x))"
      ],
      "execution_count": 138,
      "outputs": [
        {
          "output_type": "execute_result",
          "data": {
            "text/plain": [
              "[<matplotlib.lines.Line2D at 0x7f6c0c52cbd0>]"
            ]
          },
          "metadata": {
            "tags": []
          },
          "execution_count": 138
        },
        {
          "output_type": "display_data",
          "data": {
            "image/png": "[encoded data removed]",
            "text/plain": [
              "<Figure size 432x288 with 1 Axes>"
            ]
          },
          "metadata": {
            "tags": [],
            "needs_background": "light"
          }
        }
      ]
    },
    {
      "cell_type": "markdown",
      "metadata": {
        "id": "RvmIQ903we89"
      },
      "source": [
        "ほう， exp(x) というのは 1 くらいから急激に立ち上がるのか．"
      ]
    },
    {
      "cell_type": "code",
      "metadata": {
        "colab": {
          "base_uri": "https://localhost:8080/",
          "height": 282
        },
        "id": "_zIUBC28wVdy",
        "outputId": "322cbffc-14e6-45f7-9759-f5f70b90f5b8"
      },
      "source": [
        "import numpy as np\n",
        "import matplotlib.pyplot as plt\n",
        "\n",
        "x = np.arange(-10,10,0.01)\n",
        "y = np.exp(x)\n",
        "\n",
        "plt.grid()\n",
        "plt.plot(x, y)\n",
        "plt.plot(x, x*x)"
      ],
      "execution_count": 139,
      "outputs": [
        {
          "output_type": "execute_result",
          "data": {
            "text/plain": [
              "[<matplotlib.lines.Line2D at 0x7f6c0c49ff10>]"
            ]
          },
          "metadata": {
            "tags": []
          },
          "execution_count": 139
        },
        {
          "output_type": "display_data",
          "data": {
            "image/png": "[encoded data removed]",
            "text/plain": [
              "<Figure size 432x288 with 1 Axes>"
            ]
          },
          "metadata": {
            "tags": [],
            "needs_background": "light"
          }
        }
      ]
    },
    {
      "cell_type": "markdown",
      "metadata": {
        "id": "7s4iGxz9wnIx"
      },
      "source": [
        "いやいや， exp(x) というのは 5 くらいから急激に立ち上がるのよ．"
      ]
    },
    {
      "cell_type": "code",
      "metadata": {
        "colab": {
          "base_uri": "https://localhost:8080/",
          "height": 293
        },
        "id": "e5ix1rPgwuU3",
        "outputId": "10d14ab3-390e-4961-93d4-99e1ef3e68c8"
      },
      "source": [
        "import numpy as np\n",
        "import matplotlib.pyplot as plt\n",
        "\n",
        "x = np.arange(-5,100,0.01)\n",
        "y = np.exp(x)\n",
        "\n",
        "plt.grid()\n",
        "plt.plot(x, y)"
      ],
      "execution_count": 140,
      "outputs": [
        {
          "output_type": "execute_result",
          "data": {
            "text/plain": [
              "[<matplotlib.lines.Line2D at 0x7f6c0c41e6d0>]"
            ]
          },
          "metadata": {
            "tags": []
          },
          "execution_count": 140
        },
        {
          "output_type": "display_data",
          "data": {
            "image/png": "[encoded data removed]",
            "text/plain": [
              "<Figure size 432x288 with 1 Axes>"
            ]
          },
          "metadata": {
            "tags": [],
            "needs_background": "light"
          }
        }
      ]
    },
    {
      "cell_type": "markdown",
      "metadata": {
        "id": "xeuKm3xNw0mJ"
      },
      "source": [
        "いやいや， exp(x) というのは 95 くらいから急激に立ち上がるのでは？  "
      ]
    },
    {
      "cell_type": "markdown",
      "metadata": {
        "id": "6NSkwPvPxEbj"
      },
      "source": [
        "いろいろなグラフ"
      ]
    },
    {
      "cell_type": "code",
      "metadata": {
        "colab": {
          "base_uri": "https://localhost:8080/",
          "height": 282
        },
        "id": "p-7_G-hqxJIP",
        "outputId": "a942aa03-100e-4f41-d9b0-4694a6592d42"
      },
      "source": [
        "import numpy as np\n",
        "import matplotlib.pyplot as plt\n",
        "\n",
        "x = np.arange(-5,5, 0.01)\n",
        "y = np.exp(x)\n",
        "y2 = np.exp(-x)\n",
        "y3 = np.exp( -x**2)\n",
        "y4 = 1/x\n",
        "\n",
        "plt.grid()\n",
        "plt.plot(x, y)\n",
        "plt.plot(x, y2)\n",
        "plt.plot(x, y3)\n",
        "# plt.plot(x, y4)"
      ],
      "execution_count": 267,
      "outputs": [
        {
          "output_type": "execute_result",
          "data": {
            "text/plain": [
              "[<matplotlib.lines.Line2D at 0x7fa46e2e03d0>]"
            ]
          },
          "metadata": {
            "tags": []
          },
          "execution_count": 267
        },
        {
          "output_type": "display_data",
          "data": {
            "image/png": "[encoded data removed]",
            "text/plain": [
              "<Figure size 432x288 with 1 Axes>"
            ]
          },
          "metadata": {
            "tags": [],
            "needs_background": "light"
          }
        }
      ]
    },
    {
      "cell_type": "code",
      "metadata": {
        "colab": {
          "base_uri": "https://localhost:8080/",
          "height": 282
        },
        "id": "QVlq4Mw0xjnG",
        "outputId": "9d4eb928-f637-42bd-85b3-18502138c577"
      },
      "source": [
        "import numpy as np\n",
        "import matplotlib.pyplot as plt\n",
        "\n",
        "x = np.arange(-5,5, 0.01)\n",
        "y3 = np.exp( -x**2)\n",
        "\n",
        "plt.plot(x, y3)"
      ],
      "execution_count": 141,
      "outputs": [
        {
          "output_type": "execute_result",
          "data": {
            "text/plain": [
              "[<matplotlib.lines.Line2D at 0x7f6c0c38b990>]"
            ]
          },
          "metadata": {
            "tags": []
          },
          "execution_count": 141
        },
        {
          "output_type": "display_data",
          "data": {
            "image/png": "[encoded data removed]",
            "text/plain": [
              "<Figure size 432x288 with 1 Axes>"
            ]
          },
          "metadata": {
            "tags": [],
            "needs_background": "light"
          }
        }
      ]
    },
    {
      "cell_type": "markdown",
      "metadata": {
        "id": "UQHXE-_g7_sT"
      },
      "source": [
        "y = x-1 と y = log x"
      ]
    },
    {
      "cell_type": "code",
      "metadata": {
        "colab": {
          "base_uri": "https://localhost:8080/",
          "height": 282
        },
        "id": "miePBe5H8HrK",
        "outputId": "86e69f6e-b4ba-485b-8bbf-1ab2deba8167"
      },
      "source": [
        "import numpy as np\n",
        "import matplotlib.pyplot as plt\n",
        "\n",
        "x = np.arange(0.2,2,0.01)\n",
        "\n",
        "plt.grid()\n",
        "plt.plot(x, np.log(x))\n",
        "plt.plot(x, x-1)"
      ],
      "execution_count": 142,
      "outputs": [
        {
          "output_type": "execute_result",
          "data": {
            "text/plain": [
              "[<matplotlib.lines.Line2D at 0x7f6c0c3757d0>]"
            ]
          },
          "metadata": {
            "tags": []
          },
          "execution_count": 142
        },
        {
          "output_type": "display_data",
          "data": {
            "image/png": "[encoded data removed]",
            "text/plain": [
              "<Figure size 432x288 with 1 Axes>"
            ]
          },
          "metadata": {
            "tags": [],
            "needs_background": "light"
          }
        }
      ]
    },
    {
      "cell_type": "markdown",
      "metadata": {
        "id": "V67Tfma3gRvB"
      },
      "source": [
        "### **ここから先，工事中． きちんとできていないので注意！！！**"
      ]
    },
    {
      "cell_type": "code",
      "metadata": {
        "id": "Lpn0qeFiubiF",
        "colab": {
          "base_uri": "https://localhost:8080/",
          "height": 215
        },
        "outputId": "f8ed768a-a498-4a2b-a97f-7c0ec34c6fbc"
      },
      "source": [
        "# -*- coding: utf-8 -*-\n",
        "import numpy as np\n",
        "import matplotlib.pyplot as plt\n",
        "\n",
        "def g2_pdf(x,y,mu,Sigma):\n",
        "    a = 1.0/(2.0*np.pi*np.sqrt(np.linalg.det(Sigma)))\n",
        "    v = np.array([[x],[y]]) - mu\n",
        "    retvar = a*np.exp(-1.0/2.0*(v.T).dot( (np.linalg.inv(Sigma)).dot(v) ))\n",
        "    return retvar\n",
        "\n",
        "mu = np.array([[0],[0]])\n",
        "Sigma = np.array([[2,1],[1,2]]) # 分散・共分散行列\n",
        "\n",
        "x = np.arange(-3,3,0.1)\n",
        "y = np.arange(-3,3,0.1)\n",
        "nx = len(x)\n",
        "ny = len(y)\n",
        "z = np.zeros((nx,ny))\n",
        "for i0 in range(nx):\n",
        "    for i1 in range(ny):\n",
        "        z[i1,i0] = g2_pdf(x[i0],y[i1], mu, Sigma)\n",
        "\n",
        "plt.figure(figsize=(3.5,3))\n",
        "#plt.gray()\n",
        "plt.jet()\n",
        "plt.pcolor(z)\n",
        "#plt.contour(z)\n",
        "plt.colorbar()\n",
        "plt.show()"
      ],
      "execution_count": 143,
      "outputs": [
        {
          "output_type": "display_data",
          "data": {
            "image/png": "[encoded data removed]",
            "text/plain": [
              "<Figure size 252x216 with 2 Axes>"
            ]
          },
          "metadata": {
            "tags": [],
            "needs_background": "light"
          }
        }
      ]
    },
    {
      "cell_type": "markdown",
      "metadata": {
        "id": "DS5kODeRu4aJ"
      },
      "source": [
        "これは2次元だった．こちらが3次元．\n",
        "\n",
        "以前はうごいていたが，いまは動かない． なぜか．．．\n",
        "\n",
        "<p>\n",
        "\n",
        "つぎのは動かすと危険．"
      ]
    },
    {
      "cell_type": "code",
      "metadata": {
        "id": "ZIXhT1Jbu7Lw"
      },
      "source": [
        "# -*- coding: utf-8 -*-\n",
        "import numpy as np\n",
        "import matplotlib.pyplot as plt\n",
        "from mpl_toolkits.mplot3d import Axes3D\n",
        "\n",
        "def g2_pdf(x,y,mu,Sigma):\n",
        "    a = 1.0/(2.0*np.pi*np.sqrt(np.linalg.det(Sigma)))\n",
        "    v = np.array([[x],[y]]) - mu\n",
        "    retvar = a*np.exp(-1.0/2.0*(v.T).dot( (np.linalg.inv(Sigma)).dot(v) ))\n",
        "    return retvar\n",
        "\n",
        "mu = np.array([[0],[0]])\n",
        "Sigma = np.array([[2,1],[1,2]]) # 分散・共分散行列\n",
        "\n",
        "x = np.arange(-5,5,0.2)\n",
        "y = np.arange(-5,5,0.2)\n",
        "nx = len(x)\n",
        "ny = len(y)\n",
        "z = np.zeros((nx,ny))\n",
        "for i0 in range(nx):\n",
        "    for i1 in range(ny):\n",
        "        z[i1,i0] = g2_pdf(x[i0],y[i1], mu, Sigma)\n",
        "\n",
        "xx,yy = np.meshgrid(x,y)\n",
        "plt.figure(figsize=(5, 3.5))\n",
        "ax = plt.subplot(1,1,1, projection='3d')\n",
        "ax.plot_surface(xx,yy,z,rstride=1,cstride=1,alpha=0.1,color='blue',edgecolor='black')\n",
        "# ax.set_zticks((0,0.08))\n",
        "ax.view_init(30,-130)\n",
        "plt.savefig('fig301.eps') \n",
        "plt.show()"
      ],
      "execution_count": null,
      "outputs": []
    },
    {
      "cell_type": "markdown",
      "metadata": {
        "id": "uuXZlckU3y_e"
      },
      "source": [
        "unix コマンドが使える．"
      ]
    },
    {
      "cell_type": "code",
      "metadata": {
        "id": "fd8LiFCk3LIm",
        "colab": {
          "base_uri": "https://localhost:8080/"
        },
        "outputId": "3a5fe4c4-58e7-4f63-93a4-467002e21ce2"
      },
      "source": [
        "!ls -l"
      ],
      "execution_count": 144,
      "outputs": [
        {
          "output_type": "stream",
          "text": [
            "total 32\n",
            "-rw-r--r-- 1 root root 10730 May 26 07:47 fig321.pdf\n",
            "-rw-r--r-- 1 root root 13851 May 26 07:48 fig_ode101.pdf\n",
            "drwxr-xr-x 1 root root  4096 May  6 13:44 sample_data\n"
          ],
          "name": "stdout"
        }
      ]
    },
    {
      "cell_type": "code",
      "metadata": {
        "id": "KlPwMJU04Ndq",
        "colab": {
          "base_uri": "https://localhost:8080/",
          "height": 17
        },
        "outputId": "faac6b6e-03c1-4ad3-9ff6-f3f4f31e3235"
      },
      "source": [
        "from google.colab import files\n",
        "files.download(\"fig321.pdf\") "
      ],
      "execution_count": 223,
      "outputs": [
        {
          "output_type": "display_data",
          "data": {
            "application/javascript": [
              "\n",
              "    async function download(id, filename, size) {\n",
              "      if (!google.colab.kernel.accessAllowed) {\n",
              "        return;\n",
              "      }\n",
              "      const div = document.createElement('div');\n",
              "      const label = document.createElement('label');\n",
              "      label.textContent = `Downloading \"${filename}\": `;\n",
              "      div.appendChild(label);\n",
              "      const progress = document.createElement('progress');\n",
              "      progress.max = size;\n",
              "      div.appendChild(progress);\n",
              "      document.body.appendChild(div);\n",
              "\n",
              "      const buffers = [];\n",
              "      let downloaded = 0;\n",
              "\n",
              "      const channel = await google.colab.kernel.comms.open(id);\n",
              "      // Send a message to notify the kernel that we're ready.\n",
              "      channel.send({})\n",
              "\n",
              "      for await (const message of channel.messages) {\n",
              "        // Send a message to notify the kernel that we're ready.\n",
              "        channel.send({})\n",
              "        if (message.buffers) {\n",
              "          for (const buffer of message.buffers) {\n",
              "            buffers.push(buffer);\n",
              "            downloaded += buffer.byteLength;\n",
              "            progress.value = downloaded;\n",
              "          }\n",
              "        }\n",
              "      }\n",
              "      const blob = new Blob(buffers, {type: 'application/binary'});\n",
              "      const a = document.createElement('a');\n",
              "      a.href = window.URL.createObjectURL(blob);\n",
              "      a.download = filename;\n",
              "      div.appendChild(a);\n",
              "      a.click();\n",
              "      div.remove();\n",
              "    }\n",
              "  "
            ],
            "text/plain": [
              "<IPython.core.display.Javascript object>"
            ]
          },
          "metadata": {
            "tags": []
          }
        },
        {
          "output_type": "display_data",
          "data": {
            "application/javascript": [
              "download(\"download_c11528ae-0f98-4624-aadf-d26ca2729f37\", \"fig321.pdf\", 10730)"
            ],
            "text/plain": [
              "<IPython.core.display.Javascript object>"
            ]
          },
          "metadata": {
            "tags": []
          }
        }
      ]
    },
    {
      "cell_type": "markdown",
      "metadata": {
        "id": "MALnRpE1vOsC"
      },
      "source": [
        "# 補足"
      ]
    },
    {
      "cell_type": "markdown",
      "metadata": {
        "id": "lC1hGAJovcBZ"
      },
      "source": [
        "ライブラリ numpy を使うには"
      ]
    },
    {
      "cell_type": "code",
      "metadata": {
        "id": "ZpX6b-ggvQFe"
      },
      "source": [
        "import numpy as np"
      ],
      "execution_count": null,
      "outputs": []
    },
    {
      "cell_type": "markdown",
      "metadata": {
        "id": "enNAXNDmvhAW"
      },
      "source": [
        "などと書いてきた．"
      ]
    },
    {
      "cell_type": "code",
      "metadata": {
        "id": "lH5cjHnMvfaj"
      },
      "source": [
        "import numpy"
      ],
      "execution_count": null,
      "outputs": []
    },
    {
      "cell_type": "markdown",
      "metadata": {
        "id": "QQm8iyIWvmct"
      },
      "source": [
        "と書いた場合は，\n",
        "np と省略して書いてきた部分を，\n",
        "numpy と書く必要がある．\n",
        "ライブラリは，他によくつかうものとして，\n",
        "math がある．\n",
        "numpy にも math にも，cos() という関数（メソッド名）がある．"
      ]
    },
    {
      "cell_type": "code",
      "metadata": {
        "id": "YSSBRWw4vkMm"
      },
      "source": [
        "from numpy import sin, cos"
      ],
      "execution_count": null,
      "outputs": []
    },
    {
      "cell_type": "code",
      "metadata": {
        "id": "mDnFUGi2vpp1"
      },
      "source": [
        "from numpy import *"
      ],
      "execution_count": null,
      "outputs": []
    },
    {
      "cell_type": "markdown",
      "metadata": {
        "id": "jfK1WKC7v5R6"
      },
      "source": [
        "と書くと，\n",
        "numpy のすべての関数が使えるようになる．"
      ]
    },
    {
      "cell_type": "markdown",
      "metadata": {
        "id": "0qilrBYPwDDw"
      },
      "source": [
        "# digit.mat （パターン認識の講義用です）"
      ]
    },
    {
      "cell_type": "markdown",
      "metadata": {
        "id": "teQXeCGAyJL6"
      },
      "source": [
        "digit.mat ファイルを google colaboratory の中で使えるようにアップロードしておく．digit.mat には 16 x 16 ピクセルのモノクロの手書き数字画像が 1文字あたり500枚用意されている．\n",
        "\n",
        "digit.mat って何？ という場合は，ここはスキップ．\n"
      ]
    },
    {
      "cell_type": "code",
      "metadata": {
        "id": "YtUSLJRsv3DO",
        "colab": {
          "resources": {
            "http://localhost:8080/nbextensions/google.colab/files.js": {
              "data": "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",
              "ok": true,
              "headers": [
                [
                  "content-type",
                  "application/javascript"
                ]
              ],
              "status": 200,
              "status_text": ""
            }
          },
          "base_uri": "https://localhost:8080/",
          "height": 78
        },
        "outputId": "2e36a579-efbc-41f4-94e8-90b7ea43f935"
      },
      "source": [
        "from google.colab import files\n",
        "f= files.upload()"
      ],
      "execution_count": null,
      "outputs": [
        {
          "output_type": "display_data",
          "data": {
            "text/html": [
              "\n",
              "     <input type=\"file\" id=\"files-ed1f9386-28b1-4cb7-9bee-94c99c7f134c\" name=\"files[]\" multiple disabled\n",
              "        style=\"border:none\" />\n",
              "     <output id=\"result-ed1f9386-28b1-4cb7-9bee-94c99c7f134c\">\n",
              "      Upload widget is only available when the cell has been executed in the\n",
              "      current browser session. Please rerun this cell to enable.\n",
              "      </output>\n",
              "      <script src=\"/nbextensions/google.colab/files.js\"></script> "
            ],
            "text/plain": [
              "<IPython.core.display.HTML object>"
            ]
          },
          "metadata": {
            "tags": []
          }
        },
        {
          "output_type": "stream",
          "text": [
            "Saving digit.mat to digit.mat\n"
          ],
          "name": "stdout"
        }
      ]
    },
    {
      "cell_type": "code",
      "metadata": {
        "id": "DQMoCu21yTpp",
        "colab": {
          "base_uri": "https://localhost:8080/"
        },
        "outputId": "4aa48ff1-dca9-42ff-9568-bc7624dd1742"
      },
      "source": [
        "import scipy.io\n",
        "data = scipy.io.loadmat(\"digit.mat\")\n",
        "type(data)"
      ],
      "execution_count": null,
      "outputs": [
        {
          "output_type": "execute_result",
          "data": {
            "text/plain": [
              "dict"
            ]
          },
          "metadata": {
            "tags": []
          },
          "execution_count": 146
        }
      ]
    },
    {
      "cell_type": "code",
      "metadata": {
        "id": "m6e5iZb_yrDI",
        "colab": {
          "base_uri": "https://localhost:8080/"
        },
        "outputId": "b8dce80c-c4ec-42c8-cd21-ea2cb2240018"
      },
      "source": [
        "type(data[\"X\"])"
      ],
      "execution_count": null,
      "outputs": [
        {
          "output_type": "execute_result",
          "data": {
            "text/plain": [
              "numpy.ndarray"
            ]
          },
          "metadata": {
            "tags": []
          },
          "execution_count": 147
        }
      ]
    },
    {
      "cell_type": "code",
      "metadata": {
        "id": "8ZbCMXEizc-1"
      },
      "source": [
        "x = data[\"X\"]"
      ],
      "execution_count": null,
      "outputs": []
    },
    {
      "cell_type": "code",
      "metadata": {
        "id": "f9b3bPr2zf8j",
        "colab": {
          "base_uri": "https://localhost:8080/"
        },
        "outputId": "62b7ebde-0c8e-4664-ab7d-a980e3e84266"
      },
      "source": [
        "type(x)"
      ],
      "execution_count": null,
      "outputs": [
        {
          "output_type": "execute_result",
          "data": {
            "text/plain": [
              "numpy.ndarray"
            ]
          },
          "metadata": {
            "tags": []
          },
          "execution_count": 149
        }
      ]
    },
    {
      "cell_type": "code",
      "metadata": {
        "id": "X3bJlKUmzhsh",
        "colab": {
          "base_uri": "https://localhost:8080/"
        },
        "outputId": "c150c880-1f8d-42cb-929a-063b3d523c87"
      },
      "source": [
        "x.shape"
      ],
      "execution_count": null,
      "outputs": [
        {
          "output_type": "execute_result",
          "data": {
            "text/plain": [
              "(256, 500, 10)"
            ]
          },
          "metadata": {
            "tags": []
          },
          "execution_count": 150
        }
      ]
    },
    {
      "cell_type": "markdown",
      "metadata": {
        "id": "KcsoNa2FzmJX"
      },
      "source": [
        "これを (256,5000, 16,16) につくりかえる．"
      ]
    },
    {
      "cell_type": "code",
      "metadata": {
        "colab": {
          "base_uri": "https://localhost:8080/"
        },
        "id": "eP5aFOLgaib7",
        "outputId": "d0e19010-4475-4ee4-b0a0-924963931ea2"
      },
      "source": [
        "[d, n, nc] = x.shape\n",
        "z = x.reshape(d, n*nc)\n",
        "z.shape # (256, 5000)"
      ],
      "execution_count": null,
      "outputs": [
        {
          "output_type": "execute_result",
          "data": {
            "text/plain": [
              "(256, 5000)"
            ]
          },
          "metadata": {
            "tags": []
          },
          "execution_count": 151
        }
      ]
    },
    {
      "cell_type": "markdown",
      "metadata": {
        "id": "t6k0KX_Iz6Vl"
      },
      "source": [
        "# sklearn を使えるようにするためには．"
      ]
    },
    {
      "cell_type": "code",
      "metadata": {
        "id": "_xfohotZzjnc",
        "colab": {
          "base_uri": "https://localhost:8080/"
        },
        "outputId": "aae1177a-c36c-42b0-9974-15d3b9490b28"
      },
      "source": [
        "from sklearn import datasets\n",
        "import numpy as np\n",
        "import matplotlib.pyplot as plt\n",
        "digits = datasets.load_digits()\n",
        "X = digits.data\n",
        "y = digits.target\n",
        "images = digits.images\n",
        "type(digits)"
      ],
      "execution_count": null,
      "outputs": [
        {
          "output_type": "execute_result",
          "data": {
            "text/plain": [
              "sklearn.utils.Bunch"
            ]
          },
          "metadata": {
            "tags": []
          },
          "execution_count": 152
        }
      ]
    },
    {
      "cell_type": "code",
      "metadata": {
        "id": "HwPAWWoK0Byq",
        "colab": {
          "base_uri": "https://localhost:8080/"
        },
        "outputId": "6e90809a-ee60-471a-e4a0-d5ef09b7db66"
      },
      "source": [
        "type(images)"
      ],
      "execution_count": null,
      "outputs": [
        {
          "output_type": "execute_result",
          "data": {
            "text/plain": [
              "numpy.ndarray"
            ]
          },
          "metadata": {
            "tags": []
          },
          "execution_count": 153
        }
      ]
    },
    {
      "cell_type": "code",
      "metadata": {
        "id": "zjg1xdsk0Shq",
        "colab": {
          "base_uri": "https://localhost:8080/"
        },
        "outputId": "1b6a3625-9174-46ba-8ff6-02685b5de7b8"
      },
      "source": [
        "images.shape"
      ],
      "execution_count": null,
      "outputs": [
        {
          "output_type": "execute_result",
          "data": {
            "text/plain": [
              "(1797, 8, 8)"
            ]
          },
          "metadata": {
            "tags": []
          },
          "execution_count": 154
        }
      ]
    },
    {
      "cell_type": "code",
      "metadata": {
        "id": "BjlZef4a0T6c",
        "colab": {
          "base_uri": "https://localhost:8080/"
        },
        "outputId": "3333a206-b6f9-4f7e-d758-08a0e1b1c31a"
      },
      "source": [
        "type(X)"
      ],
      "execution_count": null,
      "outputs": [
        {
          "output_type": "execute_result",
          "data": {
            "text/plain": [
              "numpy.ndarray"
            ]
          },
          "metadata": {
            "tags": []
          },
          "execution_count": 155
        }
      ]
    },
    {
      "cell_type": "code",
      "metadata": {
        "id": "fqEZGFtl0VtN",
        "colab": {
          "base_uri": "https://localhost:8080/"
        },
        "outputId": "3c3fd645-019f-4ef1-97fe-c152e03c5450"
      },
      "source": [
        "type(y)"
      ],
      "execution_count": null,
      "outputs": [
        {
          "output_type": "execute_result",
          "data": {
            "text/plain": [
              "numpy.ndarray"
            ]
          },
          "metadata": {
            "tags": []
          },
          "execution_count": 156
        }
      ]
    },
    {
      "cell_type": "code",
      "metadata": {
        "id": "x_Yr25b50XF-",
        "colab": {
          "base_uri": "https://localhost:8080/"
        },
        "outputId": "24d639de-9a6a-4ae6-ece2-a80aef978f2f"
      },
      "source": [
        "X.shape"
      ],
      "execution_count": null,
      "outputs": [
        {
          "output_type": "execute_result",
          "data": {
            "text/plain": [
              "(1797, 64)"
            ]
          },
          "metadata": {
            "tags": []
          },
          "execution_count": 157
        }
      ]
    },
    {
      "cell_type": "markdown",
      "metadata": {
        "id": "Cdzsl5vU09Z9"
      },
      "source": [
        ""
      ]
    },
    {
      "cell_type": "code",
      "metadata": {
        "id": "VsWmOP2U0aSr",
        "colab": {
          "base_uri": "https://localhost:8080/"
        },
        "outputId": "1d84e52d-50f1-43e6-daa4-38dbeb95730d"
      },
      "source": [
        "y.shape"
      ],
      "execution_count": null,
      "outputs": [
        {
          "output_type": "execute_result",
          "data": {
            "text/plain": [
              "(1797,)"
            ]
          },
          "metadata": {
            "tags": []
          },
          "execution_count": 158
        }
      ]
    },
    {
      "cell_type": "code",
      "metadata": {
        "id": "9FcwWr_u0cVq",
        "colab": {
          "base_uri": "https://localhost:8080/"
        },
        "outputId": "a80a83fd-b7ca-482f-9ee2-cefad1efa3a3"
      },
      "source": [
        "X"
      ],
      "execution_count": null,
      "outputs": [
        {
          "output_type": "execute_result",
          "data": {
            "text/plain": [
              "array([[ 0.,  0.,  5., ...,  0.,  0.,  0.],\n",
              "       [ 0.,  0.,  0., ..., 10.,  0.,  0.],\n",
              "       [ 0.,  0.,  0., ..., 16.,  9.,  0.],\n",
              "       ...,\n",
              "       [ 0.,  0.,  1., ...,  6.,  0.,  0.],\n",
              "       [ 0.,  0.,  2., ..., 12.,  0.,  0.],\n",
              "       [ 0.,  0., 10., ..., 12.,  1.,  0.]])"
            ]
          },
          "metadata": {
            "tags": []
          },
          "execution_count": 159
        }
      ]
    },
    {
      "cell_type": "code",
      "metadata": {
        "id": "i2dKC3X00f7v",
        "colab": {
          "base_uri": "https://localhost:8080/"
        },
        "outputId": "3932f9ba-cc16-4a3e-b1f0-7cf5e3cf20e2"
      },
      "source": [
        "y"
      ],
      "execution_count": null,
      "outputs": [
        {
          "output_type": "execute_result",
          "data": {
            "text/plain": [
              "array([0, 1, 2, ..., 8, 9, 8])"
            ]
          },
          "metadata": {
            "tags": []
          },
          "execution_count": 160
        }
      ]
    },
    {
      "cell_type": "code",
      "metadata": {
        "colab": {
          "base_uri": "https://localhost:8080/",
          "height": 224
        },
        "id": "TjF2qkYSeTcc",
        "outputId": "ed04bef1-e850-4a88-a270-6e50d87347d9"
      },
      "source": [
        "import pandas as pd\n",
        "digits_data = datasets.load_digits()\n",
        "digits_df = pd.DataFrame(digits_data.data)\n",
        "digits_df.head()"
      ],
      "execution_count": null,
      "outputs": [
        {
          "output_type": "execute_result",
          "data": {
            "text/html": [
              "<div>\n",
              "<style scoped>\n",
              "    .dataframe tbody tr th:only-of-type {\n",
              "        vertical-align: middle;\n",
              "    }\n",
              "\n",
              "    .dataframe tbody tr th {\n",
              "        vertical-align: top;\n",
              "    }\n",
              "\n",
              "    .dataframe thead th {\n",
              "        text-align: right;\n",
              "    }\n",
              "</style>\n",
              "<table border=\"1\" class=\"dataframe\">\n",
              "  <thead>\n",
              "    <tr style=\"text-align: right;\">\n",
              "      <th></th>\n",
              "      <th>0</th>\n",
              "      <th>1</th>\n",
              "      <th>2</th>\n",
              "      <th>3</th>\n",
              "      <th>4</th>\n",
              "      <th>5</th>\n",
              "      <th>6</th>\n",
              "      <th>7</th>\n",
              "      <th>8</th>\n",
              "      <th>9</th>\n",
              "      <th>10</th>\n",
              "      <th>11</th>\n",
              "      <th>12</th>\n",
              "      <th>13</th>\n",
              "      <th>14</th>\n",
              "      <th>15</th>\n",
              "      <th>16</th>\n",
              "      <th>17</th>\n",
              "      <th>18</th>\n",
              "      <th>19</th>\n",
              "      <th>20</th>\n",
              "      <th>21</th>\n",
              "      <th>22</th>\n",
              "      <th>23</th>\n",
              "      <th>24</th>\n",
              "      <th>25</th>\n",
              "      <th>26</th>\n",
              "      <th>27</th>\n",
              "      <th>28</th>\n",
              "      <th>29</th>\n",
              "      <th>30</th>\n",
              "      <th>31</th>\n",
              "      <th>32</th>\n",
              "      <th>33</th>\n",
              "      <th>34</th>\n",
              "      <th>35</th>\n",
              "      <th>36</th>\n",
              "      <th>37</th>\n",
              "      <th>38</th>\n",
              "      <th>39</th>\n",
              "      <th>40</th>\n",
              "      <th>41</th>\n",
              "      <th>42</th>\n",
              "      <th>43</th>\n",
              "      <th>44</th>\n",
              "      <th>45</th>\n",
              "      <th>46</th>\n",
              "      <th>47</th>\n",
              "      <th>48</th>\n",
              "      <th>49</th>\n",
              "      <th>50</th>\n",
              "      <th>51</th>\n",
              "      <th>52</th>\n",
              "      <th>53</th>\n",
              "      <th>54</th>\n",
              "      <th>55</th>\n",
              "      <th>56</th>\n",
              "      <th>57</th>\n",
              "      <th>58</th>\n",
              "      <th>59</th>\n",
              "      <th>60</th>\n",
              "      <th>61</th>\n",
              "      <th>62</th>\n",
              "      <th>63</th>\n",
              "    </tr>\n",
              "  </thead>\n",
              "  <tbody>\n",
              "    <tr>\n",
              "      <th>0</th>\n",
              "      <td>0.0</td>\n",
              "      <td>0.0</td>\n",
              "      <td>5.0</td>\n",
              "      <td>13.0</td>\n",
              "      <td>9.0</td>\n",
              "      <td>1.0</td>\n",
              "      <td>0.0</td>\n",
              "      <td>0.0</td>\n",
              "      <td>0.0</td>\n",
              "      <td>0.0</td>\n",
              "      <td>13.0</td>\n",
              "      <td>15.0</td>\n",
              "      <td>10.0</td>\n",
              "      <td>15.0</td>\n",
              "      <td>5.0</td>\n",
              "      <td>0.0</td>\n",
              "      <td>0.0</td>\n",
              "      <td>3.0</td>\n",
              "      <td>15.0</td>\n",
              "      <td>2.0</td>\n",
              "      <td>0.0</td>\n",
              "      <td>11.0</td>\n",
              "      <td>8.0</td>\n",
              "      <td>0.0</td>\n",
              "      <td>0.0</td>\n",
              "      <td>4.0</td>\n",
              "      <td>12.0</td>\n",
              "      <td>0.0</td>\n",
              "      <td>0.0</td>\n",
              "      <td>8.0</td>\n",
              "      <td>8.0</td>\n",
              "      <td>0.0</td>\n",
              "      <td>0.0</td>\n",
              "      <td>5.0</td>\n",
              "      <td>8.0</td>\n",
              "      <td>0.0</td>\n",
              "      <td>0.0</td>\n",
              "      <td>9.0</td>\n",
              "      <td>8.0</td>\n",
              "      <td>0.0</td>\n",
              "      <td>0.0</td>\n",
              "      <td>4.0</td>\n",
              "      <td>11.0</td>\n",
              "      <td>0.0</td>\n",
              "      <td>1.0</td>\n",
              "      <td>12.0</td>\n",
              "      <td>7.0</td>\n",
              "      <td>0.0</td>\n",
              "      <td>0.0</td>\n",
              "      <td>2.0</td>\n",
              "      <td>14.0</td>\n",
              "      <td>5.0</td>\n",
              "      <td>10.0</td>\n",
              "      <td>12.0</td>\n",
              "      <td>0.0</td>\n",
              "      <td>0.0</td>\n",
              "      <td>0.0</td>\n",
              "      <td>0.0</td>\n",
              "      <td>6.0</td>\n",
              "      <td>13.0</td>\n",
              "      <td>10.0</td>\n",
              "      <td>0.0</td>\n",
              "      <td>0.0</td>\n",
              "      <td>0.0</td>\n",
              "    </tr>\n",
              "    <tr>\n",
              "      <th>1</th>\n",
              "      <td>0.0</td>\n",
              "      <td>0.0</td>\n",
              "      <td>0.0</td>\n",
              "      <td>12.0</td>\n",
              "      <td>13.0</td>\n",
              "      <td>5.0</td>\n",
              "      <td>0.0</td>\n",
              "      <td>0.0</td>\n",
              "      <td>0.0</td>\n",
              "      <td>0.0</td>\n",
              "      <td>0.0</td>\n",
              "      <td>11.0</td>\n",
              "      <td>16.0</td>\n",
              "      <td>9.0</td>\n",
              "      <td>0.0</td>\n",
              "      <td>0.0</td>\n",
              "      <td>0.0</td>\n",
              "      <td>0.0</td>\n",
              "      <td>3.0</td>\n",
              "      <td>15.0</td>\n",
              "      <td>16.0</td>\n",
              "      <td>6.0</td>\n",
              "      <td>0.0</td>\n",
              "      <td>0.0</td>\n",
              "      <td>0.0</td>\n",
              "      <td>7.0</td>\n",
              "      <td>15.0</td>\n",
              "      <td>16.0</td>\n",
              "      <td>16.0</td>\n",
              "      <td>2.0</td>\n",
              "      <td>0.0</td>\n",
              "      <td>0.0</td>\n",
              "      <td>0.0</td>\n",
              "      <td>0.0</td>\n",
              "      <td>1.0</td>\n",
              "      <td>16.0</td>\n",
              "      <td>16.0</td>\n",
              "      <td>3.0</td>\n",
              "      <td>0.0</td>\n",
              "      <td>0.0</td>\n",
              "      <td>0.0</td>\n",
              "      <td>0.0</td>\n",
              "      <td>1.0</td>\n",
              "      <td>16.0</td>\n",
              "      <td>16.0</td>\n",
              "      <td>6.0</td>\n",
              "      <td>0.0</td>\n",
              "      <td>0.0</td>\n",
              "      <td>0.0</td>\n",
              "      <td>0.0</td>\n",
              "      <td>1.0</td>\n",
              "      <td>16.0</td>\n",
              "      <td>16.0</td>\n",
              "      <td>6.0</td>\n",
              "      <td>0.0</td>\n",
              "      <td>0.0</td>\n",
              "      <td>0.0</td>\n",
              "      <td>0.0</td>\n",
              "      <td>0.0</td>\n",
              "      <td>11.0</td>\n",
              "      <td>16.0</td>\n",
              "      <td>10.0</td>\n",
              "      <td>0.0</td>\n",
              "      <td>0.0</td>\n",
              "    </tr>\n",
              "    <tr>\n",
              "      <th>2</th>\n",
              "      <td>0.0</td>\n",
              "      <td>0.0</td>\n",
              "      <td>0.0</td>\n",
              "      <td>4.0</td>\n",
              "      <td>15.0</td>\n",
              "      <td>12.0</td>\n",
              "      <td>0.0</td>\n",
              "      <td>0.0</td>\n",
              "      <td>0.0</td>\n",
              "      <td>0.0</td>\n",
              "      <td>3.0</td>\n",
              "      <td>16.0</td>\n",
              "      <td>15.0</td>\n",
              "      <td>14.0</td>\n",
              "      <td>0.0</td>\n",
              "      <td>0.0</td>\n",
              "      <td>0.0</td>\n",
              "      <td>0.0</td>\n",
              "      <td>8.0</td>\n",
              "      <td>13.0</td>\n",
              "      <td>8.0</td>\n",
              "      <td>16.0</td>\n",
              "      <td>0.0</td>\n",
              "      <td>0.0</td>\n",
              "      <td>0.0</td>\n",
              "      <td>0.0</td>\n",
              "      <td>1.0</td>\n",
              "      <td>6.0</td>\n",
              "      <td>15.0</td>\n",
              "      <td>11.0</td>\n",
              "      <td>0.0</td>\n",
              "      <td>0.0</td>\n",
              "      <td>0.0</td>\n",
              "      <td>1.0</td>\n",
              "      <td>8.0</td>\n",
              "      <td>13.0</td>\n",
              "      <td>15.0</td>\n",
              "      <td>1.0</td>\n",
              "      <td>0.0</td>\n",
              "      <td>0.0</td>\n",
              "      <td>0.0</td>\n",
              "      <td>9.0</td>\n",
              "      <td>16.0</td>\n",
              "      <td>16.0</td>\n",
              "      <td>5.0</td>\n",
              "      <td>0.0</td>\n",
              "      <td>0.0</td>\n",
              "      <td>0.0</td>\n",
              "      <td>0.0</td>\n",
              "      <td>3.0</td>\n",
              "      <td>13.0</td>\n",
              "      <td>16.0</td>\n",
              "      <td>16.0</td>\n",
              "      <td>11.0</td>\n",
              "      <td>5.0</td>\n",
              "      <td>0.0</td>\n",
              "      <td>0.0</td>\n",
              "      <td>0.0</td>\n",
              "      <td>0.0</td>\n",
              "      <td>3.0</td>\n",
              "      <td>11.0</td>\n",
              "      <td>16.0</td>\n",
              "      <td>9.0</td>\n",
              "      <td>0.0</td>\n",
              "    </tr>\n",
              "    <tr>\n",
              "      <th>3</th>\n",
              "      <td>0.0</td>\n",
              "      <td>0.0</td>\n",
              "      <td>7.0</td>\n",
              "      <td>15.0</td>\n",
              "      <td>13.0</td>\n",
              "      <td>1.0</td>\n",
              "      <td>0.0</td>\n",
              "      <td>0.0</td>\n",
              "      <td>0.0</td>\n",
              "      <td>8.0</td>\n",
              "      <td>13.0</td>\n",
              "      <td>6.0</td>\n",
              "      <td>15.0</td>\n",
              "      <td>4.0</td>\n",
              "      <td>0.0</td>\n",
              "      <td>0.0</td>\n",
              "      <td>0.0</td>\n",
              "      <td>2.0</td>\n",
              "      <td>1.0</td>\n",
              "      <td>13.0</td>\n",
              "      <td>13.0</td>\n",
              "      <td>0.0</td>\n",
              "      <td>0.0</td>\n",
              "      <td>0.0</td>\n",
              "      <td>0.0</td>\n",
              "      <td>0.0</td>\n",
              "      <td>2.0</td>\n",
              "      <td>15.0</td>\n",
              "      <td>11.0</td>\n",
              "      <td>1.0</td>\n",
              "      <td>0.0</td>\n",
              "      <td>0.0</td>\n",
              "      <td>0.0</td>\n",
              "      <td>0.0</td>\n",
              "      <td>0.0</td>\n",
              "      <td>1.0</td>\n",
              "      <td>12.0</td>\n",
              "      <td>12.0</td>\n",
              "      <td>1.0</td>\n",
              "      <td>0.0</td>\n",
              "      <td>0.0</td>\n",
              "      <td>0.0</td>\n",
              "      <td>0.0</td>\n",
              "      <td>0.0</td>\n",
              "      <td>1.0</td>\n",
              "      <td>10.0</td>\n",
              "      <td>8.0</td>\n",
              "      <td>0.0</td>\n",
              "      <td>0.0</td>\n",
              "      <td>0.0</td>\n",
              "      <td>8.0</td>\n",
              "      <td>4.0</td>\n",
              "      <td>5.0</td>\n",
              "      <td>14.0</td>\n",
              "      <td>9.0</td>\n",
              "      <td>0.0</td>\n",
              "      <td>0.0</td>\n",
              "      <td>0.0</td>\n",
              "      <td>7.0</td>\n",
              "      <td>13.0</td>\n",
              "      <td>13.0</td>\n",
              "      <td>9.0</td>\n",
              "      <td>0.0</td>\n",
              "      <td>0.0</td>\n",
              "    </tr>\n",
              "    <tr>\n",
              "      <th>4</th>\n",
              "      <td>0.0</td>\n",
              "      <td>0.0</td>\n",
              "      <td>0.0</td>\n",
              "      <td>1.0</td>\n",
              "      <td>11.0</td>\n",
              "      <td>0.0</td>\n",
              "      <td>0.0</td>\n",
              "      <td>0.0</td>\n",
              "      <td>0.0</td>\n",
              "      <td>0.0</td>\n",
              "      <td>0.0</td>\n",
              "      <td>7.0</td>\n",
              "      <td>8.0</td>\n",
              "      <td>0.0</td>\n",
              "      <td>0.0</td>\n",
              "      <td>0.0</td>\n",
              "      <td>0.0</td>\n",
              "      <td>0.0</td>\n",
              "      <td>1.0</td>\n",
              "      <td>13.0</td>\n",
              "      <td>6.0</td>\n",
              "      <td>2.0</td>\n",
              "      <td>2.0</td>\n",
              "      <td>0.0</td>\n",
              "      <td>0.0</td>\n",
              "      <td>0.0</td>\n",
              "      <td>7.0</td>\n",
              "      <td>15.0</td>\n",
              "      <td>0.0</td>\n",
              "      <td>9.0</td>\n",
              "      <td>8.0</td>\n",
              "      <td>0.0</td>\n",
              "      <td>0.0</td>\n",
              "      <td>5.0</td>\n",
              "      <td>16.0</td>\n",
              "      <td>10.0</td>\n",
              "      <td>0.0</td>\n",
              "      <td>16.0</td>\n",
              "      <td>6.0</td>\n",
              "      <td>0.0</td>\n",
              "      <td>0.0</td>\n",
              "      <td>4.0</td>\n",
              "      <td>15.0</td>\n",
              "      <td>16.0</td>\n",
              "      <td>13.0</td>\n",
              "      <td>16.0</td>\n",
              "      <td>1.0</td>\n",
              "      <td>0.0</td>\n",
              "      <td>0.0</td>\n",
              "      <td>0.0</td>\n",
              "      <td>0.0</td>\n",
              "      <td>3.0</td>\n",
              "      <td>15.0</td>\n",
              "      <td>10.0</td>\n",
              "      <td>0.0</td>\n",
              "      <td>0.0</td>\n",
              "      <td>0.0</td>\n",
              "      <td>0.0</td>\n",
              "      <td>0.0</td>\n",
              "      <td>2.0</td>\n",
              "      <td>16.0</td>\n",
              "      <td>4.0</td>\n",
              "      <td>0.0</td>\n",
              "      <td>0.0</td>\n",
              "    </tr>\n",
              "  </tbody>\n",
              "</table>\n",
              "</div>"
            ],
            "text/plain": [
              "    0    1    2     3     4     5    6   ...   57   58    59    60    61   62   63\n",
              "0  0.0  0.0  5.0  13.0   9.0   1.0  0.0  ...  0.0  6.0  13.0  10.0   0.0  0.0  0.0\n",
              "1  0.0  0.0  0.0  12.0  13.0   5.0  0.0  ...  0.0  0.0  11.0  16.0  10.0  0.0  0.0\n",
              "2  0.0  0.0  0.0   4.0  15.0  12.0  0.0  ...  0.0  0.0   3.0  11.0  16.0  9.0  0.0\n",
              "3  0.0  0.0  7.0  15.0  13.0   1.0  0.0  ...  0.0  7.0  13.0  13.0   9.0  0.0  0.0\n",
              "4  0.0  0.0  0.0   1.0  11.0   0.0  0.0  ...  0.0  0.0   2.0  16.0   4.0  0.0  0.0\n",
              "\n",
              "[5 rows x 64 columns]"
            ]
          },
          "metadata": {
            "tags": []
          },
          "execution_count": 172
        }
      ]
    },
    {
      "cell_type": "code",
      "metadata": {
        "colab": {
          "base_uri": "https://localhost:8080/",
          "height": 282
        },
        "id": "5Knay7UHerV-",
        "outputId": "1b9b611a-592d-4119-92e6-f66b520e40fa"
      },
      "source": [
        "plt.imshow(digits_df.loc[4,:].values.reshape(8,8), cmap=plt.cm.gray_r)"
      ],
      "execution_count": null,
      "outputs": [
        {
          "output_type": "execute_result",
          "data": {
            "text/plain": [
              "<matplotlib.image.AxesImage at 0x7f469630a470>"
            ]
          },
          "metadata": {
            "tags": []
          },
          "execution_count": 176
        },
        {
          "output_type": "display_data",
          "data": {
            "image/png": "[encoded data removed]",
            "text/plain": [
              "<Figure size 432x288 with 1 Axes>"
            ]
          },
          "metadata": {
            "tags": [],
            "needs_background": "light"
          }
        }
      ]
    },
    {
      "cell_type": "markdown",
      "metadata": {
        "id": "3eDDanQH43uJ"
      },
      "source": [
        "### これから追加して説明したいこと"
      ]
    },
    {
      "cell_type": "code",
      "metadata": {
        "id": "7osGPdfP0hAF"
      },
      "source": [
        ""
      ],
      "execution_count": null,
      "outputs": []
    }
  ]
}