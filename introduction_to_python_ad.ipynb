{
  "nbformat": 4,
  "nbformat_minor": 0,
  "metadata": {
    "colab": {
      "name": "introduction_to_python_ad.ipynb",
      "provenance": [],
      "collapsed_sections": [
        "Ni5tc0nPrqDM",
        "EIVG39dTvmHS",
        "qBFuJgF3xw_d",
        "YYzr17dCrdGn",
        "CUU2l4blsmGd",
        "pLiaqzA6tTDr",
        "CayK5y3Xtgii",
        "V67Tfma3gRvB",
        "MALnRpE1vOsC",
        "0qilrBYPwDDw",
        "t6k0KX_Iz6Vl",
        "3eDDanQH43uJ"
      ]
    },
    "kernelspec": {
      "name": "python3",
      "display_name": "Python 3"
    }
  },
  "cells": [
    {
      "cell_type": "markdown",
      "metadata": {
        "id": "VMCFapnzmJ_9"
      },
      "source": [
        "# Python の使い方\n",
        "*introduction_to_python_ad.ipynb*\n",
        "\n",
        "A. Date \n",
        "updated 2021.5.26\n",
        "\n",
        "ここでは，Python の使い方を『例』を使って紹介します．\n",
        "まったくの初心者向けではありません．\n",
        "C言語など，ほかの言語で小さいプログラムを書いたことがある人向けです．\n",
        "私が担当する講義に関係する内容が，いろいろ混ざっています．\n",
        "\n",
        "わからないことがあれば Google 検索すると，説明されているページにたどり着けます．\n",
        "とは言っても，分かりやすいページに辿り着けない場合が多いです．\n",
        "もっとも正確に説明しているのは『公式ドキュメント』です．\n",
        "**ぜひ公式ドキュメントを読んでください**\n",
        "\n",
        "python 公式：（if 文， for 文， 関数）\n",
        "https://docs.python.org/ja/3/tutorial/controlflow.html\n",
        "<br>\n",
        "numpy 公式：\n",
        "https://numpy.org/doc/stable/reference/generated/numpy.arange.html\n",
        "<br>\n",
        "matplotlib 公式：\n",
        "https://matplotlib.org/contents.html"
      ]
    },
    {
      "cell_type": "markdown",
      "metadata": {
        "id": "Jzd3iMu6mTH_"
      },
      "source": [
        "**Pythonの起動**\n",
        "\n",
        "Linux の場合はコマンドラインから 'python' と打ち込めば，Python が起動します． この ノートブック上でその必要はありません．<br>\n",
        "まずは Python を電卓のように使ってみましょう．\n",
        "\n",
        "すぐ下の左端にある再生ボタンを押すか．shiftキーを押しながらenterキーを押すと内容が実行されます．\n"
      ]
    },
    {
      "cell_type": "code",
      "metadata": {
        "id": "TtbJYMFmnSGg",
        "colab": {
          "base_uri": "https://localhost:8080/"
        },
        "outputId": "650ba615-9ab2-43a3-f6d1-28e6629eb7e0"
      },
      "source": [
        "(1+2)*(3-4)*5^2"
      ],
      "execution_count": 227,
      "outputs": [
        {
          "output_type": "execute_result",
          "data": {
            "text/plain": [
              "-13"
            ]
          },
          "metadata": {
            "tags": []
          },
          "execution_count": 227
        }
      ]
    },
    {
      "cell_type": "markdown",
      "metadata": {
        "id": "WTwU2-runlF5"
      },
      "source": [
        "あれ？  3 ✕ (-1) ✕ 25 で， -75 になるはずだったんだが...  5^2 で 5の2乗は計算できていない模様．"
      ]
    },
    {
      "cell_type": "code",
      "metadata": {
        "id": "Ey2PSTNrntPE",
        "colab": {
          "base_uri": "https://localhost:8080/"
        },
        "outputId": "64d69137-df07-41ee-9f5d-f153ccba445e"
      },
      "source": [
        "5^2"
      ],
      "execution_count": 6,
      "outputs": [
        {
          "output_type": "execute_result",
          "data": {
            "text/plain": [
              "7"
            ]
          },
          "metadata": {
            "tags": []
          },
          "execution_count": 6
        }
      ]
    },
    {
      "cell_type": "code",
      "metadata": {
        "id": "6NPwkCNIn5U8",
        "colab": {
          "base_uri": "https://localhost:8080/"
        },
        "outputId": "5ad9c389-c9d6-4a71-f1ac-4eb1cab6944a"
      },
      "source": [
        "5**2"
      ],
      "execution_count": 7,
      "outputs": [
        {
          "output_type": "execute_result",
          "data": {
            "text/plain": [
              "25"
            ]
          },
          "metadata": {
            "tags": []
          },
          "execution_count": 7
        }
      ]
    },
    {
      "cell_type": "code",
      "metadata": {
        "id": "fecEz228n7AL",
        "colab": {
          "base_uri": "https://localhost:8080/"
        },
        "outputId": "445b89c2-2f01-40c1-e319-e22840a81dcf"
      },
      "source": [
        "(1+2)*(3-4)*5**2"
      ],
      "execution_count": 8,
      "outputs": [
        {
          "output_type": "execute_result",
          "data": {
            "text/plain": [
              "-75"
            ]
          },
          "metadata": {
            "tags": []
          },
          "execution_count": 8
        }
      ]
    },
    {
      "cell_type": "code",
      "metadata": {
        "id": "mO_cs10Sn-My",
        "colab": {
          "base_uri": "https://localhost:8080/",
          "height": 166
        },
        "outputId": "1b94cc4d-ccb0-456d-92a3-5b7776cc9c2e"
      },
      "source": [
        "exp(10)*log(5)*sin(0.5*pi)"
      ],
      "execution_count": 9,
      "outputs": [
        {
          "output_type": "error",
          "ename": "NameError",
          "evalue": "ignored",
          "traceback": [
            "\u001b[0;31m---------------------------------------------------------------------------\u001b[0m",
            "\u001b[0;31mNameError\u001b[0m                                 Traceback (most recent call last)",
            "\u001b[0;32m<ipython-input-9-1cf72cd30d81>\u001b[0m in \u001b[0;36m<module>\u001b[0;34m()\u001b[0m\n\u001b[0;32m----> 1\u001b[0;31m \u001b[0mexp\u001b[0m\u001b[0;34m(\u001b[0m\u001b[0;36m10\u001b[0m\u001b[0;34m)\u001b[0m\u001b[0;34m*\u001b[0m\u001b[0mlog\u001b[0m\u001b[0;34m(\u001b[0m\u001b[0;36m5\u001b[0m\u001b[0;34m)\u001b[0m\u001b[0;34m*\u001b[0m\u001b[0msin\u001b[0m\u001b[0;34m(\u001b[0m\u001b[0;36m0.5\u001b[0m\u001b[0;34m*\u001b[0m\u001b[0mpi\u001b[0m\u001b[0;34m)\u001b[0m\u001b[0;34m\u001b[0m\u001b[0;34m\u001b[0m\u001b[0m\n\u001b[0m",
            "\u001b[0;31mNameError\u001b[0m: name 'exp' is not defined"
          ]
        }
      ]
    },
    {
      "cell_type": "markdown",
      "metadata": {
        "id": "hvKsyZWnitzg"
      },
      "source": [
        "↑ わざとエラーを出しました．"
      ]
    },
    {
      "cell_type": "code",
      "metadata": {
        "id": "ootzWOFqoIQL"
      },
      "source": [
        "import math"
      ],
      "execution_count": 228,
      "outputs": []
    },
    {
      "cell_type": "code",
      "metadata": {
        "id": "JgZ8R5HWoUb2",
        "colab": {
          "base_uri": "https://localhost:8080/"
        },
        "outputId": "037b2e23-527d-401d-e24c-8a770cd28b64"
      },
      "source": [
        "math.exp(10)*math.log(5)*math.sin(0.5*math.pi)"
      ],
      "execution_count": 229,
      "outputs": [
        {
          "output_type": "execute_result",
          "data": {
            "text/plain": [
              "35450.22912709484"
            ]
          },
          "metadata": {
            "tags": []
          },
          "execution_count": 229
        }
      ]
    },
    {
      "cell_type": "markdown",
      "metadata": {
        "id": "uH3iFlQQoB87"
      },
      "source": [
        "今後 math モジュールは使わない．numpy モジュールを使う！！！  （なにそれ，という人は，先に進む）"
      ]
    },
    {
      "cell_type": "code",
      "metadata": {
        "id": "XyilcR6BoWCX"
      },
      "source": [
        "import numpy as np"
      ],
      "execution_count": 230,
      "outputs": []
    },
    {
      "cell_type": "markdown",
      "metadata": {
        "id": "JTz3fg3OrYA5"
      },
      "source": [
        "これで  numpy を np で使えるようになる． numpy を使おう．"
      ]
    },
    {
      "cell_type": "code",
      "metadata": {
        "id": "PKTi5uuCpWls",
        "colab": {
          "base_uri": "https://localhost:8080/"
        },
        "outputId": "3e8b7da0-8e29-481c-b4de-5931c9d72e72"
      },
      "source": [
        "np.exp(10)*np.log(5)*np.sin(0.5*np.pi)"
      ],
      "execution_count": 231,
      "outputs": [
        {
          "output_type": "execute_result",
          "data": {
            "text/plain": [
              "35450.22912709484"
            ]
          },
          "metadata": {
            "tags": []
          },
          "execution_count": 231
        }
      ]
    },
    {
      "cell_type": "markdown",
      "metadata": {
        "id": "Ni5tc0nPrqDM"
      },
      "source": [
        "## **速習 Python： $ f(t) = 2\\sin t$ のグラフを描く** \n",
        "\n",
        "これが Python で数学の関数の扱う際の基本です． ここは理解してすすんでください． まずは，動かしてみる． 各行において， # より後ろはコメント．"
      ]
    },
    {
      "cell_type": "code",
      "metadata": {
        "id": "g_C8DHGtrNkw",
        "colab": {
          "base_uri": "https://localhost:8080/",
          "height": 265
        },
        "outputId": "04b574cf-b5ad-402a-c9cf-6f310f11fca2"
      },
      "source": [
        "# -*- coding: utf-8 -*-\n",
        "import numpy as np\n",
        "import matplotlib.pyplot as plt\n",
        "\n",
        "def f(t):\n",
        "  return 2.0*np.sin(t)\n",
        "\n",
        "dt = 0.01\n",
        "start = -2.0*np.pi\n",
        "end = 2.0*np.pi\n",
        "\n",
        "# 横軸 t の作成．-6.28 から 6.28 を 0.01 おきに． t と s はベクトル（配列）．\n",
        "t = np.arange(start, end, dt)\n",
        "s = f(t)\n",
        "\n",
        "# 以下の2行でデータを表示．\n",
        "#for i in range(t.size): \n",
        "#  print(f'{t[i]:.5f}'+'\\t'+f'{s[i]:.5f}')\n",
        "\n",
        "fig=plt.figure(0)\n",
        "plt.plot (t, s, linewidth=1.0, color=\"r\",linestyle=\"solid\",label=\"$ 2\\sin t $\")\n",
        "plt.grid()\n",
        "plt.legend()\n",
        "plt.show()\n",
        "fig.savefig('fig321.pdf') "
      ],
      "execution_count": 232,
      "outputs": [
        {
          "output_type": "display_data",
          "data": {
            "image/png": "[encoded data removed]",
            "text/plain": [
              "<Figure size 432x288 with 1 Axes>"
            ]
          },
          "metadata": {
            "tags": [],
            "needs_background": "light"
          }
        }
      ]
    },
    {
      "cell_type": "markdown",
      "metadata": {
        "id": "aIzdf8iDsN0M"
      },
      "source": [
        "ここでは，上のコードを理解するため，次の6つについて説明．\n",
        "\n",
        "1. np.arange\n",
        "2. for 文\n",
        "3. range\n",
        "4. .size\n",
        "5. 関数 def\n",
        "6. グラフの描画\n",
        "\n",
        "最初の3行は，最初は，おまじないと思って前へ進むのがよい．\n",
        "\n",
        "    # -*- coding: utf-8 -*-\n",
        "    import numpy as np\n",
        "    import matplotlib.pyplot as plt"
      ]
    },
    {
      "cell_type": "markdown",
      "metadata": {
        "id": "_6AWX9Evs2Bz"
      },
      "source": [
        "np.arange は，これからも，よく使う.\n",
        "『例』をみれば使い方がわかる．"
      ]
    },
    {
      "cell_type": "code",
      "metadata": {
        "id": "chK3U4Z1syaq",
        "colab": {
          "base_uri": "https://localhost:8080/"
        },
        "outputId": "c222472f-298d-44e5-d62f-521c6de403a8"
      },
      "source": [
        "np.arange(10)"
      ],
      "execution_count": 17,
      "outputs": [
        {
          "output_type": "execute_result",
          "data": {
            "text/plain": [
              "array([0, 1, 2, 3, 4, 5, 6, 7, 8, 9])"
            ]
          },
          "metadata": {
            "tags": []
          },
          "execution_count": 17
        }
      ]
    },
    {
      "cell_type": "code",
      "metadata": {
        "id": "BYVNjyQRtB9E",
        "colab": {
          "base_uri": "https://localhost:8080/"
        },
        "outputId": "5525b25d-5763-4e58-c2af-758a3aebc2cf"
      },
      "source": [
        "np.arange(10,20)"
      ],
      "execution_count": 18,
      "outputs": [
        {
          "output_type": "execute_result",
          "data": {
            "text/plain": [
              "array([10, 11, 12, 13, 14, 15, 16, 17, 18, 19])"
            ]
          },
          "metadata": {
            "tags": []
          },
          "execution_count": 18
        }
      ]
    },
    {
      "cell_type": "code",
      "metadata": {
        "id": "7Mbv3IgdtKc8",
        "colab": {
          "base_uri": "https://localhost:8080/"
        },
        "outputId": "fe58ee88-8e93-4295-d918-7a593d78be9e"
      },
      "source": [
        "np.arange(0.0,1.0, 0.1)"
      ],
      "execution_count": 23,
      "outputs": [
        {
          "output_type": "execute_result",
          "data": {
            "text/plain": [
              "array([0. , 0.1, 0.2, 0.3, 0.4, 0.5, 0.6, 0.7, 0.8, 0.9])"
            ]
          },
          "metadata": {
            "tags": []
          },
          "execution_count": 23
        }
      ]
    },
    {
      "cell_type": "markdown",
      "metadata": {
        "id": "zDCx7dIVPyDq"
      },
      "source": [
        "0.0 (start) から 1.0 (end) まで 0.1 おきに作成．  end が含まれないことに注意．"
      ]
    },
    {
      "cell_type": "code",
      "metadata": {
        "id": "FruFBlOTtRcK",
        "colab": {
          "base_uri": "https://localhost:8080/"
        },
        "outputId": "666599b1-9b14-45ab-9c0b-d1aa22b1a41f"
      },
      "source": [
        "a = np.arange(0.0,1.0, 0.1)\n",
        "print( type(a) )"
      ],
      "execution_count": 22,
      "outputs": [
        {
          "output_type": "stream",
          "text": [
            "<class 'numpy.ndarray'>\n"
          ],
          "name": "stdout"
        }
      ]
    },
    {
      "cell_type": "markdown",
      "metadata": {
        "id": "-cUxRMs_QM1p"
      },
      "source": [
        "生成したもの（この場合は a）の型を知りたい場合． type(a) とすれば分かる．"
      ]
    },
    {
      "cell_type": "markdown",
      "metadata": {
        "id": "9gevQjZIy1Rf"
      },
      "source": [
        "各要素が等差数列にしたがうベクトルが生成される．\n",
        "これは，**グラフを描くときなどに軸を離散化する必要があるのでよく使う．**\n",
        "10から30（未満）までを5おきにであれば"
      ]
    },
    {
      "cell_type": "code",
      "metadata": {
        "id": "cTTAKVauzDXP",
        "colab": {
          "base_uri": "https://localhost:8080/"
        },
        "outputId": "54136cf3-3f01-49cd-9f6d-c08d7515e527"
      },
      "source": [
        "np.arange(10,30,5) "
      ],
      "execution_count": 24,
      "outputs": [
        {
          "output_type": "execute_result",
          "data": {
            "text/plain": [
              "array([10, 15, 20, 25])"
            ]
          },
          "metadata": {
            "tags": []
          },
          "execution_count": 24
        }
      ]
    },
    {
      "cell_type": "markdown",
      "metadata": {
        "id": "H4iZorkLzJ2X"
      },
      "source": [
        "3番目の引数を省略すれば，公差は1になる．"
      ]
    },
    {
      "cell_type": "code",
      "metadata": {
        "id": "tKycx9kUzNmN",
        "colab": {
          "base_uri": "https://localhost:8080/"
        },
        "outputId": "fa0a9207-d85c-46c3-cd95-3f3e4c69022c"
      },
      "source": [
        "np.arange(10,30)"
      ],
      "execution_count": 25,
      "outputs": [
        {
          "output_type": "execute_result",
          "data": {
            "text/plain": [
              "array([10, 11, 12, 13, 14, 15, 16, 17, 18, 19, 20, 21, 22, 23, 24, 25, 26,\n",
              "       27, 28, 29])"
            ]
          },
          "metadata": {
            "tags": []
          },
          "execution_count": 25
        }
      ]
    },
    {
      "cell_type": "markdown",
      "metadata": {
        "id": "ES4RR3b6zTki"
      },
      "source": [
        "arrage とは別に linspace も使える．"
      ]
    },
    {
      "cell_type": "code",
      "metadata": {
        "id": "UEa_FzjozV6p",
        "colab": {
          "base_uri": "https://localhost:8080/"
        },
        "outputId": "0e6891cf-bf04-4d1e-f7aa-847de73d1826"
      },
      "source": [
        "np.linspace(10,30,20) "
      ],
      "execution_count": 26,
      "outputs": [
        {
          "output_type": "execute_result",
          "data": {
            "text/plain": [
              "array([10.        , 11.05263158, 12.10526316, 13.15789474, 14.21052632,\n",
              "       15.26315789, 16.31578947, 17.36842105, 18.42105263, 19.47368421,\n",
              "       20.52631579, 21.57894737, 22.63157895, 23.68421053, 24.73684211,\n",
              "       25.78947368, 26.84210526, 27.89473684, 28.94736842, 30.        ])"
            ]
          },
          "metadata": {
            "tags": []
          },
          "execution_count": 26
        }
      ]
    },
    {
      "cell_type": "markdown",
      "metadata": {
        "id": "jUcBRrJDzbwC"
      },
      "source": [
        "これは 等間隔で20個（3番目の引数）を返してくる． こんどは最後の30が含まれている．"
      ]
    },
    {
      "cell_type": "markdown",
      "metadata": {
        "id": "MqiFl0X9Rr8K"
      },
      "source": [
        "ここで，スライシングとよばれるものも簡単に紹介しておこう．"
      ]
    },
    {
      "cell_type": "code",
      "metadata": {
        "colab": {
          "base_uri": "https://localhost:8080/"
        },
        "id": "jdfdzb2VRpuJ",
        "outputId": "11fd5962-d8d1-4946-f98a-d3ee2928e67d"
      },
      "source": [
        "a = np.arange(10)   # array([0, 1, 2, 3, 4, 5, 6, 7, 8, 9])\n",
        "b = a[3:6]  # 3 (start) から 6 (end) まで． end は含まれない．\n",
        "print(b)\n",
        "\n",
        "c = a[2:7:2]  # 2 から 7 まで 2 おきに取り出す．\n",
        "print(c)"
      ],
      "execution_count": 33,
      "outputs": [
        {
          "output_type": "stream",
          "text": [
            "[3 4 5]\n",
            "[2 4 6]\n"
          ],
          "name": "stdout"
        }
      ]
    },
    {
      "cell_type": "markdown",
      "metadata": {
        "id": "b8P324Thtz_E"
      },
      "source": [
        "上の例で，使い方は，だいたい理解できたはず．\n",
        "\n",
        "正確なことを知りたい場合は，『公式マニュアル』を見ればよい<br>\n",
        "numpy 公式マニュアル<br>\n",
        "https://numpy.org/doc/stable/reference/generated/numpy.arange.html"
      ]
    },
    {
      "cell_type": "markdown",
      "metadata": {
        "id": "F4WFpILkvlDT"
      },
      "source": [
        "# **size** について"
      ]
    },
    {
      "cell_type": "code",
      "metadata": {
        "colab": {
          "base_uri": "https://localhost:8080/"
        },
        "id": "LSUiB7TTvqT-",
        "outputId": "a4c55029-2d68-4077-94ec-9880b0000164"
      },
      "source": [
        "a = np.arange(0.0,1.0, 0.1)\n",
        "print(a)\n",
        "print(a.size)\n",
        "print( len(a) )"
      ],
      "execution_count": 34,
      "outputs": [
        {
          "output_type": "stream",
          "text": [
            "[0.  0.1 0.2 0.3 0.4 0.5 0.6 0.7 0.8 0.9]\n",
            "10\n",
            "10\n"
          ],
          "name": "stdout"
        }
      ]
    },
    {
      "cell_type": "markdown",
      "metadata": {
        "id": "zgGl6jwXv042"
      },
      "source": [
        "というわけで，（変数）.size は，要素数を返してくれる．\n",
        "さき走って説明すると， shape というのもある．"
      ]
    },
    {
      "cell_type": "code",
      "metadata": {
        "colab": {
          "base_uri": "https://localhost:8080/"
        },
        "id": "w_Lh6QdTv9_m",
        "outputId": "e5e32aa7-83f1-4a96-cb30-4c6cf1017d44"
      },
      "source": [
        "a.shape"
      ],
      "execution_count": 35,
      "outputs": [
        {
          "output_type": "execute_result",
          "data": {
            "text/plain": [
              "(10,)"
            ]
          },
          "metadata": {
            "tags": []
          },
          "execution_count": 35
        }
      ]
    },
    {
      "cell_type": "code",
      "metadata": {
        "colab": {
          "base_uri": "https://localhost:8080/"
        },
        "id": "nSUhtrKewIds",
        "outputId": "d42727a2-b84a-4f0d-9c4e-7b1a3b00e946"
      },
      "source": [
        "A = np.array([[1, 2], [3,4]])\n",
        "print( A.shape )\n",
        "print (A.size )"
      ],
      "execution_count": 37,
      "outputs": [
        {
          "output_type": "stream",
          "text": [
            "(2, 2)\n",
            "4\n"
          ],
          "name": "stdout"
        }
      ]
    },
    {
      "cell_type": "markdown",
      "metadata": {
        "id": "LDFmPkPnvHfY"
      },
      "source": [
        "## **for 文と range， print 文**\n",
        "\n",
        "for 文は，次のような形で，よく使われる．"
      ]
    },
    {
      "cell_type": "code",
      "metadata": {
        "colab": {
          "base_uri": "https://localhost:8080/"
        },
        "id": "DmMbZ3MTvUId",
        "outputId": "3cba8232-140c-4c17-dc5a-f9757be0cc44"
      },
      "source": [
        "for i in range(5): \n",
        "  print(i)"
      ],
      "execution_count": 39,
      "outputs": [
        {
          "output_type": "stream",
          "text": [
            "0\n",
            "1\n",
            "2\n",
            "3\n",
            "4\n"
          ],
          "name": "stdout"
        }
      ]
    },
    {
      "cell_type": "markdown",
      "metadata": {
        "id": "JgJX2ZU_w59l"
      },
      "source": [
        "python 公式ドキュメント：（if 文， for 文， 関数） <br>\n",
        "https://docs.python.org/ja/3/tutorial/controlflow.html\n"
      ]
    },
    {
      "cell_type": "markdown",
      "metadata": {
        "id": "QfRJmxxpyNS_"
      },
      "source": [
        "## 関数の定義 def hoge:"
      ]
    },
    {
      "cell_type": "code",
      "metadata": {
        "colab": {
          "base_uri": "https://localhost:8080/"
        },
        "id": "3F-UAVR0t-3P",
        "outputId": "387bbb59-5deb-403c-9118-8f412c94cb5d"
      },
      "source": [
        "def hoge(u):\n",
        "  return u*u\n",
        "\n",
        "a=3\n",
        "print (hoge(a))"
      ],
      "execution_count": 41,
      "outputs": [
        {
          "output_type": "stream",
          "text": [
            "9\n"
          ],
          "name": "stdout"
        }
      ]
    },
    {
      "cell_type": "markdown",
      "metadata": {
        "id": "SamS4-cw5_9b"
      },
      "source": [
        "u は，関数の引数．"
      ]
    },
    {
      "cell_type": "markdown",
      "metadata": {
        "id": "ozCatNEP2O_X"
      },
      "source": [
        "## **print 文**"
      ]
    },
    {
      "cell_type": "code",
      "metadata": {
        "colab": {
          "base_uri": "https://localhost:8080/"
        },
        "id": "gMB0Y0J02Fxs",
        "outputId": "a1964582-ee8b-4dfc-e41d-be0d7597b9c8"
      },
      "source": [
        "a = np.arange(0.0,1.0, 0.1)\n",
        "print(a)\n",
        "print(f'{a[3]:.5f}') # float 型 小数点以下5桁を表示"
      ],
      "execution_count": 44,
      "outputs": [
        {
          "output_type": "stream",
          "text": [
            "[0.  0.1 0.2 0.3 0.4 0.5 0.6 0.7 0.8 0.9]\n",
            "0.30000\n"
          ],
          "name": "stdout"
        }
      ]
    },
    {
      "cell_type": "code",
      "metadata": {
        "colab": {
          "base_uri": "https://localhost:8080/"
        },
        "id": "u4Rh_WHG2xQ_",
        "outputId": "e82fa0fa-72e9-4e54-f3dc-d7c4239a6a69"
      },
      "source": [
        "a = np.random.rand(5) # 0〜1 の一様乱数を 5 つ生成\n",
        "print(a)\n",
        "for i in range(a.size):\n",
        "  print(f'{i}'+'\\t'+f'{a[i]:.20f}')   # \\t は tab， f'{} は format （C言語の printf の f）"
      ],
      "execution_count": 45,
      "outputs": [
        {
          "output_type": "stream",
          "text": [
            "[0.2381685  0.90029095 0.30277713 0.48859034 0.73072929]\n",
            "0\t0.23816850016059587514\n",
            "1\t0.90029095401042169566\n",
            "2\t0.30277713381616366828\n",
            "3\t0.48859034012780555578\n",
            "4\t0.73072928504660306093\n"
          ],
          "name": "stdout"
        }
      ]
    },
    {
      "cell_type": "markdown",
      "metadata": {
        "id": "4IlB4_bi4exM"
      },
      "source": [
        "グラフの描画について\n",
        "\n",
        "    fig=plt.figure(0)\n",
        "    plt.plot (t, s, linewidth=1.0, color=\"r\",linestyle=\"solid\",label=\"$ 2\\sin t $\")\n",
        "    plt.grid()\n",
        "    plt.legend()\n",
        "    plt.show()\n",
        "    fig.savefig('fig321.pdf') \n",
        "\n",
        "matplotlib というのを使って描画している． 使い方は，コードを見ればだいたいはわかると思います． 説明は少し面倒なのでここでは省略．\n",
        "\n",
        "\n",
        "公式ドキュメント：\n",
        "https://matplotlib.org/contents.html"
      ]
    },
    {
      "cell_type": "markdown",
      "metadata": {
        "id": "_IlAg1zz5ixk"
      },
      "source": [
        "**そのほか，$\\pi$ などの定数が使える．**"
      ]
    },
    {
      "cell_type": "code",
      "metadata": {
        "colab": {
          "base_uri": "https://localhost:8080/"
        },
        "id": "SSCFdWw05laY",
        "outputId": "34b72be0-5352-48da-f50b-78628ea09dd6"
      },
      "source": [
        "print( np.pi )\n",
        "print( np.e )"
      ],
      "execution_count": 47,
      "outputs": [
        {
          "output_type": "stream",
          "text": [
            "3.141592653589793\n",
            "2.718281828459045\n"
          ],
          "name": "stdout"
        }
      ]
    },
    {
      "cell_type": "markdown",
      "metadata": {
        "id": "VUFjjJWJ6Kxb"
      },
      "source": [
        "## **そのそも C言語にある int とか double とか変数の型宣言は必要ないのか？**\n",
        "\n",
        "自動で判別してくれる．"
      ]
    },
    {
      "cell_type": "code",
      "metadata": {
        "id": "eXtwRij76dp0"
      },
      "source": [
        "a =3\n",
        "b = 2.1\n",
        "c = a*b\n",
        "d = np.array(34, np.float32) # もちろん型を指定することもできる．"
      ],
      "execution_count": 50,
      "outputs": []
    },
    {
      "cell_type": "code",
      "metadata": {
        "colab": {
          "base_uri": "https://localhost:8080/"
        },
        "id": "PPKjbWTT6kD6",
        "outputId": "66b6b8f0-aa8a-4a65-e349-cf96077c8b6e"
      },
      "source": [
        "print(a)\n",
        "print(b)\n",
        "print(c)\n",
        "print(d)"
      ],
      "execution_count": 51,
      "outputs": [
        {
          "output_type": "stream",
          "text": [
            "3\n",
            "2.1\n",
            "6.300000000000001\n",
            "34.0\n"
          ],
          "name": "stdout"
        }
      ]
    },
    {
      "cell_type": "code",
      "metadata": {
        "colab": {
          "base_uri": "https://localhost:8080/"
        },
        "id": "W0NTvDXu65ff",
        "outputId": "97774334-973d-4570-e81b-eec2b906f6ff"
      },
      "source": [
        "print( type(a) )\n",
        "print( type(b) )\n",
        "print( type(c) )\n",
        "print( type(d) )"
      ],
      "execution_count": 52,
      "outputs": [
        {
          "output_type": "stream",
          "text": [
            "<class 'int'>\n",
            "<class 'float'>\n",
            "<class 'float'>\n",
            "<class 'numpy.ndarray'>\n"
          ],
          "name": "stdout"
        }
      ]
    },
    {
      "cell_type": "code",
      "metadata": {
        "colab": {
          "base_uri": "https://localhost:8080/"
        },
        "id": "tWvyeKjL8c43",
        "outputId": "8007f021-7e42-489d-d1de-abfd70409f04"
      },
      "source": [
        "print( np.iinfo(np.int64) )\n",
        "print( np.finfo(np.float32) )\n",
        "print( np.finfo(np.float64) )"
      ],
      "execution_count": 53,
      "outputs": [
        {
          "output_type": "stream",
          "text": [
            "Machine parameters for int64\n",
            "---------------------------------------------------------------\n",
            "min = -9223372036854775808\n",
            "max = 9223372036854775807\n",
            "---------------------------------------------------------------\n",
            "\n",
            "Machine parameters for float32\n",
            "---------------------------------------------------------------\n",
            "precision =   6   resolution = 1.0000000e-06\n",
            "machep =    -23   eps =        1.1920929e-07\n",
            "negep =     -24   epsneg =     5.9604645e-08\n",
            "minexp =   -126   tiny =       1.1754944e-38\n",
            "maxexp =    128   max =        3.4028235e+38\n",
            "nexp =        8   min =        -max\n",
            "---------------------------------------------------------------\n",
            "\n",
            "Machine parameters for float64\n",
            "---------------------------------------------------------------\n",
            "precision =  15   resolution = 1.0000000000000001e-15\n",
            "machep =    -52   eps =        2.2204460492503131e-16\n",
            "negep =     -53   epsneg =     1.1102230246251565e-16\n",
            "minexp =  -1022   tiny =       2.2250738585072014e-308\n",
            "maxexp =   1024   max =        1.7976931348623157e+308\n",
            "nexp =       11   min =        -max\n",
            "---------------------------------------------------------------\n",
            "\n"
          ],
          "name": "stdout"
        }
      ]
    },
    {
      "cell_type": "markdown",
      "metadata": {
        "id": "PSueEW7hptUv"
      },
      "source": [
        "## **速習** Python： 微分方程式の例\n",
        "\n",
        "$$ \\frac{dx}{dt} = \\exp (-3t)， x(0)=１ $$ \n",
        "\n",
        "まずは，動かしてみる． 各行 # より後ろはコメント．"
      ]
    },
    {
      "cell_type": "code",
      "metadata": {
        "colab": {
          "base_uri": "https://localhost:8080/",
          "height": 285
        },
        "id": "eutw2GSCoQNJ",
        "outputId": "e2dae6b8-5290-4144-aae1-414550b1d3aa"
      },
      "source": [
        "import numpy as np\n",
        "import matplotlib.pyplot as plt\n",
        "from scipy.integrate import odeint\n",
        "\n",
        "def f(x, t):\n",
        "  return [ -3.0*x[0] ]\n",
        "\n",
        "x0 = [1.0] # 1.0 は初期値 x(0)\n",
        "t = np.arange(0, 10, 0.1) # 横軸 t の作成．0 から 10 を 0.1 おきに．t はベクトル．\n",
        "x = odeint(f, x0, t)  #  x にはベクトルが返ってくる．\n",
        "\n",
        "fig=plt.figure(0) # 以下は結果の表示\n",
        "plt.plot(t, x, linewidth=2, color=\"red\", linestyle=\"solid\",label=\"$x’=-3x$\")\n",
        "plt.xlabel('time($t$)', fontsize=14, color='black')\n",
        "plt.ylabel('$x$', fontsize=14)\n",
        "# plt.xlim(-1, 5) # 表示範囲を指定したい場合\n",
        "# plt.ylim(-0.5, 1.2)\n",
        "plt.grid()\n",
        "plt.legend()\n",
        "plt.show()\n",
        "fig.savefig('fig_ode101.pdf') # 図の pdf ファイルを作成"
      ],
      "execution_count": 54,
      "outputs": [
        {
          "output_type": "display_data",
          "data": {
            "image/png": "[encoded data removed]",
            "text/plain": [
              "<Figure size 432x288 with 1 Axes>"
            ]
          },
          "metadata": {
            "tags": [],
            "needs_background": "light"
          }
        }
      ]
    },
    {
      "cell_type": "markdown",
      "metadata": {
        "id": "6Shx853U87vb"
      },
      "source": [
        "# **odeint とは**\n",
        "\n",
        "ode (ordinary differential equations，常微分方程式) <br>\n",
        "公式ドキュメント:\n",
        "<br>\n",
        "https://docs.scipy.org/doc/scipy/reference/generated/scipy.integrate.odeint.html"
      ]
    },
    {
      "cell_type": "markdown",
      "metadata": {
        "id": "zHIiU_0phPuV"
      },
      "source": [
        "### **ベクトルの演算，ブロードキャスト**"
      ]
    },
    {
      "cell_type": "code",
      "metadata": {
        "colab": {
          "base_uri": "https://localhost:8080/"
        },
        "id": "gqbC6x_uhVUc",
        "outputId": "d43535e6-ed4d-42b3-99ef-60a50ed94693"
      },
      "source": [
        "a = np.ones(5)\n",
        "print(a)"
      ],
      "execution_count": 55,
      "outputs": [
        {
          "output_type": "stream",
          "text": [
            "[1. 1. 1. 1. 1.]\n"
          ],
          "name": "stdout"
        }
      ]
    },
    {
      "cell_type": "code",
      "metadata": {
        "colab": {
          "base_uri": "https://localhost:8080/"
        },
        "id": "wtwdA9_ahkcS",
        "outputId": "6e46c2b9-6755-4713-b1dc-8c06741eafdd"
      },
      "source": [
        "b = 0.5*a\n",
        "print(b)"
      ],
      "execution_count": 56,
      "outputs": [
        {
          "output_type": "stream",
          "text": [
            "[0.5 0.5 0.5 0.5 0.5]\n"
          ],
          "name": "stdout"
        }
      ]
    },
    {
      "cell_type": "code",
      "metadata": {
        "colab": {
          "base_uri": "https://localhost:8080/"
        },
        "id": "AgNtbCqxhqjv",
        "outputId": "ef7ee88f-202c-405e-b2b1-d65e9776d40a"
      },
      "source": [
        "np.arange(1,1.5,0.1)"
      ],
      "execution_count": 57,
      "outputs": [
        {
          "output_type": "execute_result",
          "data": {
            "text/plain": [
              "array([1. , 1.1, 1.2, 1.3, 1.4])"
            ]
          },
          "metadata": {
            "tags": []
          },
          "execution_count": 57
        }
      ]
    },
    {
      "cell_type": "code",
      "metadata": {
        "colab": {
          "base_uri": "https://localhost:8080/"
        },
        "id": "WqdEJfWkiFaU",
        "outputId": "427e7e79-f132-41ce-e334-65adba431e8b"
      },
      "source": [
        "0*np.arange(1,1.5,0.1)"
      ],
      "execution_count": 58,
      "outputs": [
        {
          "output_type": "execute_result",
          "data": {
            "text/plain": [
              "array([0., 0., 0., 0., 0.])"
            ]
          },
          "metadata": {
            "tags": []
          },
          "execution_count": 58
        }
      ]
    },
    {
      "cell_type": "code",
      "metadata": {
        "colab": {
          "base_uri": "https://localhost:8080/"
        },
        "id": "Ugfgk71ziJeK",
        "outputId": "d0e74cad-2710-44c6-b850-b0598ccaff0a"
      },
      "source": [
        "0*np.arange(1,1.5,0.1) + 0.5"
      ],
      "execution_count": 59,
      "outputs": [
        {
          "output_type": "execute_result",
          "data": {
            "text/plain": [
              "array([0.5, 0.5, 0.5, 0.5, 0.5])"
            ]
          },
          "metadata": {
            "tags": []
          },
          "execution_count": 59
        }
      ]
    },
    {
      "cell_type": "markdown",
      "metadata": {
        "id": "d1z90IwAU9dY"
      },
      "source": [
        "ベクトルに +0.5 とすることで， ５次元ベクトルの要素すべてに 0.5 が足されます．"
      ]
    },
    {
      "cell_type": "code",
      "metadata": {
        "colab": {
          "base_uri": "https://localhost:8080/"
        },
        "id": "VQ491xrYiULb",
        "outputId": "ec3b87a2-628f-4ce9-9763-e6f0326ed46b"
      },
      "source": [
        "a = np.arange(1,1.5,0.1) # array([1. , 1.1, 1.2, 1.3, 1.4])\n",
        "np.ones(a.size)"
      ],
      "execution_count": null,
      "outputs": [
        {
          "output_type": "execute_result",
          "data": {
            "text/plain": [
              "array([1., 1., 1., 1., 1.])"
            ]
          },
          "metadata": {
            "tags": []
          },
          "execution_count": 186
        }
      ]
    },
    {
      "cell_type": "code",
      "metadata": {
        "colab": {
          "base_uri": "https://localhost:8080/"
        },
        "id": "zTjliRJaiZN2",
        "outputId": "29744b6a-9f24-4f2a-c523-b123017dba93"
      },
      "source": [
        "0.5*np.ones(a.size)"
      ],
      "execution_count": null,
      "outputs": [
        {
          "output_type": "execute_result",
          "data": {
            "text/plain": [
              "array([0.5, 0.5, 0.5, 0.5, 0.5])"
            ]
          },
          "metadata": {
            "tags": []
          },
          "execution_count": 187
        }
      ]
    },
    {
      "cell_type": "markdown",
      "metadata": {
        "id": "rP7W9DBDko5p"
      },
      "source": [
        "$ f(x) = x^2, g(x)=x^2+1 $ のグラフを描く"
      ]
    },
    {
      "cell_type": "code",
      "metadata": {
        "colab": {
          "base_uri": "https://localhost:8080/",
          "height": 282
        },
        "id": "TI1Cp5jfk7R2",
        "outputId": "b9e5ff9a-da1a-44a6-a88d-c772d56f3dda"
      },
      "source": [
        "x = np.arange(-2, 2, 0.1) # 横軸 x の作成\n",
        "f = x*x\n",
        "g = x*x + 1\n",
        "# print(x)\n",
        "\n",
        "fig=plt.figure(0) # 以下は結果の表示\n",
        "plt.grid()\n",
        "plt.plot(x, f, linewidth=2, color=\"red\", linestyle=\"solid\")\n",
        "plt.plot(x, g, linewidth=2, color=\"blue\", linestyle=\"solid\")"
      ],
      "execution_count": 60,
      "outputs": [
        {
          "output_type": "execute_result",
          "data": {
            "text/plain": [
              "[<matplotlib.lines.Line2D at 0x7fa4778dab10>]"
            ]
          },
          "metadata": {
            "tags": []
          },
          "execution_count": 60
        },
        {
          "output_type": "display_data",
          "data": {
            "image/png": "[encoded data removed]",
            "text/plain": [
              "<Figure size 432x288 with 1 Axes>"
            ]
          },
          "metadata": {
            "tags": [],
            "needs_background": "light"
          }
        }
      ]
    },
    {
      "cell_type": "markdown",
      "metadata": {
        "id": "nHSvwd1XmLg9"
      },
      "source": [
        "数学的には，おかしい （5次元ベクトルにスカラーは足せないので）．\n",
        "ベクトルの要素，それぞれに 1 を足している． \n",
        "これをブロードキャスト，と言う，"
      ]
    },
    {
      "cell_type": "code",
      "metadata": {
        "colab": {
          "base_uri": "https://localhost:8080/"
        },
        "id": "WDSRDDgfl23q",
        "outputId": "d8a4ce0e-74b5-4afb-e398-50bdee82de58"
      },
      "source": [
        "a = np.arange(1,5,1)\n",
        "print(a)"
      ],
      "execution_count": 61,
      "outputs": [
        {
          "output_type": "stream",
          "text": [
            "[1 2 3 4]\n"
          ],
          "name": "stdout"
        }
      ]
    },
    {
      "cell_type": "code",
      "metadata": {
        "colab": {
          "base_uri": "https://localhost:8080/"
        },
        "id": "cs-CNuMBmFJP",
        "outputId": "93e56069-f9b0-4158-9511-99e3c2fe95dd"
      },
      "source": [
        "b = a + 1\n",
        "print(b)"
      ],
      "execution_count": 62,
      "outputs": [
        {
          "output_type": "stream",
          "text": [
            "[2 3 4 5]\n"
          ],
          "name": "stdout"
        }
      ]
    },
    {
      "cell_type": "markdown",
      "metadata": {
        "id": "jllDMZyrisEu"
      },
      "source": [
        "## **２つのベクトルの距離の計算**"
      ]
    },
    {
      "cell_type": "code",
      "metadata": {
        "colab": {
          "base_uri": "https://localhost:8080/"
        },
        "id": "1fCzH3QPirAK",
        "outputId": "9c2646b3-16b8-4375-fd8b-9cd8245c7284"
      },
      "source": [
        "s = np.random.randint(1,7,10) # 1 から 6 までの整数値一様乱数（サイコロを振ったときの値）を 10個生成\n",
        "t = np.random.randint(1,7,10)\n",
        "print(s)\n",
        "print(t)\n",
        "print( np.linalg.norm(s-t, ord=1) )\n",
        "print( np.linalg.norm(s-t, ord=2) )\n",
        "\n",
        "sum1 = 0\n",
        "sum2 = 0\n",
        "for i in range( len(s) ):\n",
        "  sum1  += np.abs(s[i]-t[i])\n",
        "  sum2  += (s[i]-t[i])*(s[i]-t[i])\n",
        "\n",
        "print( sum1 )\n",
        "print( np.sqrt(sum2) )"
      ],
      "execution_count": 66,
      "outputs": [
        {
          "output_type": "stream",
          "text": [
            "[3 2 3 5 3 2 1 3 5 1]\n",
            "[5 5 6 3 6 2 3 5 6 6]\n",
            "23.0\n",
            "8.306623862918075\n",
            "23\n",
            "8.306623862918075\n"
          ],
          "name": "stdout"
        }
      ]
    },
    {
      "cell_type": "markdown",
      "metadata": {
        "id": "pYvToIwMYqOe"
      },
      "source": [
        " 乱数の使い方の公式マニュアル<br>\n",
        "https://numpy.org/doc/stable/reference/random/index.html"
      ]
    },
    {
      "cell_type": "markdown",
      "metadata": {
        "id": "Ga_-8Hg0o23h"
      },
      "source": [
        "# **ベクトル，行列の演算**"
      ]
    },
    {
      "cell_type": "markdown",
      "metadata": {
        "id": "v05Sbfm9p53-"
      },
      "source": [
        "Python では，octave と同じように，\n",
        "  ベクトルや行列を\n",
        "  直接扱うことができる．\n",
        "  線形代数を知っている人は，ちょっと戸惑う使い方を\n",
        "  する場面があるが，\n",
        "  「こういうふうに計算できるのか」と思って\n",
        "  進むのがよい．\n",
        "  まず，以下では\n",
        "$$ A =\n",
        "\\begin{pmatrix}\n",
        "1 & 2 \\\\\n",
        "3 & 4\n",
        "\\end{pmatrix}\n",
        ",~\n",
        "x =\n",
        "\\begin{pmatrix}\n",
        "5 \\\\\n",
        "6\n",
        "\\end{pmatrix}\n",
        "$$\n",
        "として\n",
        "$$ Ax =\n",
        "\\begin{pmatrix}\n",
        "1 & 2 \\\\\n",
        "3 & 4\n",
        "\\end{pmatrix}\n",
        "\\begin{pmatrix}\n",
        "5 \\\\\n",
        "6\n",
        "\\end{pmatrix}\n",
        "=\n",
        "\\begin{pmatrix}\n",
        "5+12 \\\\\n",
        "15+24 \n",
        "\\end{pmatrix}\n",
        "=\n",
        "\\begin{pmatrix}\n",
        "17 \\\\\n",
        "39 \n",
        "\\end{pmatrix}$$\n",
        "を計算する例を示す．\n"
      ]
    },
    {
      "cell_type": "code",
      "metadata": {
        "id": "o4_m4bgio5kI"
      },
      "source": [
        "A = np.array([[1, 2], [3,4]])"
      ],
      "execution_count": 67,
      "outputs": []
    },
    {
      "cell_type": "code",
      "metadata": {
        "id": "HNqctdDErySb",
        "colab": {
          "base_uri": "https://localhost:8080/"
        },
        "outputId": "ac9ad141-d5c9-4675-90f3-f8da8cd12d80"
      },
      "source": [
        "A"
      ],
      "execution_count": 68,
      "outputs": [
        {
          "output_type": "execute_result",
          "data": {
            "text/plain": [
              "array([[1, 2],\n",
              "       [3, 4]])"
            ]
          },
          "metadata": {
            "tags": []
          },
          "execution_count": 68
        }
      ]
    },
    {
      "cell_type": "code",
      "metadata": {
        "id": "uj-W_5cvrzY4"
      },
      "source": [
        "b = np.array([5, 6])"
      ],
      "execution_count": 69,
      "outputs": []
    },
    {
      "cell_type": "code",
      "metadata": {
        "id": "icGu6WnLr1yq",
        "colab": {
          "base_uri": "https://localhost:8080/"
        },
        "outputId": "1221af5d-50aa-4be6-f93b-281c353f0e73"
      },
      "source": [
        "b"
      ],
      "execution_count": 70,
      "outputs": [
        {
          "output_type": "execute_result",
          "data": {
            "text/plain": [
              "array([5, 6])"
            ]
          },
          "metadata": {
            "tags": []
          },
          "execution_count": 70
        }
      ]
    },
    {
      "cell_type": "markdown",
      "metadata": {
        "id": "9piqn42DsH9N"
      },
      "source": [
        "ちなみに，型は"
      ]
    },
    {
      "cell_type": "code",
      "metadata": {
        "id": "K6CL6TQssNsT",
        "colab": {
          "base_uri": "https://localhost:8080/"
        },
        "outputId": "def978c6-3bde-471d-adad-53d22686be6c"
      },
      "source": [
        "type(A)"
      ],
      "execution_count": 71,
      "outputs": [
        {
          "output_type": "execute_result",
          "data": {
            "text/plain": [
              "numpy.ndarray"
            ]
          },
          "metadata": {
            "tags": []
          },
          "execution_count": 71
        }
      ]
    },
    {
      "cell_type": "code",
      "metadata": {
        "id": "BCQ25TgVsSyn",
        "colab": {
          "base_uri": "https://localhost:8080/"
        },
        "outputId": "605d0a91-d9b2-45e4-d1a0-24bf8ade3e7a"
      },
      "source": [
        "A.shape"
      ],
      "execution_count": 72,
      "outputs": [
        {
          "output_type": "execute_result",
          "data": {
            "text/plain": [
              "(2, 2)"
            ]
          },
          "metadata": {
            "tags": []
          },
          "execution_count": 72
        }
      ]
    },
    {
      "cell_type": "code",
      "metadata": {
        "id": "5RfNo8FCsVp8",
        "colab": {
          "base_uri": "https://localhost:8080/"
        },
        "outputId": "58b510b1-5040-4863-b100-69524305f006"
      },
      "source": [
        "b.shape"
      ],
      "execution_count": 73,
      "outputs": [
        {
          "output_type": "execute_result",
          "data": {
            "text/plain": [
              "(2,)"
            ]
          },
          "metadata": {
            "tags": []
          },
          "execution_count": 73
        }
      ]
    },
    {
      "cell_type": "markdown",
      "metadata": {
        "id": "k9i3R1k0r-eS"
      },
      "source": [
        "とすれば，知ることができる．\n",
        "ndarray の nd って何，とか，\n",
        "(2, ~) のうしろのカンマは何，とか，\n",
        "疑問はあるが，前に進もう．"
      ]
    },
    {
      "cell_type": "code",
      "metadata": {
        "id": "geWCxOd2sRLU",
        "colab": {
          "base_uri": "https://localhost:8080/"
        },
        "outputId": "41bb06e5-e897-4dd2-c38d-75672827ad2e"
      },
      "source": [
        "A.dot(b)"
      ],
      "execution_count": 74,
      "outputs": [
        {
          "output_type": "execute_result",
          "data": {
            "text/plain": [
              "array([17, 39])"
            ]
          },
          "metadata": {
            "tags": []
          },
          "execution_count": 74
        }
      ]
    },
    {
      "cell_type": "markdown",
      "metadata": {
        "id": "JIx54Ccpsk9u"
      },
      "source": [
        "この例でわかるように， 驚くべきことに， ベクトルに 縦ベクトルと，横ベクトルの区別が ない． 本来は，"
      ]
    },
    {
      "cell_type": "code",
      "metadata": {
        "id": "MEiNLoNIsxvV",
        "colab": {
          "base_uri": "https://localhost:8080/"
        },
        "outputId": "fa8dd5ad-5e91-4d0c-da03-032cc8b80ee8"
      },
      "source": [
        "b = np.array([[5], [6]])\n",
        "print(b)\n",
        "print(b.shape)"
      ],
      "execution_count": 75,
      "outputs": [
        {
          "output_type": "stream",
          "text": [
            "[[5]\n",
            " [6]]\n",
            "(2, 1)\n"
          ],
          "name": "stdout"
        }
      ]
    },
    {
      "cell_type": "markdown",
      "metadata": {
        "id": "PpgmAsRms9JP"
      },
      "source": [
        "とすべきだと思うが，\n",
        "そういう使い方をしているコードは，見かけない．"
      ]
    },
    {
      "cell_type": "markdown",
      "metadata": {
        "id": "kVl6mw67tCFh"
      },
      "source": [
        "$$  x^{\\top}A =\n",
        "\\begin{pmatrix}\n",
        "5 & 6\n",
        "\\end{pmatrix}\n",
        "\\begin{pmatrix}\n",
        "1 & 2 \\\\\n",
        "3 & 4\n",
        "\\end{pmatrix}\n",
        "=\n",
        "\\begin{pmatrix}\n",
        "5+18 & 10+24 \n",
        "\\end{pmatrix}\n",
        "=\n",
        "\\begin{pmatrix}\n",
        "23 & 34 \n",
        "\\end{pmatrix}\n",
        "$$"
      ]
    },
    {
      "cell_type": "code",
      "metadata": {
        "id": "iG39kfOtubbe"
      },
      "source": [
        "b = np.array([5, 6])"
      ],
      "execution_count": 76,
      "outputs": []
    },
    {
      "cell_type": "code",
      "metadata": {
        "id": "9Kq4bOQDtf01",
        "colab": {
          "base_uri": "https://localhost:8080/"
        },
        "outputId": "8a386ea5-bced-4134-c513-141189ac96fa"
      },
      "source": [
        "b.dot(A)"
      ],
      "execution_count": 77,
      "outputs": [
        {
          "output_type": "execute_result",
          "data": {
            "text/plain": [
              "array([23, 34])"
            ]
          },
          "metadata": {
            "tags": []
          },
          "execution_count": 77
        }
      ]
    },
    {
      "cell_type": "markdown",
      "metadata": {
        "id": "8uarrdefujNQ"
      },
      "source": [
        "行列 $A$ の転置 $ A^{\\top}$ は"
      ]
    },
    {
      "cell_type": "code",
      "metadata": {
        "id": "KcWmyp07uqzF",
        "colab": {
          "base_uri": "https://localhost:8080/"
        },
        "outputId": "1fb1ff7a-c619-4a4f-ee8d-24fc6e662c84"
      },
      "source": [
        "print(A)\n",
        "print(A.T)"
      ],
      "execution_count": 78,
      "outputs": [
        {
          "output_type": "stream",
          "text": [
            "[[1 2]\n",
            " [3 4]]\n",
            "[[1 3]\n",
            " [2 4]]\n"
          ],
          "name": "stdout"
        }
      ]
    },
    {
      "cell_type": "markdown",
      "metadata": {
        "id": "_jnuyPT9uwt8"
      },
      "source": [
        "として求まる．\n",
        "行列$A$の要素は"
      ]
    },
    {
      "cell_type": "code",
      "metadata": {
        "id": "3x8USEcQutT3",
        "colab": {
          "base_uri": "https://localhost:8080/"
        },
        "outputId": "05835ee3-0882-4122-e512-aaa003b1bb86"
      },
      "source": [
        "A[0,0]"
      ],
      "execution_count": 79,
      "outputs": [
        {
          "output_type": "execute_result",
          "data": {
            "text/plain": [
              "1"
            ]
          },
          "metadata": {
            "tags": []
          },
          "execution_count": 79
        }
      ]
    },
    {
      "cell_type": "code",
      "metadata": {
        "id": "8dvGHk8Gu0MP",
        "colab": {
          "base_uri": "https://localhost:8080/"
        },
        "outputId": "b2158830-edaa-483d-febd-d76d67ddd6bc"
      },
      "source": [
        "A[1,0]"
      ],
      "execution_count": 80,
      "outputs": [
        {
          "output_type": "execute_result",
          "data": {
            "text/plain": [
              "3"
            ]
          },
          "metadata": {
            "tags": []
          },
          "execution_count": 80
        }
      ]
    },
    {
      "cell_type": "markdown",
      "metadata": {
        "id": "012G6byTu8w8"
      },
      "source": [
        "などとして求まる．\n",
        "ここで添字が $0$ はじまりであることに注意．\n",
        "線形代数の教科書では\n",
        "  $ \n",
        "A =\n",
        "\\begin{pmatrix}\n",
        "a_{11} & a_{12} \\\\\n",
        "a_{21} & a_{22}\n",
        "\\end{pmatrix}\n",
        "$\n",
        "としていると思うが，\n",
        "ここでは\n",
        "  $ \n",
        "A =\n",
        "\\begin{pmatrix}\n",
        "a_{00} & a_{01} \\\\\n",
        "a_{10} & a_{11}\n",
        "\\end{pmatrix}\n",
        "$\n",
        "である．\n",
        "もちろん"
      ]
    },
    {
      "cell_type": "code",
      "metadata": {
        "id": "CXouyWcZu1mM"
      },
      "source": [
        "A[1,1]=7"
      ],
      "execution_count": 81,
      "outputs": []
    },
    {
      "cell_type": "code",
      "metadata": {
        "id": "0nP3L8hJvDxJ",
        "colab": {
          "base_uri": "https://localhost:8080/"
        },
        "outputId": "94823c36-3965-4ccf-86e3-139fb5a61f63"
      },
      "source": [
        "A"
      ],
      "execution_count": 82,
      "outputs": [
        {
          "output_type": "execute_result",
          "data": {
            "text/plain": [
              "array([[1, 2],\n",
              "       [3, 7]])"
            ]
          },
          "metadata": {
            "tags": []
          },
          "execution_count": 82
        }
      ]
    },
    {
      "cell_type": "markdown",
      "metadata": {
        "id": "WFknTnmxvHXQ"
      },
      "source": [
        "このように直接要素に値を代入できる．"
      ]
    },
    {
      "cell_type": "markdown",
      "metadata": {
        "id": "EIVG39dTvmHS"
      },
      "source": [
        "行列については，次のような使い方をよくするので慣れておこう．\n",
        "### **キーワードは，スライシングとブロードキャスト．**"
      ]
    },
    {
      "cell_type": "code",
      "metadata": {
        "id": "hnj2B0bJvE82",
        "colab": {
          "base_uri": "https://localhost:8080/"
        },
        "outputId": "72175e43-2796-48cd-df84-96a2a87a083c"
      },
      "source": [
        "A = np.array([[1, 2], [3,4]])\n",
        "A[:,1]"
      ],
      "execution_count": 90,
      "outputs": [
        {
          "output_type": "execute_result",
          "data": {
            "text/plain": [
              "array([2, 4])"
            ]
          },
          "metadata": {
            "tags": []
          },
          "execution_count": 90
        }
      ]
    },
    {
      "cell_type": "markdown",
      "metadata": {
        "id": "eQLScsalv64H"
      },
      "source": [
        "`A[:,1]` は，Aの行（row）すべて，行は1行目のみ，という意味．\n",
        "そもそも，行列は「たて」×「よこ」（row x column）の順に書く． (x,y) 系とは逆．"
      ]
    },
    {
      "cell_type": "code",
      "metadata": {
        "id": "h7sdZ-KWvKaG",
        "colab": {
          "base_uri": "https://localhost:8080/"
        },
        "outputId": "dfc093b6-275c-4715-ea74-642874edc4c4"
      },
      "source": [
        "A[0,:]"
      ],
      "execution_count": 91,
      "outputs": [
        {
          "output_type": "execute_result",
          "data": {
            "text/plain": [
              "array([1, 2])"
            ]
          },
          "metadata": {
            "tags": []
          },
          "execution_count": 91
        }
      ]
    },
    {
      "cell_type": "markdown",
      "metadata": {
        "id": "ayGAzRL7wjpy"
      },
      "source": [
        "もうすこし，大きい行列でみてみる．"
      ]
    },
    {
      "cell_type": "code",
      "metadata": {
        "id": "-DRhWK0Wwntp",
        "colab": {
          "base_uri": "https://localhost:8080/"
        },
        "outputId": "53d22c6a-4065-4472-c4ff-c50048b6d8a0"
      },
      "source": [
        "D = np.random.rand(4,3)  # 4x3 の行列．養素は乱数．\n",
        "print(D)"
      ],
      "execution_count": 92,
      "outputs": [
        {
          "output_type": "stream",
          "text": [
            "[[0.67276052 0.52211175 0.92945176]\n",
            " [0.91908963 0.05342306 0.15036991]\n",
            " [0.23192916 0.42795331 0.24149223]\n",
            " [0.72927882 0.2257596  0.03530658]]\n"
          ],
          "name": "stdout"
        }
      ]
    },
    {
      "cell_type": "markdown",
      "metadata": {
        "id": "-2NWHxWaxTcu"
      },
      "source": [
        "次の例． D[1:3,2]  とすると， 行列 D のうち，どこが取れるか，確認しよう．"
      ]
    },
    {
      "cell_type": "code",
      "metadata": {
        "id": "dD7twBCxw5a3",
        "colab": {
          "base_uri": "https://localhost:8080/"
        },
        "outputId": "39669757-cca5-4611-80ea-5cc95e431204"
      },
      "source": [
        "print( D[1:3,2] )"
      ],
      "execution_count": 93,
      "outputs": [
        {
          "output_type": "stream",
          "text": [
            "[0.15036991 0.24149223]\n"
          ],
          "name": "stdout"
        }
      ]
    },
    {
      "cell_type": "markdown",
      "metadata": {
        "id": "gSG7czdSXRBt"
      },
      "source": [
        " D[1:3,2] とすると， たて（r, row）が 1から3まで（0はじまり． 3は含まれない），よこ（c, column）が 2 の部分行列をとってくることになる． これはややこしい？"
      ]
    },
    {
      "cell_type": "code",
      "metadata": {
        "id": "GizzYnkpxLWh",
        "colab": {
          "base_uri": "https://localhost:8080/"
        },
        "outputId": "6fd5895b-46a2-4a8e-9abe-57e141e184b2"
      },
      "source": [
        "A = np.array([[1, 2], [3,4]])\n",
        "print(A[:,1])\n",
        "print(A[0:2,1])    # 先の例は，これを指定したのと同じ"
      ],
      "execution_count": 94,
      "outputs": [
        {
          "output_type": "stream",
          "text": [
            "[2 4]\n",
            "[2 4]\n"
          ],
          "name": "stdout"
        }
      ]
    },
    {
      "cell_type": "markdown",
      "metadata": {
        "id": "a_L-A9doYE3Y"
      },
      "source": [
        "次は掛け算についてのコメント．"
      ]
    },
    {
      "cell_type": "code",
      "metadata": {
        "id": "MlGdjdKlvTt7",
        "colab": {
          "base_uri": "https://localhost:8080/"
        },
        "outputId": "d7ff9313-3b20-4ec4-aa36-1044dcc84528"
      },
      "source": [
        "B = np.array([[1.0, 1.0/2.0], [1.0/3.0,1.0/4.0]])\n",
        "print(A)\n",
        "print(B)"
      ],
      "execution_count": 95,
      "outputs": [
        {
          "output_type": "stream",
          "text": [
            "[[1 2]\n",
            " [3 4]]\n",
            "[[1.         0.5       ]\n",
            " [0.33333333 0.25      ]]\n"
          ],
          "name": "stdout"
        }
      ]
    },
    {
      "cell_type": "markdown",
      "metadata": {
        "id": "iSWUM_lbvylG"
      },
      "source": [
        "のとき"
      ]
    },
    {
      "cell_type": "code",
      "metadata": {
        "id": "OUQkrfDfvW3F",
        "colab": {
          "base_uri": "https://localhost:8080/"
        },
        "outputId": "f40a39ab-9fe2-47ec-9318-899fd89e750a"
      },
      "source": [
        "print( A*B )\n",
        "print( A.dot(B) )"
      ],
      "execution_count": 96,
      "outputs": [
        {
          "output_type": "stream",
          "text": [
            "[[1. 1.]\n",
            " [1. 1.]]\n",
            "[[1.66666667 1.        ]\n",
            " [4.33333333 2.5       ]]\n"
          ],
          "name": "stdout"
        }
      ]
    },
    {
      "cell_type": "markdown",
      "metadata": {
        "id": "4W5f5wJgxWAq"
      },
      "source": [
        "となる． * を使うと，要素ごとの掛け算が求まる．"
      ]
    },
    {
      "cell_type": "code",
      "metadata": {
        "id": "IsKAMZ8O5dnF",
        "colab": {
          "base_uri": "https://localhost:8080/"
        },
        "outputId": "f6a8a45e-6e1d-4574-ec31-19a1a2638b65"
      },
      "source": [
        "A = np.array([[1, 2], [3,4]])\n",
        "b = np.array([1, 0])\n",
        "print(A)\n",
        "print(2*A)\n",
        "print( b*A )\n",
        "print( A*b )"
      ],
      "execution_count": 98,
      "outputs": [
        {
          "output_type": "stream",
          "text": [
            "[[1 2]\n",
            " [3 4]]\n",
            "[[2 4]\n",
            " [6 8]]\n",
            "[[1 0]\n",
            " [3 0]]\n",
            "[[1 0]\n",
            " [3 0]]\n"
          ],
          "name": "stdout"
        }
      ]
    },
    {
      "cell_type": "code",
      "metadata": {
        "id": "-SVzgV4k6OQa",
        "colab": {
          "base_uri": "https://localhost:8080/"
        },
        "outputId": "3fdaf51d-558b-43fb-a833-e3a38f6ede51"
      },
      "source": [
        "A = np.array([[1, 2], [3,4], [5,6]] ) \n",
        "b = np.array([1, 2])\n",
        "c = np.array([1, 2, 3])\n",
        "c = c.reshape(-1, 1)\n",
        "\n",
        "print(c)\n",
        "print(A)\n",
        "print(A*c)\n",
        "print(A*b)"
      ],
      "execution_count": 99,
      "outputs": [
        {
          "output_type": "stream",
          "text": [
            "[[1]\n",
            " [2]\n",
            " [3]]\n",
            "[[1 2]\n",
            " [3 4]\n",
            " [5 6]]\n",
            "[[ 1  2]\n",
            " [ 6  8]\n",
            " [15 18]]\n",
            "[[ 1  4]\n",
            " [ 3  8]\n",
            " [ 5 12]]\n"
          ],
          "name": "stdout"
        }
      ]
    },
    {
      "cell_type": "markdown",
      "metadata": {
        "id": "qBFuJgF3xw_d"
      },
      "source": [
        "# **数値演算関数**"
      ]
    },
    {
      "cell_type": "markdown",
      "metadata": {
        "id": "qHplvRBQx2uE"
      },
      "source": [
        "Python には数値演算のための関数が多く組み込まれている．\n",
        " 例えば"
      ]
    },
    {
      "cell_type": "code",
      "metadata": {
        "id": "ydVmZqqgxqK-",
        "colab": {
          "base_uri": "https://localhost:8080/"
        },
        "outputId": "7fa875a8-8898-4703-9f27-ffa956a17c71"
      },
      "source": [
        "np.cos(1/3.0*np.pi)"
      ],
      "execution_count": 127,
      "outputs": [
        {
          "output_type": "execute_result",
          "data": {
            "text/plain": [
              "0.5000000000000001"
            ]
          },
          "metadata": {
            "tags": []
          },
          "execution_count": 127
        }
      ]
    },
    {
      "cell_type": "markdown",
      "metadata": {
        "id": "E__o5EpZyBIo"
      },
      "source": [
        "$ \\cos \\left ( \\dfrac{2}{3} \\pi \\right )  = \\dfrac{1}{2}$なので，\n",
        "ちょっと不安になるが，まあよい．\n",
        "引数がベクトルや行列であれば，\n",
        "要素すべての値を計算してくれる．"
      ]
    },
    {
      "cell_type": "code",
      "metadata": {
        "id": "BxO_TM7Cx7JL",
        "colab": {
          "base_uri": "https://localhost:8080/"
        },
        "outputId": "f8b9cd0c-9953-49b6-eb4f-cbd81642817f"
      },
      "source": [
        "np.sin([1,2,3,4])"
      ],
      "execution_count": 128,
      "outputs": [
        {
          "output_type": "execute_result",
          "data": {
            "text/plain": [
              "array([ 0.84147098,  0.90929743,  0.14112001, -0.7568025 ])"
            ]
          },
          "metadata": {
            "tags": []
          },
          "execution_count": 128
        }
      ]
    },
    {
      "cell_type": "code",
      "metadata": {
        "id": "ipQprthwyDhC",
        "colab": {
          "base_uri": "https://localhost:8080/"
        },
        "outputId": "4f025c34-b505-4825-cfab-ccc4140e2c7c"
      },
      "source": [
        "np.sin(b)"
      ],
      "execution_count": 129,
      "outputs": [
        {
          "output_type": "execute_result",
          "data": {
            "text/plain": [
              "array([0.84147098, 0.90929743])"
            ]
          },
          "metadata": {
            "tags": []
          },
          "execution_count": 129
        }
      ]
    },
    {
      "cell_type": "markdown",
      "metadata": {
        "id": "bWXSBQ0MyINv"
      },
      "source": [
        "$\\sin, \\cos$ のほかにも，"
      ]
    },
    {
      "cell_type": "code",
      "metadata": {
        "id": "oOFdMSTZyFQY",
        "colab": {
          "base_uri": "https://localhost:8080/"
        },
        "outputId": "ed733368-eb97-4004-e33f-0ad8cc992f74"
      },
      "source": [
        "np.exp(1)"
      ],
      "execution_count": 130,
      "outputs": [
        {
          "output_type": "execute_result",
          "data": {
            "text/plain": [
              "2.718281828459045"
            ]
          },
          "metadata": {
            "tags": []
          },
          "execution_count": 130
        }
      ]
    },
    {
      "cell_type": "code",
      "metadata": {
        "id": "pZYaCC_EyKvb",
        "colab": {
          "base_uri": "https://localhost:8080/"
        },
        "outputId": "1fc30a81-de50-4b99-9274-3e80d9f551e7"
      },
      "source": [
        "np.log(10)"
      ],
      "execution_count": 131,
      "outputs": [
        {
          "output_type": "execute_result",
          "data": {
            "text/plain": [
              "2.302585092994046"
            ]
          },
          "metadata": {
            "tags": []
          },
          "execution_count": 131
        }
      ]
    },
    {
      "cell_type": "code",
      "metadata": {
        "id": "s9o4M698yMf1",
        "colab": {
          "base_uri": "https://localhost:8080/"
        },
        "outputId": "4ad0adf7-7e6c-4b82-f49b-63c929aef491"
      },
      "source": [
        "np.e"
      ],
      "execution_count": 132,
      "outputs": [
        {
          "output_type": "execute_result",
          "data": {
            "text/plain": [
              "2.718281828459045"
            ]
          },
          "metadata": {
            "tags": []
          },
          "execution_count": 132
        }
      ]
    },
    {
      "cell_type": "code",
      "metadata": {
        "id": "CcuO5LHHyOc5",
        "colab": {
          "base_uri": "https://localhost:8080/"
        },
        "outputId": "f06e0458-b366-44e8-d709-afc33c4d33a2"
      },
      "source": [
        "np.sqrt(3)"
      ],
      "execution_count": 133,
      "outputs": [
        {
          "output_type": "execute_result",
          "data": {
            "text/plain": [
              "1.7320508075688772"
            ]
          },
          "metadata": {
            "tags": []
          },
          "execution_count": 133
        }
      ]
    },
    {
      "cell_type": "markdown",
      "metadata": {
        "id": "AkramUcdyVcn"
      },
      "source": [
        "など，だいたいのものはある．\n",
        "各関数の説明は help(np.sqrt) "
      ]
    },
    {
      "cell_type": "code",
      "metadata": {
        "id": "oMeGPEf6z0Lw",
        "colab": {
          "base_uri": "https://localhost:8080/"
        },
        "outputId": "79050720-8867-4448-e7b5-481deb5d7ac6"
      },
      "source": [
        "help(np.sqrt)"
      ],
      "execution_count": 134,
      "outputs": [
        {
          "output_type": "stream",
          "text": [
            "Help on ufunc object:\n",
            "\n",
            "sqrt = class ufunc(builtins.object)\n",
            " |  Functions that operate element by element on whole arrays.\n",
            " |  \n",
            " |  To see the documentation for a specific ufunc, use `info`.  For\n",
            " |  example, ``np.info(np.sin)``.  Because ufuncs are written in C\n",
            " |  (for speed) and linked into Python with NumPy's ufunc facility,\n",
            " |  Python's help() function finds this page whenever help() is called\n",
            " |  on a ufunc.\n",
            " |  \n",
            " |  A detailed explanation of ufuncs can be found in the docs for :ref:`ufuncs`.\n",
            " |  \n",
            " |  Calling ufuncs:\n",
            " |  ===============\n",
            " |  \n",
            " |  op(*x[, out], where=True, **kwargs)\n",
            " |  Apply `op` to the arguments `*x` elementwise, broadcasting the arguments.\n",
            " |  \n",
            " |  The broadcasting rules are:\n",
            " |  \n",
            " |  * Dimensions of length 1 may be prepended to either array.\n",
            " |  * Arrays may be repeated along dimensions of length 1.\n",
            " |  \n",
            " |  Parameters\n",
            " |  ----------\n",
            " |  *x : array_like\n",
            " |      Input arrays.\n",
            " |  out : ndarray, None, or tuple of ndarray and None, optional\n",
            " |      Alternate array object(s) in which to put the result; if provided, it\n",
            " |      must have a shape that the inputs broadcast to. A tuple of arrays\n",
            " |      (possible only as a keyword argument) must have length equal to the\n",
            " |      number of outputs; use None for uninitialized outputs to be\n",
            " |      allocated by the ufunc.\n",
            " |  where : array_like, optional\n",
            " |      This condition is broadcast over the input. At locations where the\n",
            " |      condition is True, the `out` array will be set to the ufunc result.\n",
            " |      Elsewhere, the `out` array will retain its original value.\n",
            " |      Note that if an uninitialized `out` array is created via the default\n",
            " |      ``out=None``, locations within it where the condition is False will\n",
            " |      remain uninitialized.\n",
            " |  **kwargs\n",
            " |      For other keyword-only arguments, see the :ref:`ufunc docs <ufuncs.kwargs>`.\n",
            " |  \n",
            " |  Returns\n",
            " |  -------\n",
            " |  r : ndarray or tuple of ndarray\n",
            " |      `r` will have the shape that the arrays in `x` broadcast to; if `out` is\n",
            " |      provided, it will be returned. If not, `r` will be allocated and\n",
            " |      may contain uninitialized values. If the function has more than one\n",
            " |      output, then the result will be a tuple of arrays.\n",
            " |  \n",
            " |  Methods defined here:\n",
            " |  \n",
            " |  __call__(self, /, *args, **kwargs)\n",
            " |      Call self as a function.\n",
            " |  \n",
            " |  __repr__(self, /)\n",
            " |      Return repr(self).\n",
            " |  \n",
            " |  __str__(self, /)\n",
            " |      Return str(self).\n",
            " |  \n",
            " |  accumulate(...)\n",
            " |      accumulate(array, axis=0, dtype=None, out=None)\n",
            " |      \n",
            " |      Accumulate the result of applying the operator to all elements.\n",
            " |      \n",
            " |      For a one-dimensional array, accumulate produces results equivalent to::\n",
            " |      \n",
            " |        r = np.empty(len(A))\n",
            " |        t = op.identity        # op = the ufunc being applied to A's  elements\n",
            " |        for i in range(len(A)):\n",
            " |            t = op(t, A[i])\n",
            " |            r[i] = t\n",
            " |        return r\n",
            " |      \n",
            " |      For example, add.accumulate() is equivalent to np.cumsum().\n",
            " |      \n",
            " |      For a multi-dimensional array, accumulate is applied along only one\n",
            " |      axis (axis zero by default; see Examples below) so repeated use is\n",
            " |      necessary if one wants to accumulate over multiple axes.\n",
            " |      \n",
            " |      Parameters\n",
            " |      ----------\n",
            " |      array : array_like\n",
            " |          The array to act on.\n",
            " |      axis : int, optional\n",
            " |          The axis along which to apply the accumulation; default is zero.\n",
            " |      dtype : data-type code, optional\n",
            " |          The data-type used to represent the intermediate results. Defaults\n",
            " |          to the data-type of the output array if such is provided, or the\n",
            " |          the data-type of the input array if no output array is provided.\n",
            " |      out : ndarray, None, or tuple of ndarray and None, optional\n",
            " |          A location into which the result is stored. If not provided or None,\n",
            " |          a freshly-allocated array is returned. For consistency with\n",
            " |          ``ufunc.__call__``, if given as a keyword, this may be wrapped in a\n",
            " |          1-element tuple.\n",
            " |      \n",
            " |          .. versionchanged:: 1.13.0\n",
            " |             Tuples are allowed for keyword argument.\n",
            " |      \n",
            " |      Returns\n",
            " |      -------\n",
            " |      r : ndarray\n",
            " |          The accumulated values. If `out` was supplied, `r` is a reference to\n",
            " |          `out`.\n",
            " |      \n",
            " |      Examples\n",
            " |      --------\n",
            " |      1-D array examples:\n",
            " |      \n",
            " |      >>> np.add.accumulate([2, 3, 5])\n",
            " |      array([ 2,  5, 10])\n",
            " |      >>> np.multiply.accumulate([2, 3, 5])\n",
            " |      array([ 2,  6, 30])\n",
            " |      \n",
            " |      2-D array examples:\n",
            " |      \n",
            " |      >>> I = np.eye(2)\n",
            " |      >>> I\n",
            " |      array([[1.,  0.],\n",
            " |             [0.,  1.]])\n",
            " |      \n",
            " |      Accumulate along axis 0 (rows), down columns:\n",
            " |      \n",
            " |      >>> np.add.accumulate(I, 0)\n",
            " |      array([[1.,  0.],\n",
            " |             [1.,  1.]])\n",
            " |      >>> np.add.accumulate(I) # no axis specified = axis zero\n",
            " |      array([[1.,  0.],\n",
            " |             [1.,  1.]])\n",
            " |      \n",
            " |      Accumulate along axis 1 (columns), through rows:\n",
            " |      \n",
            " |      >>> np.add.accumulate(I, 1)\n",
            " |      array([[1.,  1.],\n",
            " |             [0.,  1.]])\n",
            " |  \n",
            " |  at(...)\n",
            " |      at(a, indices, b=None)\n",
            " |      \n",
            " |      Performs unbuffered in place operation on operand 'a' for elements\n",
            " |      specified by 'indices'. For addition ufunc, this method is equivalent to\n",
            " |      ``a[indices] += b``, except that results are accumulated for elements that\n",
            " |      are indexed more than once. For example, ``a[[0,0]] += 1`` will only\n",
            " |      increment the first element once because of buffering, whereas\n",
            " |      ``add.at(a, [0,0], 1)`` will increment the first element twice.\n",
            " |      \n",
            " |      .. versionadded:: 1.8.0\n",
            " |      \n",
            " |      Parameters\n",
            " |      ----------\n",
            " |      a : array_like\n",
            " |          The array to perform in place operation on.\n",
            " |      indices : array_like or tuple\n",
            " |          Array like index object or slice object for indexing into first\n",
            " |          operand. If first operand has multiple dimensions, indices can be a\n",
            " |          tuple of array like index objects or slice objects.\n",
            " |      b : array_like\n",
            " |          Second operand for ufuncs requiring two operands. Operand must be\n",
            " |          broadcastable over first operand after indexing or slicing.\n",
            " |      \n",
            " |      Examples\n",
            " |      --------\n",
            " |      Set items 0 and 1 to their negative values:\n",
            " |      \n",
            " |      >>> a = np.array([1, 2, 3, 4])\n",
            " |      >>> np.negative.at(a, [0, 1])\n",
            " |      >>> a\n",
            " |      array([-1, -2,  3,  4])\n",
            " |      \n",
            " |      Increment items 0 and 1, and increment item 2 twice:\n",
            " |      \n",
            " |      >>> a = np.array([1, 2, 3, 4])\n",
            " |      >>> np.add.at(a, [0, 1, 2, 2], 1)\n",
            " |      >>> a\n",
            " |      array([2, 3, 5, 4])\n",
            " |      \n",
            " |      Add items 0 and 1 in first array to second array,\n",
            " |      and store results in first array:\n",
            " |      \n",
            " |      >>> a = np.array([1, 2, 3, 4])\n",
            " |      >>> b = np.array([1, 2])\n",
            " |      >>> np.add.at(a, [0, 1], b)\n",
            " |      >>> a\n",
            " |      array([2, 4, 3, 4])\n",
            " |  \n",
            " |  outer(...)\n",
            " |      outer(A, B, **kwargs)\n",
            " |      \n",
            " |      Apply the ufunc `op` to all pairs (a, b) with a in `A` and b in `B`.\n",
            " |      \n",
            " |      Let ``M = A.ndim``, ``N = B.ndim``. Then the result, `C`, of\n",
            " |      ``op.outer(A, B)`` is an array of dimension M + N such that:\n",
            " |      \n",
            " |      .. math:: C[i_0, ..., i_{M-1}, j_0, ..., j_{N-1}] =\n",
            " |         op(A[i_0, ..., i_{M-1}], B[j_0, ..., j_{N-1}])\n",
            " |      \n",
            " |      For `A` and `B` one-dimensional, this is equivalent to::\n",
            " |      \n",
            " |        r = empty(len(A),len(B))\n",
            " |        for i in range(len(A)):\n",
            " |            for j in range(len(B)):\n",
            " |                r[i,j] = op(A[i], B[j]) # op = ufunc in question\n",
            " |      \n",
            " |      Parameters\n",
            " |      ----------\n",
            " |      A : array_like\n",
            " |          First array\n",
            " |      B : array_like\n",
            " |          Second array\n",
            " |      kwargs : any\n",
            " |          Arguments to pass on to the ufunc. Typically `dtype` or `out`.\n",
            " |      \n",
            " |      Returns\n",
            " |      -------\n",
            " |      r : ndarray\n",
            " |          Output array\n",
            " |      \n",
            " |      See Also\n",
            " |      --------\n",
            " |      numpy.outer : A less powerful version of ``np.multiply.outer``\n",
            " |                    that `ravel`\\ s all inputs to 1D. This exists\n",
            " |                    primarily for compatibility with old code.\n",
            " |      \n",
            " |      tensordot : ``np.tensordot(a, b, axes=((), ()))`` and\n",
            " |                  ``np.multiply.outer(a, b)`` behave same for all\n",
            " |                  dimensions of a and b.\n",
            " |      \n",
            " |      Examples\n",
            " |      --------\n",
            " |      >>> np.multiply.outer([1, 2, 3], [4, 5, 6])\n",
            " |      array([[ 4,  5,  6],\n",
            " |             [ 8, 10, 12],\n",
            " |             [12, 15, 18]])\n",
            " |      \n",
            " |      A multi-dimensional example:\n",
            " |      \n",
            " |      >>> A = np.array([[1, 2, 3], [4, 5, 6]])\n",
            " |      >>> A.shape\n",
            " |      (2, 3)\n",
            " |      >>> B = np.array([[1, 2, 3, 4]])\n",
            " |      >>> B.shape\n",
            " |      (1, 4)\n",
            " |      >>> C = np.multiply.outer(A, B)\n",
            " |      >>> C.shape; C\n",
            " |      (2, 3, 1, 4)\n",
            " |      array([[[[ 1,  2,  3,  4]],\n",
            " |              [[ 2,  4,  6,  8]],\n",
            " |              [[ 3,  6,  9, 12]]],\n",
            " |             [[[ 4,  8, 12, 16]],\n",
            " |              [[ 5, 10, 15, 20]],\n",
            " |              [[ 6, 12, 18, 24]]]])\n",
            " |  \n",
            " |  reduce(...)\n",
            " |      reduce(a, axis=0, dtype=None, out=None, keepdims=False, initial=<no value>, where=True)\n",
            " |      \n",
            " |      Reduces `a`'s dimension by one, by applying ufunc along one axis.\n",
            " |      \n",
            " |      Let :math:`a.shape = (N_0, ..., N_i, ..., N_{M-1})`.  Then\n",
            " |      :math:`ufunc.reduce(a, axis=i)[k_0, ..,k_{i-1}, k_{i+1}, .., k_{M-1}]` =\n",
            " |      the result of iterating `j` over :math:`range(N_i)`, cumulatively applying\n",
            " |      ufunc to each :math:`a[k_0, ..,k_{i-1}, j, k_{i+1}, .., k_{M-1}]`.\n",
            " |      For a one-dimensional array, reduce produces results equivalent to:\n",
            " |      ::\n",
            " |      \n",
            " |       r = op.identity # op = ufunc\n",
            " |       for i in range(len(A)):\n",
            " |         r = op(r, A[i])\n",
            " |       return r\n",
            " |      \n",
            " |      For example, add.reduce() is equivalent to sum().\n",
            " |      \n",
            " |      Parameters\n",
            " |      ----------\n",
            " |      a : array_like\n",
            " |          The array to act on.\n",
            " |      axis : None or int or tuple of ints, optional\n",
            " |          Axis or axes along which a reduction is performed.\n",
            " |          The default (`axis` = 0) is perform a reduction over the first\n",
            " |          dimension of the input array. `axis` may be negative, in\n",
            " |          which case it counts from the last to the first axis.\n",
            " |      \n",
            " |          .. versionadded:: 1.7.0\n",
            " |      \n",
            " |          If this is None, a reduction is performed over all the axes.\n",
            " |          If this is a tuple of ints, a reduction is performed on multiple\n",
            " |          axes, instead of a single axis or all the axes as before.\n",
            " |      \n",
            " |          For operations which are either not commutative or not associative,\n",
            " |          doing a reduction over multiple axes is not well-defined. The\n",
            " |          ufuncs do not currently raise an exception in this case, but will\n",
            " |          likely do so in the future.\n",
            " |      dtype : data-type code, optional\n",
            " |          The type used to represent the intermediate results. Defaults\n",
            " |          to the data-type of the output array if this is provided, or\n",
            " |          the data-type of the input array if no output array is provided.\n",
            " |      out : ndarray, None, or tuple of ndarray and None, optional\n",
            " |          A location into which the result is stored. If not provided or None,\n",
            " |          a freshly-allocated array is returned. For consistency with\n",
            " |          ``ufunc.__call__``, if given as a keyword, this may be wrapped in a\n",
            " |          1-element tuple.\n",
            " |      \n",
            " |          .. versionchanged:: 1.13.0\n",
            " |             Tuples are allowed for keyword argument.\n",
            " |      keepdims : bool, optional\n",
            " |          If this is set to True, the axes which are reduced are left\n",
            " |          in the result as dimensions with size one. With this option,\n",
            " |          the result will broadcast correctly against the original `arr`.\n",
            " |      \n",
            " |          .. versionadded:: 1.7.0\n",
            " |      initial : scalar, optional\n",
            " |          The value with which to start the reduction.\n",
            " |          If the ufunc has no identity or the dtype is object, this defaults\n",
            " |          to None - otherwise it defaults to ufunc.identity.\n",
            " |          If ``None`` is given, the first element of the reduction is used,\n",
            " |          and an error is thrown if the reduction is empty.\n",
            " |      \n",
            " |          .. versionadded:: 1.15.0\n",
            " |      \n",
            " |      where : array_like of bool, optional\n",
            " |          A boolean array which is broadcasted to match the dimensions\n",
            " |          of `a`, and selects elements to include in the reduction. Note\n",
            " |          that for ufuncs like ``minimum`` that do not have an identity\n",
            " |          defined, one has to pass in also ``initial``.\n",
            " |      \n",
            " |          .. versionadded:: 1.17.0\n",
            " |      \n",
            " |      Returns\n",
            " |      -------\n",
            " |      r : ndarray\n",
            " |          The reduced array. If `out` was supplied, `r` is a reference to it.\n",
            " |      \n",
            " |      Examples\n",
            " |      --------\n",
            " |      >>> np.multiply.reduce([2,3,5])\n",
            " |      30\n",
            " |      \n",
            " |      A multi-dimensional array example:\n",
            " |      \n",
            " |      >>> X = np.arange(8).reshape((2,2,2))\n",
            " |      >>> X\n",
            " |      array([[[0, 1],\n",
            " |              [2, 3]],\n",
            " |             [[4, 5],\n",
            " |              [6, 7]]])\n",
            " |      >>> np.add.reduce(X, 0)\n",
            " |      array([[ 4,  6],\n",
            " |             [ 8, 10]])\n",
            " |      >>> np.add.reduce(X) # confirm: default axis value is 0\n",
            " |      array([[ 4,  6],\n",
            " |             [ 8, 10]])\n",
            " |      >>> np.add.reduce(X, 1)\n",
            " |      array([[ 2,  4],\n",
            " |             [10, 12]])\n",
            " |      >>> np.add.reduce(X, 2)\n",
            " |      array([[ 1,  5],\n",
            " |             [ 9, 13]])\n",
            " |      \n",
            " |      You can use the ``initial`` keyword argument to initialize the reduction\n",
            " |      with a different value, and ``where`` to select specific elements to include:\n",
            " |      \n",
            " |      >>> np.add.reduce([10], initial=5)\n",
            " |      15\n",
            " |      >>> np.add.reduce(np.ones((2, 2, 2)), axis=(0, 2), initial=10)\n",
            " |      array([14., 14.])\n",
            " |      >>> a = np.array([10., np.nan, 10])\n",
            " |      >>> np.add.reduce(a, where=~np.isnan(a))\n",
            " |      20.0\n",
            " |      \n",
            " |      Allows reductions of empty arrays where they would normally fail, i.e.\n",
            " |      for ufuncs without an identity.\n",
            " |      \n",
            " |      >>> np.minimum.reduce([], initial=np.inf)\n",
            " |      inf\n",
            " |      >>> np.minimum.reduce([[1., 2.], [3., 4.]], initial=10., where=[True, False])\n",
            " |      array([ 1., 10.])\n",
            " |      >>> np.minimum.reduce([])\n",
            " |      Traceback (most recent call last):\n",
            " |          ...\n",
            " |      ValueError: zero-size array to reduction operation minimum which has no identity\n",
            " |  \n",
            " |  reduceat(...)\n",
            " |      reduceat(a, indices, axis=0, dtype=None, out=None)\n",
            " |      \n",
            " |      Performs a (local) reduce with specified slices over a single axis.\n",
            " |      \n",
            " |      For i in ``range(len(indices))``, `reduceat` computes\n",
            " |      ``ufunc.reduce(a[indices[i]:indices[i+1]])``, which becomes the i-th\n",
            " |      generalized \"row\" parallel to `axis` in the final result (i.e., in a\n",
            " |      2-D array, for example, if `axis = 0`, it becomes the i-th row, but if\n",
            " |      `axis = 1`, it becomes the i-th column).  There are three exceptions to this:\n",
            " |      \n",
            " |      * when ``i = len(indices) - 1`` (so for the last index),\n",
            " |        ``indices[i+1] = a.shape[axis]``.\n",
            " |      * if ``indices[i] >= indices[i + 1]``, the i-th generalized \"row\" is\n",
            " |        simply ``a[indices[i]]``.\n",
            " |      * if ``indices[i] >= len(a)`` or ``indices[i] < 0``, an error is raised.\n",
            " |      \n",
            " |      The shape of the output depends on the size of `indices`, and may be\n",
            " |      larger than `a` (this happens if ``len(indices) > a.shape[axis]``).\n",
            " |      \n",
            " |      Parameters\n",
            " |      ----------\n",
            " |      a : array_like\n",
            " |          The array to act on.\n",
            " |      indices : array_like\n",
            " |          Paired indices, comma separated (not colon), specifying slices to\n",
            " |          reduce.\n",
            " |      axis : int, optional\n",
            " |          The axis along which to apply the reduceat.\n",
            " |      dtype : data-type code, optional\n",
            " |          The type used to represent the intermediate results. Defaults\n",
            " |          to the data type of the output array if this is provided, or\n",
            " |          the data type of the input array if no output array is provided.\n",
            " |      out : ndarray, None, or tuple of ndarray and None, optional\n",
            " |          A location into which the result is stored. If not provided or None,\n",
            " |          a freshly-allocated array is returned. For consistency with\n",
            " |          ``ufunc.__call__``, if given as a keyword, this may be wrapped in a\n",
            " |          1-element tuple.\n",
            " |      \n",
            " |          .. versionchanged:: 1.13.0\n",
            " |             Tuples are allowed for keyword argument.\n",
            " |      \n",
            " |      Returns\n",
            " |      -------\n",
            " |      r : ndarray\n",
            " |          The reduced values. If `out` was supplied, `r` is a reference to\n",
            " |          `out`.\n",
            " |      \n",
            " |      Notes\n",
            " |      -----\n",
            " |      A descriptive example:\n",
            " |      \n",
            " |      If `a` is 1-D, the function `ufunc.accumulate(a)` is the same as\n",
            " |      ``ufunc.reduceat(a, indices)[::2]`` where `indices` is\n",
            " |      ``range(len(array) - 1)`` with a zero placed\n",
            " |      in every other element:\n",
            " |      ``indices = zeros(2 * len(a) - 1)``, ``indices[1::2] = range(1, len(a))``.\n",
            " |      \n",
            " |      Don't be fooled by this attribute's name: `reduceat(a)` is not\n",
            " |      necessarily smaller than `a`.\n",
            " |      \n",
            " |      Examples\n",
            " |      --------\n",
            " |      To take the running sum of four successive values:\n",
            " |      \n",
            " |      >>> np.add.reduceat(np.arange(8),[0,4, 1,5, 2,6, 3,7])[::2]\n",
            " |      array([ 6, 10, 14, 18])\n",
            " |      \n",
            " |      A 2-D example:\n",
            " |      \n",
            " |      >>> x = np.linspace(0, 15, 16).reshape(4,4)\n",
            " |      >>> x\n",
            " |      array([[ 0.,   1.,   2.,   3.],\n",
            " |             [ 4.,   5.,   6.,   7.],\n",
            " |             [ 8.,   9.,  10.,  11.],\n",
            " |             [12.,  13.,  14.,  15.]])\n",
            " |      \n",
            " |      ::\n",
            " |      \n",
            " |       # reduce such that the result has the following five rows:\n",
            " |       # [row1 + row2 + row3]\n",
            " |       # [row4]\n",
            " |       # [row2]\n",
            " |       # [row3]\n",
            " |       # [row1 + row2 + row3 + row4]\n",
            " |      \n",
            " |      >>> np.add.reduceat(x, [0, 3, 1, 2, 0])\n",
            " |      array([[12.,  15.,  18.,  21.],\n",
            " |             [12.,  13.,  14.,  15.],\n",
            " |             [ 4.,   5.,   6.,   7.],\n",
            " |             [ 8.,   9.,  10.,  11.],\n",
            " |             [24.,  28.,  32.,  36.]])\n",
            " |      \n",
            " |      ::\n",
            " |      \n",
            " |       # reduce such that result has the following two columns:\n",
            " |       # [col1 * col2 * col3, col4]\n",
            " |      \n",
            " |      >>> np.multiply.reduceat(x, [0, 3], 1)\n",
            " |      array([[   0.,     3.],\n",
            " |             [ 120.,     7.],\n",
            " |             [ 720.,    11.],\n",
            " |             [2184.,    15.]])\n",
            " |  \n",
            " |  ----------------------------------------------------------------------\n",
            " |  Data descriptors defined here:\n",
            " |  \n",
            " |  identity\n",
            " |      The identity value.\n",
            " |      \n",
            " |      Data attribute containing the identity element for the ufunc, if it has one.\n",
            " |      If it does not, the attribute value is None.\n",
            " |      \n",
            " |      Examples\n",
            " |      --------\n",
            " |      >>> np.add.identity\n",
            " |      0\n",
            " |      >>> np.multiply.identity\n",
            " |      1\n",
            " |      >>> np.power.identity\n",
            " |      1\n",
            " |      >>> print(np.exp.identity)\n",
            " |      None\n",
            " |  \n",
            " |  nargs\n",
            " |      The number of arguments.\n",
            " |      \n",
            " |      Data attribute containing the number of arguments the ufunc takes, including\n",
            " |      optional ones.\n",
            " |      \n",
            " |      Notes\n",
            " |      -----\n",
            " |      Typically this value will be one more than what you might expect because all\n",
            " |      ufuncs take  the optional \"out\" argument.\n",
            " |      \n",
            " |      Examples\n",
            " |      --------\n",
            " |      >>> np.add.nargs\n",
            " |      3\n",
            " |      >>> np.multiply.nargs\n",
            " |      3\n",
            " |      >>> np.power.nargs\n",
            " |      3\n",
            " |      >>> np.exp.nargs\n",
            " |      2\n",
            " |  \n",
            " |  nin\n",
            " |      The number of inputs.\n",
            " |      \n",
            " |      Data attribute containing the number of arguments the ufunc treats as input.\n",
            " |      \n",
            " |      Examples\n",
            " |      --------\n",
            " |      >>> np.add.nin\n",
            " |      2\n",
            " |      >>> np.multiply.nin\n",
            " |      2\n",
            " |      >>> np.power.nin\n",
            " |      2\n",
            " |      >>> np.exp.nin\n",
            " |      1\n",
            " |  \n",
            " |  nout\n",
            " |      The number of outputs.\n",
            " |      \n",
            " |      Data attribute containing the number of arguments the ufunc treats as output.\n",
            " |      \n",
            " |      Notes\n",
            " |      -----\n",
            " |      Since all ufuncs can take output arguments, this will always be (at least) 1.\n",
            " |      \n",
            " |      Examples\n",
            " |      --------\n",
            " |      >>> np.add.nout\n",
            " |      1\n",
            " |      >>> np.multiply.nout\n",
            " |      1\n",
            " |      >>> np.power.nout\n",
            " |      1\n",
            " |      >>> np.exp.nout\n",
            " |      1\n",
            " |  \n",
            " |  ntypes\n",
            " |      The number of types.\n",
            " |      \n",
            " |      The number of numerical NumPy types - of which there are 18 total - on which\n",
            " |      the ufunc can operate.\n",
            " |      \n",
            " |      See Also\n",
            " |      --------\n",
            " |      numpy.ufunc.types\n",
            " |      \n",
            " |      Examples\n",
            " |      --------\n",
            " |      >>> np.add.ntypes\n",
            " |      18\n",
            " |      >>> np.multiply.ntypes\n",
            " |      18\n",
            " |      >>> np.power.ntypes\n",
            " |      17\n",
            " |      >>> np.exp.ntypes\n",
            " |      7\n",
            " |      >>> np.remainder.ntypes\n",
            " |      14\n",
            " |  \n",
            " |  signature\n",
            " |      Definition of the core elements a generalized ufunc operates on.\n",
            " |      \n",
            " |      The signature determines how the dimensions of each input/output array\n",
            " |      are split into core and loop dimensions:\n",
            " |      \n",
            " |      1. Each dimension in the signature is matched to a dimension of the\n",
            " |         corresponding passed-in array, starting from the end of the shape tuple.\n",
            " |      2. Core dimensions assigned to the same label in the signature must have\n",
            " |         exactly matching sizes, no broadcasting is performed.\n",
            " |      3. The core dimensions are removed from all inputs and the remaining\n",
            " |         dimensions are broadcast together, defining the loop dimensions.\n",
            " |      \n",
            " |      Notes\n",
            " |      -----\n",
            " |      Generalized ufuncs are used internally in many linalg functions, and in\n",
            " |      the testing suite; the examples below are taken from these.\n",
            " |      For ufuncs that operate on scalars, the signature is None, which is\n",
            " |      equivalent to '()' for every argument.\n",
            " |      \n",
            " |      Examples\n",
            " |      --------\n",
            " |      >>> np.core.umath_tests.matrix_multiply.signature\n",
            " |      '(m,n),(n,p)->(m,p)'\n",
            " |      >>> np.linalg._umath_linalg.det.signature\n",
            " |      '(m,m)->()'\n",
            " |      >>> np.add.signature is None\n",
            " |      True  # equivalent to '(),()->()'\n",
            " |  \n",
            " |  types\n",
            " |      Returns a list with types grouped input->output.\n",
            " |      \n",
            " |      Data attribute listing the data-type \"Domain-Range\" groupings the ufunc can\n",
            " |      deliver. The data-types are given using the character codes.\n",
            " |      \n",
            " |      See Also\n",
            " |      --------\n",
            " |      numpy.ufunc.ntypes\n",
            " |      \n",
            " |      Examples\n",
            " |      --------\n",
            " |      >>> np.add.types\n",
            " |      ['??->?', 'bb->b', 'BB->B', 'hh->h', 'HH->H', 'ii->i', 'II->I', 'll->l',\n",
            " |      'LL->L', 'qq->q', 'QQ->Q', 'ff->f', 'dd->d', 'gg->g', 'FF->F', 'DD->D',\n",
            " |      'GG->G', 'OO->O']\n",
            " |      \n",
            " |      >>> np.multiply.types\n",
            " |      ['??->?', 'bb->b', 'BB->B', 'hh->h', 'HH->H', 'ii->i', 'II->I', 'll->l',\n",
            " |      'LL->L', 'qq->q', 'QQ->Q', 'ff->f', 'dd->d', 'gg->g', 'FF->F', 'DD->D',\n",
            " |      'GG->G', 'OO->O']\n",
            " |      \n",
            " |      >>> np.power.types\n",
            " |      ['bb->b', 'BB->B', 'hh->h', 'HH->H', 'ii->i', 'II->I', 'll->l', 'LL->L',\n",
            " |      'qq->q', 'QQ->Q', 'ff->f', 'dd->d', 'gg->g', 'FF->F', 'DD->D', 'GG->G',\n",
            " |      'OO->O']\n",
            " |      \n",
            " |      >>> np.exp.types\n",
            " |      ['f->f', 'd->d', 'g->g', 'F->F', 'D->D', 'G->G', 'O->O']\n",
            " |      \n",
            " |      >>> np.remainder.types\n",
            " |      ['bb->b', 'BB->B', 'hh->h', 'HH->H', 'ii->i', 'II->I', 'll->l', 'LL->L',\n",
            " |      'qq->q', 'QQ->Q', 'ff->f', 'dd->d', 'gg->g', 'OO->O']\n",
            "\n"
          ],
          "name": "stdout"
        }
      ]
    },
    {
      "cell_type": "markdown",
      "metadata": {
        "id": "aY8Scu_6ydxe"
      },
      "source": [
        "などとして参照できる．\n",
        "ベクトル要素の最大値，最小値，和，積は"
      ]
    },
    {
      "cell_type": "code",
      "metadata": {
        "id": "TesoXrvzyX2N",
        "colab": {
          "base_uri": "https://localhost:8080/"
        },
        "outputId": "e9c96154-45a8-4631-dd71-ee842b2b68e9"
      },
      "source": [
        "x = np.array([1, 3, 5, 2, 3])\n",
        "print(x)"
      ],
      "execution_count": 135,
      "outputs": [
        {
          "output_type": "stream",
          "text": [
            "[1 3 5 2 3]\n"
          ],
          "name": "stdout"
        }
      ]
    },
    {
      "cell_type": "code",
      "metadata": {
        "id": "8XV47g9UyigK",
        "colab": {
          "base_uri": "https://localhost:8080/"
        },
        "outputId": "89b51657-d437-499c-e990-26c7326a05d0"
      },
      "source": [
        "x.max()"
      ],
      "execution_count": 136,
      "outputs": [
        {
          "output_type": "execute_result",
          "data": {
            "text/plain": [
              "5"
            ]
          },
          "metadata": {
            "tags": []
          },
          "execution_count": 136
        }
      ]
    },
    {
      "cell_type": "markdown",
      "metadata": {
        "id": "0z2QQiNuccNY"
      },
      "source": [
        "一番大きい要素がどの場所（インデックス）にあるか知りたければ"
      ]
    },
    {
      "cell_type": "code",
      "metadata": {
        "colab": {
          "base_uri": "https://localhost:8080/"
        },
        "id": "VDeZPIbMcNdz",
        "outputId": "131496be-c11d-4c10-e0be-d37d097735a1"
      },
      "source": [
        "np.argsort(x)[::-1]"
      ],
      "execution_count": 137,
      "outputs": [
        {
          "output_type": "execute_result",
          "data": {
            "text/plain": [
              "array([2, 4, 1, 3, 0])"
            ]
          },
          "metadata": {
            "tags": []
          },
          "execution_count": 137
        }
      ]
    },
    {
      "cell_type": "code",
      "metadata": {
        "colab": {
          "base_uri": "https://localhost:8080/"
        },
        "id": "gMuakwwZcj6_",
        "outputId": "392c3759-44bd-4377-ff24-cdde002d18c6"
      },
      "source": [
        "index = np.argsort(x)[::-1]\n",
        "print( index[0])"
      ],
      "execution_count": 138,
      "outputs": [
        {
          "output_type": "stream",
          "text": [
            "2\n"
          ],
          "name": "stdout"
        }
      ]
    },
    {
      "cell_type": "code",
      "metadata": {
        "id": "KbJOIyTpdQGm",
        "colab": {
          "base_uri": "https://localhost:8080/"
        },
        "outputId": "6488dd77-5991-4ac4-baa4-1d1c5cc5375d"
      },
      "source": [
        "help(np.argsort)"
      ],
      "execution_count": 139,
      "outputs": [
        {
          "output_type": "stream",
          "text": [
            "Help on function argsort in module numpy:\n",
            "\n",
            "argsort(a, axis=-1, kind=None, order=None)\n",
            "    Returns the indices that would sort an array.\n",
            "    \n",
            "    Perform an indirect sort along the given axis using the algorithm specified\n",
            "    by the `kind` keyword. It returns an array of indices of the same shape as\n",
            "    `a` that index data along the given axis in sorted order.\n",
            "    \n",
            "    Parameters\n",
            "    ----------\n",
            "    a : array_like\n",
            "        Array to sort.\n",
            "    axis : int or None, optional\n",
            "        Axis along which to sort.  The default is -1 (the last axis). If None,\n",
            "        the flattened array is used.\n",
            "    kind : {'quicksort', 'mergesort', 'heapsort', 'stable'}, optional\n",
            "        Sorting algorithm. The default is 'quicksort'. Note that both 'stable'\n",
            "        and 'mergesort' use timsort under the covers and, in general, the\n",
            "        actual implementation will vary with data type. The 'mergesort' option\n",
            "        is retained for backwards compatibility.\n",
            "    \n",
            "        .. versionchanged:: 1.15.0.\n",
            "           The 'stable' option was added.\n",
            "    order : str or list of str, optional\n",
            "        When `a` is an array with fields defined, this argument specifies\n",
            "        which fields to compare first, second, etc.  A single field can\n",
            "        be specified as a string, and not all fields need be specified,\n",
            "        but unspecified fields will still be used, in the order in which\n",
            "        they come up in the dtype, to break ties.\n",
            "    \n",
            "    Returns\n",
            "    -------\n",
            "    index_array : ndarray, int\n",
            "        Array of indices that sort `a` along the specified `axis`.\n",
            "        If `a` is one-dimensional, ``a[index_array]`` yields a sorted `a`.\n",
            "        More generally, ``np.take_along_axis(a, index_array, axis=axis)``\n",
            "        always yields the sorted `a`, irrespective of dimensionality.\n",
            "    \n",
            "    See Also\n",
            "    --------\n",
            "    sort : Describes sorting algorithms used.\n",
            "    lexsort : Indirect stable sort with multiple keys.\n",
            "    ndarray.sort : Inplace sort.\n",
            "    argpartition : Indirect partial sort.\n",
            "    take_along_axis : Apply ``index_array`` from argsort\n",
            "                      to an array as if by calling sort.\n",
            "    \n",
            "    Notes\n",
            "    -----\n",
            "    See `sort` for notes on the different sorting algorithms.\n",
            "    \n",
            "    As of NumPy 1.4.0 `argsort` works with real/complex arrays containing\n",
            "    nan values. The enhanced sort order is documented in `sort`.\n",
            "    \n",
            "    Examples\n",
            "    --------\n",
            "    One dimensional array:\n",
            "    \n",
            "    >>> x = np.array([3, 1, 2])\n",
            "    >>> np.argsort(x)\n",
            "    array([1, 2, 0])\n",
            "    \n",
            "    Two-dimensional array:\n",
            "    \n",
            "    >>> x = np.array([[0, 3], [2, 2]])\n",
            "    >>> x\n",
            "    array([[0, 3],\n",
            "           [2, 2]])\n",
            "    \n",
            "    >>> ind = np.argsort(x, axis=0)  # sorts along first axis (down)\n",
            "    >>> ind\n",
            "    array([[0, 1],\n",
            "           [1, 0]])\n",
            "    >>> np.take_along_axis(x, ind, axis=0)  # same as np.sort(x, axis=0)\n",
            "    array([[0, 2],\n",
            "           [2, 3]])\n",
            "    \n",
            "    >>> ind = np.argsort(x, axis=1)  # sorts along last axis (across)\n",
            "    >>> ind\n",
            "    array([[0, 1],\n",
            "           [0, 1]])\n",
            "    >>> np.take_along_axis(x, ind, axis=1)  # same as np.sort(x, axis=1)\n",
            "    array([[0, 3],\n",
            "           [2, 2]])\n",
            "    \n",
            "    Indices of the sorted elements of a N-dimensional array:\n",
            "    \n",
            "    >>> ind = np.unravel_index(np.argsort(x, axis=None), x.shape)\n",
            "    >>> ind\n",
            "    (array([0, 1, 1, 0]), array([0, 0, 1, 1]))\n",
            "    >>> x[ind]  # same as np.sort(x, axis=None)\n",
            "    array([0, 2, 2, 3])\n",
            "    \n",
            "    Sorting with keys:\n",
            "    \n",
            "    >>> x = np.array([(1, 0), (0, 1)], dtype=[('x', '<i4'), ('y', '<i4')])\n",
            "    >>> x\n",
            "    array([(1, 0), (0, 1)],\n",
            "          dtype=[('x', '<i4'), ('y', '<i4')])\n",
            "    \n",
            "    >>> np.argsort(x, order=('x','y'))\n",
            "    array([1, 0])\n",
            "    \n",
            "    >>> np.argsort(x, order=('y','x'))\n",
            "    array([0, 1])\n",
            "\n"
          ],
          "name": "stdout"
        }
      ]
    },
    {
      "cell_type": "code",
      "metadata": {
        "id": "de1z9Tb_yk-D",
        "colab": {
          "base_uri": "https://localhost:8080/"
        },
        "outputId": "c86062ea-0025-469a-b543-3a8e0c43289f"
      },
      "source": [
        "x.min()"
      ],
      "execution_count": 140,
      "outputs": [
        {
          "output_type": "execute_result",
          "data": {
            "text/plain": [
              "1"
            ]
          },
          "metadata": {
            "tags": []
          },
          "execution_count": 140
        }
      ]
    },
    {
      "cell_type": "code",
      "metadata": {
        "id": "FJbS3E_8ym4v",
        "colab": {
          "base_uri": "https://localhost:8080/"
        },
        "outputId": "82edb3f7-369e-4a3a-afde-563990cdb00f"
      },
      "source": [
        "x.sum()"
      ],
      "execution_count": 141,
      "outputs": [
        {
          "output_type": "execute_result",
          "data": {
            "text/plain": [
              "14"
            ]
          },
          "metadata": {
            "tags": []
          },
          "execution_count": 141
        }
      ]
    },
    {
      "cell_type": "code",
      "metadata": {
        "id": "G7OS6BZEyok6",
        "colab": {
          "base_uri": "https://localhost:8080/"
        },
        "outputId": "31ab5857-c6d4-4675-f2f9-c50cd54afd08"
      },
      "source": [
        "x.prod()   # すべての養素の掛け算"
      ],
      "execution_count": 142,
      "outputs": [
        {
          "output_type": "execute_result",
          "data": {
            "text/plain": [
              "90"
            ]
          },
          "metadata": {
            "tags": []
          },
          "execution_count": 142
        }
      ]
    },
    {
      "cell_type": "markdown",
      "metadata": {
        "id": "SbbRw6Nqyssb"
      },
      "source": [
        "として取得できる．\n",
        "ほかにも"
      ]
    },
    {
      "cell_type": "code",
      "metadata": {
        "id": "cFlirD8TyqfH",
        "colab": {
          "base_uri": "https://localhost:8080/"
        },
        "outputId": "6ab3fbc4-a235-46c7-85ca-13399f402b6d"
      },
      "source": [
        "np.amax(x)"
      ],
      "execution_count": 143,
      "outputs": [
        {
          "output_type": "execute_result",
          "data": {
            "text/plain": [
              "5"
            ]
          },
          "metadata": {
            "tags": []
          },
          "execution_count": 143
        }
      ]
    },
    {
      "cell_type": "markdown",
      "metadata": {
        "id": "sOnxavvay1Vo"
      },
      "source": [
        "というのがある．\n",
        "要素の中にひとつでもNaNが含まれている場合，\n",
        "NaNが最大値として返される．\n",
        "返して欲しくない場合には、nanmaxを使う．\n"
      ]
    },
    {
      "cell_type": "code",
      "metadata": {
        "colab": {
          "base_uri": "https://localhost:8080/"
        },
        "id": "dq_kDTv00fQl",
        "outputId": "f5b27761-b9b2-44de-f08c-f3963a68d086"
      },
      "source": [
        "A = np.array([[1, 2, 3, 4], [5,6,7,8]])\n",
        "print (A)"
      ],
      "execution_count": 144,
      "outputs": [
        {
          "output_type": "stream",
          "text": [
            "[[1 2 3 4]\n",
            " [5 6 7 8]]\n"
          ],
          "name": "stdout"
        }
      ]
    },
    {
      "cell_type": "code",
      "metadata": {
        "colab": {
          "base_uri": "https://localhost:8080/"
        },
        "id": "QFMGgQ5K02Hm",
        "outputId": "d7a8d4dd-e9bc-420d-ab06-82056b451cd5"
      },
      "source": [
        "np.sum(A)"
      ],
      "execution_count": 145,
      "outputs": [
        {
          "output_type": "execute_result",
          "data": {
            "text/plain": [
              "36"
            ]
          },
          "metadata": {
            "tags": []
          },
          "execution_count": 145
        }
      ]
    },
    {
      "cell_type": "code",
      "metadata": {
        "colab": {
          "base_uri": "https://localhost:8080/"
        },
        "id": "RR3hblnQ0pKQ",
        "outputId": "414c870f-fc6e-4b22-d183-8215e5e03f5b"
      },
      "source": [
        "np.mean(A)    # 36/8 = 4.5"
      ],
      "execution_count": 146,
      "outputs": [
        {
          "output_type": "execute_result",
          "data": {
            "text/plain": [
              "4.5"
            ]
          },
          "metadata": {
            "tags": []
          },
          "execution_count": 146
        }
      ]
    },
    {
      "cell_type": "code",
      "metadata": {
        "colab": {
          "base_uri": "https://localhost:8080/"
        },
        "id": "aTpGIdkF07p-",
        "outputId": "b75136f4-d5f5-4db4-a11d-cdd23cd0585b"
      },
      "source": [
        "np.sum(A,axis=0) #  axis=0 は，たて方向に足す，という意味"
      ],
      "execution_count": 147,
      "outputs": [
        {
          "output_type": "execute_result",
          "data": {
            "text/plain": [
              "array([ 6,  8, 10, 12])"
            ]
          },
          "metadata": {
            "tags": []
          },
          "execution_count": 147
        }
      ]
    },
    {
      "cell_type": "code",
      "metadata": {
        "colab": {
          "base_uri": "https://localhost:8080/"
        },
        "id": "UgnnQ7OI1UEh",
        "outputId": "bb241f30-2f5f-466b-84d0-9983078b915b"
      },
      "source": [
        "np.mean(A,axis=0)"
      ],
      "execution_count": 121,
      "outputs": [
        {
          "output_type": "execute_result",
          "data": {
            "text/plain": [
              "array([3., 4., 5., 6.])"
            ]
          },
          "metadata": {
            "tags": []
          },
          "execution_count": 121
        }
      ]
    },
    {
      "cell_type": "code",
      "metadata": {
        "colab": {
          "base_uri": "https://localhost:8080/"
        },
        "id": "-MkmOFgf1Zt8",
        "outputId": "9c7d5390-ce56-44f9-b230-8d1fc5b9d3ce"
      },
      "source": [
        "np.mean(A,axis=1) # axis=1 は，よこ方向に平均をとる，という意味"
      ],
      "execution_count": 122,
      "outputs": [
        {
          "output_type": "execute_result",
          "data": {
            "text/plain": [
              "array([2.5, 6.5])"
            ]
          },
          "metadata": {
            "tags": []
          },
          "execution_count": 122
        }
      ]
    },
    {
      "cell_type": "code",
      "metadata": {
        "colab": {
          "base_uri": "https://localhost:8080/"
        },
        "id": "SOYqy6K81Al_",
        "outputId": "8012ca0e-2649-4e8f-d1fb-47181f8fc2c6"
      },
      "source": [
        "np.sum(A,axis=1)"
      ],
      "execution_count": 123,
      "outputs": [
        {
          "output_type": "execute_result",
          "data": {
            "text/plain": [
              "array([10, 26])"
            ]
          },
          "metadata": {
            "tags": []
          },
          "execution_count": 123
        }
      ]
    },
    {
      "cell_type": "code",
      "metadata": {
        "id": "YFwQBs5z2EYe",
        "colab": {
          "base_uri": "https://localhost:8080/"
        },
        "outputId": "fd679c4e-8753-427d-dfa5-7d896f436e7f"
      },
      "source": [
        "help(np.sum)"
      ],
      "execution_count": 148,
      "outputs": [
        {
          "output_type": "stream",
          "text": [
            "Help on function sum in module numpy:\n",
            "\n",
            "sum(a, axis=None, dtype=None, out=None, keepdims=<no value>, initial=<no value>, where=<no value>)\n",
            "    Sum of array elements over a given axis.\n",
            "    \n",
            "    Parameters\n",
            "    ----------\n",
            "    a : array_like\n",
            "        Elements to sum.\n",
            "    axis : None or int or tuple of ints, optional\n",
            "        Axis or axes along which a sum is performed.  The default,\n",
            "        axis=None, will sum all of the elements of the input array.  If\n",
            "        axis is negative it counts from the last to the first axis.\n",
            "    \n",
            "        .. versionadded:: 1.7.0\n",
            "    \n",
            "        If axis is a tuple of ints, a sum is performed on all of the axes\n",
            "        specified in the tuple instead of a single axis or all the axes as\n",
            "        before.\n",
            "    dtype : dtype, optional\n",
            "        The type of the returned array and of the accumulator in which the\n",
            "        elements are summed.  The dtype of `a` is used by default unless `a`\n",
            "        has an integer dtype of less precision than the default platform\n",
            "        integer.  In that case, if `a` is signed then the platform integer\n",
            "        is used while if `a` is unsigned then an unsigned integer of the\n",
            "        same precision as the platform integer is used.\n",
            "    out : ndarray, optional\n",
            "        Alternative output array in which to place the result. It must have\n",
            "        the same shape as the expected output, but the type of the output\n",
            "        values will be cast if necessary.\n",
            "    keepdims : bool, optional\n",
            "        If this is set to True, the axes which are reduced are left\n",
            "        in the result as dimensions with size one. With this option,\n",
            "        the result will broadcast correctly against the input array.\n",
            "    \n",
            "        If the default value is passed, then `keepdims` will not be\n",
            "        passed through to the `sum` method of sub-classes of\n",
            "        `ndarray`, however any non-default value will be.  If the\n",
            "        sub-class' method does not implement `keepdims` any\n",
            "        exceptions will be raised.\n",
            "    initial : scalar, optional\n",
            "        Starting value for the sum. See `~numpy.ufunc.reduce` for details.\n",
            "    \n",
            "        .. versionadded:: 1.15.0\n",
            "    \n",
            "    where : array_like of bool, optional\n",
            "        Elements to include in the sum. See `~numpy.ufunc.reduce` for details.\n",
            "    \n",
            "        .. versionadded:: 1.17.0\n",
            "    \n",
            "    Returns\n",
            "    -------\n",
            "    sum_along_axis : ndarray\n",
            "        An array with the same shape as `a`, with the specified\n",
            "        axis removed.   If `a` is a 0-d array, or if `axis` is None, a scalar\n",
            "        is returned.  If an output array is specified, a reference to\n",
            "        `out` is returned.\n",
            "    \n",
            "    See Also\n",
            "    --------\n",
            "    ndarray.sum : Equivalent method.\n",
            "    \n",
            "    add.reduce : Equivalent functionality of `add`.\n",
            "    \n",
            "    cumsum : Cumulative sum of array elements.\n",
            "    \n",
            "    trapz : Integration of array values using the composite trapezoidal rule.\n",
            "    \n",
            "    mean, average\n",
            "    \n",
            "    Notes\n",
            "    -----\n",
            "    Arithmetic is modular when using integer types, and no error is\n",
            "    raised on overflow.\n",
            "    \n",
            "    The sum of an empty array is the neutral element 0:\n",
            "    \n",
            "    >>> np.sum([])\n",
            "    0.0\n",
            "    \n",
            "    For floating point numbers the numerical precision of sum (and\n",
            "    ``np.add.reduce``) is in general limited by directly adding each number\n",
            "    individually to the result causing rounding errors in every step.\n",
            "    However, often numpy will use a  numerically better approach (partial\n",
            "    pairwise summation) leading to improved precision in many use-cases.\n",
            "    This improved precision is always provided when no ``axis`` is given.\n",
            "    When ``axis`` is given, it will depend on which axis is summed.\n",
            "    Technically, to provide the best speed possible, the improved precision\n",
            "    is only used when the summation is along the fast axis in memory.\n",
            "    Note that the exact precision may vary depending on other parameters.\n",
            "    In contrast to NumPy, Python's ``math.fsum`` function uses a slower but\n",
            "    more precise approach to summation.\n",
            "    Especially when summing a large number of lower precision floating point\n",
            "    numbers, such as ``float32``, numerical errors can become significant.\n",
            "    In such cases it can be advisable to use `dtype=\"float64\"` to use a higher\n",
            "    precision for the output.\n",
            "    \n",
            "    Examples\n",
            "    --------\n",
            "    >>> np.sum([0.5, 1.5])\n",
            "    2.0\n",
            "    >>> np.sum([0.5, 0.7, 0.2, 1.5], dtype=np.int32)\n",
            "    1\n",
            "    >>> np.sum([[0, 1], [0, 5]])\n",
            "    6\n",
            "    >>> np.sum([[0, 1], [0, 5]], axis=0)\n",
            "    array([0, 6])\n",
            "    >>> np.sum([[0, 1], [0, 5]], axis=1)\n",
            "    array([1, 5])\n",
            "    >>> np.sum([[0, 1], [np.nan, 5]], where=[False, True], axis=1)\n",
            "    array([1., 5.])\n",
            "    \n",
            "    If the accumulator is too small, overflow occurs:\n",
            "    \n",
            "    >>> np.ones(128, dtype=np.int8).sum(dtype=np.int8)\n",
            "    -128\n",
            "    \n",
            "    You can also start the sum with a value other than zero:\n",
            "    \n",
            "    >>> np.sum([10], initial=5)\n",
            "    15\n",
            "\n"
          ],
          "name": "stdout"
        }
      ]
    },
    {
      "cell_type": "code",
      "metadata": {
        "colab": {
          "base_uri": "https://localhost:8080/"
        },
        "id": "Non55pwF2y2z",
        "outputId": "60e1e5be-c634-4300-c005-f0546f88f97b"
      },
      "source": [
        "a = np.array([1, 2, 3, 4, 5, 6])\n",
        "print( np.mean(a) )\n",
        "print( np.std(a) )\n",
        "print( np.var(a) )\n",
        "np.sqrt( np.var(a) )"
      ],
      "execution_count": 149,
      "outputs": [
        {
          "output_type": "stream",
          "text": [
            "3.5\n",
            "1.707825127659933\n",
            "2.9166666666666665\n"
          ],
          "name": "stdout"
        },
        {
          "output_type": "execute_result",
          "data": {
            "text/plain": [
              "1.707825127659933"
            ]
          },
          "metadata": {
            "tags": []
          },
          "execution_count": 149
        }
      ]
    },
    {
      "cell_type": "code",
      "metadata": {
        "colab": {
          "base_uri": "https://localhost:8080/"
        },
        "id": "O86_tPQy1x7q",
        "outputId": "bb27fd12-cbf5-4dfa-8dc4-7061b227cdd6"
      },
      "source": [
        "np.std(A) # A の要素の標準偏差"
      ],
      "execution_count": 150,
      "outputs": [
        {
          "output_type": "execute_result",
          "data": {
            "text/plain": [
              "2.29128784747792"
            ]
          },
          "metadata": {
            "tags": []
          },
          "execution_count": 150
        }
      ]
    },
    {
      "cell_type": "markdown",
      "metadata": {
        "id": "YYzr17dCrdGn"
      },
      "source": [
        "# 行列式，逆行列"
      ]
    },
    {
      "cell_type": "code",
      "metadata": {
        "id": "pQEHVjDasVh_"
      },
      "source": [
        "A = np.array([[1, 2], [3,4]])"
      ],
      "execution_count": 151,
      "outputs": []
    },
    {
      "cell_type": "code",
      "metadata": {
        "id": "vSw39zNJrfiw",
        "colab": {
          "base_uri": "https://localhost:8080/"
        },
        "outputId": "5957cafa-0afe-4c16-9035-da847a7cd8f3"
      },
      "source": [
        "A"
      ],
      "execution_count": 163,
      "outputs": [
        {
          "output_type": "execute_result",
          "data": {
            "text/plain": [
              "array([[1, 2],\n",
              "       [3, 4]])"
            ]
          },
          "metadata": {
            "tags": []
          },
          "execution_count": 163
        }
      ]
    },
    {
      "cell_type": "code",
      "metadata": {
        "id": "qaniMiwlrjkd",
        "colab": {
          "base_uri": "https://localhost:8080/"
        },
        "outputId": "472458ba-9dbc-43ef-eef7-96eb66a81d47"
      },
      "source": [
        "np.linalg.det(A)  # 行列式"
      ],
      "execution_count": 164,
      "outputs": [
        {
          "output_type": "execute_result",
          "data": {
            "text/plain": [
              "-2.0000000000000004"
            ]
          },
          "metadata": {
            "tags": []
          },
          "execution_count": 164
        }
      ]
    },
    {
      "cell_type": "code",
      "metadata": {
        "id": "MeSzeQcyrl9w",
        "colab": {
          "base_uri": "https://localhost:8080/"
        },
        "outputId": "add73af8-58c1-4461-b9b2-2e11b27a9c42"
      },
      "source": [
        "B=np.linalg.inv(A) # 逆行列\n",
        "print( B )"
      ],
      "execution_count": 165,
      "outputs": [
        {
          "output_type": "stream",
          "text": [
            "[[-2.   1. ]\n",
            " [ 1.5 -0.5]]\n"
          ],
          "name": "stdout"
        }
      ]
    },
    {
      "cell_type": "code",
      "metadata": {
        "id": "zACNFbFLrpaS",
        "colab": {
          "base_uri": "https://localhost:8080/"
        },
        "outputId": "cd33a67d-b927-4456-9438-e16d8c896ee2"
      },
      "source": [
        "A.dot(B)  # 行列どうしの掛け算"
      ],
      "execution_count": 166,
      "outputs": [
        {
          "output_type": "execute_result",
          "data": {
            "text/plain": [
              "array([[1.0000000e+00, 0.0000000e+00],\n",
              "       [8.8817842e-16, 1.0000000e+00]])"
            ]
          },
          "metadata": {
            "tags": []
          },
          "execution_count": 166
        }
      ]
    },
    {
      "cell_type": "code",
      "metadata": {
        "id": "OnVhKnLarrXL",
        "colab": {
          "base_uri": "https://localhost:8080/"
        },
        "outputId": "7d3753ec-0b94-4b22-8fdc-5cf781698591"
      },
      "source": [
        "B.dot(A)"
      ],
      "execution_count": 156,
      "outputs": [
        {
          "output_type": "execute_result",
          "data": {
            "text/plain": [
              "array([[1.00000000e+00, 0.00000000e+00],\n",
              "       [1.11022302e-16, 1.00000000e+00]])"
            ]
          },
          "metadata": {
            "tags": []
          },
          "execution_count": 156
        }
      ]
    },
    {
      "cell_type": "markdown",
      "metadata": {
        "id": "KeZdA1FbrvwQ"
      },
      "source": [
        "なんとも簡単に求めることができる．\n",
        "次に，\n",
        "行列$A$の固有値，\n",
        "固有ベクトルを求めてみよう．"
      ]
    },
    {
      "cell_type": "code",
      "metadata": {
        "id": "VqtoF6lprtSK",
        "colab": {
          "base_uri": "https://localhost:8080/"
        },
        "outputId": "cbd389bf-9868-48aa-fd9b-529e0fb40e44"
      },
      "source": [
        "np.linalg.eig(A)"
      ],
      "execution_count": 157,
      "outputs": [
        {
          "output_type": "execute_result",
          "data": {
            "text/plain": [
              "(array([-0.37228132,  5.37228132]), array([[-0.82456484, -0.41597356],\n",
              "        [ 0.56576746, -0.90937671]]))"
            ]
          },
          "metadata": {
            "tags": []
          },
          "execution_count": 157
        }
      ]
    },
    {
      "cell_type": "markdown",
      "metadata": {
        "id": "RSw6gQxrr15N"
      },
      "source": [
        "固有値が，[-0.37228132,  5.37228132] の2つで，\n",
        "それぞれの固有値に対応する固有ベクトルが，\n",
        "[-0.82456484, -0.41597356],\n",
        "[ 0.56576746, -0.90937671]\n",
        "ということである．\n",
        "固有ベクトルは，手計算だと要素が整数値でいちばん簡単なものを求めるが，ここでは長さ1に正規化されている．\n",
        "ベクトル要素の平均，\n",
        "標準偏差，分散は\n"
      ]
    },
    {
      "cell_type": "code",
      "metadata": {
        "id": "Yf4_hedYrzUL",
        "colab": {
          "base_uri": "https://localhost:8080/"
        },
        "outputId": "8a6ebd9a-4258-4022-b18c-f7c5c90d6392"
      },
      "source": [
        "x"
      ],
      "execution_count": 158,
      "outputs": [
        {
          "output_type": "execute_result",
          "data": {
            "text/plain": [
              "array([1, 3, 5, 2, 3])"
            ]
          },
          "metadata": {
            "tags": []
          },
          "execution_count": 158
        }
      ]
    },
    {
      "cell_type": "code",
      "metadata": {
        "id": "liNvnrDHr6Xy",
        "colab": {
          "base_uri": "https://localhost:8080/"
        },
        "outputId": "ea97c708-6275-4820-98e2-fa0aed8ad20a"
      },
      "source": [
        "np.sum(x)/5.0"
      ],
      "execution_count": 159,
      "outputs": [
        {
          "output_type": "execute_result",
          "data": {
            "text/plain": [
              "2.8"
            ]
          },
          "metadata": {
            "tags": []
          },
          "execution_count": 159
        }
      ]
    },
    {
      "cell_type": "code",
      "metadata": {
        "id": "a5lDltmZr8sz",
        "colab": {
          "base_uri": "https://localhost:8080/"
        },
        "outputId": "ad216429-2ceb-4dd5-8b68-47ea5fca3141"
      },
      "source": [
        "np.mean(x)"
      ],
      "execution_count": 160,
      "outputs": [
        {
          "output_type": "execute_result",
          "data": {
            "text/plain": [
              "2.8"
            ]
          },
          "metadata": {
            "tags": []
          },
          "execution_count": 160
        }
      ]
    },
    {
      "cell_type": "code",
      "metadata": {
        "id": "aWRnNpnUsD2Z",
        "colab": {
          "base_uri": "https://localhost:8080/"
        },
        "outputId": "a38778e6-6349-4ff9-cc03-7301f9ea0e3b"
      },
      "source": [
        "np.std(x)"
      ],
      "execution_count": 161,
      "outputs": [
        {
          "output_type": "execute_result",
          "data": {
            "text/plain": [
              "1.32664991614216"
            ]
          },
          "metadata": {
            "tags": []
          },
          "execution_count": 161
        }
      ]
    },
    {
      "cell_type": "code",
      "metadata": {
        "id": "ELQESUa0sGX9",
        "colab": {
          "base_uri": "https://localhost:8080/"
        },
        "outputId": "9feaf931-3454-4769-c2f3-b12c524ca37d"
      },
      "source": [
        "np.var(x)"
      ],
      "execution_count": 162,
      "outputs": [
        {
          "output_type": "execute_result",
          "data": {
            "text/plain": [
              "1.7600000000000005"
            ]
          },
          "metadata": {
            "tags": []
          },
          "execution_count": 162
        }
      ]
    },
    {
      "cell_type": "markdown",
      "metadata": {
        "id": "wEN7vd60sLOq"
      },
      "source": [
        "で得られる．"
      ]
    },
    {
      "cell_type": "code",
      "metadata": {
        "colab": {
          "base_uri": "https://localhost:8080/"
        },
        "id": "FXKmMzXnZ6s5",
        "outputId": "3412dcb2-4131-4b6e-fdf7-ba2f973ce33e"
      },
      "source": [
        "np.sqrt( np.var(x))"
      ],
      "execution_count": 167,
      "outputs": [
        {
          "output_type": "execute_result",
          "data": {
            "text/plain": [
              "1.32664991614216"
            ]
          },
          "metadata": {
            "tags": []
          },
          "execution_count": 167
        }
      ]
    },
    {
      "cell_type": "markdown",
      "metadata": {
        "id": "mDjFdDWIZ6bu"
      },
      "source": [
        "たしかに標準偏差と分散の関係は成り立っている．"
      ]
    },
    {
      "cell_type": "markdown",
      "metadata": {
        "id": "CUU2l4blsmGd"
      },
      "source": [
        "# 乱数の生成"
      ]
    },
    {
      "cell_type": "markdown",
      "metadata": {
        "id": "QXh9uPhpsqCg"
      },
      "source": [
        "まずは，\n",
        "（0から1までの間の）一様乱数．"
      ]
    },
    {
      "cell_type": "code",
      "metadata": {
        "id": "wBFRulqtsu1B"
      },
      "source": [
        "x = np.random.rand()"
      ],
      "execution_count": 179,
      "outputs": []
    },
    {
      "cell_type": "code",
      "metadata": {
        "id": "SOVjnyB2sxdM",
        "colab": {
          "base_uri": "https://localhost:8080/"
        },
        "outputId": "8fe9e75c-4a44-460b-f753-c678ab988eaf"
      },
      "source": [
        "x"
      ],
      "execution_count": 169,
      "outputs": [
        {
          "output_type": "execute_result",
          "data": {
            "text/plain": [
              "0.3321169427596461"
            ]
          },
          "metadata": {
            "tags": []
          },
          "execution_count": 169
        }
      ]
    },
    {
      "cell_type": "code",
      "metadata": {
        "id": "9eu8qUc6s1BT"
      },
      "source": [
        "x = np.random.rand(10)"
      ],
      "execution_count": 180,
      "outputs": []
    },
    {
      "cell_type": "code",
      "metadata": {
        "id": "wPfU7FoGsIUs",
        "colab": {
          "base_uri": "https://localhost:8080/"
        },
        "outputId": "21fe1147-4249-4efa-ecec-4d0b4bb6c960"
      },
      "source": [
        "x"
      ],
      "execution_count": 171,
      "outputs": [
        {
          "output_type": "execute_result",
          "data": {
            "text/plain": [
              "array([0.84635526, 0.14919778, 0.59010431, 0.98085751, 0.48936168,\n",
              "       0.08306398, 0.92136573, 0.24685704, 0.58862049, 0.71582697])"
            ]
          },
          "metadata": {
            "tags": []
          },
          "execution_count": 171
        }
      ]
    },
    {
      "cell_type": "code",
      "metadata": {
        "id": "kvaJGXNYs4TS"
      },
      "source": [
        "x = np.random.rand(2,2)"
      ],
      "execution_count": 181,
      "outputs": []
    },
    {
      "cell_type": "code",
      "metadata": {
        "id": "yttVCd-ls7AK",
        "colab": {
          "base_uri": "https://localhost:8080/"
        },
        "outputId": "07d03347-6851-4c5f-ed03-687976144a26"
      },
      "source": [
        "x"
      ],
      "execution_count": 173,
      "outputs": [
        {
          "output_type": "execute_result",
          "data": {
            "text/plain": [
              "array([[0.55502829, 0.41896575],\n",
              "       [0.32643495, 0.53196702]])"
            ]
          },
          "metadata": {
            "tags": []
          },
          "execution_count": 173
        }
      ]
    },
    {
      "cell_type": "markdown",
      "metadata": {
        "id": "srXxqwZLs9hz"
      },
      "source": [
        "平均0，分散1の標準正規分布にしたがう乱数は， randn という関数を使えばよい．"
      ]
    },
    {
      "cell_type": "code",
      "metadata": {
        "id": "Bp2HN35Ys74g"
      },
      "source": [
        "x = np.random.randn()"
      ],
      "execution_count": 182,
      "outputs": []
    },
    {
      "cell_type": "code",
      "metadata": {
        "id": "RcmyKc_4tCCT",
        "colab": {
          "base_uri": "https://localhost:8080/"
        },
        "outputId": "496a5f81-a702-4ac8-830e-61ce89de6b4e"
      },
      "source": [
        "x"
      ],
      "execution_count": 183,
      "outputs": [
        {
          "output_type": "execute_result",
          "data": {
            "text/plain": [
              "1.1287774161577375"
            ]
          },
          "metadata": {
            "tags": []
          },
          "execution_count": 183
        }
      ]
    },
    {
      "cell_type": "code",
      "metadata": {
        "id": "-0HQrUx5tC3o"
      },
      "source": [
        "x = np.random.randn(10)"
      ],
      "execution_count": 184,
      "outputs": []
    },
    {
      "cell_type": "code",
      "metadata": {
        "id": "z9AfeOC3tFli",
        "colab": {
          "base_uri": "https://localhost:8080/"
        },
        "outputId": "8eef559b-d502-48de-bba2-78d23a53461c"
      },
      "source": [
        "x"
      ],
      "execution_count": 185,
      "outputs": [
        {
          "output_type": "execute_result",
          "data": {
            "text/plain": [
              "array([ 0.3264454 , -2.10606608,  0.94322581, -0.02317715,  0.60102107,\n",
              "        1.77544399,  1.09095357, -0.16943864,  0.67038398, -0.38889882])"
            ]
          },
          "metadata": {
            "tags": []
          },
          "execution_count": 185
        }
      ]
    },
    {
      "cell_type": "markdown",
      "metadata": {
        "id": "cl1z7Z2ytMeG"
      },
      "source": [
        "として生成できる．\n",
        "乱数の種（seed）は"
      ]
    },
    {
      "cell_type": "code",
      "metadata": {
        "id": "MJyBGIhttGXx"
      },
      "source": [
        "np.random.seed(20180822)"
      ],
      "execution_count": 187,
      "outputs": []
    },
    {
      "cell_type": "code",
      "metadata": {
        "colab": {
          "base_uri": "https://localhost:8080/",
          "height": 315
        },
        "id": "axJVmYePbVzq",
        "outputId": "189dd6e8-dc1e-46d0-ba41-228c3a2f5935"
      },
      "source": [
        "import numpy as np\n",
        "import matplotlib.pyplot as plt\n",
        " \n",
        "x = np.random.randn(10000)\n",
        "print ('サンプル（標本）の平均 mean =', np.mean(x))\n",
        "print ('サンプルの標準偏差 s.d. =', np.std(x))\n",
        "print ('サンプルの分散 variance =', np.var(x))\n",
        " \n",
        "plt.figure()\n",
        "plt.hist(x, bins=50, alpha=0.3, histtype='stepfilled', color='r')\n",
        "# plt.hist(x+2, bins=100, alpha=0.3, histtype='stepfilled', color='b')\n",
        "plt.show()\n",
        "# plt.savefig(\"hist101.pdf\")"
      ],
      "execution_count": 190,
      "outputs": [
        {
          "output_type": "stream",
          "text": [
            "サンプル（標本）の平均 mean = -0.007297929046113967\n",
            "サンプルの標準偏差 s.d. = 1.0077421899618473\n",
            "サンプルの分散 variance = 1.0155443214291\n"
          ],
          "name": "stdout"
        },
        {
          "output_type": "display_data",
          "data": {
            "image/png": "[encoded data removed]",
            "text/plain": [
              "<Figure size 432x288 with 1 Axes>"
            ]
          },
          "metadata": {
            "tags": [],
            "needs_background": "light"
          }
        }
      ]
    },
    {
      "cell_type": "markdown",
      "metadata": {
        "id": "Pf3vJWYSfW2M"
      },
      "source": [
        "±1σ，±３σの意味"
      ]
    },
    {
      "cell_type": "code",
      "metadata": {
        "colab": {
          "base_uri": "https://localhost:8080/",
          "height": 315
        },
        "id": "X0DMsfQ_d4JS",
        "outputId": "00f33f04-a769-46c5-95b8-48e77faada21"
      },
      "source": [
        "import numpy\n",
        "import matplotlib.pyplot as plt\n",
        "\n",
        "T = 10000\n",
        "mu = 0.0\n",
        "sigma = 1.0\n",
        "\n",
        "y = []\n",
        "n1=0; n2=0; n3=0\n",
        "for i in range(T):\n",
        "    r = np.random.randn(1)\n",
        "    y.append(r)\n",
        "    if r > mu - sigma and r < mu + sigma:\n",
        "        n1 +=1\n",
        "    if r > mu - 2.0*sigma and r < mu + 2.0*sigma:\n",
        "        n2 +=1\n",
        "    if r > mu - 3.0*sigma and r < mu + 3.0*sigma:\n",
        "        n3 +=1\n",
        "\n",
        "y = numpy.array(y)\n",
        "\n",
        "fig = plt.figure()\n",
        "ax = fig.add_subplot(111)\n",
        "ax.hist(y, bins=101, range=(-5, 5), density=False, facecolor='g')\n",
        "ax.set_xlim(-5, 5)\n",
        "ax.grid(True)\n",
        "\n",
        "print (float(n1)/float(T))\n",
        "print (float(n2)/float(T))\n",
        "print (float(n3)/float(T))\n",
        "\n",
        "# plt.savefig(ss108.jpg)   # 図のファイルを作りたいとき\n",
        "plt.show()"
      ],
      "execution_count": 209,
      "outputs": [
        {
          "output_type": "stream",
          "text": [
            "0.6787\n",
            "0.9526\n",
            "0.9971\n"
          ],
          "name": "stdout"
        },
        {
          "output_type": "display_data",
          "data": {
            "image/png": "[encoded data removed]",
            "text/plain": [
              "<Figure size 432x288 with 1 Axes>"
            ]
          },
          "metadata": {
            "tags": [],
            "needs_background": "light"
          }
        }
      ]
    },
    {
      "cell_type": "markdown",
      "metadata": {
        "id": "lUDrxFTCcJj9"
      },
      "source": [
        "数学の試験の得点のシミュレーション（平均71.5点，標準偏差9.0点，100人）"
      ]
    },
    {
      "cell_type": "code",
      "metadata": {
        "colab": {
          "base_uri": "https://localhost:8080/",
          "height": 315
        },
        "id": "I97MqFGcckLM",
        "outputId": "16d8b525-02a3-425c-d9a3-4a4b22d36e39"
      },
      "source": [
        "import numpy as np\n",
        "import matplotlib.pyplot as plt\n",
        "\n",
        "mu = 71.5\n",
        "sigma = 9.0 \n",
        "\n",
        "x = np.random.randn(100)\n",
        "x = sigma*x + mu\n",
        "\n",
        "print ('サンプル（標本）の平均 mean =', np.mean(x))\n",
        "print ('サンプルの標準偏差 s.d. =', np.std(x))\n",
        "print ('サンプルの分散 variance =', np.var(x))\n",
        " \n",
        "plt.figure()\n",
        "plt.hist(x, bins=15, alpha=0.3, histtype='stepfilled', color='g')\n",
        "plt.show()"
      ],
      "execution_count": 210,
      "outputs": [
        {
          "output_type": "stream",
          "text": [
            "サンプル（標本）の平均 mean = 71.55035088553103\n",
            "サンプルの標準偏差 s.d. = 9.358558447631292\n",
            "サンプルの分散 variance = 87.58261621773102\n"
          ],
          "name": "stdout"
        },
        {
          "output_type": "display_data",
          "data": {
            "image/png": "[encoded data removed]",
            "text/plain": [
              "<Figure size 432x288 with 1 Axes>"
            ]
          },
          "metadata": {
            "tags": [],
            "needs_background": "light"
          }
        }
      ]
    },
    {
      "cell_type": "markdown",
      "metadata": {
        "id": "pLiaqzA6tTDr"
      },
      "source": [
        "# 数の並べかえ"
      ]
    },
    {
      "cell_type": "code",
      "metadata": {
        "id": "_H3vPsMntP2f",
        "colab": {
          "base_uri": "https://localhost:8080/"
        },
        "outputId": "c3e1f940-1700-4d2e-bd12-404c5300cb81"
      },
      "source": [
        "x = np.random.randn(10)\n",
        "print(x)"
      ],
      "execution_count": 211,
      "outputs": [
        {
          "output_type": "stream",
          "text": [
            "[ 1.58921365  0.9224278   1.25992032  0.17959437  2.01645415  1.35761904\n",
            "  0.38941457 -0.17919148  0.94922629 -0.1407757 ]\n"
          ],
          "name": "stdout"
        }
      ]
    },
    {
      "cell_type": "code",
      "metadata": {
        "id": "PrJ2dfJatY2c",
        "colab": {
          "base_uri": "https://localhost:8080/"
        },
        "outputId": "c6b502f9-0029-4775-8c16-537bcc5fb0b0"
      },
      "source": [
        "np.sort(x)"
      ],
      "execution_count": 212,
      "outputs": [
        {
          "output_type": "execute_result",
          "data": {
            "text/plain": [
              "array([-0.17919148, -0.1407757 ,  0.17959437,  0.38941457,  0.9224278 ,\n",
              "        0.94922629,  1.25992032,  1.35761904,  1.58921365,  2.01645415])"
            ]
          },
          "metadata": {
            "tags": []
          },
          "execution_count": 212
        }
      ]
    },
    {
      "cell_type": "code",
      "metadata": {
        "id": "-Yw2DVU-tayD",
        "colab": {
          "base_uri": "https://localhost:8080/"
        },
        "outputId": "fb0dc43c-157a-4c60-8267-7eda07b0dee0"
      },
      "source": [
        "np.argsort(x)"
      ],
      "execution_count": 213,
      "outputs": [
        {
          "output_type": "execute_result",
          "data": {
            "text/plain": [
              "array([7, 9, 3, 6, 1, 8, 2, 5, 0, 4])"
            ]
          },
          "metadata": {
            "tags": []
          },
          "execution_count": 213
        }
      ]
    },
    {
      "cell_type": "markdown",
      "metadata": {
        "id": "CayK5y3Xtgii"
      },
      "source": [
        "# グラフ描画関数"
      ]
    },
    {
      "cell_type": "markdown",
      "metadata": {
        "id": "A95zcPuvtkUu"
      },
      "source": [
        "Python の matplotlib には，\n",
        " グラフ作成のための関数が多数準備されている．\n",
        "まず，matplotlib.pyplot を plt で呼び出せるようにしておく．"
      ]
    },
    {
      "cell_type": "code",
      "metadata": {
        "id": "3oz7gsV9tcpA"
      },
      "source": [
        "import matplotlib.pyplot as plt"
      ],
      "execution_count": 214,
      "outputs": []
    },
    {
      "cell_type": "markdown",
      "metadata": {
        "id": "QoAFNe22ttwN"
      },
      "source": [
        "まずは，\n",
        "$ y = \\sin x $ のグラフから．"
      ]
    },
    {
      "cell_type": "code",
      "metadata": {
        "id": "vEwUJep7tm3D"
      },
      "source": [
        "x = np.arange(-2, 2, 0.1)"
      ],
      "execution_count": 215,
      "outputs": []
    },
    {
      "cell_type": "code",
      "metadata": {
        "id": "gmpcmTu-uEd0"
      },
      "source": [
        "y=np.sin(x)"
      ],
      "execution_count": 216,
      "outputs": []
    },
    {
      "cell_type": "code",
      "metadata": {
        "id": "KDpi5ib5uGsF",
        "colab": {
          "base_uri": "https://localhost:8080/",
          "height": 282
        },
        "outputId": "154f1826-7618-4e85-82aa-fe875db10c19"
      },
      "source": [
        "plt.plot(x, y)"
      ],
      "execution_count": 217,
      "outputs": [
        {
          "output_type": "execute_result",
          "data": {
            "text/plain": [
              "[<matplotlib.lines.Line2D at 0x7fa47795b990>]"
            ]
          },
          "metadata": {
            "tags": []
          },
          "execution_count": 217
        },
        {
          "output_type": "display_data",
          "data": {
            "image/png": "[encoded data removed]",
            "text/plain": [
              "<Figure size 432x288 with 1 Axes>"
            ]
          },
          "metadata": {
            "tags": [],
            "needs_background": "light"
          }
        }
      ]
    },
    {
      "cell_type": "markdown",
      "metadata": {
        "id": "srkTIsDKuNwE"
      },
      "source": [
        "本来は plt.show() を入力しなければ，グラフは描かれない"
      ]
    },
    {
      "cell_type": "markdown",
      "metadata": {
        "id": "bxyxfTXvuWqb"
      },
      "source": [
        "ヒストグラムは"
      ]
    },
    {
      "cell_type": "code",
      "metadata": {
        "id": "1GIfFOoUuIeh"
      },
      "source": [
        "x = np.random.randn(1000)  # 標準正規分布にしたがう乱数を1000個生成"
      ],
      "execution_count": 218,
      "outputs": []
    },
    {
      "cell_type": "code",
      "metadata": {
        "id": "9ksqYMmduY_u",
        "colab": {
          "base_uri": "https://localhost:8080/",
          "height": 399
        },
        "outputId": "4a5d6cbe-8099-41e7-a674-fc441bf815b6"
      },
      "source": [
        "plt.hist(x, bins=20)  #棒の数が20本のヒストグラムを作成"
      ],
      "execution_count": 219,
      "outputs": [
        {
          "output_type": "execute_result",
          "data": {
            "text/plain": [
              "(array([  1.,   1.,   6.,  12.,  15.,  40.,  54.,  75.,  90., 129., 145.,\n",
              "        121., 108.,  92.,  45.,  38.,  13.,   7.,   6.,   2.]),\n",
              " array([-3.45615978, -3.12762309, -2.79908639, -2.4705497 , -2.14201301,\n",
              "        -1.81347632, -1.48493962, -1.15640293, -0.82786624, -0.49932954,\n",
              "        -0.17079285,  0.15774384,  0.48628054,  0.81481723,  1.14335392,\n",
              "         1.47189061,  1.80042731,  2.128964  ,  2.45750069,  2.78603739,\n",
              "         3.11457408]),\n",
              " <a list of 20 Patch objects>)"
            ]
          },
          "metadata": {
            "tags": []
          },
          "execution_count": 219
        },
        {
          "output_type": "display_data",
          "data": {
            "image/png": "[encoded data removed]",
            "text/plain": [
              "<Figure size 432x288 with 1 Axes>"
            ]
          },
          "metadata": {
            "tags": [],
            "needs_background": "light"
          }
        }
      ]
    },
    {
      "cell_type": "markdown",
      "metadata": {
        "id": "OUhYGRB0uqx2"
      },
      "source": [
        "で描ける．\n",
        "\n",
        "3次元的なグラフ．"
      ]
    },
    {
      "cell_type": "markdown",
      "metadata": {
        "id": "V67Tfma3gRvB"
      },
      "source": [
        "### **ここから先，工事中． きちんとできていないので注意！！！**"
      ]
    },
    {
      "cell_type": "code",
      "metadata": {
        "id": "Lpn0qeFiubiF",
        "colab": {
          "base_uri": "https://localhost:8080/",
          "height": 215
        },
        "outputId": "eb8372fc-37be-47ce-da11-efeb9633b78d"
      },
      "source": [
        "# -*- coding: utf-8 -*-\n",
        "import numpy as np\n",
        "import matplotlib.pyplot as plt\n",
        "\n",
        "def g2_pdf(x,y,mu,Sigma):\n",
        "    a = 1.0/(2.0*np.pi*np.sqrt(np.linalg.det(Sigma)))\n",
        "    v = np.array([[x],[y]]) - mu\n",
        "    retvar = a*np.exp(-1.0/2.0*(v.T).dot( (np.linalg.inv(Sigma)).dot(v) ))\n",
        "    return retvar\n",
        "\n",
        "mu = np.array([[0],[0]])\n",
        "Sigma = np.array([[2,1],[1,2]]) # 分散・共分散行列\n",
        "\n",
        "x = np.arange(-3,3,0.1)\n",
        "y = np.arange(-3,3,0.1)\n",
        "nx = len(x)\n",
        "ny = len(y)\n",
        "z = np.zeros((nx,ny))\n",
        "for i0 in range(nx):\n",
        "    for i1 in range(ny):\n",
        "        z[i1,i0] = g2_pdf(x[i0],y[i1], mu, Sigma)\n",
        "\n",
        "plt.figure(figsize=(3.5,3))\n",
        "#plt.gray()\n",
        "plt.jet()\n",
        "plt.pcolor(z)\n",
        "#plt.contour(z)\n",
        "plt.colorbar()\n",
        "plt.show()"
      ],
      "execution_count": 224,
      "outputs": [
        {
          "output_type": "display_data",
          "data": {
            "image/png": "[encoded data removed]",
            "text/plain": [
              "<Figure size 252x216 with 2 Axes>"
            ]
          },
          "metadata": {
            "tags": [],
            "needs_background": "light"
          }
        }
      ]
    },
    {
      "cell_type": "markdown",
      "metadata": {
        "id": "DS5kODeRu4aJ"
      },
      "source": [
        "これは2次元だった．こちらが3次元．\n",
        "\n",
        "以前はうごいていたが，いまは動かない． なぜか．．．\n",
        "\n",
        "<p>\n",
        "\n",
        "つぎのは動かすと危険．"
      ]
    },
    {
      "cell_type": "code",
      "metadata": {
        "id": "ZIXhT1Jbu7Lw"
      },
      "source": [
        "# -*- coding: utf-8 -*-\n",
        "import numpy as np\n",
        "import matplotlib.pyplot as plt\n",
        "from mpl_toolkits.mplot3d import Axes3D\n",
        "\n",
        "def g2_pdf(x,y,mu,Sigma):\n",
        "    a = 1.0/(2.0*np.pi*np.sqrt(np.linalg.det(Sigma)))\n",
        "    v = np.array([[x],[y]]) - mu\n",
        "    retvar = a*np.exp(-1.0/2.0*(v.T).dot( (np.linalg.inv(Sigma)).dot(v) ))\n",
        "    return retvar\n",
        "\n",
        "mu = np.array([[0],[0]])\n",
        "Sigma = np.array([[2,1],[1,2]]) # 分散・共分散行列\n",
        "\n",
        "x = np.arange(-5,5,0.2)\n",
        "y = np.arange(-5,5,0.2)\n",
        "nx = len(x)\n",
        "ny = len(y)\n",
        "z = np.zeros((nx,ny))\n",
        "for i0 in range(nx):\n",
        "    for i1 in range(ny):\n",
        "        z[i1,i0] = g2_pdf(x[i0],y[i1], mu, Sigma)\n",
        "\n",
        "xx,yy = np.meshgrid(x,y)\n",
        "plt.figure(figsize=(5, 3.5))\n",
        "ax = plt.subplot(1,1,1, projection='3d')\n",
        "ax.plot_surface(xx,yy,z,rstride=1,cstride=1,alpha=0.1,color='blue',edgecolor='black')\n",
        "# ax.set_zticks((0,0.08))\n",
        "ax.view_init(30,-130)\n",
        "plt.savefig('fig301.eps') \n",
        "plt.show()"
      ],
      "execution_count": null,
      "outputs": []
    },
    {
      "cell_type": "markdown",
      "metadata": {
        "id": "uuXZlckU3y_e"
      },
      "source": [
        "unix コマンドが使える．"
      ]
    },
    {
      "cell_type": "code",
      "metadata": {
        "id": "fd8LiFCk3LIm",
        "colab": {
          "base_uri": "https://localhost:8080/"
        },
        "outputId": "16ed2e1e-c747-42f4-d1a6-6e627a8f2dbf"
      },
      "source": [
        "!ls -l"
      ],
      "execution_count": 226,
      "outputs": [
        {
          "output_type": "stream",
          "text": [
            "total 500\n",
            "-rw-r--r-- 1 root root 475258 May 26 02:26 fig301.eps\n",
            "-rw-r--r-- 1 root root  10730 May 26 01:12 fig321.pdf\n",
            "-rw-r--r-- 1 root root  13851 May 26 01:37 fig_ode101.pdf\n",
            "drwxr-xr-x 1 root root   4096 May  6 13:44 sample_data\n"
          ],
          "name": "stdout"
        }
      ]
    },
    {
      "cell_type": "code",
      "metadata": {
        "id": "KlPwMJU04Ndq",
        "colab": {
          "base_uri": "https://localhost:8080/",
          "height": 17
        },
        "outputId": "faac6b6e-03c1-4ad3-9ff6-f3f4f31e3235"
      },
      "source": [
        "from google.colab import files\n",
        "files.download(\"fig321.pdf\") "
      ],
      "execution_count": 223,
      "outputs": [
        {
          "output_type": "display_data",
          "data": {
            "application/javascript": [
              "\n",
              "    async function download(id, filename, size) {\n",
              "      if (!google.colab.kernel.accessAllowed) {\n",
              "        return;\n",
              "      }\n",
              "      const div = document.createElement('div');\n",
              "      const label = document.createElement('label');\n",
              "      label.textContent = `Downloading \"${filename}\": `;\n",
              "      div.appendChild(label);\n",
              "      const progress = document.createElement('progress');\n",
              "      progress.max = size;\n",
              "      div.appendChild(progress);\n",
              "      document.body.appendChild(div);\n",
              "\n",
              "      const buffers = [];\n",
              "      let downloaded = 0;\n",
              "\n",
              "      const channel = await google.colab.kernel.comms.open(id);\n",
              "      // Send a message to notify the kernel that we're ready.\n",
              "      channel.send({})\n",
              "\n",
              "      for await (const message of channel.messages) {\n",
              "        // Send a message to notify the kernel that we're ready.\n",
              "        channel.send({})\n",
              "        if (message.buffers) {\n",
              "          for (const buffer of message.buffers) {\n",
              "            buffers.push(buffer);\n",
              "            downloaded += buffer.byteLength;\n",
              "            progress.value = downloaded;\n",
              "          }\n",
              "        }\n",
              "      }\n",
              "      const blob = new Blob(buffers, {type: 'application/binary'});\n",
              "      const a = document.createElement('a');\n",
              "      a.href = window.URL.createObjectURL(blob);\n",
              "      a.download = filename;\n",
              "      div.appendChild(a);\n",
              "      a.click();\n",
              "      div.remove();\n",
              "    }\n",
              "  "
            ],
            "text/plain": [
              "<IPython.core.display.Javascript object>"
            ]
          },
          "metadata": {
            "tags": []
          }
        },
        {
          "output_type": "display_data",
          "data": {
            "application/javascript": [
              "download(\"download_c11528ae-0f98-4624-aadf-d26ca2729f37\", \"fig321.pdf\", 10730)"
            ],
            "text/plain": [
              "<IPython.core.display.Javascript object>"
            ]
          },
          "metadata": {
            "tags": []
          }
        }
      ]
    },
    {
      "cell_type": "markdown",
      "metadata": {
        "id": "MALnRpE1vOsC"
      },
      "source": [
        "# 補足"
      ]
    },
    {
      "cell_type": "markdown",
      "metadata": {
        "id": "lC1hGAJovcBZ"
      },
      "source": [
        "ライブラリ numpy を使うには"
      ]
    },
    {
      "cell_type": "code",
      "metadata": {
        "id": "ZpX6b-ggvQFe"
      },
      "source": [
        "import numpy as np"
      ],
      "execution_count": null,
      "outputs": []
    },
    {
      "cell_type": "markdown",
      "metadata": {
        "id": "enNAXNDmvhAW"
      },
      "source": [
        "などと書いてきた．"
      ]
    },
    {
      "cell_type": "code",
      "metadata": {
        "id": "lH5cjHnMvfaj"
      },
      "source": [
        "import numpy"
      ],
      "execution_count": null,
      "outputs": []
    },
    {
      "cell_type": "markdown",
      "metadata": {
        "id": "QQm8iyIWvmct"
      },
      "source": [
        "と書いた場合は，\n",
        "np と省略して書いてきた部分を，\n",
        "numpy と書く必要がある．\n",
        "ライブラリは，他によくつかうものとして，\n",
        "math がある．\n",
        "numpy にも math にも，cos() という関数（メソッド名）がある．"
      ]
    },
    {
      "cell_type": "code",
      "metadata": {
        "id": "YSSBRWw4vkMm"
      },
      "source": [
        "from numpy import sin, cos"
      ],
      "execution_count": null,
      "outputs": []
    },
    {
      "cell_type": "code",
      "metadata": {
        "id": "mDnFUGi2vpp1"
      },
      "source": [
        "from numpy import *"
      ],
      "execution_count": null,
      "outputs": []
    },
    {
      "cell_type": "markdown",
      "metadata": {
        "id": "jfK1WKC7v5R6"
      },
      "source": [
        "と書くと，\n",
        "numpy のすべての関数が使えるようになる．"
      ]
    },
    {
      "cell_type": "markdown",
      "metadata": {
        "id": "0qilrBYPwDDw"
      },
      "source": [
        "# digit.mat （パターン認識の講義用です）"
      ]
    },
    {
      "cell_type": "markdown",
      "metadata": {
        "id": "teQXeCGAyJL6"
      },
      "source": [
        "digit.mat ファイルを google colaboratory の中で使えるようにアップロードしておく．digit.mat には 16 x 16 ピクセルのモノクロの手書き数字画像が 1文字あたり500枚用意されている．\n",
        "\n",
        "digit.mat って何？ という場合は，ここはスキップ．\n"
      ]
    },
    {
      "cell_type": "code",
      "metadata": {
        "id": "YtUSLJRsv3DO",
        "colab": {
          "resources": {
            "http://localhost:8080/nbextensions/google.colab/files.js": {
              "data": "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",
              "ok": true,
              "headers": [
                [
                  "content-type",
                  "application/javascript"
                ]
              ],
              "status": 200,
              "status_text": ""
            }
          },
          "base_uri": "https://localhost:8080/",
          "height": 78
        },
        "outputId": "2e36a579-efbc-41f4-94e8-90b7ea43f935"
      },
      "source": [
        "from google.colab import files\n",
        "f= files.upload()"
      ],
      "execution_count": null,
      "outputs": [
        {
          "output_type": "display_data",
          "data": {
            "text/html": [
              "\n",
              "     <input type=\"file\" id=\"files-ed1f9386-28b1-4cb7-9bee-94c99c7f134c\" name=\"files[]\" multiple disabled\n",
              "        style=\"border:none\" />\n",
              "     <output id=\"result-ed1f9386-28b1-4cb7-9bee-94c99c7f134c\">\n",
              "      Upload widget is only available when the cell has been executed in the\n",
              "      current browser session. Please rerun this cell to enable.\n",
              "      </output>\n",
              "      <script src=\"/nbextensions/google.colab/files.js\"></script> "
            ],
            "text/plain": [
              "<IPython.core.display.HTML object>"
            ]
          },
          "metadata": {
            "tags": []
          }
        },
        {
          "output_type": "stream",
          "text": [
            "Saving digit.mat to digit.mat\n"
          ],
          "name": "stdout"
        }
      ]
    },
    {
      "cell_type": "code",
      "metadata": {
        "id": "DQMoCu21yTpp",
        "colab": {
          "base_uri": "https://localhost:8080/"
        },
        "outputId": "4aa48ff1-dca9-42ff-9568-bc7624dd1742"
      },
      "source": [
        "import scipy.io\n",
        "data = scipy.io.loadmat(\"digit.mat\")\n",
        "type(data)"
      ],
      "execution_count": null,
      "outputs": [
        {
          "output_type": "execute_result",
          "data": {
            "text/plain": [
              "dict"
            ]
          },
          "metadata": {
            "tags": []
          },
          "execution_count": 146
        }
      ]
    },
    {
      "cell_type": "code",
      "metadata": {
        "id": "m6e5iZb_yrDI",
        "colab": {
          "base_uri": "https://localhost:8080/"
        },
        "outputId": "b8dce80c-c4ec-42c8-cd21-ea2cb2240018"
      },
      "source": [
        "type(data[\"X\"])"
      ],
      "execution_count": null,
      "outputs": [
        {
          "output_type": "execute_result",
          "data": {
            "text/plain": [
              "numpy.ndarray"
            ]
          },
          "metadata": {
            "tags": []
          },
          "execution_count": 147
        }
      ]
    },
    {
      "cell_type": "code",
      "metadata": {
        "id": "8ZbCMXEizc-1"
      },
      "source": [
        "x = data[\"X\"]"
      ],
      "execution_count": null,
      "outputs": []
    },
    {
      "cell_type": "code",
      "metadata": {
        "id": "f9b3bPr2zf8j",
        "colab": {
          "base_uri": "https://localhost:8080/"
        },
        "outputId": "62b7ebde-0c8e-4664-ab7d-a980e3e84266"
      },
      "source": [
        "type(x)"
      ],
      "execution_count": null,
      "outputs": [
        {
          "output_type": "execute_result",
          "data": {
            "text/plain": [
              "numpy.ndarray"
            ]
          },
          "metadata": {
            "tags": []
          },
          "execution_count": 149
        }
      ]
    },
    {
      "cell_type": "code",
      "metadata": {
        "id": "X3bJlKUmzhsh",
        "colab": {
          "base_uri": "https://localhost:8080/"
        },
        "outputId": "c150c880-1f8d-42cb-929a-063b3d523c87"
      },
      "source": [
        "x.shape"
      ],
      "execution_count": null,
      "outputs": [
        {
          "output_type": "execute_result",
          "data": {
            "text/plain": [
              "(256, 500, 10)"
            ]
          },
          "metadata": {
            "tags": []
          },
          "execution_count": 150
        }
      ]
    },
    {
      "cell_type": "markdown",
      "metadata": {
        "id": "KcsoNa2FzmJX"
      },
      "source": [
        "これを (256,5000, 16,16) につくりかえる．"
      ]
    },
    {
      "cell_type": "code",
      "metadata": {
        "colab": {
          "base_uri": "https://localhost:8080/"
        },
        "id": "eP5aFOLgaib7",
        "outputId": "d0e19010-4475-4ee4-b0a0-924963931ea2"
      },
      "source": [
        "[d, n, nc] = x.shape\n",
        "z = x.reshape(d, n*nc)\n",
        "z.shape # (256, 5000)"
      ],
      "execution_count": null,
      "outputs": [
        {
          "output_type": "execute_result",
          "data": {
            "text/plain": [
              "(256, 5000)"
            ]
          },
          "metadata": {
            "tags": []
          },
          "execution_count": 151
        }
      ]
    },
    {
      "cell_type": "markdown",
      "metadata": {
        "id": "t6k0KX_Iz6Vl"
      },
      "source": [
        "# sklearn を使えるようにするためには．"
      ]
    },
    {
      "cell_type": "code",
      "metadata": {
        "id": "_xfohotZzjnc",
        "colab": {
          "base_uri": "https://localhost:8080/"
        },
        "outputId": "aae1177a-c36c-42b0-9974-15d3b9490b28"
      },
      "source": [
        "from sklearn import datasets\n",
        "import numpy as np\n",
        "import matplotlib.pyplot as plt\n",
        "digits = datasets.load_digits()\n",
        "X = digits.data\n",
        "y = digits.target\n",
        "images = digits.images\n",
        "type(digits)"
      ],
      "execution_count": null,
      "outputs": [
        {
          "output_type": "execute_result",
          "data": {
            "text/plain": [
              "sklearn.utils.Bunch"
            ]
          },
          "metadata": {
            "tags": []
          },
          "execution_count": 152
        }
      ]
    },
    {
      "cell_type": "code",
      "metadata": {
        "id": "HwPAWWoK0Byq",
        "colab": {
          "base_uri": "https://localhost:8080/"
        },
        "outputId": "6e90809a-ee60-471a-e4a0-d5ef09b7db66"
      },
      "source": [
        "type(images)"
      ],
      "execution_count": null,
      "outputs": [
        {
          "output_type": "execute_result",
          "data": {
            "text/plain": [
              "numpy.ndarray"
            ]
          },
          "metadata": {
            "tags": []
          },
          "execution_count": 153
        }
      ]
    },
    {
      "cell_type": "code",
      "metadata": {
        "id": "zjg1xdsk0Shq",
        "colab": {
          "base_uri": "https://localhost:8080/"
        },
        "outputId": "1b6a3625-9174-46ba-8ff6-02685b5de7b8"
      },
      "source": [
        "images.shape"
      ],
      "execution_count": null,
      "outputs": [
        {
          "output_type": "execute_result",
          "data": {
            "text/plain": [
              "(1797, 8, 8)"
            ]
          },
          "metadata": {
            "tags": []
          },
          "execution_count": 154
        }
      ]
    },
    {
      "cell_type": "code",
      "metadata": {
        "id": "BjlZef4a0T6c",
        "colab": {
          "base_uri": "https://localhost:8080/"
        },
        "outputId": "3333a206-b6f9-4f7e-d758-08a0e1b1c31a"
      },
      "source": [
        "type(X)"
      ],
      "execution_count": null,
      "outputs": [
        {
          "output_type": "execute_result",
          "data": {
            "text/plain": [
              "numpy.ndarray"
            ]
          },
          "metadata": {
            "tags": []
          },
          "execution_count": 155
        }
      ]
    },
    {
      "cell_type": "code",
      "metadata": {
        "id": "fqEZGFtl0VtN",
        "colab": {
          "base_uri": "https://localhost:8080/"
        },
        "outputId": "3c3fd645-019f-4ef1-97fe-c152e03c5450"
      },
      "source": [
        "type(y)"
      ],
      "execution_count": null,
      "outputs": [
        {
          "output_type": "execute_result",
          "data": {
            "text/plain": [
              "numpy.ndarray"
            ]
          },
          "metadata": {
            "tags": []
          },
          "execution_count": 156
        }
      ]
    },
    {
      "cell_type": "code",
      "metadata": {
        "id": "x_Yr25b50XF-",
        "colab": {
          "base_uri": "https://localhost:8080/"
        },
        "outputId": "24d639de-9a6a-4ae6-ece2-a80aef978f2f"
      },
      "source": [
        "X.shape"
      ],
      "execution_count": null,
      "outputs": [
        {
          "output_type": "execute_result",
          "data": {
            "text/plain": [
              "(1797, 64)"
            ]
          },
          "metadata": {
            "tags": []
          },
          "execution_count": 157
        }
      ]
    },
    {
      "cell_type": "markdown",
      "metadata": {
        "id": "Cdzsl5vU09Z9"
      },
      "source": [
        ""
      ]
    },
    {
      "cell_type": "code",
      "metadata": {
        "id": "VsWmOP2U0aSr",
        "colab": {
          "base_uri": "https://localhost:8080/"
        },
        "outputId": "1d84e52d-50f1-43e6-daa4-38dbeb95730d"
      },
      "source": [
        "y.shape"
      ],
      "execution_count": null,
      "outputs": [
        {
          "output_type": "execute_result",
          "data": {
            "text/plain": [
              "(1797,)"
            ]
          },
          "metadata": {
            "tags": []
          },
          "execution_count": 158
        }
      ]
    },
    {
      "cell_type": "code",
      "metadata": {
        "id": "9FcwWr_u0cVq",
        "colab": {
          "base_uri": "https://localhost:8080/"
        },
        "outputId": "a80a83fd-b7ca-482f-9ee2-cefad1efa3a3"
      },
      "source": [
        "X"
      ],
      "execution_count": null,
      "outputs": [
        {
          "output_type": "execute_result",
          "data": {
            "text/plain": [
              "array([[ 0.,  0.,  5., ...,  0.,  0.,  0.],\n",
              "       [ 0.,  0.,  0., ..., 10.,  0.,  0.],\n",
              "       [ 0.,  0.,  0., ..., 16.,  9.,  0.],\n",
              "       ...,\n",
              "       [ 0.,  0.,  1., ...,  6.,  0.,  0.],\n",
              "       [ 0.,  0.,  2., ..., 12.,  0.,  0.],\n",
              "       [ 0.,  0., 10., ..., 12.,  1.,  0.]])"
            ]
          },
          "metadata": {
            "tags": []
          },
          "execution_count": 159
        }
      ]
    },
    {
      "cell_type": "code",
      "metadata": {
        "id": "i2dKC3X00f7v",
        "colab": {
          "base_uri": "https://localhost:8080/"
        },
        "outputId": "3932f9ba-cc16-4a3e-b1f0-7cf5e3cf20e2"
      },
      "source": [
        "y"
      ],
      "execution_count": null,
      "outputs": [
        {
          "output_type": "execute_result",
          "data": {
            "text/plain": [
              "array([0, 1, 2, ..., 8, 9, 8])"
            ]
          },
          "metadata": {
            "tags": []
          },
          "execution_count": 160
        }
      ]
    },
    {
      "cell_type": "code",
      "metadata": {
        "colab": {
          "base_uri": "https://localhost:8080/",
          "height": 224
        },
        "id": "TjF2qkYSeTcc",
        "outputId": "ed04bef1-e850-4a88-a270-6e50d87347d9"
      },
      "source": [
        "import pandas as pd\n",
        "digits_data = datasets.load_digits()\n",
        "digits_df = pd.DataFrame(digits_data.data)\n",
        "digits_df.head()"
      ],
      "execution_count": null,
      "outputs": [
        {
          "output_type": "execute_result",
          "data": {
            "text/html": [
              "<div>\n",
              "<style scoped>\n",
              "    .dataframe tbody tr th:only-of-type {\n",
              "        vertical-align: middle;\n",
              "    }\n",
              "\n",
              "    .dataframe tbody tr th {\n",
              "        vertical-align: top;\n",
              "    }\n",
              "\n",
              "    .dataframe thead th {\n",
              "        text-align: right;\n",
              "    }\n",
              "</style>\n",
              "<table border=\"1\" class=\"dataframe\">\n",
              "  <thead>\n",
              "    <tr style=\"text-align: right;\">\n",
              "      <th></th>\n",
              "      <th>0</th>\n",
              "      <th>1</th>\n",
              "      <th>2</th>\n",
              "      <th>3</th>\n",
              "      <th>4</th>\n",
              "      <th>5</th>\n",
              "      <th>6</th>\n",
              "      <th>7</th>\n",
              "      <th>8</th>\n",
              "      <th>9</th>\n",
              "      <th>10</th>\n",
              "      <th>11</th>\n",
              "      <th>12</th>\n",
              "      <th>13</th>\n",
              "      <th>14</th>\n",
              "      <th>15</th>\n",
              "      <th>16</th>\n",
              "      <th>17</th>\n",
              "      <th>18</th>\n",
              "      <th>19</th>\n",
              "      <th>20</th>\n",
              "      <th>21</th>\n",
              "      <th>22</th>\n",
              "      <th>23</th>\n",
              "      <th>24</th>\n",
              "      <th>25</th>\n",
              "      <th>26</th>\n",
              "      <th>27</th>\n",
              "      <th>28</th>\n",
              "      <th>29</th>\n",
              "      <th>30</th>\n",
              "      <th>31</th>\n",
              "      <th>32</th>\n",
              "      <th>33</th>\n",
              "      <th>34</th>\n",
              "      <th>35</th>\n",
              "      <th>36</th>\n",
              "      <th>37</th>\n",
              "      <th>38</th>\n",
              "      <th>39</th>\n",
              "      <th>40</th>\n",
              "      <th>41</th>\n",
              "      <th>42</th>\n",
              "      <th>43</th>\n",
              "      <th>44</th>\n",
              "      <th>45</th>\n",
              "      <th>46</th>\n",
              "      <th>47</th>\n",
              "      <th>48</th>\n",
              "      <th>49</th>\n",
              "      <th>50</th>\n",
              "      <th>51</th>\n",
              "      <th>52</th>\n",
              "      <th>53</th>\n",
              "      <th>54</th>\n",
              "      <th>55</th>\n",
              "      <th>56</th>\n",
              "      <th>57</th>\n",
              "      <th>58</th>\n",
              "      <th>59</th>\n",
              "      <th>60</th>\n",
              "      <th>61</th>\n",
              "      <th>62</th>\n",
              "      <th>63</th>\n",
              "    </tr>\n",
              "  </thead>\n",
              "  <tbody>\n",
              "    <tr>\n",
              "      <th>0</th>\n",
              "      <td>0.0</td>\n",
              "      <td>0.0</td>\n",
              "      <td>5.0</td>\n",
              "      <td>13.0</td>\n",
              "      <td>9.0</td>\n",
              "      <td>1.0</td>\n",
              "      <td>0.0</td>\n",
              "      <td>0.0</td>\n",
              "      <td>0.0</td>\n",
              "      <td>0.0</td>\n",
              "      <td>13.0</td>\n",
              "      <td>15.0</td>\n",
              "      <td>10.0</td>\n",
              "      <td>15.0</td>\n",
              "      <td>5.0</td>\n",
              "      <td>0.0</td>\n",
              "      <td>0.0</td>\n",
              "      <td>3.0</td>\n",
              "      <td>15.0</td>\n",
              "      <td>2.0</td>\n",
              "      <td>0.0</td>\n",
              "      <td>11.0</td>\n",
              "      <td>8.0</td>\n",
              "      <td>0.0</td>\n",
              "      <td>0.0</td>\n",
              "      <td>4.0</td>\n",
              "      <td>12.0</td>\n",
              "      <td>0.0</td>\n",
              "      <td>0.0</td>\n",
              "      <td>8.0</td>\n",
              "      <td>8.0</td>\n",
              "      <td>0.0</td>\n",
              "      <td>0.0</td>\n",
              "      <td>5.0</td>\n",
              "      <td>8.0</td>\n",
              "      <td>0.0</td>\n",
              "      <td>0.0</td>\n",
              "      <td>9.0</td>\n",
              "      <td>8.0</td>\n",
              "      <td>0.0</td>\n",
              "      <td>0.0</td>\n",
              "      <td>4.0</td>\n",
              "      <td>11.0</td>\n",
              "      <td>0.0</td>\n",
              "      <td>1.0</td>\n",
              "      <td>12.0</td>\n",
              "      <td>7.0</td>\n",
              "      <td>0.0</td>\n",
              "      <td>0.0</td>\n",
              "      <td>2.0</td>\n",
              "      <td>14.0</td>\n",
              "      <td>5.0</td>\n",
              "      <td>10.0</td>\n",
              "      <td>12.0</td>\n",
              "      <td>0.0</td>\n",
              "      <td>0.0</td>\n",
              "      <td>0.0</td>\n",
              "      <td>0.0</td>\n",
              "      <td>6.0</td>\n",
              "      <td>13.0</td>\n",
              "      <td>10.0</td>\n",
              "      <td>0.0</td>\n",
              "      <td>0.0</td>\n",
              "      <td>0.0</td>\n",
              "    </tr>\n",
              "    <tr>\n",
              "      <th>1</th>\n",
              "      <td>0.0</td>\n",
              "      <td>0.0</td>\n",
              "      <td>0.0</td>\n",
              "      <td>12.0</td>\n",
              "      <td>13.0</td>\n",
              "      <td>5.0</td>\n",
              "      <td>0.0</td>\n",
              "      <td>0.0</td>\n",
              "      <td>0.0</td>\n",
              "      <td>0.0</td>\n",
              "      <td>0.0</td>\n",
              "      <td>11.0</td>\n",
              "      <td>16.0</td>\n",
              "      <td>9.0</td>\n",
              "      <td>0.0</td>\n",
              "      <td>0.0</td>\n",
              "      <td>0.0</td>\n",
              "      <td>0.0</td>\n",
              "      <td>3.0</td>\n",
              "      <td>15.0</td>\n",
              "      <td>16.0</td>\n",
              "      <td>6.0</td>\n",
              "      <td>0.0</td>\n",
              "      <td>0.0</td>\n",
              "      <td>0.0</td>\n",
              "      <td>7.0</td>\n",
              "      <td>15.0</td>\n",
              "      <td>16.0</td>\n",
              "      <td>16.0</td>\n",
              "      <td>2.0</td>\n",
              "      <td>0.0</td>\n",
              "      <td>0.0</td>\n",
              "      <td>0.0</td>\n",
              "      <td>0.0</td>\n",
              "      <td>1.0</td>\n",
              "      <td>16.0</td>\n",
              "      <td>16.0</td>\n",
              "      <td>3.0</td>\n",
              "      <td>0.0</td>\n",
              "      <td>0.0</td>\n",
              "      <td>0.0</td>\n",
              "      <td>0.0</td>\n",
              "      <td>1.0</td>\n",
              "      <td>16.0</td>\n",
              "      <td>16.0</td>\n",
              "      <td>6.0</td>\n",
              "      <td>0.0</td>\n",
              "      <td>0.0</td>\n",
              "      <td>0.0</td>\n",
              "      <td>0.0</td>\n",
              "      <td>1.0</td>\n",
              "      <td>16.0</td>\n",
              "      <td>16.0</td>\n",
              "      <td>6.0</td>\n",
              "      <td>0.0</td>\n",
              "      <td>0.0</td>\n",
              "      <td>0.0</td>\n",
              "      <td>0.0</td>\n",
              "      <td>0.0</td>\n",
              "      <td>11.0</td>\n",
              "      <td>16.0</td>\n",
              "      <td>10.0</td>\n",
              "      <td>0.0</td>\n",
              "      <td>0.0</td>\n",
              "    </tr>\n",
              "    <tr>\n",
              "      <th>2</th>\n",
              "      <td>0.0</td>\n",
              "      <td>0.0</td>\n",
              "      <td>0.0</td>\n",
              "      <td>4.0</td>\n",
              "      <td>15.0</td>\n",
              "      <td>12.0</td>\n",
              "      <td>0.0</td>\n",
              "      <td>0.0</td>\n",
              "      <td>0.0</td>\n",
              "      <td>0.0</td>\n",
              "      <td>3.0</td>\n",
              "      <td>16.0</td>\n",
              "      <td>15.0</td>\n",
              "      <td>14.0</td>\n",
              "      <td>0.0</td>\n",
              "      <td>0.0</td>\n",
              "      <td>0.0</td>\n",
              "      <td>0.0</td>\n",
              "      <td>8.0</td>\n",
              "      <td>13.0</td>\n",
              "      <td>8.0</td>\n",
              "      <td>16.0</td>\n",
              "      <td>0.0</td>\n",
              "      <td>0.0</td>\n",
              "      <td>0.0</td>\n",
              "      <td>0.0</td>\n",
              "      <td>1.0</td>\n",
              "      <td>6.0</td>\n",
              "      <td>15.0</td>\n",
              "      <td>11.0</td>\n",
              "      <td>0.0</td>\n",
              "      <td>0.0</td>\n",
              "      <td>0.0</td>\n",
              "      <td>1.0</td>\n",
              "      <td>8.0</td>\n",
              "      <td>13.0</td>\n",
              "      <td>15.0</td>\n",
              "      <td>1.0</td>\n",
              "      <td>0.0</td>\n",
              "      <td>0.0</td>\n",
              "      <td>0.0</td>\n",
              "      <td>9.0</td>\n",
              "      <td>16.0</td>\n",
              "      <td>16.0</td>\n",
              "      <td>5.0</td>\n",
              "      <td>0.0</td>\n",
              "      <td>0.0</td>\n",
              "      <td>0.0</td>\n",
              "      <td>0.0</td>\n",
              "      <td>3.0</td>\n",
              "      <td>13.0</td>\n",
              "      <td>16.0</td>\n",
              "      <td>16.0</td>\n",
              "      <td>11.0</td>\n",
              "      <td>5.0</td>\n",
              "      <td>0.0</td>\n",
              "      <td>0.0</td>\n",
              "      <td>0.0</td>\n",
              "      <td>0.0</td>\n",
              "      <td>3.0</td>\n",
              "      <td>11.0</td>\n",
              "      <td>16.0</td>\n",
              "      <td>9.0</td>\n",
              "      <td>0.0</td>\n",
              "    </tr>\n",
              "    <tr>\n",
              "      <th>3</th>\n",
              "      <td>0.0</td>\n",
              "      <td>0.0</td>\n",
              "      <td>7.0</td>\n",
              "      <td>15.0</td>\n",
              "      <td>13.0</td>\n",
              "      <td>1.0</td>\n",
              "      <td>0.0</td>\n",
              "      <td>0.0</td>\n",
              "      <td>0.0</td>\n",
              "      <td>8.0</td>\n",
              "      <td>13.0</td>\n",
              "      <td>6.0</td>\n",
              "      <td>15.0</td>\n",
              "      <td>4.0</td>\n",
              "      <td>0.0</td>\n",
              "      <td>0.0</td>\n",
              "      <td>0.0</td>\n",
              "      <td>2.0</td>\n",
              "      <td>1.0</td>\n",
              "      <td>13.0</td>\n",
              "      <td>13.0</td>\n",
              "      <td>0.0</td>\n",
              "      <td>0.0</td>\n",
              "      <td>0.0</td>\n",
              "      <td>0.0</td>\n",
              "      <td>0.0</td>\n",
              "      <td>2.0</td>\n",
              "      <td>15.0</td>\n",
              "      <td>11.0</td>\n",
              "      <td>1.0</td>\n",
              "      <td>0.0</td>\n",
              "      <td>0.0</td>\n",
              "      <td>0.0</td>\n",
              "      <td>0.0</td>\n",
              "      <td>0.0</td>\n",
              "      <td>1.0</td>\n",
              "      <td>12.0</td>\n",
              "      <td>12.0</td>\n",
              "      <td>1.0</td>\n",
              "      <td>0.0</td>\n",
              "      <td>0.0</td>\n",
              "      <td>0.0</td>\n",
              "      <td>0.0</td>\n",
              "      <td>0.0</td>\n",
              "      <td>1.0</td>\n",
              "      <td>10.0</td>\n",
              "      <td>8.0</td>\n",
              "      <td>0.0</td>\n",
              "      <td>0.0</td>\n",
              "      <td>0.0</td>\n",
              "      <td>8.0</td>\n",
              "      <td>4.0</td>\n",
              "      <td>5.0</td>\n",
              "      <td>14.0</td>\n",
              "      <td>9.0</td>\n",
              "      <td>0.0</td>\n",
              "      <td>0.0</td>\n",
              "      <td>0.0</td>\n",
              "      <td>7.0</td>\n",
              "      <td>13.0</td>\n",
              "      <td>13.0</td>\n",
              "      <td>9.0</td>\n",
              "      <td>0.0</td>\n",
              "      <td>0.0</td>\n",
              "    </tr>\n",
              "    <tr>\n",
              "      <th>4</th>\n",
              "      <td>0.0</td>\n",
              "      <td>0.0</td>\n",
              "      <td>0.0</td>\n",
              "      <td>1.0</td>\n",
              "      <td>11.0</td>\n",
              "      <td>0.0</td>\n",
              "      <td>0.0</td>\n",
              "      <td>0.0</td>\n",
              "      <td>0.0</td>\n",
              "      <td>0.0</td>\n",
              "      <td>0.0</td>\n",
              "      <td>7.0</td>\n",
              "      <td>8.0</td>\n",
              "      <td>0.0</td>\n",
              "      <td>0.0</td>\n",
              "      <td>0.0</td>\n",
              "      <td>0.0</td>\n",
              "      <td>0.0</td>\n",
              "      <td>1.0</td>\n",
              "      <td>13.0</td>\n",
              "      <td>6.0</td>\n",
              "      <td>2.0</td>\n",
              "      <td>2.0</td>\n",
              "      <td>0.0</td>\n",
              "      <td>0.0</td>\n",
              "      <td>0.0</td>\n",
              "      <td>7.0</td>\n",
              "      <td>15.0</td>\n",
              "      <td>0.0</td>\n",
              "      <td>9.0</td>\n",
              "      <td>8.0</td>\n",
              "      <td>0.0</td>\n",
              "      <td>0.0</td>\n",
              "      <td>5.0</td>\n",
              "      <td>16.0</td>\n",
              "      <td>10.0</td>\n",
              "      <td>0.0</td>\n",
              "      <td>16.0</td>\n",
              "      <td>6.0</td>\n",
              "      <td>0.0</td>\n",
              "      <td>0.0</td>\n",
              "      <td>4.0</td>\n",
              "      <td>15.0</td>\n",
              "      <td>16.0</td>\n",
              "      <td>13.0</td>\n",
              "      <td>16.0</td>\n",
              "      <td>1.0</td>\n",
              "      <td>0.0</td>\n",
              "      <td>0.0</td>\n",
              "      <td>0.0</td>\n",
              "      <td>0.0</td>\n",
              "      <td>3.0</td>\n",
              "      <td>15.0</td>\n",
              "      <td>10.0</td>\n",
              "      <td>0.0</td>\n",
              "      <td>0.0</td>\n",
              "      <td>0.0</td>\n",
              "      <td>0.0</td>\n",
              "      <td>0.0</td>\n",
              "      <td>2.0</td>\n",
              "      <td>16.0</td>\n",
              "      <td>4.0</td>\n",
              "      <td>0.0</td>\n",
              "      <td>0.0</td>\n",
              "    </tr>\n",
              "  </tbody>\n",
              "</table>\n",
              "</div>"
            ],
            "text/plain": [
              "    0    1    2     3     4     5    6   ...   57   58    59    60    61   62   63\n",
              "0  0.0  0.0  5.0  13.0   9.0   1.0  0.0  ...  0.0  6.0  13.0  10.0   0.0  0.0  0.0\n",
              "1  0.0  0.0  0.0  12.0  13.0   5.0  0.0  ...  0.0  0.0  11.0  16.0  10.0  0.0  0.0\n",
              "2  0.0  0.0  0.0   4.0  15.0  12.0  0.0  ...  0.0  0.0   3.0  11.0  16.0  9.0  0.0\n",
              "3  0.0  0.0  7.0  15.0  13.0   1.0  0.0  ...  0.0  7.0  13.0  13.0   9.0  0.0  0.0\n",
              "4  0.0  0.0  0.0   1.0  11.0   0.0  0.0  ...  0.0  0.0   2.0  16.0   4.0  0.0  0.0\n",
              "\n",
              "[5 rows x 64 columns]"
            ]
          },
          "metadata": {
            "tags": []
          },
          "execution_count": 172
        }
      ]
    },
    {
      "cell_type": "code",
      "metadata": {
        "colab": {
          "base_uri": "https://localhost:8080/",
          "height": 282
        },
        "id": "5Knay7UHerV-",
        "outputId": "1b9b611a-592d-4119-92e6-f66b520e40fa"
      },
      "source": [
        "plt.imshow(digits_df.loc[4,:].values.reshape(8,8), cmap=plt.cm.gray_r)"
      ],
      "execution_count": null,
      "outputs": [
        {
          "output_type": "execute_result",
          "data": {
            "text/plain": [
              "<matplotlib.image.AxesImage at 0x7f469630a470>"
            ]
          },
          "metadata": {
            "tags": []
          },
          "execution_count": 176
        },
        {
          "output_type": "display_data",
          "data": {
            "image/png": "[encoded data removed]",
            "text/plain": [
              "<Figure size 432x288 with 1 Axes>"
            ]
          },
          "metadata": {
            "tags": [],
            "needs_background": "light"
          }
        }
      ]
    },
    {
      "cell_type": "markdown",
      "metadata": {
        "id": "3eDDanQH43uJ"
      },
      "source": [
        "### これから追加して説明したいこと"
      ]
    },
    {
      "cell_type": "code",
      "metadata": {
        "id": "7osGPdfP0hAF"
      },
      "source": [
        ""
      ],
      "execution_count": null,
      "outputs": []
    }
  ]
}